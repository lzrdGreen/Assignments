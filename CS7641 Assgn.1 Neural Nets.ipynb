{
 "cells": [
  {
   "cell_type": "code",
   "execution_count": 1,
   "metadata": {},
   "outputs": [
    {
     "data": {
      "text/plain": [
       "'2.2.0'"
      ]
     },
     "execution_count": 1,
     "metadata": {},
     "output_type": "execute_result"
    }
   ],
   "source": [
    "import tensorflow as tf\n",
    "tf.__version__"
   ]
  },
  {
   "cell_type": "code",
   "execution_count": 2,
   "metadata": {},
   "outputs": [],
   "source": [
    "import numpy as np\n",
    "import pandas as pd\n",
    "from keras.models import Sequential\n",
    "from keras.layers import Dense\n",
    "from keras.wrappers.scikit_learn import KerasClassifier\n",
    "from sklearn.model_selection import cross_val_score\n",
    "from sklearn.preprocessing import LabelEncoder\n",
    "from sklearn.model_selection import StratifiedKFold\n",
    "from sklearn.preprocessing import StandardScaler\n",
    "from sklearn.pipeline import Pipeline\n",
    "from keras.layers import Dropout\n",
    "from sklearn.metrics import confusion_matrix\n",
    "from matplotlib import pyplot as plt"
   ]
  },
  {
   "cell_type": "code",
   "execution_count": 11,
   "metadata": {},
   "outputs": [],
   "source": [
    "plt.style.use('seaborn-whitegrid')"
   ]
  },
  {
   "cell_type": "code",
   "execution_count": 10,
   "metadata": {},
   "outputs": [],
   "source": [
    "from sklearn.model_selection import train_test_split"
   ]
  },
  {
   "cell_type": "markdown",
   "metadata": {},
   "source": [
    "## Faringham Heart Study (FHS)"
   ]
  },
  {
   "cell_type": "code",
   "execution_count": 3,
   "metadata": {},
   "outputs": [
    {
     "data": {
      "text/html": [
       "<div>\n",
       "<style scoped>\n",
       "    .dataframe tbody tr th:only-of-type {\n",
       "        vertical-align: middle;\n",
       "    }\n",
       "\n",
       "    .dataframe tbody tr th {\n",
       "        vertical-align: top;\n",
       "    }\n",
       "\n",
       "    .dataframe thead th {\n",
       "        text-align: right;\n",
       "    }\n",
       "</style>\n",
       "<table border=\"1\" class=\"dataframe\">\n",
       "  <thead>\n",
       "    <tr style=\"text-align: right;\">\n",
       "      <th></th>\n",
       "      <th>male</th>\n",
       "      <th>age</th>\n",
       "      <th>currentSmoker</th>\n",
       "      <th>cigsPerDay</th>\n",
       "      <th>prevalentHyp</th>\n",
       "      <th>totChol</th>\n",
       "      <th>sysBP</th>\n",
       "      <th>diaBP</th>\n",
       "      <th>BMI</th>\n",
       "      <th>heartRate</th>\n",
       "      <th>glucose</th>\n",
       "      <th>TenYearCHD</th>\n",
       "    </tr>\n",
       "  </thead>\n",
       "  <tbody>\n",
       "    <tr>\n",
       "      <th>0</th>\n",
       "      <td>1</td>\n",
       "      <td>39</td>\n",
       "      <td>0</td>\n",
       "      <td>0</td>\n",
       "      <td>0</td>\n",
       "      <td>195</td>\n",
       "      <td>106.0</td>\n",
       "      <td>70.0</td>\n",
       "      <td>26.97</td>\n",
       "      <td>80</td>\n",
       "      <td>77</td>\n",
       "      <td>0</td>\n",
       "    </tr>\n",
       "    <tr>\n",
       "      <th>1</th>\n",
       "      <td>0</td>\n",
       "      <td>46</td>\n",
       "      <td>0</td>\n",
       "      <td>0</td>\n",
       "      <td>0</td>\n",
       "      <td>250</td>\n",
       "      <td>121.0</td>\n",
       "      <td>81.0</td>\n",
       "      <td>28.73</td>\n",
       "      <td>95</td>\n",
       "      <td>76</td>\n",
       "      <td>0</td>\n",
       "    </tr>\n",
       "    <tr>\n",
       "      <th>2</th>\n",
       "      <td>1</td>\n",
       "      <td>48</td>\n",
       "      <td>1</td>\n",
       "      <td>20</td>\n",
       "      <td>0</td>\n",
       "      <td>245</td>\n",
       "      <td>127.5</td>\n",
       "      <td>80.0</td>\n",
       "      <td>25.34</td>\n",
       "      <td>75</td>\n",
       "      <td>70</td>\n",
       "      <td>0</td>\n",
       "    </tr>\n",
       "    <tr>\n",
       "      <th>3</th>\n",
       "      <td>0</td>\n",
       "      <td>61</td>\n",
       "      <td>1</td>\n",
       "      <td>30</td>\n",
       "      <td>1</td>\n",
       "      <td>225</td>\n",
       "      <td>150.0</td>\n",
       "      <td>95.0</td>\n",
       "      <td>28.58</td>\n",
       "      <td>65</td>\n",
       "      <td>103</td>\n",
       "      <td>1</td>\n",
       "    </tr>\n",
       "    <tr>\n",
       "      <th>4</th>\n",
       "      <td>0</td>\n",
       "      <td>46</td>\n",
       "      <td>1</td>\n",
       "      <td>23</td>\n",
       "      <td>0</td>\n",
       "      <td>285</td>\n",
       "      <td>130.0</td>\n",
       "      <td>84.0</td>\n",
       "      <td>23.10</td>\n",
       "      <td>85</td>\n",
       "      <td>85</td>\n",
       "      <td>0</td>\n",
       "    </tr>\n",
       "  </tbody>\n",
       "</table>\n",
       "</div>"
      ],
      "text/plain": [
       "   male  age  currentSmoker  cigsPerDay  prevalentHyp  totChol  sysBP  diaBP  \\\n",
       "0     1   39              0           0             0      195  106.0   70.0   \n",
       "1     0   46              0           0             0      250  121.0   81.0   \n",
       "2     1   48              1          20             0      245  127.5   80.0   \n",
       "3     0   61              1          30             1      225  150.0   95.0   \n",
       "4     0   46              1          23             0      285  130.0   84.0   \n",
       "\n",
       "     BMI  heartRate  glucose  TenYearCHD  \n",
       "0  26.97         80       77           0  \n",
       "1  28.73         95       76           0  \n",
       "2  25.34         75       70           0  \n",
       "3  28.58         65      103           1  \n",
       "4  23.10         85       85           0  "
      ]
     },
     "execution_count": 3,
     "metadata": {},
     "output_type": "execute_result"
    }
   ],
   "source": [
    "df = pd.read_csv(\"framMF.csv\", header=0)\n",
    "df.head()"
   ]
  },
  {
   "cell_type": "code",
   "execution_count": 4,
   "metadata": {},
   "outputs": [],
   "source": [
    "Y = df.TenYearCHD.values\n",
    "df.drop(\"TenYearCHD\", axis=1, inplace=True)"
   ]
  },
  {
   "cell_type": "code",
   "execution_count": 5,
   "metadata": {},
   "outputs": [
    {
     "name": "stdout",
     "output_type": "stream",
     "text": [
      "<class 'pandas.core.frame.DataFrame'>\n",
      "RangeIndex: 3709 entries, 0 to 3708\n",
      "Data columns (total 11 columns):\n",
      " #   Column         Non-Null Count  Dtype  \n",
      "---  ------         --------------  -----  \n",
      " 0   male           3709 non-null   int64  \n",
      " 1   age            3709 non-null   int64  \n",
      " 2   currentSmoker  3709 non-null   int64  \n",
      " 3   cigsPerDay     3709 non-null   int64  \n",
      " 4   prevalentHyp   3709 non-null   int64  \n",
      " 5   totChol        3709 non-null   int64  \n",
      " 6   sysBP          3709 non-null   float64\n",
      " 7   diaBP          3709 non-null   float64\n",
      " 8   BMI            3709 non-null   float64\n",
      " 9   heartRate      3709 non-null   int64  \n",
      " 10  glucose        3709 non-null   int64  \n",
      "dtypes: float64(3), int64(8)\n",
      "memory usage: 318.9 KB\n"
     ]
    }
   ],
   "source": [
    "df.info()"
   ]
  },
  {
   "cell_type": "code",
   "execution_count": 6,
   "metadata": {},
   "outputs": [
    {
     "data": {
      "text/html": [
       "<div>\n",
       "<style scoped>\n",
       "    .dataframe tbody tr th:only-of-type {\n",
       "        vertical-align: middle;\n",
       "    }\n",
       "\n",
       "    .dataframe tbody tr th {\n",
       "        vertical-align: top;\n",
       "    }\n",
       "\n",
       "    .dataframe thead th {\n",
       "        text-align: right;\n",
       "    }\n",
       "</style>\n",
       "<table border=\"1\" class=\"dataframe\">\n",
       "  <thead>\n",
       "    <tr style=\"text-align: right;\">\n",
       "      <th></th>\n",
       "      <th>male</th>\n",
       "      <th>age</th>\n",
       "      <th>currentSmoker</th>\n",
       "      <th>cigsPerDay</th>\n",
       "      <th>prevalentHyp</th>\n",
       "      <th>totChol</th>\n",
       "      <th>sysBP</th>\n",
       "      <th>diaBP</th>\n",
       "      <th>BMI</th>\n",
       "      <th>heartRate</th>\n",
       "      <th>glucose</th>\n",
       "    </tr>\n",
       "  </thead>\n",
       "  <tbody>\n",
       "    <tr>\n",
       "      <th>count</th>\n",
       "      <td>3.709000e+03</td>\n",
       "      <td>3.709000e+03</td>\n",
       "      <td>3.709000e+03</td>\n",
       "      <td>3.709000e+03</td>\n",
       "      <td>3.709000e+03</td>\n",
       "      <td>3.709000e+03</td>\n",
       "      <td>3.709000e+03</td>\n",
       "      <td>3.709000e+03</td>\n",
       "      <td>3.709000e+03</td>\n",
       "      <td>3.709000e+03</td>\n",
       "      <td>3.709000e+03</td>\n",
       "    </tr>\n",
       "    <tr>\n",
       "      <th>mean</th>\n",
       "      <td>-7.279758e-17</td>\n",
       "      <td>1.647524e-16</td>\n",
       "      <td>-9.578629e-18</td>\n",
       "      <td>-2.394657e-17</td>\n",
       "      <td>-1.149436e-17</td>\n",
       "      <td>-1.652314e-16</td>\n",
       "      <td>-5.728020e-16</td>\n",
       "      <td>3.678194e-16</td>\n",
       "      <td>1.380472e-14</td>\n",
       "      <td>-4.406170e-16</td>\n",
       "      <td>1.570895e-16</td>\n",
       "    </tr>\n",
       "    <tr>\n",
       "      <th>std</th>\n",
       "      <td>1.000000e+00</td>\n",
       "      <td>1.000000e+00</td>\n",
       "      <td>1.000000e+00</td>\n",
       "      <td>1.000000e+00</td>\n",
       "      <td>1.000000e+00</td>\n",
       "      <td>1.000000e+00</td>\n",
       "      <td>1.000000e+00</td>\n",
       "      <td>1.000000e+00</td>\n",
       "      <td>1.000000e+00</td>\n",
       "      <td>1.000000e+00</td>\n",
       "      <td>1.000000e+00</td>\n",
       "    </tr>\n",
       "    <tr>\n",
       "      <th>min</th>\n",
       "      <td>-8.892182e-01</td>\n",
       "      <td>-2.051914e+00</td>\n",
       "      <td>-9.761538e-01</td>\n",
       "      <td>-7.557172e-01</td>\n",
       "      <td>-6.753518e-01</td>\n",
       "      <td>-2.801207e+00</td>\n",
       "      <td>-2.210878e+00</td>\n",
       "      <td>-2.909121e+00</td>\n",
       "      <td>-2.517027e+00</td>\n",
       "      <td>-2.655827e+00</td>\n",
       "      <td>-1.757534e+00</td>\n",
       "    </tr>\n",
       "    <tr>\n",
       "      <th>25%</th>\n",
       "      <td>-8.892182e-01</td>\n",
       "      <td>-8.862432e-01</td>\n",
       "      <td>-9.761538e-01</td>\n",
       "      <td>-7.557172e-01</td>\n",
       "      <td>-6.753518e-01</td>\n",
       "      <td>-6.984042e-01</td>\n",
       "      <td>-6.979024e-01</td>\n",
       "      <td>-6.605684e-01</td>\n",
       "      <td>-6.660565e-01</td>\n",
       "      <td>-6.473560e-01</td>\n",
       "      <td>-4.559785e-01</td>\n",
       "    </tr>\n",
       "    <tr>\n",
       "      <th>50%</th>\n",
       "      <td>-8.892182e-01</td>\n",
       "      <td>-7.027341e-02</td>\n",
       "      <td>-9.761538e-01</td>\n",
       "      <td>-7.557172e-01</td>\n",
       "      <td>-6.753518e-01</td>\n",
       "      <td>-6.530241e-02</td>\n",
       "      <td>-2.011045e-01</td>\n",
       "      <td>-7.761024e-02</td>\n",
       "      <td>-9.822900e-02</td>\n",
       "      <td>-6.155195e-02</td>\n",
       "      <td>-1.620789e-01</td>\n",
       "    </tr>\n",
       "    <tr>\n",
       "      <th>75%</th>\n",
       "      <td>1.124280e+00</td>\n",
       "      <td>7.456964e-01</td>\n",
       "      <td>1.024153e+00</td>\n",
       "      <td>9.210424e-01</td>\n",
       "      <td>1.480311e+00</td>\n",
       "      <td>5.904101e-01</td>\n",
       "      <td>5.215105e-01</td>\n",
       "      <td>5.886276e-01</td>\n",
       "      <td>5.507167e-01</td>\n",
       "      <td>5.242521e-01</td>\n",
       "      <td>2.157920e-01</td>\n",
       "    </tr>\n",
       "    <tr>\n",
       "      <th>max</th>\n",
       "      <td>1.124280e+00</td>\n",
       "      <td>2.377636e+00</td>\n",
       "      <td>1.024153e+00</td>\n",
       "      <td>5.112942e+00</td>\n",
       "      <td>1.480311e+00</td>\n",
       "      <td>8.210242e+00</td>\n",
       "      <td>7.341190e+00</td>\n",
       "      <td>4.960814e+00</td>\n",
       "      <td>7.625208e+00</td>\n",
       "      <td>5.629116e+00</td>\n",
       "      <td>1.310539e+01</td>\n",
       "    </tr>\n",
       "  </tbody>\n",
       "</table>\n",
       "</div>"
      ],
      "text/plain": [
       "               male           age  currentSmoker    cigsPerDay  prevalentHyp  \\\n",
       "count  3.709000e+03  3.709000e+03   3.709000e+03  3.709000e+03  3.709000e+03   \n",
       "mean  -7.279758e-17  1.647524e-16  -9.578629e-18 -2.394657e-17 -1.149436e-17   \n",
       "std    1.000000e+00  1.000000e+00   1.000000e+00  1.000000e+00  1.000000e+00   \n",
       "min   -8.892182e-01 -2.051914e+00  -9.761538e-01 -7.557172e-01 -6.753518e-01   \n",
       "25%   -8.892182e-01 -8.862432e-01  -9.761538e-01 -7.557172e-01 -6.753518e-01   \n",
       "50%   -8.892182e-01 -7.027341e-02  -9.761538e-01 -7.557172e-01 -6.753518e-01   \n",
       "75%    1.124280e+00  7.456964e-01   1.024153e+00  9.210424e-01  1.480311e+00   \n",
       "max    1.124280e+00  2.377636e+00   1.024153e+00  5.112942e+00  1.480311e+00   \n",
       "\n",
       "            totChol         sysBP         diaBP           BMI     heartRate  \\\n",
       "count  3.709000e+03  3.709000e+03  3.709000e+03  3.709000e+03  3.709000e+03   \n",
       "mean  -1.652314e-16 -5.728020e-16  3.678194e-16  1.380472e-14 -4.406170e-16   \n",
       "std    1.000000e+00  1.000000e+00  1.000000e+00  1.000000e+00  1.000000e+00   \n",
       "min   -2.801207e+00 -2.210878e+00 -2.909121e+00 -2.517027e+00 -2.655827e+00   \n",
       "25%   -6.984042e-01 -6.979024e-01 -6.605684e-01 -6.660565e-01 -6.473560e-01   \n",
       "50%   -6.530241e-02 -2.011045e-01 -7.761024e-02 -9.822900e-02 -6.155195e-02   \n",
       "75%    5.904101e-01  5.215105e-01  5.886276e-01  5.507167e-01  5.242521e-01   \n",
       "max    8.210242e+00  7.341190e+00  4.960814e+00  7.625208e+00  5.629116e+00   \n",
       "\n",
       "            glucose  \n",
       "count  3.709000e+03  \n",
       "mean   1.570895e-16  \n",
       "std    1.000000e+00  \n",
       "min   -1.757534e+00  \n",
       "25%   -4.559785e-01  \n",
       "50%   -1.620789e-01  \n",
       "75%    2.157920e-01  \n",
       "max    1.310539e+01  "
      ]
     },
     "execution_count": 6,
     "metadata": {},
     "output_type": "execute_result"
    }
   ],
   "source": [
    "data = (df-df.mean())/df.std()\n",
    "data.describe()"
   ]
  },
  {
   "cell_type": "code",
   "execution_count": 7,
   "metadata": {},
   "outputs": [
    {
     "data": {
      "text/plain": [
       "array([[ 1.12428016, -1.23594455, -0.9761538 , ...,  0.29261328,\n",
       "         0.35687948, -0.20406454],\n",
       "       [-0.8892182 , -0.41997475, -0.9761538 , ...,  0.72524372,\n",
       "         1.61217378, -0.24605019],\n",
       "       [ 1.12428016, -0.18684052,  1.02415253, ..., -0.10806151,\n",
       "        -0.06155195, -0.49796411],\n",
       "       ...,\n",
       "       [-0.8892182 ,  0.27942793, -0.9761538 , ..., -1.05935687,\n",
       "         0.35687948,  1.05550505],\n",
       "       [ 1.12428016, -1.11937743, -0.9761538 , ..., -0.0441502 ,\n",
       "        -0.73104224, -0.4139928 ],\n",
       "       [-0.8892182 , -1.23594455,  1.02415253, ..., -1.19701202,\n",
       "         0.77531091, -0.07810758]])"
      ]
     },
     "execution_count": 7,
     "metadata": {},
     "output_type": "execute_result"
    }
   ],
   "source": [
    "dataset = data.values\n",
    "X = dataset[:,:].astype(float)\n",
    "X"
   ]
  },
  {
   "cell_type": "code",
   "execution_count": 9,
   "metadata": {},
   "outputs": [
    {
     "name": "stdout",
     "output_type": "stream",
     "text": [
      "(3709, 11) (2967, 11) (742, 11)\n",
      "(3709,) (2967,) (742,)\n"
     ]
    }
   ],
   "source": [
    "from sklearn.model_selection import train_test_split\n",
    "X_train, X_test, Y_train, Y_test = train_test_split(X, Y, test_size=0.2, random_state=1)\n",
    "print (X.shape, X_train.shape, X_test.shape)\n",
    "print (Y.shape, Y_train.shape, Y_test.shape)"
   ]
  },
  {
   "cell_type": "code",
   "execution_count": 12,
   "metadata": {},
   "outputs": [
    {
     "name": "stdout",
     "output_type": "stream",
     "text": [
      "Model: \"sequential\"\n",
      "_________________________________________________________________\n",
      "Layer (type)                 Output Shape              Param #   \n",
      "=================================================================\n",
      "dense (Dense)                (None, 16)                192       \n",
      "_________________________________________________________________\n",
      "dense_1 (Dense)              (None, 1)                 17        \n",
      "=================================================================\n",
      "Total params: 209\n",
      "Trainable params: 209\n",
      "Non-trainable params: 0\n",
      "_________________________________________________________________\n"
     ]
    }
   ],
   "source": [
    "model = Sequential()\n",
    "model.add(Dense(16, input_dim=X_train.shape[1], kernel_initializer='normal', activation='relu'))\n",
    "model.add(Dense(1, kernel_initializer='normal', activation='sigmoid'))\n",
    "model.compile(loss='binary_crossentropy', optimizer='adam', metrics=['accuracy'])\n",
    "model.summary()"
   ]
  },
  {
   "cell_type": "code",
   "execution_count": 13,
   "metadata": {},
   "outputs": [
    {
     "name": "stdout",
     "output_type": "stream",
     "text": [
      "Epoch 1/30\n",
      "594/594 [==============================] - 1s 2ms/step - loss: 0.4577 - accuracy: 0.8507 - val_loss: 0.4073 - val_accuracy: 0.8315\n",
      "Epoch 2/30\n",
      "594/594 [==============================] - 1s 1ms/step - loss: 0.3818 - accuracy: 0.8507 - val_loss: 0.4014 - val_accuracy: 0.8315\n",
      "Epoch 3/30\n",
      "594/594 [==============================] - 1s 1ms/step - loss: 0.3794 - accuracy: 0.8507 - val_loss: 0.4012 - val_accuracy: 0.8315\n",
      "Epoch 4/30\n",
      "594/594 [==============================] - 1s 1ms/step - loss: 0.3771 - accuracy: 0.8507 - val_loss: 0.4035 - val_accuracy: 0.8315\n",
      "Epoch 5/30\n",
      "594/594 [==============================] - 1s 1ms/step - loss: 0.3765 - accuracy: 0.8507 - val_loss: 0.4032 - val_accuracy: 0.8315\n",
      "Epoch 6/30\n",
      "594/594 [==============================] - 1s 1ms/step - loss: 0.3762 - accuracy: 0.8507 - val_loss: 0.4012 - val_accuracy: 0.8315\n",
      "Epoch 7/30\n",
      "594/594 [==============================] - 1s 2ms/step - loss: 0.3754 - accuracy: 0.8507 - val_loss: 0.4013 - val_accuracy: 0.8315\n",
      "Epoch 8/30\n",
      "594/594 [==============================] - 1s 1ms/step - loss: 0.3747 - accuracy: 0.8507 - val_loss: 0.4022 - val_accuracy: 0.8315\n",
      "Epoch 9/30\n",
      "594/594 [==============================] - 1s 2ms/step - loss: 0.3749 - accuracy: 0.8507 - val_loss: 0.3988 - val_accuracy: 0.8315\n",
      "Epoch 10/30\n",
      "594/594 [==============================] - 1s 1ms/step - loss: 0.3737 - accuracy: 0.8507 - val_loss: 0.3983 - val_accuracy: 0.8315\n",
      "Epoch 11/30\n",
      "594/594 [==============================] - 1s 1ms/step - loss: 0.3735 - accuracy: 0.8507 - val_loss: 0.4012 - val_accuracy: 0.8315\n",
      "Epoch 12/30\n",
      "594/594 [==============================] - 1s 1ms/step - loss: 0.3735 - accuracy: 0.8507 - val_loss: 0.3978 - val_accuracy: 0.8315\n",
      "Epoch 13/30\n",
      "594/594 [==============================] - 1s 1ms/step - loss: 0.3730 - accuracy: 0.8507 - val_loss: 0.3991 - val_accuracy: 0.8315\n",
      "Epoch 14/30\n",
      "594/594 [==============================] - 1s 1ms/step - loss: 0.3728 - accuracy: 0.8507 - val_loss: 0.3987 - val_accuracy: 0.8315\n",
      "Epoch 15/30\n",
      "594/594 [==============================] - 1s 1ms/step - loss: 0.3719 - accuracy: 0.8507 - val_loss: 0.4017 - val_accuracy: 0.8315\n",
      "Epoch 16/30\n",
      "594/594 [==============================] - 1s 1ms/step - loss: 0.3720 - accuracy: 0.8507 - val_loss: 0.3992 - val_accuracy: 0.8315\n",
      "Epoch 17/30\n",
      "594/594 [==============================] - 1s 1ms/step - loss: 0.3716 - accuracy: 0.8507 - val_loss: 0.3969 - val_accuracy: 0.8315\n",
      "Epoch 18/30\n",
      "594/594 [==============================] - 1s 1ms/step - loss: 0.3720 - accuracy: 0.8507 - val_loss: 0.3990 - val_accuracy: 0.8315\n",
      "Epoch 19/30\n",
      "594/594 [==============================] - 1s 1ms/step - loss: 0.3713 - accuracy: 0.8507 - val_loss: 0.4008 - val_accuracy: 0.8315\n",
      "Epoch 20/30\n",
      "594/594 [==============================] - 1s 1ms/step - loss: 0.3708 - accuracy: 0.8507 - val_loss: 0.3979 - val_accuracy: 0.8315\n",
      "Epoch 21/30\n",
      "594/594 [==============================] - 1s 1ms/step - loss: 0.3709 - accuracy: 0.8507 - val_loss: 0.3989 - val_accuracy: 0.8315\n",
      "Epoch 22/30\n",
      "594/594 [==============================] - 1s 1ms/step - loss: 0.3705 - accuracy: 0.8507 - val_loss: 0.3995 - val_accuracy: 0.8315\n",
      "Epoch 23/30\n",
      "594/594 [==============================] - 1s 1ms/step - loss: 0.3708 - accuracy: 0.8507 - val_loss: 0.3985 - val_accuracy: 0.8315\n",
      "Epoch 24/30\n",
      "594/594 [==============================] - 1s 1ms/step - loss: 0.3707 - accuracy: 0.8507 - val_loss: 0.4003 - val_accuracy: 0.8315\n",
      "Epoch 25/30\n",
      "594/594 [==============================] - 1s 1ms/step - loss: 0.3702 - accuracy: 0.8507 - val_loss: 0.3995 - val_accuracy: 0.8315\n",
      "Epoch 26/30\n",
      "594/594 [==============================] - 1s 1ms/step - loss: 0.3703 - accuracy: 0.8507 - val_loss: 0.3979 - val_accuracy: 0.8315\n",
      "Epoch 27/30\n",
      "594/594 [==============================] - 1s 1ms/step - loss: 0.3694 - accuracy: 0.8504 - val_loss: 0.3986 - val_accuracy: 0.8315\n",
      "Epoch 28/30\n",
      "594/594 [==============================] - 1s 1ms/step - loss: 0.3695 - accuracy: 0.8507 - val_loss: 0.4014 - val_accuracy: 0.8315\n",
      "Epoch 29/30\n",
      "594/594 [==============================] - 1s 1ms/step - loss: 0.3692 - accuracy: 0.8507 - val_loss: 0.3983 - val_accuracy: 0.8329\n",
      "Epoch 30/30\n",
      "594/594 [==============================] - 1s 1ms/step - loss: 0.3694 - accuracy: 0.8524 - val_loss: 0.4010 - val_accuracy: 0.8329\n"
     ]
    }
   ],
   "source": [
    "fit = model.fit(X_train, Y_train, epochs=30, batch_size=5, verbose=1, validation_data=(X_test, Y_test), shuffle=True)"
   ]
  },
  {
   "cell_type": "code",
   "execution_count": 14,
   "metadata": {},
   "outputs": [
    {
     "data": {
      "image/png": "[encoded data removed]",
      "text/plain": [
       "<Figure size 576x360 with 1 Axes>"
      ]
     },
     "metadata": {},
     "output_type": "display_data"
    }
   ],
   "source": [
    "# shamelessly borrowed from https://stackoverflow.com/questions/48285129/saving-best-model-in-keras/48286003\n",
    "pd.DataFrame(fit.history).plot(figsize=(8,5))\n",
    "plt.show()"
   ]
  },
  {
   "cell_type": "code",
   "execution_count": 16,
   "metadata": {},
   "outputs": [
    {
     "data": {
      "image/png": "[encoded data removed]",
      "text/plain": [
       "<Figure size 432x288 with 1 Axes>"
      ]
     },
     "metadata": {},
     "output_type": "display_data"
    }
   ],
   "source": [
    "plt.plot(fit.history['loss'])\n",
    "plt.plot(fit.history['val_loss'])\n",
    "plt.title('model loss')\n",
    "plt.ylabel('loss')\n",
    "plt.xlabel('epochs')\n",
    "plt.legend(['train', 'val'], loc='upper right')\n",
    "plt.show()"
   ]
  },
  {
   "cell_type": "code",
   "execution_count": 19,
   "metadata": {},
   "outputs": [
    {
     "data": {
      "image/png": "[encoded data removed]",
      "text/plain": [
       "<Figure size 432x288 with 1 Axes>"
      ]
     },
     "metadata": {},
     "output_type": "display_data"
    }
   ],
   "source": [
    "plt.plot(fit.history['accuracy'])\n",
    "plt.plot(fit.history['val_accuracy'])\n",
    "plt.title('model accuracy')\n",
    "plt.ylabel('accuracy')\n",
    "plt.xlabel('epochs')\n",
    "plt.legend(['train', 'val'], loc='center left')\n",
    "plt.show()"
   ]
  },
  {
   "cell_type": "code",
   "execution_count": 20,
   "metadata": {},
   "outputs": [],
   "source": [
    "predTrain = np.round(model.predict(X_train), 0).astype('int64')\n",
    "predTest = np.round(model.predict(X_test), 0).astype('int64')\n",
    "predTrain = predTrain.reshape(-1)\n",
    "predTest = predTest.reshape(-1)"
   ]
  },
  {
   "cell_type": "code",
   "execution_count": 21,
   "metadata": {},
   "outputs": [
    {
     "data": {
      "text/plain": [
       "array([[2523,    1],\n",
       "       [ 435,    8]], dtype=int64)"
      ]
     },
     "execution_count": 21,
     "metadata": {},
     "output_type": "execute_result"
    }
   ],
   "source": [
    "confusion_matrix(Y_train, predTrain)"
   ]
  },
  {
   "cell_type": "code",
   "execution_count": 22,
   "metadata": {},
   "outputs": [
    {
     "data": {
      "text/plain": [
       "array([[617,   0],\n",
       "       [124,   1]], dtype=int64)"
      ]
     },
     "execution_count": 22,
     "metadata": {},
     "output_type": "execute_result"
    }
   ],
   "source": [
    "confusion_matrix(Y_test, predTest)"
   ]
  },
  {
   "cell_type": "markdown",
   "metadata": {},
   "source": [
    "So this is the issue: as the data set is unbalanced, the NN trains poorly, sensitivity is rubbish: of 125 people who would get ill, just 9 were identified. The same is demonstrated by other learning algorithms so I'll download and use for training under-sampled data sets:"
   ]
  },
  {
   "cell_type": "code",
   "execution_count": 23,
   "metadata": {},
   "outputs": [],
   "source": [
    "df_train = pd.read_csv(\"FHStrainPCANorm.csv\", header=0)\n",
    "df_test = pd.read_csv(\"FHStestPCANorm.csv\", header=0)"
   ]
  },
  {
   "cell_type": "code",
   "execution_count": 24,
   "metadata": {},
   "outputs": [
    {
     "data": {
      "text/html": [
       "<div>\n",
       "<style scoped>\n",
       "    .dataframe tbody tr th:only-of-type {\n",
       "        vertical-align: middle;\n",
       "    }\n",
       "\n",
       "    .dataframe tbody tr th {\n",
       "        vertical-align: top;\n",
       "    }\n",
       "\n",
       "    .dataframe thead th {\n",
       "        text-align: right;\n",
       "    }\n",
       "</style>\n",
       "<table border=\"1\" class=\"dataframe\">\n",
       "  <thead>\n",
       "    <tr style=\"text-align: right;\">\n",
       "      <th></th>\n",
       "      <th>male</th>\n",
       "      <th>age</th>\n",
       "      <th>education.1</th>\n",
       "      <th>education.2</th>\n",
       "      <th>education.3</th>\n",
       "      <th>education.4</th>\n",
       "      <th>currentSmoker</th>\n",
       "      <th>cigsPerDay</th>\n",
       "      <th>BPMeds</th>\n",
       "      <th>prevalentStroke</th>\n",
       "      <th>diabetes</th>\n",
       "      <th>totChol</th>\n",
       "      <th>BMI</th>\n",
       "      <th>heartRate</th>\n",
       "      <th>glucose</th>\n",
       "      <th>PC1</th>\n",
       "      <th>PC2</th>\n",
       "      <th>PC3</th>\n",
       "      <th>label</th>\n",
       "    </tr>\n",
       "  </thead>\n",
       "  <tbody>\n",
       "    <tr>\n",
       "      <th>count</th>\n",
       "      <td>1030.000000</td>\n",
       "      <td>1030.000000</td>\n",
       "      <td>1030.000000</td>\n",
       "      <td>1030.000000</td>\n",
       "      <td>1030.000000</td>\n",
       "      <td>1030.000000</td>\n",
       "      <td>1030.000000</td>\n",
       "      <td>1030.000000</td>\n",
       "      <td>1030.000000</td>\n",
       "      <td>1030.000000</td>\n",
       "      <td>1030.000000</td>\n",
       "      <td>1030.000000</td>\n",
       "      <td>1030.000000</td>\n",
       "      <td>1030.000000</td>\n",
       "      <td>1030.000000</td>\n",
       "      <td>1030.000000</td>\n",
       "      <td>1030.000000</td>\n",
       "      <td>1030.000000</td>\n",
       "      <td>1030.000000</td>\n",
       "    </tr>\n",
       "    <tr>\n",
       "      <th>mean</th>\n",
       "      <td>0.070652</td>\n",
       "      <td>0.202904</td>\n",
       "      <td>0.068979</td>\n",
       "      <td>-0.045822</td>\n",
       "      <td>-0.044366</td>\n",
       "      <td>0.009942</td>\n",
       "      <td>0.046054</td>\n",
       "      <td>0.061944</td>\n",
       "      <td>0.094127</td>\n",
       "      <td>0.052757</td>\n",
       "      <td>0.114104</td>\n",
       "      <td>0.071331</td>\n",
       "      <td>0.060900</td>\n",
       "      <td>0.011100</td>\n",
       "      <td>0.155287</td>\n",
       "      <td>0.262275</td>\n",
       "      <td>0.020713</td>\n",
       "      <td>0.041782</td>\n",
       "      <td>0.500000</td>\n",
       "    </tr>\n",
       "    <tr>\n",
       "      <th>std</th>\n",
       "      <td>1.008215</td>\n",
       "      <td>1.007319</td>\n",
       "      <td>1.008379</td>\n",
       "      <td>0.978888</td>\n",
       "      <td>0.957487</td>\n",
       "      <td>1.012202</td>\n",
       "      <td>1.000147</td>\n",
       "      <td>1.041911</td>\n",
       "      <td>1.233580</td>\n",
       "      <td>1.318373</td>\n",
       "      <td>1.293435</td>\n",
       "      <td>1.027173</td>\n",
       "      <td>1.034957</td>\n",
       "      <td>0.984411</td>\n",
       "      <td>1.416218</td>\n",
       "      <td>1.678398</td>\n",
       "      <td>0.693951</td>\n",
       "      <td>0.508152</td>\n",
       "      <td>0.500243</td>\n",
       "    </tr>\n",
       "    <tr>\n",
       "      <th>min</th>\n",
       "      <td>-0.863443</td>\n",
       "      <td>-1.930344</td>\n",
       "      <td>-0.859808</td>\n",
       "      <td>-0.652444</td>\n",
       "      <td>-0.437940</td>\n",
       "      <td>-0.360904</td>\n",
       "      <td>-0.981162</td>\n",
       "      <td>-0.756154</td>\n",
       "      <td>-0.172460</td>\n",
       "      <td>-0.070962</td>\n",
       "      <td>-0.162222</td>\n",
       "      <td>-2.925639</td>\n",
       "      <td>-2.265783</td>\n",
       "      <td>-2.157149</td>\n",
       "      <td>-1.808957</td>\n",
       "      <td>-3.034642</td>\n",
       "      <td>-2.995928</td>\n",
       "      <td>-1.616158</td>\n",
       "      <td>0.000000</td>\n",
       "    </tr>\n",
       "    <tr>\n",
       "      <th>25%</th>\n",
       "      <td>-0.863443</td>\n",
       "      <td>-0.646224</td>\n",
       "      <td>-0.859808</td>\n",
       "      <td>-0.652444</td>\n",
       "      <td>-0.437940</td>\n",
       "      <td>-0.360904</td>\n",
       "      <td>-0.981162</td>\n",
       "      <td>-0.756154</td>\n",
       "      <td>-0.172460</td>\n",
       "      <td>-0.070962</td>\n",
       "      <td>-0.162222</td>\n",
       "      <td>-0.594740</td>\n",
       "      <td>-0.594268</td>\n",
       "      <td>-0.659186</td>\n",
       "      <td>-0.389278</td>\n",
       "      <td>-1.026025</td>\n",
       "      <td>-0.460452</td>\n",
       "      <td>-0.283964</td>\n",
       "      <td>0.000000</td>\n",
       "    </tr>\n",
       "    <tr>\n",
       "      <th>50%</th>\n",
       "      <td>-0.863443</td>\n",
       "      <td>0.170943</td>\n",
       "      <td>-0.859808</td>\n",
       "      <td>-0.652444</td>\n",
       "      <td>-0.437940</td>\n",
       "      <td>-0.360904</td>\n",
       "      <td>1.018899</td>\n",
       "      <td>-0.671788</td>\n",
       "      <td>-0.172460</td>\n",
       "      <td>-0.070962</td>\n",
       "      <td>-0.162222</td>\n",
       "      <td>-0.028988</td>\n",
       "      <td>-0.062868</td>\n",
       "      <td>-0.076645</td>\n",
       "      <td>-0.045113</td>\n",
       "      <td>-0.276988</td>\n",
       "      <td>-0.018443</td>\n",
       "      <td>0.008254</td>\n",
       "      <td>0.500000</td>\n",
       "    </tr>\n",
       "    <tr>\n",
       "      <th>75%</th>\n",
       "      <td>1.157812</td>\n",
       "      <td>1.104848</td>\n",
       "      <td>1.162708</td>\n",
       "      <td>1.532246</td>\n",
       "      <td>-0.437940</td>\n",
       "      <td>-0.360904</td>\n",
       "      <td>1.018899</td>\n",
       "      <td>0.931152</td>\n",
       "      <td>-0.172460</td>\n",
       "      <td>-0.070962</td>\n",
       "      <td>-0.162222</td>\n",
       "      <td>0.672545</td>\n",
       "      <td>0.620710</td>\n",
       "      <td>0.651532</td>\n",
       "      <td>0.213010</td>\n",
       "      <td>1.557666</td>\n",
       "      <td>0.507860</td>\n",
       "      <td>0.275722</td>\n",
       "      <td>1.000000</td>\n",
       "    </tr>\n",
       "    <tr>\n",
       "      <th>max</th>\n",
       "      <td>1.157812</td>\n",
       "      <td>2.388968</td>\n",
       "      <td>1.162708</td>\n",
       "      <td>1.532246</td>\n",
       "      <td>2.282743</td>\n",
       "      <td>2.770005</td>\n",
       "      <td>1.018899</td>\n",
       "      <td>5.149416</td>\n",
       "      <td>5.796752</td>\n",
       "      <td>14.087969</td>\n",
       "      <td>6.162573</td>\n",
       "      <td>8.230993</td>\n",
       "      <td>7.603765</td>\n",
       "      <td>4.084364</td>\n",
       "      <td>13.420325</td>\n",
       "      <td>7.681361</td>\n",
       "      <td>2.566875</td>\n",
       "      <td>2.767503</td>\n",
       "      <td>1.000000</td>\n",
       "    </tr>\n",
       "  </tbody>\n",
       "</table>\n",
       "</div>"
      ],
      "text/plain": [
       "              male          age  education.1  education.2  education.3  \\\n",
       "count  1030.000000  1030.000000  1030.000000  1030.000000  1030.000000   \n",
       "mean      0.070652     0.202904     0.068979    -0.045822    -0.044366   \n",
       "std       1.008215     1.007319     1.008379     0.978888     0.957487   \n",
       "min      -0.863443    -1.930344    -0.859808    -0.652444    -0.437940   \n",
       "25%      -0.863443    -0.646224    -0.859808    -0.652444    -0.437940   \n",
       "50%      -0.863443     0.170943    -0.859808    -0.652444    -0.437940   \n",
       "75%       1.157812     1.104848     1.162708     1.532246    -0.437940   \n",
       "max       1.157812     2.388968     1.162708     1.532246     2.282743   \n",
       "\n",
       "       education.4  currentSmoker   cigsPerDay       BPMeds  prevalentStroke  \\\n",
       "count  1030.000000    1030.000000  1030.000000  1030.000000      1030.000000   \n",
       "mean      0.009942       0.046054     0.061944     0.094127         0.052757   \n",
       "std       1.012202       1.000147     1.041911     1.233580         1.318373   \n",
       "min      -0.360904      -0.981162    -0.756154    -0.172460        -0.070962   \n",
       "25%      -0.360904      -0.981162    -0.756154    -0.172460        -0.070962   \n",
       "50%      -0.360904       1.018899    -0.671788    -0.172460        -0.070962   \n",
       "75%      -0.360904       1.018899     0.931152    -0.172460        -0.070962   \n",
       "max       2.770005       1.018899     5.149416     5.796752        14.087969   \n",
       "\n",
       "          diabetes      totChol          BMI    heartRate      glucose  \\\n",
       "count  1030.000000  1030.000000  1030.000000  1030.000000  1030.000000   \n",
       "mean      0.114104     0.071331     0.060900     0.011100     0.155287   \n",
       "std       1.293435     1.027173     1.034957     0.984411     1.416218   \n",
       "min      -0.162222    -2.925639    -2.265783    -2.157149    -1.808957   \n",
       "25%      -0.162222    -0.594740    -0.594268    -0.659186    -0.389278   \n",
       "50%      -0.162222    -0.028988    -0.062868    -0.076645    -0.045113   \n",
       "75%      -0.162222     0.672545     0.620710     0.651532     0.213010   \n",
       "max       6.162573     8.230993     7.603765     4.084364    13.420325   \n",
       "\n",
       "               PC1          PC2          PC3        label  \n",
       "count  1030.000000  1030.000000  1030.000000  1030.000000  \n",
       "mean      0.262275     0.020713     0.041782     0.500000  \n",
       "std       1.678398     0.693951     0.508152     0.500243  \n",
       "min      -3.034642    -2.995928    -1.616158     0.000000  \n",
       "25%      -1.026025    -0.460452    -0.283964     0.000000  \n",
       "50%      -0.276988    -0.018443     0.008254     0.500000  \n",
       "75%       1.557666     0.507860     0.275722     1.000000  \n",
       "max       7.681361     2.566875     2.767503     1.000000  "
      ]
     },
     "execution_count": 24,
     "metadata": {},
     "output_type": "execute_result"
    }
   ],
   "source": [
    "df_train.describe()"
   ]
  },
  {
   "cell_type": "code",
   "execution_count": 25,
   "metadata": {},
   "outputs": [],
   "source": [
    "Y = df_train.label.values\n",
    "df_train.drop(\"label\", axis=1, inplace=True)"
   ]
  },
  {
   "cell_type": "code",
   "execution_count": 26,
   "metadata": {},
   "outputs": [
    {
     "data": {
      "text/plain": [
       "array([[-0.86344318,  1.33832441, -0.85980764, ...,  1.86586043,\n",
       "         0.47111527, -0.31026527],\n",
       "       [-0.86344318,  1.5718007 ,  1.16270797, ..., -0.80224138,\n",
       "        -0.04619287,  0.9269641 ],\n",
       "       [-0.86344318, -0.41274782, -0.85980764, ..., -1.16137068,\n",
       "        -0.12922497, -0.31973346],\n",
       "       ...,\n",
       "       [-0.86344318,  0.05420477,  1.16270797, ...,  0.97076687,\n",
       "         1.16353173, -0.00916864],\n",
       "       [ 1.15781236, -0.87970042, -0.85980764, ..., -1.95997992,\n",
       "         0.61856395,  0.44161069],\n",
       "       [-0.86344318,  0.63789551,  1.16270797, ..., -0.48066364,\n",
       "        -0.52623118, -0.05768593]])"
      ]
     },
     "execution_count": 26,
     "metadata": {},
     "output_type": "execute_result"
    }
   ],
   "source": [
    "dataset = df_train.values\n",
    "X = dataset[:,:].astype(float)\n",
    "X"
   ]
  },
  {
   "cell_type": "code",
   "execution_count": 27,
   "metadata": {},
   "outputs": [
    {
     "name": "stdout",
     "output_type": "stream",
     "text": [
      "(1030, 18) (824, 18) (206, 18)\n",
      "(1030,) (824,) (206,)\n"
     ]
    }
   ],
   "source": [
    "X_train, X_val, Y_train, Y_val = train_test_split(X, Y, test_size=0.2, random_state=1)\n",
    "print (X.shape, X_train.shape, X_val.shape)\n",
    "print (Y.shape, Y_train.shape, Y_val.shape)"
   ]
  },
  {
   "cell_type": "code",
   "execution_count": 28,
   "metadata": {},
   "outputs": [
    {
     "name": "stdout",
     "output_type": "stream",
     "text": [
      "Model: \"sequential_1\"\n",
      "_________________________________________________________________\n",
      "Layer (type)                 Output Shape              Param #   \n",
      "=================================================================\n",
      "dense_2 (Dense)              (None, 16)                304       \n",
      "_________________________________________________________________\n",
      "dense_3 (Dense)              (None, 1)                 17        \n",
      "=================================================================\n",
      "Total params: 321\n",
      "Trainable params: 321\n",
      "Non-trainable params: 0\n",
      "_________________________________________________________________\n"
     ]
    }
   ],
   "source": [
    "model = Sequential()\n",
    "model.add(Dense(16, input_dim=X_train.shape[1], kernel_initializer='normal', activation='relu'))\n",
    "model.add(Dense(1, kernel_initializer='normal', activation='sigmoid'))\n",
    "model.compile(loss='binary_crossentropy', optimizer='adam', metrics=['accuracy'])\n",
    "model.summary()"
   ]
  },
  {
   "cell_type": "code",
   "execution_count": 29,
   "metadata": {},
   "outputs": [
    {
     "name": "stdout",
     "output_type": "stream",
     "text": [
      "Epoch 1/30\n",
      "165/165 [==============================] - 0s 2ms/step - loss: 0.6789 - accuracy: 0.6286 - val_loss: 0.6543 - val_accuracy: 0.6748\n",
      "Epoch 2/30\n",
      "165/165 [==============================] - 0s 1ms/step - loss: 0.6319 - accuracy: 0.6893 - val_loss: 0.6143 - val_accuracy: 0.6845\n",
      "Epoch 3/30\n",
      "165/165 [==============================] - 0s 1ms/step - loss: 0.6007 - accuracy: 0.6930 - val_loss: 0.6054 - val_accuracy: 0.7039\n",
      "Epoch 4/30\n",
      "165/165 [==============================] - 0s 1ms/step - loss: 0.5901 - accuracy: 0.6905 - val_loss: 0.6051 - val_accuracy: 0.6942\n",
      "Epoch 5/30\n",
      "165/165 [==============================] - 0s 1ms/step - loss: 0.5840 - accuracy: 0.7027 - val_loss: 0.6083 - val_accuracy: 0.6990\n",
      "Epoch 6/30\n",
      "165/165 [==============================] - 0s 1ms/step - loss: 0.5817 - accuracy: 0.6930 - val_loss: 0.6091 - val_accuracy: 0.7039\n",
      "Epoch 7/30\n",
      "165/165 [==============================] - 0s 1ms/step - loss: 0.5783 - accuracy: 0.7027 - val_loss: 0.6146 - val_accuracy: 0.6990\n",
      "Epoch 8/30\n",
      "165/165 [==============================] - 0s 1ms/step - loss: 0.5773 - accuracy: 0.6954 - val_loss: 0.6163 - val_accuracy: 0.6942\n",
      "Epoch 9/30\n",
      "165/165 [==============================] - 0s 1ms/step - loss: 0.5758 - accuracy: 0.6978 - val_loss: 0.6196 - val_accuracy: 0.6893\n",
      "Epoch 10/30\n",
      "165/165 [==============================] - 0s 1ms/step - loss: 0.5734 - accuracy: 0.7027 - val_loss: 0.6209 - val_accuracy: 0.6942\n",
      "Epoch 11/30\n",
      "165/165 [==============================] - 0s 1ms/step - loss: 0.5728 - accuracy: 0.7002 - val_loss: 0.6232 - val_accuracy: 0.6942\n",
      "Epoch 12/30\n",
      "165/165 [==============================] - 0s 2ms/step - loss: 0.5717 - accuracy: 0.6990 - val_loss: 0.6259 - val_accuracy: 0.6942\n",
      "Epoch 13/30\n",
      "165/165 [==============================] - 0s 2ms/step - loss: 0.5697 - accuracy: 0.7075 - val_loss: 0.6286 - val_accuracy: 0.6796\n",
      "Epoch 14/30\n",
      "165/165 [==============================] - 0s 1ms/step - loss: 0.5687 - accuracy: 0.7051 - val_loss: 0.6311 - val_accuracy: 0.6845\n",
      "Epoch 15/30\n",
      "165/165 [==============================] - 0s 1ms/step - loss: 0.5676 - accuracy: 0.7100 - val_loss: 0.6331 - val_accuracy: 0.6845\n",
      "Epoch 16/30\n",
      "165/165 [==============================] - 0s 1ms/step - loss: 0.5671 - accuracy: 0.7051 - val_loss: 0.6365 - val_accuracy: 0.6845\n",
      "Epoch 17/30\n",
      "165/165 [==============================] - 0s 1ms/step - loss: 0.5658 - accuracy: 0.7100 - val_loss: 0.6386 - val_accuracy: 0.6845\n",
      "Epoch 18/30\n",
      "165/165 [==============================] - 0s 1ms/step - loss: 0.5642 - accuracy: 0.7172 - val_loss: 0.6421 - val_accuracy: 0.6893\n",
      "Epoch 19/30\n",
      "165/165 [==============================] - 0s 1ms/step - loss: 0.5630 - accuracy: 0.7148 - val_loss: 0.6443 - val_accuracy: 0.6845\n",
      "Epoch 20/30\n",
      "165/165 [==============================] - 0s 1ms/step - loss: 0.5619 - accuracy: 0.7087 - val_loss: 0.6456 - val_accuracy: 0.6845\n",
      "Epoch 21/30\n",
      "165/165 [==============================] - 0s 1ms/step - loss: 0.5610 - accuracy: 0.7209 - val_loss: 0.6494 - val_accuracy: 0.6748\n",
      "Epoch 22/30\n",
      "165/165 [==============================] - 0s 1ms/step - loss: 0.5600 - accuracy: 0.7148 - val_loss: 0.6519 - val_accuracy: 0.6845\n",
      "Epoch 23/30\n",
      "165/165 [==============================] - 0s 1ms/step - loss: 0.5593 - accuracy: 0.7148 - val_loss: 0.6532 - val_accuracy: 0.6893\n",
      "Epoch 24/30\n",
      "165/165 [==============================] - 0s 1ms/step - loss: 0.5578 - accuracy: 0.7172 - val_loss: 0.6534 - val_accuracy: 0.6845\n",
      "Epoch 25/30\n",
      "165/165 [==============================] - 0s 1ms/step - loss: 0.5559 - accuracy: 0.7148 - val_loss: 0.6584 - val_accuracy: 0.6796\n",
      "Epoch 26/30\n",
      "165/165 [==============================] - 0s 1ms/step - loss: 0.5561 - accuracy: 0.7245 - val_loss: 0.6580 - val_accuracy: 0.6796\n",
      "Epoch 27/30\n",
      "165/165 [==============================] - 0s 1ms/step - loss: 0.5541 - accuracy: 0.7160 - val_loss: 0.6590 - val_accuracy: 0.6845\n",
      "Epoch 28/30\n",
      "165/165 [==============================] - 0s 1ms/step - loss: 0.5533 - accuracy: 0.7209 - val_loss: 0.6610 - val_accuracy: 0.6845\n",
      "Epoch 29/30\n",
      "165/165 [==============================] - 0s 1ms/step - loss: 0.5516 - accuracy: 0.7209 - val_loss: 0.6617 - val_accuracy: 0.6699\n",
      "Epoch 30/30\n",
      "165/165 [==============================] - 0s 1ms/step - loss: 0.5506 - accuracy: 0.7209 - val_loss: 0.6653 - val_accuracy: 0.6748\n"
     ]
    }
   ],
   "source": [
    "fit = model.fit(X_train, Y_train, epochs=30, batch_size=5, verbose=1, validation_data=(X_val, Y_val), shuffle=True)"
   ]
  },
  {
   "cell_type": "code",
   "execution_count": 30,
   "metadata": {},
   "outputs": [
    {
     "data": {
      "image/png": "[encoded data removed]",
      "text/plain": [
       "<Figure size 576x360 with 1 Axes>"
      ]
     },
     "metadata": {},
     "output_type": "display_data"
    }
   ],
   "source": [
    "pd.DataFrame(fit.history).plot(figsize=(8,5))\n",
    "plt.show()"
   ]
  },
  {
   "cell_type": "code",
   "execution_count": 31,
   "metadata": {},
   "outputs": [],
   "source": [
    "from keras.callbacks import EarlyStopping"
   ]
  },
  {
   "cell_type": "code",
   "execution_count": 32,
   "metadata": {},
   "outputs": [],
   "source": [
    "# borrowed from: https://stackoverflow.com/questions/48285129/saving-best-model-in-keras/48286003\n",
    "early_stopping_monitor = EarlyStopping(\n",
    "    monitor='val_loss',\n",
    "    min_delta=0,\n",
    "    patience=0,\n",
    "    verbose=0,\n",
    "    mode='auto',\n",
    "    baseline=None,\n",
    "    restore_best_weights=True\n",
    ")"
   ]
  },
  {
   "cell_type": "code",
   "execution_count": 33,
   "metadata": {},
   "outputs": [
    {
     "name": "stdout",
     "output_type": "stream",
     "text": [
      "Model: \"sequential_2\"\n",
      "_________________________________________________________________\n",
      "Layer (type)                 Output Shape              Param #   \n",
      "=================================================================\n",
      "dense_4 (Dense)              (None, 16)                304       \n",
      "_________________________________________________________________\n",
      "dense_5 (Dense)              (None, 1)                 17        \n",
      "=================================================================\n",
      "Total params: 321\n",
      "Trainable params: 321\n",
      "Non-trainable params: 0\n",
      "_________________________________________________________________\n"
     ]
    }
   ],
   "source": [
    "model = Sequential()\n",
    "model.add(Dense(16, input_dim=X_train.shape[1], kernel_initializer='normal', activation='relu'))\n",
    "model.add(Dense(1, kernel_initializer='normal', activation='sigmoid'))\n",
    "model.compile(loss='binary_crossentropy', optimizer='adam', metrics=['accuracy'])\n",
    "model.summary()"
   ]
  },
  {
   "cell_type": "code",
   "execution_count": 34,
   "metadata": {},
   "outputs": [
    {
     "name": "stdout",
     "output_type": "stream",
     "text": [
      "Epoch 1/30\n",
      "165/165 [==============================] - 0s 2ms/step - loss: 0.6832 - accuracy: 0.6201 - val_loss: 0.6649 - val_accuracy: 0.6650\n",
      "Epoch 2/30\n",
      "165/165 [==============================] - 0s 1ms/step - loss: 0.6371 - accuracy: 0.6723 - val_loss: 0.6195 - val_accuracy: 0.6699\n",
      "Epoch 3/30\n",
      "165/165 [==============================] - 0s 1ms/step - loss: 0.6035 - accuracy: 0.6857 - val_loss: 0.6062 - val_accuracy: 0.6893\n",
      "Epoch 4/30\n",
      "165/165 [==============================] - 0s 1ms/step - loss: 0.5914 - accuracy: 0.6881 - val_loss: 0.6046 - val_accuracy: 0.7039\n",
      "Epoch 5/30\n",
      "165/165 [==============================] - 0s 1ms/step - loss: 0.5851 - accuracy: 0.6954 - val_loss: 0.6066 - val_accuracy: 0.7087\n"
     ]
    }
   ],
   "source": [
    "fit = model.fit(X_train, Y_train, epochs=30, batch_size=5, verbose=1, validation_data=(X_val, Y_val),\n",
    "                callbacks=[early_stopping_monitor], shuffle=True)"
   ]
  },
  {
   "cell_type": "code",
   "execution_count": 35,
   "metadata": {},
   "outputs": [
    {
     "data": {
      "image/png": "[encoded data removed]",
      "text/plain": [
       "<Figure size 576x360 with 1 Axes>"
      ]
     },
     "metadata": {},
     "output_type": "display_data"
    }
   ],
   "source": [
    "pd.DataFrame(fit.history).plot(figsize=(8,5))\n",
    "plt.show()"
   ]
  },
  {
   "cell_type": "code",
   "execution_count": 36,
   "metadata": {},
   "outputs": [],
   "source": [
    "predTrain = np.round(model.predict(X_train), 0).astype('int64')\n",
    "predVal = np.round(model.predict(X_val), 0).astype('int64')"
   ]
  },
  {
   "cell_type": "code",
   "execution_count": 37,
   "metadata": {},
   "outputs": [],
   "source": [
    "predTrain = predTrain.reshape(-1)\n",
    "predVal = predVal.reshape(-1)"
   ]
  },
  {
   "cell_type": "code",
   "execution_count": 38,
   "metadata": {},
   "outputs": [
    {
     "data": {
      "text/plain": [
       "array([[287, 130],\n",
       "       [120, 287]], dtype=int64)"
      ]
     },
     "execution_count": 38,
     "metadata": {},
     "output_type": "execute_result"
    }
   ],
   "source": [
    "confusion_matrix(Y_train, predTrain)"
   ]
  },
  {
   "cell_type": "code",
   "execution_count": 39,
   "metadata": {},
   "outputs": [
    {
     "data": {
      "text/plain": [
       "0.6966019417475728"
      ]
     },
     "execution_count": 39,
     "metadata": {},
     "output_type": "execute_result"
    }
   ],
   "source": [
    "# train accurcy:\n",
    "np.sum(predTrain == Y_train)/len(Y_train)"
   ]
  },
  {
   "cell_type": "code",
   "execution_count": 40,
   "metadata": {},
   "outputs": [
    {
     "data": {
      "text/plain": [
       "array([[68, 30],\n",
       "       [31, 77]], dtype=int64)"
      ]
     },
     "execution_count": 40,
     "metadata": {},
     "output_type": "execute_result"
    }
   ],
   "source": [
    "confusion_matrix(Y_val, predVal)"
   ]
  },
  {
   "cell_type": "code",
   "execution_count": 41,
   "metadata": {},
   "outputs": [
    {
     "data": {
      "text/plain": [
       "0.7038834951456311"
      ]
     },
     "execution_count": 41,
     "metadata": {},
     "output_type": "execute_result"
    }
   ],
   "source": [
    "# test/ valod. accurcy:\n",
    "np.sum(predVal == Y_val)/len(Y_val)"
   ]
  },
  {
   "cell_type": "code",
   "execution_count": 42,
   "metadata": {},
   "outputs": [],
   "source": [
    "Y_test = df_test.label.values\n",
    "df_test.drop(\"label\", axis=1, inplace=True)"
   ]
  },
  {
   "cell_type": "code",
   "execution_count": 43,
   "metadata": {},
   "outputs": [],
   "source": [
    "dataset = df_test.values\n",
    "X_test = dataset[:,:].astype(float)"
   ]
  },
  {
   "cell_type": "code",
   "execution_count": 44,
   "metadata": {},
   "outputs": [],
   "source": [
    "predTest = np.round(model.predict(X_test), 0).astype('int64')"
   ]
  },
  {
   "cell_type": "code",
   "execution_count": 45,
   "metadata": {},
   "outputs": [],
   "source": [
    "predTest = predTest.reshape(-1)"
   ]
  },
  {
   "cell_type": "code",
   "execution_count": 46,
   "metadata": {},
   "outputs": [
    {
     "data": {
      "text/plain": [
       "array([[453, 266],\n",
       "       [ 42,  87]], dtype=int64)"
      ]
     },
     "execution_count": 46,
     "metadata": {},
     "output_type": "execute_result"
    }
   ],
   "source": [
    "confusion_matrix(Y_test, predTest)"
   ]
  },
  {
   "cell_type": "code",
   "execution_count": 47,
   "metadata": {},
   "outputs": [
    {
     "data": {
      "text/plain": [
       "0.6367924528301887"
      ]
     },
     "execution_count": 47,
     "metadata": {},
     "output_type": "execute_result"
    }
   ],
   "source": [
    "# test accurcy:\n",
    "np.sum(predTest == Y_test)/len(Y_test)"
   ]
  },
  {
   "cell_type": "code",
   "execution_count": 48,
   "metadata": {},
   "outputs": [
    {
     "data": {
      "text/plain": [
       "0.6744186046511628"
      ]
     },
     "execution_count": 48,
     "metadata": {},
     "output_type": "execute_result"
    }
   ],
   "source": [
    "# sensitivity\n",
    "87/(42+87)"
   ]
  },
  {
   "cell_type": "code",
   "execution_count": 49,
   "metadata": {},
   "outputs": [
    {
     "name": "stdout",
     "output_type": "stream",
     "text": [
      "Model: \"sequential_3\"\n",
      "_________________________________________________________________\n",
      "Layer (type)                 Output Shape              Param #   \n",
      "=================================================================\n",
      "dense_6 (Dense)              (None, 16)                304       \n",
      "_________________________________________________________________\n",
      "dense_7 (Dense)              (None, 1)                 17        \n",
      "=================================================================\n",
      "Total params: 321\n",
      "Trainable params: 321\n",
      "Non-trainable params: 0\n",
      "_________________________________________________________________\n"
     ]
    }
   ],
   "source": [
    "model = Sequential()\n",
    "model.add(Dense(16, input_dim=X_train.shape[1], kernel_initializer='normal', activation='relu'))\n",
    "model.add(Dense(1, kernel_initializer='normal', activation='sigmoid'))\n",
    "model.compile(loss='binary_crossentropy', optimizer='adam', metrics=['accuracy'])\n",
    "model.summary()"
   ]
  },
  {
   "cell_type": "code",
   "execution_count": 50,
   "metadata": {},
   "outputs": [
    {
     "name": "stdout",
     "output_type": "stream",
     "text": [
      "Epoch 1/30\n",
      "165/165 [==============================] - 0s 2ms/step - loss: 0.6763 - accuracy: 0.6117 - val_loss: 0.6477 - val_accuracy: 0.6748\n",
      "Epoch 2/30\n",
      "165/165 [==============================] - 0s 1ms/step - loss: 0.6339 - accuracy: 0.6687 - val_loss: 0.6188 - val_accuracy: 0.6796\n",
      "Epoch 3/30\n",
      "165/165 [==============================] - 0s 1ms/step - loss: 0.6066 - accuracy: 0.6869 - val_loss: 0.6067 - val_accuracy: 0.7039\n",
      "Epoch 4/30\n",
      "165/165 [==============================] - 0s 1ms/step - loss: 0.5927 - accuracy: 0.6893 - val_loss: 0.6052 - val_accuracy: 0.6990\n",
      "Epoch 5/30\n",
      "165/165 [==============================] - 0s 1ms/step - loss: 0.5873 - accuracy: 0.6893 - val_loss: 0.6085 - val_accuracy: 0.6942\n"
     ]
    }
   ],
   "source": [
    "#run time of training:\n",
    "import time\n",
    "start = time.time()\n",
    "fit = model.fit(X_train, Y_train, epochs=30, batch_size=5, verbose=1, validation_data=(X_val, Y_val),\n",
    "                callbacks=[early_stopping_monitor], shuffle=True)\n",
    "finish = time.time()"
   ]
  },
  {
   "cell_type": "code",
   "execution_count": 51,
   "metadata": {},
   "outputs": [
    {
     "data": {
      "text/plain": [
       "1.4923062324523926"
      ]
     },
     "execution_count": 51,
     "metadata": {},
     "output_type": "execute_result"
    }
   ],
   "source": [
    "finish-start"
   ]
  },
  {
   "cell_type": "code",
   "execution_count": 52,
   "metadata": {},
   "outputs": [],
   "source": [
    "start = time.time()\n",
    "predTest = np.round(model.predict(X_test), 0).astype('int64')\n",
    "finish = time.time()"
   ]
  },
  {
   "cell_type": "code",
   "execution_count": 53,
   "metadata": {},
   "outputs": [
    {
     "data": {
      "text/plain": [
       "0.06180834770202637"
      ]
     },
     "execution_count": 53,
     "metadata": {},
     "output_type": "execute_result"
    }
   ],
   "source": [
    "finish-start"
   ]
  },
  {
   "cell_type": "markdown",
   "metadata": {},
   "source": [
    "## Cleveland Data Base (CDB)"
   ]
  },
  {
   "cell_type": "code",
   "execution_count": 1,
   "metadata": {},
   "outputs": [],
   "source": [
    "import numpy as np\n",
    "import pandas as pd\n",
    "from keras.models import Sequential\n",
    "from keras.layers import Dense\n",
    "from keras.wrappers.scikit_learn import KerasClassifier\n",
    "from sklearn.model_selection import cross_val_score\n",
    "from sklearn.preprocessing import LabelEncoder\n",
    "from sklearn.model_selection import StratifiedKFold\n",
    "from sklearn.preprocessing import StandardScaler\n",
    "from sklearn.pipeline import Pipeline\n",
    "from keras.layers import Dropout\n",
    "from sklearn.metrics import confusion_matrix\n",
    "from sklearn.model_selection import train_test_split\n",
    "from matplotlib import pyplot as plt\n",
    "plt.style.use('seaborn-whitegrid')"
   ]
  },
  {
   "cell_type": "code",
   "execution_count": 2,
   "metadata": {},
   "outputs": [
    {
     "data": {
      "text/html": [
       "<div>\n",
       "<style scoped>\n",
       "    .dataframe tbody tr th:only-of-type {\n",
       "        vertical-align: middle;\n",
       "    }\n",
       "\n",
       "    .dataframe tbody tr th {\n",
       "        vertical-align: top;\n",
       "    }\n",
       "\n",
       "    .dataframe thead th {\n",
       "        text-align: right;\n",
       "    }\n",
       "</style>\n",
       "<table border=\"1\" class=\"dataframe\">\n",
       "  <thead>\n",
       "    <tr style=\"text-align: right;\">\n",
       "      <th></th>\n",
       "      <th>sex</th>\n",
       "      <th>cp</th>\n",
       "      <th>trestbps</th>\n",
       "      <th>chol</th>\n",
       "      <th>fbs</th>\n",
       "      <th>restecg</th>\n",
       "      <th>thalach</th>\n",
       "      <th>exang</th>\n",
       "      <th>oldpeak</th>\n",
       "      <th>slope</th>\n",
       "      <th>ca</th>\n",
       "      <th>thal</th>\n",
       "      <th>target</th>\n",
       "      <th>opz</th>\n",
       "      <th>age</th>\n",
       "    </tr>\n",
       "  </thead>\n",
       "  <tbody>\n",
       "    <tr>\n",
       "      <th>0</th>\n",
       "      <td>1</td>\n",
       "      <td>3</td>\n",
       "      <td>145</td>\n",
       "      <td>233</td>\n",
       "      <td>1</td>\n",
       "      <td>0</td>\n",
       "      <td>150</td>\n",
       "      <td>0</td>\n",
       "      <td>2.3</td>\n",
       "      <td>0</td>\n",
       "      <td>0</td>\n",
       "      <td>1</td>\n",
       "      <td>1</td>\n",
       "      <td>1</td>\n",
       "      <td>63</td>\n",
       "    </tr>\n",
       "    <tr>\n",
       "      <th>1</th>\n",
       "      <td>1</td>\n",
       "      <td>2</td>\n",
       "      <td>130</td>\n",
       "      <td>250</td>\n",
       "      <td>0</td>\n",
       "      <td>1</td>\n",
       "      <td>187</td>\n",
       "      <td>0</td>\n",
       "      <td>3.5</td>\n",
       "      <td>0</td>\n",
       "      <td>0</td>\n",
       "      <td>2</td>\n",
       "      <td>1</td>\n",
       "      <td>1</td>\n",
       "      <td>37</td>\n",
       "    </tr>\n",
       "    <tr>\n",
       "      <th>2</th>\n",
       "      <td>0</td>\n",
       "      <td>1</td>\n",
       "      <td>130</td>\n",
       "      <td>204</td>\n",
       "      <td>0</td>\n",
       "      <td>0</td>\n",
       "      <td>172</td>\n",
       "      <td>0</td>\n",
       "      <td>1.4</td>\n",
       "      <td>2</td>\n",
       "      <td>0</td>\n",
       "      <td>2</td>\n",
       "      <td>1</td>\n",
       "      <td>1</td>\n",
       "      <td>41</td>\n",
       "    </tr>\n",
       "    <tr>\n",
       "      <th>3</th>\n",
       "      <td>1</td>\n",
       "      <td>1</td>\n",
       "      <td>120</td>\n",
       "      <td>236</td>\n",
       "      <td>0</td>\n",
       "      <td>1</td>\n",
       "      <td>178</td>\n",
       "      <td>0</td>\n",
       "      <td>0.8</td>\n",
       "      <td>2</td>\n",
       "      <td>0</td>\n",
       "      <td>2</td>\n",
       "      <td>1</td>\n",
       "      <td>1</td>\n",
       "      <td>56</td>\n",
       "    </tr>\n",
       "    <tr>\n",
       "      <th>4</th>\n",
       "      <td>0</td>\n",
       "      <td>0</td>\n",
       "      <td>120</td>\n",
       "      <td>354</td>\n",
       "      <td>0</td>\n",
       "      <td>1</td>\n",
       "      <td>163</td>\n",
       "      <td>1</td>\n",
       "      <td>0.6</td>\n",
       "      <td>2</td>\n",
       "      <td>0</td>\n",
       "      <td>2</td>\n",
       "      <td>1</td>\n",
       "      <td>1</td>\n",
       "      <td>57</td>\n",
       "    </tr>\n",
       "  </tbody>\n",
       "</table>\n",
       "</div>"
      ],
      "text/plain": [
       "   sex  cp  trestbps  chol  fbs  restecg  thalach  exang  oldpeak  slope  ca  \\\n",
       "0    1   3       145   233    1        0      150      0      2.3      0   0   \n",
       "1    1   2       130   250    0        1      187      0      3.5      0   0   \n",
       "2    0   1       130   204    0        0      172      0      1.4      2   0   \n",
       "3    1   1       120   236    0        1      178      0      0.8      2   0   \n",
       "4    0   0       120   354    0        1      163      1      0.6      2   0   \n",
       "\n",
       "   thal  target  opz  age  \n",
       "0     1       1    1   63  \n",
       "1     2       1    1   37  \n",
       "2     2       1    1   41  \n",
       "3     2       1    1   56  \n",
       "4     2       1    1   57  "
      ]
     },
     "execution_count": 2,
     "metadata": {},
     "output_type": "execute_result"
    }
   ],
   "source": [
    "df = pd.read_csv(\"cardio.csv\", header=0)\n",
    "df.head()"
   ]
  },
  {
   "cell_type": "code",
   "execution_count": 4,
   "metadata": {},
   "outputs": [],
   "source": [
    "df['cp'] = df.cp.astype('category')\n",
    "df['ca'] = df.ca.astype('category')\n",
    "df['thal'] = df.thal.astype('category')\n",
    "df['slope'] = df.slope.astype('category')"
   ]
  },
  {
   "cell_type": "code",
   "execution_count": 5,
   "metadata": {},
   "outputs": [],
   "source": [
    "# borrowed from https://stackoverflow.com/questions/37292872/how-can-i-one-hot-encode-in-python\n",
    "def one_hot(df, cols):\n",
    "    for each in cols:\n",
    "        dummies = pd.get_dummies(df[each], prefix=each, drop_first=False)\n",
    "        df = pd.concat([df, dummies], axis=1)\n",
    "    return df"
   ]
  },
  {
   "cell_type": "code",
   "execution_count": 6,
   "metadata": {},
   "outputs": [
    {
     "name": "stdout",
     "output_type": "stream",
     "text": [
      "<class 'pandas.core.frame.DataFrame'>\n",
      "RangeIndex: 296 entries, 0 to 295\n",
      "Data columns (total 25 columns):\n",
      " #   Column    Non-Null Count  Dtype  \n",
      "---  ------    --------------  -----  \n",
      " 0   sex       296 non-null    int64  \n",
      " 1   trestbps  296 non-null    int64  \n",
      " 2   chol      296 non-null    int64  \n",
      " 3   fbs       296 non-null    int64  \n",
      " 4   restecg   296 non-null    int64  \n",
      " 5   thalach   296 non-null    int64  \n",
      " 6   exang     296 non-null    int64  \n",
      " 7   oldpeak   296 non-null    float64\n",
      " 8   target    296 non-null    int64  \n",
      " 9   opz       296 non-null    int64  \n",
      " 10  age       296 non-null    int64  \n",
      " 11  cp_0      296 non-null    uint8  \n",
      " 12  cp_1      296 non-null    uint8  \n",
      " 13  cp_2      296 non-null    uint8  \n",
      " 14  cp_3      296 non-null    uint8  \n",
      " 15  ca_0      296 non-null    uint8  \n",
      " 16  ca_1      296 non-null    uint8  \n",
      " 17  ca_2      296 non-null    uint8  \n",
      " 18  ca_3      296 non-null    uint8  \n",
      " 19  slope_0   296 non-null    uint8  \n",
      " 20  slope_1   296 non-null    uint8  \n",
      " 21  slope_2   296 non-null    uint8  \n",
      " 22  thal_1    296 non-null    uint8  \n",
      " 23  thal_2    296 non-null    uint8  \n",
      " 24  thal_3    296 non-null    uint8  \n",
      "dtypes: float64(1), int64(10), uint8(14)\n",
      "memory usage: 29.6 KB\n"
     ]
    }
   ],
   "source": [
    "df1 = one_hot(df, ['cp', 'ca', 'slope', 'thal'])\n",
    "df1.drop(['cp', 'ca', 'slope', 'thal'], axis=1, inplace=True)\n",
    "df1.info()"
   ]
  },
  {
   "cell_type": "code",
   "execution_count": 8,
   "metadata": {},
   "outputs": [],
   "source": [
    "Y = df1.target.values\n",
    "df1.drop(\"target\", axis=1, inplace=True)"
   ]
  },
  {
   "cell_type": "code",
   "execution_count": 9,
   "metadata": {},
   "outputs": [],
   "source": [
    "df_trainZ, df_test, y_trainZ, y_test = train_test_split(df1, Y, test_size=0.17, random_state=1, shuffle = True)\n",
    "df_train, df_val, y_train, y_val = train_test_split(df_trainZ, y_trainZ, test_size=0.2, random_state=1, shuffle = True)"
   ]
  },
  {
   "cell_type": "code",
   "execution_count": 11,
   "metadata": {},
   "outputs": [],
   "source": [
    "# normalize:\n",
    "df_train = (df_train-df_trainZ.mean())/df_trainZ.std()\n",
    "df_test = (df_test-df_trainZ.mean())/df_trainZ.std()\n",
    "df_val = (df_val-df_trainZ.mean())/df_trainZ.std()"
   ]
  },
  {
   "cell_type": "code",
   "execution_count": 12,
   "metadata": {},
   "outputs": [
    {
     "data": {
      "text/html": [
       "<div>\n",
       "<style scoped>\n",
       "    .dataframe tbody tr th:only-of-type {\n",
       "        vertical-align: middle;\n",
       "    }\n",
       "\n",
       "    .dataframe tbody tr th {\n",
       "        vertical-align: top;\n",
       "    }\n",
       "\n",
       "    .dataframe thead th {\n",
       "        text-align: right;\n",
       "    }\n",
       "</style>\n",
       "<table border=\"1\" class=\"dataframe\">\n",
       "  <thead>\n",
       "    <tr style=\"text-align: right;\">\n",
       "      <th></th>\n",
       "      <th>sex</th>\n",
       "      <th>trestbps</th>\n",
       "      <th>chol</th>\n",
       "      <th>fbs</th>\n",
       "      <th>restecg</th>\n",
       "      <th>thalach</th>\n",
       "      <th>exang</th>\n",
       "      <th>oldpeak</th>\n",
       "      <th>opz</th>\n",
       "      <th>age</th>\n",
       "      <th>...</th>\n",
       "      <th>ca_0</th>\n",
       "      <th>ca_1</th>\n",
       "      <th>ca_2</th>\n",
       "      <th>ca_3</th>\n",
       "      <th>slope_0</th>\n",
       "      <th>slope_1</th>\n",
       "      <th>slope_2</th>\n",
       "      <th>thal_1</th>\n",
       "      <th>thal_2</th>\n",
       "      <th>thal_3</th>\n",
       "    </tr>\n",
       "  </thead>\n",
       "  <tbody>\n",
       "    <tr>\n",
       "      <th>count</th>\n",
       "      <td>196.000000</td>\n",
       "      <td>196.000000</td>\n",
       "      <td>196.000000</td>\n",
       "      <td>196.000000</td>\n",
       "      <td>196.000000</td>\n",
       "      <td>196.000000</td>\n",
       "      <td>196.000000</td>\n",
       "      <td>196.000000</td>\n",
       "      <td>196.000000</td>\n",
       "      <td>196.000000</td>\n",
       "      <td>...</td>\n",
       "      <td>1.960000e+02</td>\n",
       "      <td>196.000000</td>\n",
       "      <td>196.000000</td>\n",
       "      <td>196.000000</td>\n",
       "      <td>196.000000</td>\n",
       "      <td>196.000000</td>\n",
       "      <td>196.000000</td>\n",
       "      <td>196.000000</td>\n",
       "      <td>196.000000</td>\n",
       "      <td>196.000000</td>\n",
       "    </tr>\n",
       "    <tr>\n",
       "      <th>mean</th>\n",
       "      <td>-0.017488</td>\n",
       "      <td>0.002713</td>\n",
       "      <td>0.034145</td>\n",
       "      <td>-0.002946</td>\n",
       "      <td>-0.017245</td>\n",
       "      <td>-0.038934</td>\n",
       "      <td>0.048259</td>\n",
       "      <td>-0.004912</td>\n",
       "      <td>-0.034858</td>\n",
       "      <td>0.058906</td>\n",
       "      <td>...</td>\n",
       "      <td>-3.851794e-17</td>\n",
       "      <td>-0.004946</td>\n",
       "      <td>-0.026015</td>\n",
       "      <td>0.042476</td>\n",
       "      <td>-0.018596</td>\n",
       "      <td>0.073645</td>\n",
       "      <td>-0.063289</td>\n",
       "      <td>0.021238</td>\n",
       "      <td>-0.030866</td>\n",
       "      <td>0.021123</td>\n",
       "    </tr>\n",
       "    <tr>\n",
       "      <th>std</th>\n",
       "      <td>1.007173</td>\n",
       "      <td>1.031999</td>\n",
       "      <td>1.064796</td>\n",
       "      <td>0.997418</td>\n",
       "      <td>0.997208</td>\n",
       "      <td>0.985562</td>\n",
       "      <td>1.018536</td>\n",
       "      <td>0.965498</td>\n",
       "      <td>0.986530</td>\n",
       "      <td>0.970241</td>\n",
       "      <td>...</td>\n",
       "      <td>1.000513e+00</td>\n",
       "      <td>0.997078</td>\n",
       "      <td>0.967150</td>\n",
       "      <td>1.074788</td>\n",
       "      <td>0.971429</td>\n",
       "      <td>1.004742</td>\n",
       "      <td>0.994067</td>\n",
       "      <td>1.038533</td>\n",
       "      <td>1.004493</td>\n",
       "      <td>1.006100</td>\n",
       "    </tr>\n",
       "    <tr>\n",
       "      <th>min</th>\n",
       "      <td>-1.460235</td>\n",
       "      <td>-2.121354</td>\n",
       "      <td>-2.242156</td>\n",
       "      <td>-0.400599</td>\n",
       "      <td>-0.965709</td>\n",
       "      <td>-3.438444</td>\n",
       "      <td>-0.675620</td>\n",
       "      <td>-0.898973</td>\n",
       "      <td>-0.688448</td>\n",
       "      <td>-2.758885</td>\n",
       "      <td>...</td>\n",
       "      <td>-1.253995e+00</td>\n",
       "      <td>-0.524323</td>\n",
       "      <td>-0.351209</td>\n",
       "      <td>-0.254855</td>\n",
       "      <td>-0.297533</td>\n",
       "      <td>-0.908283</td>\n",
       "      <td>-0.930955</td>\n",
       "      <td>-0.254855</td>\n",
       "      <td>-1.152342</td>\n",
       "      <td>-0.760444</td>\n",
       "    </tr>\n",
       "    <tr>\n",
       "      <th>25%</th>\n",
       "      <td>-1.460235</td>\n",
       "      <td>-0.650469</td>\n",
       "      <td>-0.713907</td>\n",
       "      <td>-0.400599</td>\n",
       "      <td>-0.965709</td>\n",
       "      <td>-0.784540</td>\n",
       "      <td>-0.675620</td>\n",
       "      <td>-0.898973</td>\n",
       "      <td>-0.688448</td>\n",
       "      <td>-0.685490</td>\n",
       "      <td>...</td>\n",
       "      <td>-1.253995e+00</td>\n",
       "      <td>-0.524323</td>\n",
       "      <td>-0.351209</td>\n",
       "      <td>-0.254855</td>\n",
       "      <td>-0.297533</td>\n",
       "      <td>-0.908283</td>\n",
       "      <td>-0.930955</td>\n",
       "      <td>-0.254855</td>\n",
       "      <td>-1.152342</td>\n",
       "      <td>-0.760444</td>\n",
       "    </tr>\n",
       "    <tr>\n",
       "      <th>50%</th>\n",
       "      <td>0.682026</td>\n",
       "      <td>-0.084743</td>\n",
       "      <td>-0.111020</td>\n",
       "      <td>-0.400599</td>\n",
       "      <td>-0.965709</td>\n",
       "      <td>0.085593</td>\n",
       "      <td>-0.675620</td>\n",
       "      <td>-0.223364</td>\n",
       "      <td>-0.688448</td>\n",
       "      <td>0.187519</td>\n",
       "      <td>...</td>\n",
       "      <td>7.941966e-01</td>\n",
       "      <td>-0.524323</td>\n",
       "      <td>-0.351209</td>\n",
       "      <td>-0.254855</td>\n",
       "      <td>-0.297533</td>\n",
       "      <td>-0.908283</td>\n",
       "      <td>-0.930955</td>\n",
       "      <td>-0.254855</td>\n",
       "      <td>0.864256</td>\n",
       "      <td>-0.760444</td>\n",
       "    </tr>\n",
       "    <tr>\n",
       "      <th>75%</th>\n",
       "      <td>0.682026</td>\n",
       "      <td>0.480982</td>\n",
       "      <td>0.585337</td>\n",
       "      <td>-0.400599</td>\n",
       "      <td>0.912059</td>\n",
       "      <td>0.651179</td>\n",
       "      <td>1.474080</td>\n",
       "      <td>0.452244</td>\n",
       "      <td>1.446613</td>\n",
       "      <td>0.733149</td>\n",
       "      <td>...</td>\n",
       "      <td>7.941966e-01</td>\n",
       "      <td>-0.524323</td>\n",
       "      <td>-0.351209</td>\n",
       "      <td>-0.254855</td>\n",
       "      <td>-0.297533</td>\n",
       "      <td>1.096485</td>\n",
       "      <td>1.069782</td>\n",
       "      <td>-0.254855</td>\n",
       "      <td>0.864256</td>\n",
       "      <td>1.309654</td>\n",
       "    </tr>\n",
       "    <tr>\n",
       "      <th>max</th>\n",
       "      <td>0.682026</td>\n",
       "      <td>3.422754</td>\n",
       "      <td>5.945891</td>\n",
       "      <td>2.486072</td>\n",
       "      <td>2.789826</td>\n",
       "      <td>2.260924</td>\n",
       "      <td>1.474080</td>\n",
       "      <td>3.830286</td>\n",
       "      <td>1.446613</td>\n",
       "      <td>2.479166</td>\n",
       "      <td>...</td>\n",
       "      <td>7.941966e-01</td>\n",
       "      <td>1.899435</td>\n",
       "      <td>2.835687</td>\n",
       "      <td>3.907780</td>\n",
       "      <td>3.347250</td>\n",
       "      <td>1.096485</td>\n",
       "      <td>1.069782</td>\n",
       "      <td>3.907780</td>\n",
       "      <td>0.864256</td>\n",
       "      <td>1.309654</td>\n",
       "    </tr>\n",
       "  </tbody>\n",
       "</table>\n",
       "<p>8 rows × 24 columns</p>\n",
       "</div>"
      ],
      "text/plain": [
       "              sex    trestbps        chol         fbs     restecg     thalach  \\\n",
       "count  196.000000  196.000000  196.000000  196.000000  196.000000  196.000000   \n",
       "mean    -0.017488    0.002713    0.034145   -0.002946   -0.017245   -0.038934   \n",
       "std      1.007173    1.031999    1.064796    0.997418    0.997208    0.985562   \n",
       "min     -1.460235   -2.121354   -2.242156   -0.400599   -0.965709   -3.438444   \n",
       "25%     -1.460235   -0.650469   -0.713907   -0.400599   -0.965709   -0.784540   \n",
       "50%      0.682026   -0.084743   -0.111020   -0.400599   -0.965709    0.085593   \n",
       "75%      0.682026    0.480982    0.585337   -0.400599    0.912059    0.651179   \n",
       "max      0.682026    3.422754    5.945891    2.486072    2.789826    2.260924   \n",
       "\n",
       "            exang     oldpeak         opz         age  ...          ca_0  \\\n",
       "count  196.000000  196.000000  196.000000  196.000000  ...  1.960000e+02   \n",
       "mean     0.048259   -0.004912   -0.034858    0.058906  ... -3.851794e-17   \n",
       "std      1.018536    0.965498    0.986530    0.970241  ...  1.000513e+00   \n",
       "min     -0.675620   -0.898973   -0.688448   -2.758885  ... -1.253995e+00   \n",
       "25%     -0.675620   -0.898973   -0.688448   -0.685490  ... -1.253995e+00   \n",
       "50%     -0.675620   -0.223364   -0.688448    0.187519  ...  7.941966e-01   \n",
       "75%      1.474080    0.452244    1.446613    0.733149  ...  7.941966e-01   \n",
       "max      1.474080    3.830286    1.446613    2.479166  ...  7.941966e-01   \n",
       "\n",
       "             ca_1        ca_2        ca_3     slope_0     slope_1     slope_2  \\\n",
       "count  196.000000  196.000000  196.000000  196.000000  196.000000  196.000000   \n",
       "mean    -0.004946   -0.026015    0.042476   -0.018596    0.073645   -0.063289   \n",
       "std      0.997078    0.967150    1.074788    0.971429    1.004742    0.994067   \n",
       "min     -0.524323   -0.351209   -0.254855   -0.297533   -0.908283   -0.930955   \n",
       "25%     -0.524323   -0.351209   -0.254855   -0.297533   -0.908283   -0.930955   \n",
       "50%     -0.524323   -0.351209   -0.254855   -0.297533   -0.908283   -0.930955   \n",
       "75%     -0.524323   -0.351209   -0.254855   -0.297533    1.096485    1.069782   \n",
       "max      1.899435    2.835687    3.907780    3.347250    1.096485    1.069782   \n",
       "\n",
       "           thal_1      thal_2      thal_3  \n",
       "count  196.000000  196.000000  196.000000  \n",
       "mean     0.021238   -0.030866    0.021123  \n",
       "std      1.038533    1.004493    1.006100  \n",
       "min     -0.254855   -1.152342   -0.760444  \n",
       "25%     -0.254855   -1.152342   -0.760444  \n",
       "50%     -0.254855    0.864256   -0.760444  \n",
       "75%     -0.254855    0.864256    1.309654  \n",
       "max      3.907780    0.864256    1.309654  \n",
       "\n",
       "[8 rows x 24 columns]"
      ]
     },
     "execution_count": 12,
     "metadata": {},
     "output_type": "execute_result"
    }
   ],
   "source": [
    "df_train.describe()"
   ]
  },
  {
   "cell_type": "code",
   "execution_count": 13,
   "metadata": {},
   "outputs": [],
   "source": [
    "X_train = df_train.values[:,:].astype(float)"
   ]
  },
  {
   "cell_type": "code",
   "execution_count": 14,
   "metadata": {},
   "outputs": [],
   "source": [
    "X_test = df_test.values[:,:].astype(float)\n",
    "X_val = df_val.values[:,:].astype(float)"
   ]
  },
  {
   "cell_type": "code",
   "execution_count": 15,
   "metadata": {},
   "outputs": [
    {
     "name": "stdout",
     "output_type": "stream",
     "text": [
      "Model: \"sequential\"\n",
      "_________________________________________________________________\n",
      "Layer (type)                 Output Shape              Param #   \n",
      "=================================================================\n",
      "dense (Dense)                (None, 16)                400       \n",
      "_________________________________________________________________\n",
      "dense_1 (Dense)              (None, 1)                 17        \n",
      "=================================================================\n",
      "Total params: 417\n",
      "Trainable params: 417\n",
      "Non-trainable params: 0\n",
      "_________________________________________________________________\n"
     ]
    }
   ],
   "source": [
    "model = Sequential()\n",
    "model.add(Dense(16, input_dim=X_train.shape[1], kernel_initializer='normal', activation='relu'))\n",
    "model.add(Dense(1, kernel_initializer='normal', activation='sigmoid'))\n",
    "model.compile(loss='binary_crossentropy', optimizer='adam', metrics=['accuracy'])\n",
    "model.summary()"
   ]
  },
  {
   "cell_type": "code",
   "execution_count": 17,
   "metadata": {},
   "outputs": [
    {
     "name": "stdout",
     "output_type": "stream",
     "text": [
      "Epoch 1/30\n",
      "40/40 [==============================] - 0s 7ms/step - loss: 0.6681 - accuracy: 0.7602 - val_loss: 0.6559 - val_accuracy: 0.7551\n",
      "Epoch 2/30\n",
      "40/40 [==============================] - 0s 3ms/step - loss: 0.6218 - accuracy: 0.8316 - val_loss: 0.5999 - val_accuracy: 0.7959\n",
      "Epoch 3/30\n",
      "40/40 [==============================] - 0s 3ms/step - loss: 0.5470 - accuracy: 0.8469 - val_loss: 0.5190 - val_accuracy: 0.7959\n",
      "Epoch 4/30\n",
      "40/40 [==============================] - 0s 3ms/step - loss: 0.4639 - accuracy: 0.8622 - val_loss: 0.4491 - val_accuracy: 0.7959\n",
      "Epoch 5/30\n",
      "40/40 [==============================] - 0s 3ms/step - loss: 0.4029 - accuracy: 0.8571 - val_loss: 0.4115 - val_accuracy: 0.7959\n",
      "Epoch 6/30\n",
      "40/40 [==============================] - 0s 3ms/step - loss: 0.3646 - accuracy: 0.8622 - val_loss: 0.3900 - val_accuracy: 0.8163\n",
      "Epoch 7/30\n",
      "40/40 [==============================] - 0s 3ms/step - loss: 0.3413 - accuracy: 0.8724 - val_loss: 0.3825 - val_accuracy: 0.8163\n",
      "Epoch 8/30\n",
      "40/40 [==============================] - 0s 3ms/step - loss: 0.3248 - accuracy: 0.8776 - val_loss: 0.3778 - val_accuracy: 0.8367\n",
      "Epoch 9/30\n",
      "40/40 [==============================] - 0s 3ms/step - loss: 0.3118 - accuracy: 0.8827 - val_loss: 0.3795 - val_accuracy: 0.8367\n",
      "Epoch 10/30\n",
      "40/40 [==============================] - 0s 4ms/step - loss: 0.3032 - accuracy: 0.8878 - val_loss: 0.3806 - val_accuracy: 0.8367\n",
      "Epoch 11/30\n",
      "40/40 [==============================] - 0s 3ms/step - loss: 0.2942 - accuracy: 0.8929 - val_loss: 0.3900 - val_accuracy: 0.8163\n",
      "Epoch 12/30\n",
      "40/40 [==============================] - 0s 4ms/step - loss: 0.2870 - accuracy: 0.8980 - val_loss: 0.3973 - val_accuracy: 0.8367\n",
      "Epoch 13/30\n",
      "40/40 [==============================] - 0s 3ms/step - loss: 0.2822 - accuracy: 0.8929 - val_loss: 0.3979 - val_accuracy: 0.8163\n",
      "Epoch 14/30\n",
      "40/40 [==============================] - 0s 3ms/step - loss: 0.2756 - accuracy: 0.9082 - val_loss: 0.4176 - val_accuracy: 0.8163\n",
      "Epoch 15/30\n",
      "40/40 [==============================] - 0s 3ms/step - loss: 0.2721 - accuracy: 0.9184 - val_loss: 0.4168 - val_accuracy: 0.8163\n",
      "Epoch 16/30\n",
      "40/40 [==============================] - 0s 2ms/step - loss: 0.2652 - accuracy: 0.9184 - val_loss: 0.4276 - val_accuracy: 0.8163\n",
      "Epoch 17/30\n",
      "40/40 [==============================] - 0s 2ms/step - loss: 0.2609 - accuracy: 0.9082 - val_loss: 0.4361 - val_accuracy: 0.8163\n",
      "Epoch 18/30\n",
      "40/40 [==============================] - 0s 2ms/step - loss: 0.2564 - accuracy: 0.9133 - val_loss: 0.4427 - val_accuracy: 0.8163\n",
      "Epoch 19/30\n",
      "40/40 [==============================] - 0s 2ms/step - loss: 0.2518 - accuracy: 0.9337 - val_loss: 0.4455 - val_accuracy: 0.8163\n",
      "Epoch 20/30\n",
      "40/40 [==============================] - 0s 2ms/step - loss: 0.2477 - accuracy: 0.9286 - val_loss: 0.4563 - val_accuracy: 0.8163\n",
      "Epoch 21/30\n",
      "40/40 [==============================] - 0s 2ms/step - loss: 0.2447 - accuracy: 0.9337 - val_loss: 0.4689 - val_accuracy: 0.8163\n",
      "Epoch 22/30\n",
      "40/40 [==============================] - 0s 2ms/step - loss: 0.2434 - accuracy: 0.9337 - val_loss: 0.4722 - val_accuracy: 0.8163\n",
      "Epoch 23/30\n",
      "40/40 [==============================] - 0s 2ms/step - loss: 0.2376 - accuracy: 0.9388 - val_loss: 0.4837 - val_accuracy: 0.8163\n",
      "Epoch 24/30\n",
      "40/40 [==============================] - 0s 2ms/step - loss: 0.2355 - accuracy: 0.9337 - val_loss: 0.4938 - val_accuracy: 0.8163\n",
      "Epoch 25/30\n",
      "40/40 [==============================] - 0s 2ms/step - loss: 0.2317 - accuracy: 0.9388 - val_loss: 0.5006 - val_accuracy: 0.8163\n",
      "Epoch 26/30\n",
      "40/40 [==============================] - 0s 2ms/step - loss: 0.2288 - accuracy: 0.9388 - val_loss: 0.5101 - val_accuracy: 0.8163\n",
      "Epoch 27/30\n",
      "40/40 [==============================] - 0s 2ms/step - loss: 0.2265 - accuracy: 0.9337 - val_loss: 0.5222 - val_accuracy: 0.8163\n",
      "Epoch 28/30\n",
      "40/40 [==============================] - 0s 2ms/step - loss: 0.2230 - accuracy: 0.9439 - val_loss: 0.5261 - val_accuracy: 0.8163\n",
      "Epoch 29/30\n",
      "40/40 [==============================] - 0s 2ms/step - loss: 0.2200 - accuracy: 0.9439 - val_loss: 0.5342 - val_accuracy: 0.8163\n",
      "Epoch 30/30\n",
      "40/40 [==============================] - 0s 1ms/step - loss: 0.2179 - accuracy: 0.9490 - val_loss: 0.5415 - val_accuracy: 0.8163\n"
     ]
    }
   ],
   "source": [
    "fit = model.fit(X_train, y_train, epochs=30, batch_size=5, verbose=1, validation_data=(X_val, y_val), shuffle=True)"
   ]
  },
  {
   "cell_type": "code",
   "execution_count": 18,
   "metadata": {},
   "outputs": [
    {
     "data": {
      "image/png": "[encoded data removed]",
      "text/plain": [
       "<Figure size 576x360 with 1 Axes>"
      ]
     },
     "metadata": {},
     "output_type": "display_data"
    }
   ],
   "source": [
    "# borrowed from https://stackoverflow.com/questions/48285129/saving-best-model-in-keras/48286003\n",
    "pd.DataFrame(fit.history).plot(figsize=(8,5))\n",
    "plt.show()"
   ]
  },
  {
   "cell_type": "code",
   "execution_count": 19,
   "metadata": {},
   "outputs": [],
   "source": [
    "from keras.callbacks import EarlyStopping\n",
    "# borrowed from: https://stackoverflow.com/questions/48285129/saving-best-model-in-keras/48286003\n",
    "early_stopping_monitor = EarlyStopping(\n",
    "    monitor='val_loss',\n",
    "    min_delta=0,\n",
    "    patience=0,\n",
    "    verbose=0,\n",
    "    mode='auto',\n",
    "    baseline=None,\n",
    "    restore_best_weights=True\n",
    ")"
   ]
  },
  {
   "cell_type": "code",
   "execution_count": 20,
   "metadata": {},
   "outputs": [
    {
     "name": "stdout",
     "output_type": "stream",
     "text": [
      "Model: \"sequential_1\"\n",
      "_________________________________________________________________\n",
      "Layer (type)                 Output Shape              Param #   \n",
      "=================================================================\n",
      "dense_2 (Dense)              (None, 16)                400       \n",
      "_________________________________________________________________\n",
      "dense_3 (Dense)              (None, 1)                 17        \n",
      "=================================================================\n",
      "Total params: 417\n",
      "Trainable params: 417\n",
      "Non-trainable params: 0\n",
      "_________________________________________________________________\n"
     ]
    }
   ],
   "source": [
    "model = Sequential()\n",
    "model.add(Dense(16, input_dim=X_train.shape[1], kernel_initializer='normal', activation='relu'))\n",
    "model.add(Dense(1, kernel_initializer='normal', activation='sigmoid'))\n",
    "model.compile(loss='binary_crossentropy', optimizer='adam', metrics=['accuracy'])\n",
    "model.summary()"
   ]
  },
  {
   "cell_type": "code",
   "execution_count": 31,
   "metadata": {},
   "outputs": [
    {
     "name": "stdout",
     "output_type": "stream",
     "text": [
      "Epoch 1/30\n",
      "40/40 [==============================] - 0s 2ms/step - loss: 0.3033 - accuracy: 0.8878 - val_loss: 0.3723 - val_accuracy: 0.8367\n",
      "Epoch 2/30\n",
      "40/40 [==============================] - 0s 2ms/step - loss: 0.2966 - accuracy: 0.8878 - val_loss: 0.3736 - val_accuracy: 0.8367\n"
     ]
    }
   ],
   "source": [
    "#run time of training:\n",
    "import time\n",
    "start = time.time()\n",
    "fit = model.fit(X_train, y_train, epochs=30, batch_size=5, validation_data=(X_val, y_val),\n",
    "                callbacks=[early_stopping_monitor], verbose=1, shuffle=True)\n",
    "finish = time.time()"
   ]
  },
  {
   "cell_type": "code",
   "execution_count": 32,
   "metadata": {},
   "outputs": [
    {
     "data": {
      "text/plain": [
       "0.1854839324951172"
      ]
     },
     "execution_count": 32,
     "metadata": {},
     "output_type": "execute_result"
    }
   ],
   "source": [
    "finish-start"
   ]
  },
  {
   "cell_type": "code",
   "execution_count": 34,
   "metadata": {},
   "outputs": [],
   "source": [
    "predTrain = np.round(model.predict(X_train), 0).astype('int64')\n",
    "predVal = np.round(model.predict(X_val), 0).astype('int64')"
   ]
  },
  {
   "cell_type": "code",
   "execution_count": 33,
   "metadata": {},
   "outputs": [
    {
     "data": {
      "text/plain": [
       "0.026927947998046875"
      ]
     },
     "execution_count": 33,
     "metadata": {},
     "output_type": "execute_result"
    }
   ],
   "source": [
    "start = time.time()\n",
    "predTest = np.round(model.predict(X_test), 0).astype('int64')\n",
    "finish = time.time()\n",
    "finish-start"
   ]
  },
  {
   "cell_type": "code",
   "execution_count": 35,
   "metadata": {},
   "outputs": [],
   "source": [
    "predTrain = predTrain.reshape(-1)\n",
    "predVal = predVal.reshape(-1)\n",
    "predTest = predTest.reshape(-1)"
   ]
  },
  {
   "cell_type": "code",
   "execution_count": 36,
   "metadata": {},
   "outputs": [
    {
     "data": {
      "text/plain": [
       "0.8877551020408163"
      ]
     },
     "execution_count": 36,
     "metadata": {},
     "output_type": "execute_result"
    }
   ],
   "source": [
    "# train accurcy:\n",
    "np.sum(predTrain == y_train)/len(y_train)"
   ]
  },
  {
   "cell_type": "code",
   "execution_count": 37,
   "metadata": {},
   "outputs": [
    {
     "data": {
      "text/plain": [
       "0.8367346938775511"
      ]
     },
     "execution_count": 37,
     "metadata": {},
     "output_type": "execute_result"
    }
   ],
   "source": [
    "# valid. accurcy:\n",
    "np.sum(predVal == y_val)/len(y_val)"
   ]
  },
  {
   "cell_type": "code",
   "execution_count": 38,
   "metadata": {},
   "outputs": [
    {
     "data": {
      "text/plain": [
       "0.8235294117647058"
      ]
     },
     "execution_count": 38,
     "metadata": {},
     "output_type": "execute_result"
    }
   ],
   "source": [
    "# test accurcy:\n",
    "np.sum(predTest == y_test)/len(y_test)"
   ]
  },
  {
   "cell_type": "code",
   "execution_count": 39,
   "metadata": {},
   "outputs": [
    {
     "data": {
      "text/plain": [
       "array([[81, 13],\n",
       "       [ 9, 93]], dtype=int64)"
      ]
     },
     "execution_count": 39,
     "metadata": {},
     "output_type": "execute_result"
    }
   ],
   "source": [
    "confusion_matrix(y_train, predTrain)"
   ]
  },
  {
   "cell_type": "code",
   "execution_count": 40,
   "metadata": {},
   "outputs": [
    {
     "data": {
      "text/plain": [
       "array([[11,  3],\n",
       "       [ 5, 30]], dtype=int64)"
      ]
     },
     "execution_count": 40,
     "metadata": {},
     "output_type": "execute_result"
    }
   ],
   "source": [
    "confusion_matrix(y_val, predVal)"
   ]
  },
  {
   "cell_type": "code",
   "execution_count": 41,
   "metadata": {},
   "outputs": [
    {
     "data": {
      "text/plain": [
       "array([[24,  4],\n",
       "       [ 5, 18]], dtype=int64)"
      ]
     },
     "execution_count": 41,
     "metadata": {},
     "output_type": "execute_result"
    }
   ],
   "source": [
    "confusion_matrix(y_test, predTest)"
   ]
  },
  {
   "cell_type": "markdown",
   "metadata": {},
   "source": [
    "## Influence of training set size\n",
    "\n",
    "#### CDB"
   ]
  },
  {
   "cell_type": "code",
   "execution_count": 42,
   "metadata": {},
   "outputs": [],
   "source": [
    "df = pd.read_csv(\"cardio.csv\", header=0)\n",
    "df['cp'] = df.cp.astype('category')\n",
    "df['ca'] = df.ca.astype('category')\n",
    "df['thal'] = df.thal.astype('category')\n",
    "df['slope'] = df.slope.astype('category')\n",
    "df1 = one_hot(df, ['cp', 'ca', 'slope', 'thal'])\n",
    "df1.drop(['cp', 'ca', 'slope', 'thal'], axis=1, inplace=True)\n",
    "Y = df1.target.values\n",
    "df1.drop(\"target\", axis=1, inplace=True)\n",
    "df_trainZ, df_test, y_trainZ, y_test = train_test_split(df1, Y, test_size=0.17, random_state=1, shuffle = True)"
   ]
  },
  {
   "cell_type": "code",
   "execution_count": 43,
   "metadata": {},
   "outputs": [],
   "source": [
    "df_test = (df_test-df_trainZ.mean())/df_trainZ.std()\n",
    "df_trainZ = (df_trainZ-df_trainZ.mean())/df_trainZ.std()\n",
    "XZ_train = df_trainZ.values[:,:].astype(float)\n",
    "X_test = df_test.values[:,:].astype(float)"
   ]
  },
  {
   "cell_type": "code",
   "execution_count": 44,
   "metadata": {},
   "outputs": [],
   "source": [
    "df_train20, _, y_train20, _ = train_test_split(XZ_train, y_trainZ, test_size=0.8, random_state=1, shuffle = True)\n",
    "df_train40, _, y_train40, _ = train_test_split(XZ_train, y_trainZ, test_size=0.6, random_state=1, shuffle = True)\n",
    "df_train60, _, y_train60, _ = train_test_split(XZ_train, y_trainZ, test_size=0.4, random_state=1, shuffle = True)\n",
    "df_train80, _, y_train80, _ = train_test_split(XZ_train, y_trainZ, test_size=0.2, random_state=1, shuffle = True)"
   ]
  },
  {
   "cell_type": "code",
   "execution_count": 45,
   "metadata": {},
   "outputs": [
    {
     "name": "stdout",
     "output_type": "stream",
     "text": [
      "Epoch 1/30\n",
      "49/49 [==============================] - 0s 3ms/step - loss: 0.6869 - accuracy: 0.6082 - val_loss: 0.6672 - val_accuracy: 0.7843\n",
      "Epoch 2/30\n",
      "49/49 [==============================] - 0s 2ms/step - loss: 0.6314 - accuracy: 0.8163 - val_loss: 0.5775 - val_accuracy: 0.8627\n",
      "Epoch 3/30\n",
      "49/49 [==============================] - 0s 2ms/step - loss: 0.5329 - accuracy: 0.8449 - val_loss: 0.4552 - val_accuracy: 0.8627\n",
      "Epoch 4/30\n",
      "49/49 [==============================] - 0s 2ms/step - loss: 0.4397 - accuracy: 0.8408 - val_loss: 0.3829 - val_accuracy: 0.8431\n",
      "Epoch 5/30\n",
      "49/49 [==============================] - 0s 2ms/step - loss: 0.3862 - accuracy: 0.8449 - val_loss: 0.3448 - val_accuracy: 0.8235\n",
      "Epoch 6/30\n",
      "49/49 [==============================] - 0s 2ms/step - loss: 0.3554 - accuracy: 0.8571 - val_loss: 0.3318 - val_accuracy: 0.8235\n",
      "Epoch 7/30\n",
      "49/49 [==============================] - 0s 2ms/step - loss: 0.3384 - accuracy: 0.8612 - val_loss: 0.3250 - val_accuracy: 0.8235\n",
      "Epoch 8/30\n",
      "49/49 [==============================] - 0s 2ms/step - loss: 0.3264 - accuracy: 0.8694 - val_loss: 0.3221 - val_accuracy: 0.8235\n",
      "Epoch 9/30\n",
      "49/49 [==============================] - 0s 1ms/step - loss: 0.3182 - accuracy: 0.8694 - val_loss: 0.3200 - val_accuracy: 0.8235\n",
      "Epoch 10/30\n",
      "49/49 [==============================] - 0s 2ms/step - loss: 0.3100 - accuracy: 0.8735 - val_loss: 0.3189 - val_accuracy: 0.8235\n",
      "Epoch 11/30\n",
      "49/49 [==============================] - 0s 1ms/step - loss: 0.3030 - accuracy: 0.8776 - val_loss: 0.3185 - val_accuracy: 0.8235\n",
      "Epoch 12/30\n",
      "49/49 [==============================] - 0s 1ms/step - loss: 0.2985 - accuracy: 0.8776 - val_loss: 0.3205 - val_accuracy: 0.8039\n",
      "Epoch 13/30\n",
      "49/49 [==============================] - 0s 1ms/step - loss: 0.2921 - accuracy: 0.8776 - val_loss: 0.3193 - val_accuracy: 0.8039\n",
      "Epoch 14/30\n",
      "49/49 [==============================] - 0s 2ms/step - loss: 0.2876 - accuracy: 0.8776 - val_loss: 0.3233 - val_accuracy: 0.8235\n",
      "Epoch 15/30\n",
      "49/49 [==============================] - 0s 2ms/step - loss: 0.2837 - accuracy: 0.8857 - val_loss: 0.3213 - val_accuracy: 0.8235\n",
      "Epoch 16/30\n",
      "49/49 [==============================] - 0s 2ms/step - loss: 0.2799 - accuracy: 0.8898 - val_loss: 0.3218 - val_accuracy: 0.8235\n",
      "Epoch 17/30\n",
      "49/49 [==============================] - 0s 2ms/step - loss: 0.2764 - accuracy: 0.8898 - val_loss: 0.3216 - val_accuracy: 0.8235\n",
      "Epoch 18/30\n",
      "49/49 [==============================] - 0s 1ms/step - loss: 0.2733 - accuracy: 0.8898 - val_loss: 0.3212 - val_accuracy: 0.8431\n",
      "Epoch 19/30\n",
      "49/49 [==============================] - 0s 2ms/step - loss: 0.2687 - accuracy: 0.9061 - val_loss: 0.3232 - val_accuracy: 0.8431\n",
      "Epoch 20/30\n",
      "49/49 [==============================] - 0s 2ms/step - loss: 0.2663 - accuracy: 0.8980 - val_loss: 0.3180 - val_accuracy: 0.8431\n",
      "Epoch 21/30\n",
      "49/49 [==============================] - 0s 2ms/step - loss: 0.2632 - accuracy: 0.9061 - val_loss: 0.3209 - val_accuracy: 0.8431\n",
      "Epoch 22/30\n",
      "49/49 [==============================] - 0s 2ms/step - loss: 0.2609 - accuracy: 0.9102 - val_loss: 0.3185 - val_accuracy: 0.8431\n",
      "Epoch 23/30\n",
      "49/49 [==============================] - 0s 2ms/step - loss: 0.2579 - accuracy: 0.9102 - val_loss: 0.3208 - val_accuracy: 0.8431\n",
      "Epoch 24/30\n",
      "49/49 [==============================] - 0s 2ms/step - loss: 0.2540 - accuracy: 0.9102 - val_loss: 0.3209 - val_accuracy: 0.8627\n",
      "Epoch 25/30\n",
      "49/49 [==============================] - 0s 2ms/step - loss: 0.2520 - accuracy: 0.9143 - val_loss: 0.3188 - val_accuracy: 0.8627\n",
      "Epoch 26/30\n",
      "49/49 [==============================] - 0s 2ms/step - loss: 0.2496 - accuracy: 0.9143 - val_loss: 0.3200 - val_accuracy: 0.8627\n",
      "Epoch 27/30\n",
      "49/49 [==============================] - 0s 2ms/step - loss: 0.2473 - accuracy: 0.9143 - val_loss: 0.3215 - val_accuracy: 0.8627\n",
      "Epoch 28/30\n",
      "49/49 [==============================] - 0s 2ms/step - loss: 0.2444 - accuracy: 0.9143 - val_loss: 0.3206 - val_accuracy: 0.8627\n",
      "Epoch 29/30\n",
      "49/49 [==============================] - 0s 2ms/step - loss: 0.2415 - accuracy: 0.9143 - val_loss: 0.3233 - val_accuracy: 0.8627\n",
      "Epoch 30/30\n",
      "49/49 [==============================] - 0s 2ms/step - loss: 0.2394 - accuracy: 0.9143 - val_loss: 0.3220 - val_accuracy: 0.8627\n"
     ]
    }
   ],
   "source": [
    "model = Sequential()\n",
    "model.add(Dense(16, input_dim=XZ_train.shape[1], kernel_initializer='normal', activation='relu'))\n",
    "model.add(Dense(1, kernel_initializer='normal', activation='sigmoid'))\n",
    "model.compile(loss='binary_crossentropy', optimizer='adam', metrics=['accuracy'])\n",
    "fitZ = model.fit(XZ_train, y_trainZ, epochs=30, batch_size=5, verbose=1, validation_data=(X_test, y_test))"
   ]
  },
  {
   "cell_type": "code",
   "execution_count": 46,
   "metadata": {},
   "outputs": [],
   "source": [
    "model = Sequential()\n",
    "model.add(Dense(16, input_dim=XZ_train.shape[1], kernel_initializer='normal', activation='relu'))\n",
    "model.add(Dense(1, kernel_initializer='normal', activation='sigmoid'))\n",
    "model.compile(loss='binary_crossentropy', optimizer='adam', metrics=['accuracy'])\n",
    "fit20 = model.fit(df_train20, y_train20, epochs=30, batch_size=5, verbose=0, validation_data=(X_test, y_test))"
   ]
  },
  {
   "cell_type": "code",
   "execution_count": 47,
   "metadata": {},
   "outputs": [],
   "source": [
    "model = Sequential()\n",
    "model.add(Dense(16, input_dim=XZ_train.shape[1], kernel_initializer='normal', activation='relu'))\n",
    "model.add(Dense(1, kernel_initializer='normal', activation='sigmoid'))\n",
    "model.compile(loss='binary_crossentropy', optimizer='adam', metrics=['accuracy'])\n",
    "fit40 = model.fit(df_train40, y_train40, epochs=30, batch_size=5, verbose=0, validation_data=(X_test, y_test))"
   ]
  },
  {
   "cell_type": "code",
   "execution_count": 48,
   "metadata": {},
   "outputs": [],
   "source": [
    "model = Sequential()\n",
    "model.add(Dense(16, input_dim=XZ_train.shape[1], kernel_initializer='normal', activation='relu'))\n",
    "model.add(Dense(1, kernel_initializer='normal', activation='sigmoid'))\n",
    "model.compile(loss='binary_crossentropy', optimizer='adam', metrics=['accuracy'])\n",
    "fit60 = model.fit(df_train60, y_train60, epochs=30, batch_size=5, verbose=0, validation_data=(X_test, y_test))"
   ]
  },
  {
   "cell_type": "code",
   "execution_count": 49,
   "metadata": {},
   "outputs": [],
   "source": [
    "model = Sequential()\n",
    "model.add(Dense(16, input_dim=XZ_train.shape[1], kernel_initializer='normal', activation='relu'))\n",
    "model.add(Dense(1, kernel_initializer='normal', activation='sigmoid'))\n",
    "model.compile(loss='binary_crossentropy', optimizer='adam', metrics=['accuracy'])\n",
    "fit80 = model.fit(df_train80, y_train80, epochs=30, batch_size=5, verbose=0, validation_data=(X_test, y_test))"
   ]
  },
  {
   "cell_type": "code",
   "execution_count": 50,
   "metadata": {},
   "outputs": [
    {
     "data": {
      "image/png": "[encoded data removed]",
      "text/plain": [
       "<Figure size 432x288 with 1 Axes>"
      ]
     },
     "metadata": {},
     "output_type": "display_data"
    }
   ],
   "source": [
    "plt.plot(fitZ.history['accuracy'], label=\"train set\")\n",
    "plt.plot(fit20.history['accuracy'], label=\"20% train\")\n",
    "plt.plot(fit40.history['accuracy'], label=\"40% train\")\n",
    "plt.plot(fit60.history['accuracy'], label=\"60% train\")\n",
    "plt.plot(fit80.history['accuracy'], label=\"80% train\")\n",
    "plt.title('Train accuracy')\n",
    "plt.ylabel('accuracy')\n",
    "plt.xlabel('epochs')\n",
    "plt.legend(loc='lower right')\n",
    "plt.show()"
   ]
  },
  {
   "cell_type": "code",
   "execution_count": 51,
   "metadata": {},
   "outputs": [
    {
     "data": {
      "image/png": "[encoded data removed]",
      "text/plain": [
       "<Figure size 432x288 with 1 Axes>"
      ]
     },
     "metadata": {},
     "output_type": "display_data"
    }
   ],
   "source": [
    "plt.plot(fitZ.history['val_accuracy'],  label=\"train set\")\n",
    "plt.plot(fit20.history['val_accuracy'],  label=\"20% train\")\n",
    "plt.plot(fit40.history['val_accuracy'],  label=\"40% train\")\n",
    "plt.plot(fit60.history['val_accuracy'],  label=\"60% train\")\n",
    "plt.plot(fit80.history['val_accuracy'],  label=\"80% train\")\n",
    "plt.title('Test accuracy')\n",
    "plt.ylabel('accuracy')\n",
    "plt.xlabel('epochs')\n",
    "plt.legend(loc='lower right')\n",
    "plt.show()"
   ]
  },
  {
   "cell_type": "markdown",
   "metadata": {},
   "source": [
    "As for me, the loss dependence on the training set size is more revealing:"
   ]
  },
  {
   "cell_type": "code",
   "execution_count": 52,
   "metadata": {},
   "outputs": [
    {
     "data": {
      "image/png": "[encoded data removed]",
      "text/plain": [
       "<Figure size 432x288 with 1 Axes>"
      ]
     },
     "metadata": {},
     "output_type": "display_data"
    }
   ],
   "source": [
    "plt.plot(fitZ.history['val_loss'], label=\"full train set\")\n",
    "plt.plot(fit20.history['val_loss'], label=\"20% of train\")\n",
    "plt.plot(fit40.history['val_loss'], label=\"40% of train\")\n",
    "plt.plot(fit60.history['val_loss'], label=\"60% of train\")\n",
    "plt.plot(fit80.history['val_loss'], label=\"80% of train\")\n",
    "plt.title('Test loss')\n",
    "plt.ylabel('loss')\n",
    "plt.xlabel('epochs')\n",
    "plt.legend(loc='upper right')\n",
    "plt.show()"
   ]
  },
  {
   "cell_type": "markdown",
   "metadata": {},
   "source": [
    "#### FHS"
   ]
  },
  {
   "cell_type": "markdown",
   "metadata": {},
   "source": [
    "But before let's train the NN with a different l.r. than Adam's default l.r.=0.001"
   ]
  },
  {
   "cell_type": "markdown",
   "metadata": {},
   "source": [
    "We were specidically asked to use a different learning rate. Adam optimizer uses default l.r. = 0.001. Let's change it to 0.1."
   ]
  },
  {
   "cell_type": "code",
   "execution_count": 1,
   "metadata": {},
   "outputs": [],
   "source": [
    "import numpy as np\n",
    "import pandas as pd\n",
    "from keras.models import Sequential\n",
    "from keras.layers import Dense\n",
    "from keras.wrappers.scikit_learn import KerasClassifier\n",
    "from sklearn.model_selection import cross_val_score\n",
    "from sklearn.preprocessing import LabelEncoder\n",
    "from sklearn.model_selection import StratifiedKFold\n",
    "from sklearn.preprocessing import StandardScaler\n",
    "from sklearn.pipeline import Pipeline\n",
    "from keras.layers import Dropout\n",
    "from sklearn.metrics import confusion_matrix\n",
    "from sklearn.model_selection import train_test_split\n",
    "from matplotlib import pyplot as plt\n",
    "plt.style.use('seaborn-whitegrid')"
   ]
  },
  {
   "cell_type": "code",
   "execution_count": 2,
   "metadata": {},
   "outputs": [],
   "source": [
    "df_train = pd.read_csv(\"FHStrainPCANorm.csv\", header=0)\n",
    "df_test = pd.read_csv(\"FHStestPCANorm.csv\", header=0)"
   ]
  },
  {
   "cell_type": "code",
   "execution_count": 3,
   "metadata": {},
   "outputs": [],
   "source": [
    "Y = df_train.label.values\n",
    "df_train.drop(\"label\", axis=1, inplace=True)"
   ]
  },
  {
   "cell_type": "code",
   "execution_count": 4,
   "metadata": {},
   "outputs": [],
   "source": [
    "dataset = df_train.values\n",
    "X = dataset[:,:].astype(float)"
   ]
  },
  {
   "cell_type": "code",
   "execution_count": 5,
   "metadata": {},
   "outputs": [
    {
     "name": "stdout",
     "output_type": "stream",
     "text": [
      "(1030, 18) (824, 18) (206, 18)\n",
      "(1030,) (824,) (206,)\n"
     ]
    }
   ],
   "source": [
    "X_train, X_val, Y_train, Y_val = train_test_split(X, Y, test_size=0.2, random_state=1)\n",
    "print (X.shape, X_train.shape, X_val.shape)\n",
    "print (Y.shape, Y_train.shape, Y_val.shape)"
   ]
  },
  {
   "cell_type": "code",
   "execution_count": 6,
   "metadata": {},
   "outputs": [
    {
     "name": "stdout",
     "output_type": "stream",
     "text": [
      "Model: \"sequential\"\n",
      "_________________________________________________________________\n",
      "Layer (type)                 Output Shape              Param #   \n",
      "=================================================================\n",
      "dense (Dense)                (None, 16)                304       \n",
      "_________________________________________________________________\n",
      "dense_1 (Dense)              (None, 1)                 17        \n",
      "=================================================================\n",
      "Total params: 321\n",
      "Trainable params: 321\n",
      "Non-trainable params: 0\n",
      "_________________________________________________________________\n"
     ]
    }
   ],
   "source": [
    "# from https://stackoverflow.com/questions/59737875/keras-change-learning-rate\n",
    "import keras\n",
    "model = Sequential()\n",
    "model.add(Dense(16, input_dim=X_train.shape[1], kernel_initializer='normal', activation='relu'))\n",
    "model.add(Dense(1, kernel_initializer='normal', activation='sigmoid'))\n",
    "optimizer = keras.optimizers.Adam(lr=0.1)\n",
    "model.compile(loss='binary_crossentropy', optimizer=optimizer, metrics=['accuracy'])\n",
    "model.summary()"
   ]
  },
  {
   "cell_type": "code",
   "execution_count": 7,
   "metadata": {},
   "outputs": [],
   "source": [
    "from keras.callbacks import EarlyStopping"
   ]
  },
  {
   "cell_type": "code",
   "execution_count": 8,
   "metadata": {},
   "outputs": [],
   "source": [
    "# borrowed from: https://stackoverflow.com/questions/48285129/saving-best-model-in-keras/48286003\n",
    "early_stopping_monitor = EarlyStopping(\n",
    "    monitor='val_loss',\n",
    "    min_delta=0,\n",
    "    patience=0,\n",
    "    verbose=0,\n",
    "    mode='auto',\n",
    "    baseline=None,\n",
    "    restore_best_weights=True\n",
    ")"
   ]
  },
  {
   "cell_type": "code",
   "execution_count": 9,
   "metadata": {},
   "outputs": [
    {
     "name": "stdout",
     "output_type": "stream",
     "text": [
      "Epoch 1/30\n",
      "165/165 [==============================] - 0s 2ms/step - loss: 0.9256 - accuracy: 0.5740 - val_loss: 1.2455 - val_accuracy: 0.6456\n",
      "Epoch 2/30\n",
      "165/165 [==============================] - 0s 2ms/step - loss: 0.6809 - accuracy: 0.6432 - val_loss: 0.9263 - val_accuracy: 0.6505\n",
      "Epoch 3/30\n",
      "165/165 [==============================] - 0s 2ms/step - loss: 0.6501 - accuracy: 0.6250 - val_loss: 0.9750 - val_accuracy: 0.6602\n"
     ]
    }
   ],
   "source": [
    "fit = model.fit(X_train, Y_train, epochs=30, batch_size=5, verbose=1, validation_data=(X_val, Y_val),\n",
    "                callbacks=[early_stopping_monitor], shuffle=True)"
   ]
  },
  {
   "cell_type": "code",
   "execution_count": 10,
   "metadata": {},
   "outputs": [
    {
     "data": {
      "image/png": "[encoded data removed]",
      "text/plain": [
       "<Figure size 576x360 with 1 Axes>"
      ]
     },
     "metadata": {},
     "output_type": "display_data"
    }
   ],
   "source": [
    "pd.DataFrame(fit.history).plot(figsize=(8,5))\n",
    "plt.show()"
   ]
  },
  {
   "cell_type": "code",
   "execution_count": 11,
   "metadata": {},
   "outputs": [],
   "source": [
    "predTrain = np.round(model.predict(X_train), 0).astype('int64')\n",
    "predVal = np.round(model.predict(X_val), 0).astype('int64')\n",
    "predTrain = predTrain.reshape(-1)\n",
    "predVal = predVal.reshape(-1)\n",
    "Y_test = df_test.label.values\n",
    "df_test.drop(\"label\", axis=1, inplace=True)"
   ]
  },
  {
   "cell_type": "code",
   "execution_count": 12,
   "metadata": {},
   "outputs": [
    {
     "data": {
      "text/plain": [
       "0.6504854368932039"
      ]
     },
     "execution_count": 12,
     "metadata": {},
     "output_type": "execute_result"
    }
   ],
   "source": [
    "# train accurcy:\n",
    "np.sum(predTrain == Y_train)/len(Y_train)"
   ]
  },
  {
   "cell_type": "code",
   "execution_count": 13,
   "metadata": {},
   "outputs": [
    {
     "data": {
      "text/plain": [
       "0.6504854368932039"
      ]
     },
     "execution_count": 13,
     "metadata": {},
     "output_type": "execute_result"
    }
   ],
   "source": [
    "# valid. accurcy:\n",
    "np.sum(predVal == Y_val)/len(Y_val)"
   ]
  },
  {
   "cell_type": "code",
   "execution_count": 14,
   "metadata": {},
   "outputs": [],
   "source": [
    "dataset = df_test.values\n",
    "X_test = dataset[:,:].astype(float)"
   ]
  },
  {
   "cell_type": "code",
   "execution_count": 15,
   "metadata": {},
   "outputs": [],
   "source": [
    "predTest = np.round(model.predict(X_test), 0).astype('int64')\n",
    "predTest = predTest.reshape(-1)"
   ]
  },
  {
   "cell_type": "code",
   "execution_count": 16,
   "metadata": {},
   "outputs": [
    {
     "data": {
      "text/plain": [
       "array([[279, 440],\n",
       "       [ 24, 105]], dtype=int64)"
      ]
     },
     "execution_count": 16,
     "metadata": {},
     "output_type": "execute_result"
    }
   ],
   "source": [
    "confusion_matrix(Y_test, predTest)"
   ]
  },
  {
   "cell_type": "code",
   "execution_count": 17,
   "metadata": {},
   "outputs": [
    {
     "data": {
      "text/plain": [
       "0.4528301886792453"
      ]
     },
     "execution_count": 17,
     "metadata": {},
     "output_type": "execute_result"
    }
   ],
   "source": [
    "# test accurcy:\n",
    "np.sum(predTest == Y_test)/len(Y_test)"
   ]
  },
  {
   "cell_type": "markdown",
   "metadata": {},
   "source": [
    "Test set accuracy with default l.r.(0.001) in Adam optimizer was 62,7% now (with l.r.=0.1) it became 45.3%."
   ]
  },
  {
   "cell_type": "markdown",
   "metadata": {},
   "source": [
    "### Influence of training set size FHS"
   ]
  },
  {
   "cell_type": "code",
   "execution_count": 18,
   "metadata": {},
   "outputs": [],
   "source": [
    "df_train = pd.read_csv(\"FHStrainPCANorm.csv\", header=0)\n",
    "Y = df_train.label.values\n",
    "df_train.drop(\"label\", axis=1, inplace=True)"
   ]
  },
  {
   "cell_type": "code",
   "execution_count": 19,
   "metadata": {},
   "outputs": [],
   "source": [
    "df_train20, _, y_train20, _ = train_test_split(df_train, Y, test_size=0.8, random_state=1, shuffle = True)\n",
    "df_train40, _, y_train40, _ = train_test_split(df_train, Y, test_size=0.6, random_state=1, shuffle = True)\n",
    "df_train60, _, y_train60, _ = train_test_split(df_train, Y, test_size=0.4, random_state=1, shuffle = True)\n",
    "df_train80, _, y_train80, _ = train_test_split(df_train, Y, test_size=0.2, random_state=1, shuffle = True)"
   ]
  },
  {
   "cell_type": "code",
   "execution_count": 20,
   "metadata": {},
   "outputs": [],
   "source": [
    "X_train = df_train.values[:,:].astype(float)\n",
    "X_train20 = df_train20.values[:,:].astype(float)\n",
    "X_train40 = df_train40.values[:,:].astype(float)\n",
    "X_train60 = df_train60.values[:,:].astype(float)\n",
    "X_train80 = df_train80.values[:,:].astype(float)"
   ]
  },
  {
   "cell_type": "code",
   "execution_count": 21,
   "metadata": {},
   "outputs": [],
   "source": [
    "model = Sequential()\n",
    "model.add(Dense(16, input_dim=X_train.shape[1], kernel_initializer='normal', activation='relu'))\n",
    "model.add(Dense(1, kernel_initializer='normal', activation='sigmoid'))\n",
    "model.compile(loss='binary_crossentropy', optimizer='adam', metrics=['accuracy'])\n",
    "fit = model.fit(X_train, Y, epochs=30, batch_size=5, verbose=0, validation_data=(X_test, Y_test), shuffle=True)"
   ]
  },
  {
   "cell_type": "code",
   "execution_count": 22,
   "metadata": {},
   "outputs": [],
   "source": [
    "model = Sequential()\n",
    "model.add(Dense(16, input_dim=X_train.shape[1], kernel_initializer='normal', activation='relu'))\n",
    "model.add(Dense(1, kernel_initializer='normal', activation='sigmoid'))\n",
    "model.compile(loss='binary_crossentropy', optimizer='adam', metrics=['accuracy'])\n",
    "fit80 = model.fit(X_train80, y_train80, epochs=30, batch_size=5, verbose=0, validation_data=(X_test, Y_test), shuffle=True)"
   ]
  },
  {
   "cell_type": "code",
   "execution_count": 23,
   "metadata": {},
   "outputs": [],
   "source": [
    "model = Sequential()\n",
    "model.add(Dense(16, input_dim=X_train.shape[1], kernel_initializer='normal', activation='relu'))\n",
    "model.add(Dense(1, kernel_initializer='normal', activation='sigmoid'))\n",
    "model.compile(loss='binary_crossentropy', optimizer='adam', metrics=['accuracy'])\n",
    "fit60 = model.fit(X_train60, y_train60, epochs=30, batch_size=5, verbose=0, validation_data=(X_test, Y_test), shuffle=True)"
   ]
  },
  {
   "cell_type": "code",
   "execution_count": 24,
   "metadata": {},
   "outputs": [],
   "source": [
    "model = Sequential()\n",
    "model.add(Dense(16, input_dim=X_train.shape[1], kernel_initializer='normal', activation='relu'))\n",
    "model.add(Dense(1, kernel_initializer='normal', activation='sigmoid'))\n",
    "model.compile(loss='binary_crossentropy', optimizer='adam', metrics=['accuracy'])\n",
    "fit40 = model.fit(X_train40, y_train40, epochs=30, batch_size=5, verbose=0, validation_data=(X_test, Y_test), shuffle=True)"
   ]
  },
  {
   "cell_type": "code",
   "execution_count": 25,
   "metadata": {},
   "outputs": [],
   "source": [
    "model = Sequential()\n",
    "model.add(Dense(16, input_dim=X_train.shape[1], kernel_initializer='normal', activation='relu'))\n",
    "model.add(Dense(1, kernel_initializer='normal', activation='sigmoid'))\n",
    "model.compile(loss='binary_crossentropy', optimizer='adam', metrics=['accuracy'])\n",
    "fit20 = model.fit(X_train20, y_train20, epochs=30, batch_size=5, verbose=0, validation_data=(X_test, Y_test), shuffle=True)"
   ]
  },
  {
   "cell_type": "code",
   "execution_count": 26,
   "metadata": {},
   "outputs": [
    {
     "data": {
      "image/png": "[encoded data removed]",
      "text/plain": [
       "<Figure size 432x288 with 1 Axes>"
      ]
     },
     "metadata": {},
     "output_type": "display_data"
    }
   ],
   "source": [
    "plt.plot(fit.history['accuracy'], label=\"train set\")\n",
    "plt.plot(fit20.history['accuracy'], label=\"20% train\")\n",
    "plt.plot(fit40.history['accuracy'], label=\"40% train\")\n",
    "plt.plot(fit60.history['accuracy'], label=\"60% train\")\n",
    "plt.plot(fit80.history['accuracy'], label=\"80% train\")\n",
    "plt.title('Train accuracy')\n",
    "plt.ylabel('accuracy')\n",
    "plt.xlabel('epochs')\n",
    "plt.legend(loc='lower right')\n",
    "plt.show()"
   ]
  },
  {
   "cell_type": "code",
   "execution_count": 27,
   "metadata": {},
   "outputs": [
    {
     "data": {
      "image/png": "[encoded data removed]",
      "text/plain": [
       "<Figure size 432x288 with 1 Axes>"
      ]
     },
     "metadata": {},
     "output_type": "display_data"
    }
   ],
   "source": [
    "plt.plot(fit.history['val_accuracy'],  label=\"train set\")\n",
    "plt.plot(fit20.history['val_accuracy'],  label=\"20% train\")\n",
    "plt.plot(fit40.history['val_accuracy'],  label=\"40% train\")\n",
    "plt.plot(fit60.history['val_accuracy'],  label=\"60% train\")\n",
    "plt.plot(fit80.history['val_accuracy'],  label=\"80% train\")\n",
    "plt.title('Test accuracy')\n",
    "plt.ylabel('accuracy')\n",
    "plt.xlabel('epochs')\n",
    "plt.legend(loc='lower right')\n",
    "plt.show()"
   ]
  },
  {
   "cell_type": "code",
   "execution_count": 28,
   "metadata": {},
   "outputs": [
    {
     "data": {
      "image/png": "[encoded data removed]",
      "text/plain": [
       "<Figure size 432x288 with 1 Axes>"
      ]
     },
     "metadata": {},
     "output_type": "display_data"
    }
   ],
   "source": [
    "plt.plot(fit.history['val_loss'], label=\"full train set\")\n",
    "plt.plot(fit20.history['val_loss'], label=\"20% of train\")\n",
    "plt.plot(fit40.history['val_loss'], label=\"40% of train\")\n",
    "plt.plot(fit60.history['val_loss'], label=\"60% of train\")\n",
    "plt.plot(fit80.history['val_loss'], label=\"80% of train\")\n",
    "plt.title('Test loss')\n",
    "plt.ylabel('loss')\n",
    "plt.xlabel('epochs')\n",
    "plt.legend(loc='upper center')\n",
    "plt.show()"
   ]
  },
  {
   "cell_type": "code",
   "execution_count": null,
   "metadata": {},
   "outputs": [],
   "source": []
  }
 ],
 "metadata": {
  "kernelspec": {
   "display_name": "Python 3",
   "language": "python",
   "name": "python3"
  },
  "language_info": {
   "codemirror_mode": {
    "name": "ipython",
    "version": 3
   },
   "file_extension": ".py",
   "mimetype": "text/x-python",
   "name": "python",
   "nbconvert_exporter": "python",
   "pygments_lexer": "ipython3",
   "version": "3.6.10"
  }
 },
 "nbformat": 4,
 "nbformat_minor": 4
}
