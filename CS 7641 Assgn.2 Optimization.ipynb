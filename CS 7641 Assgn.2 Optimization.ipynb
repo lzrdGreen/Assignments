{
 "cells": [
  {
   "cell_type": "code",
   "execution_count": 1,
   "id": "viral-atlas",
   "metadata": {},
   "outputs": [],
   "source": [
    "import numpy as np\n",
    "from sklearn.datasets import load_iris\n",
    "from sklearn.model_selection import train_test_split\n",
    "from sklearn.preprocessing import MinMaxScaler, OneHotEncoder\n",
    "from sklearn.metrics import accuracy_score\n",
    "from matplotlib import pyplot as plt\n",
    "plt.style.use('seaborn-whitegrid')\n",
    "import mlrose_hiive"
   ]
  },
  {
   "cell_type": "markdown",
   "id": "norwegian-captain",
   "metadata": {},
   "source": [
    "### 8 Queens"
   ]
  },
  {
   "cell_type": "markdown",
   "id": "fuzzy-implement",
   "metadata": {},
   "source": [
    "See wiki: 1. https://en.wikipedia.org/wiki/Eight_queens_puzzle"
   ]
  },
  {
   "cell_type": "code",
   "execution_count": 3,
   "id": "talented-premium",
   "metadata": {},
   "outputs": [],
   "source": [
    "# following https://github.com/hiive/mlrose/blob/master/tutorial_examples.ipynb:\n",
    "fitness = mlrose_hiive.Queens()\n",
    "problemQ = mlrose_hiive.DiscreteOpt(length = 8, fitness_fn = fitness, maximize=False, max_val=8)"
   ]
  },
  {
   "cell_type": "markdown",
   "id": "correct-indianapolis",
   "metadata": {},
   "source": [
    "#### SA:"
   ]
  },
  {
   "cell_type": "code",
   "execution_count": 4,
   "id": "together-fisher",
   "metadata": {},
   "outputs": [
    {
     "name": "stdout",
     "output_type": "stream",
     "text": [
      "[6 0 7 5 7 2 4 1] 2.0 214\n"
     ]
    }
   ],
   "source": [
    "scheduleQ = mlrose_hiive.GeomDecay(init_temp=20.0, decay=0.95, min_temp=0.02)\n",
    "init_state = np.array(8*[0])\n",
    "best_state, best_fitness, fit_crv8QSA = mlrose_hiive.simulated_annealing(problemQ, schedule = scheduleQ, max_attempts = 20, \n",
    "                                        curve=True, max_iters = 1000, init_state = init_state, random_state = 1)\n",
    "print(best_state, best_fitness, len(fit_crv8QSA))"
   ]
  },
  {
   "cell_type": "code",
   "execution_count": 22,
   "id": "amber-station",
   "metadata": {},
   "outputs": [
    {
     "name": "stdout",
     "output_type": "stream",
     "text": [
      "9 [1 3 5 7 2 0 6 4] 0.0 112\n",
      "14 [6 4 2 0 5 7 1 3] 0.0 106\n",
      "42 [2 0 6 4 7 1 3 5] 0.0 76\n"
     ]
    }
   ],
   "source": [
    "for i in range(1, 51):\n",
    "    #schedule = mlrose_hiive.ExpDecay(init_temp=10, exp_const=0.09, min_temp=.01)\n",
    "    init_state = np.array(8*[0])\n",
    "    best_state, best_fitness, fit_crv8QSA = mlrose_hiive.simulated_annealing(problemQ, schedule = scheduleQ, max_attempts = 20, \n",
    "                                        curve=True, max_iters = 1000, init_state = init_state, random_state = i)\n",
    "    if best_fitness<1:\n",
    "        print (i, best_state, best_fitness, len(fit_crv8QSA))"
   ]
  },
  {
   "cell_type": "code",
   "execution_count": 23,
   "id": "composed-change",
   "metadata": {},
   "outputs": [
    {
     "name": "stdout",
     "output_type": "stream",
     "text": [
      "9 [1 3 5 7 2 0 6 4] 0.0 112\n",
      "14 [6 4 2 0 5 7 1 3] 0.0 106\n",
      "42 [2 0 6 4 7 1 3 5] 0.0 76\n"
     ]
    }
   ],
   "source": [
    "scheduleQ = mlrose_hiive.ExpDecay(init_temp=10, exp_const=0.09, min_temp=.01)\n",
    "for i in range(1, 51):\n",
    "    init_state = np.array(8*[0])\n",
    "    best_state, best_fitness, fit_crv8QSA = mlrose_hiive.simulated_annealing(problemQ, schedule = scheduleQ, max_attempts = 20, \n",
    "                                        curve=True, max_iters = 1000, init_state = init_state, random_state = i)\n",
    "    if best_fitness<1:\n",
    "        print (i, best_state, best_fitness, len(fit_crv8QSA))"
   ]
  },
  {
   "cell_type": "code",
   "execution_count": 24,
   "id": "particular-biodiversity",
   "metadata": {},
   "outputs": [
    {
     "name": "stdout",
     "output_type": "stream",
     "text": [
      "1 [6 3 1 7 5 0 2 4] 0.0 409\n",
      "2 [1 5 0 6 3 7 2 4] 0.0 550\n",
      "3 [5 2 0 7 4 1 3 6] 0.0 697\n",
      "4 [5 3 1 7 4 6 0 2] 0.0 474\n",
      "6 [3 6 2 7 1 4 0 5] 0.0 888\n",
      "7 [5 2 6 1 7 4 0 3] 0.0 582\n",
      "8 [2 4 7 3 0 6 1 5] 0.0 340\n",
      "9 [1 3 5 7 2 0 6 4] 0.0 292\n",
      "10 [3 6 0 7 4 1 5 2] 0.0 947\n",
      "11 [2 4 7 3 0 6 1 5] 0.0 526\n",
      "12 [6 4 2 0 5 7 1 3] 0.0 782\n",
      "13 [4 2 0 6 1 7 5 3] 0.0 595\n",
      "14 [6 4 2 0 5 7 1 3] 0.0 286\n",
      "15 [2 5 7 1 3 0 6 4] 0.0 763\n",
      "17 [5 2 0 6 4 7 1 3] 0.0 456\n",
      "18 [2 7 3 6 0 5 1 4] 0.0 342\n",
      "20 [3 0 4 7 1 6 2 5] 0.0 769\n",
      "21 [3 6 4 2 0 5 7 1] 0.0 886\n",
      "22 [3 0 4 7 1 6 2 5] 0.0 429\n",
      "23 [0 5 7 2 6 3 1 4] 0.0 673\n",
      "24 [5 3 0 4 7 1 6 2] 0.0 504\n",
      "25 [6 2 7 1 4 0 5 3] 0.0 773\n",
      "27 [4 1 3 6 2 7 5 0] 0.0 662\n",
      "29 [3 1 6 2 5 7 0 4] 0.0 1000\n",
      "30 [2 7 3 6 0 5 1 4] 0.0 430\n",
      "32 [4 6 1 3 7 0 2 5] 0.0 410\n",
      "33 [3 7 4 2 0 6 1 5] 0.0 883\n",
      "34 [5 2 6 3 0 7 1 4] 0.0 1000\n",
      "35 [1 4 6 3 0 7 5 2] 0.0 432\n",
      "36 [2 5 7 1 3 0 6 4] 0.0 345\n",
      "37 [4 6 0 3 1 7 5 2] 0.0 589\n",
      "38 [5 3 6 0 7 1 4 2] 0.0 932\n",
      "39 [6 2 0 5 7 4 1 3] 0.0 887\n",
      "42 [2 0 6 4 7 1 3 5] 0.0 256\n",
      "43 [3 1 7 5 0 2 4 6] 0.0 1000\n",
      "44 [5 0 4 1 7 2 6 3] 0.0 314\n",
      "45 [3 5 7 2 0 6 4 1] 0.0 868\n",
      "47 [3 1 6 2 5 7 0 4] 0.0 524\n",
      "49 [4 7 3 0 2 5 1 6] 0.0 762\n",
      "50 [5 3 1 7 4 6 0 2] 0.0 331\n"
     ]
    }
   ],
   "source": [
    "scheduleQ = mlrose_hiive.ExpDecay(init_temp=10, exp_const=0.09, min_temp=.01)\n",
    "for i in range(1, 51):\n",
    "    init_state = np.array(8*[0])\n",
    "    best_state, best_fitness, fit_crv8QSA = mlrose_hiive.simulated_annealing(problemQ, schedule = scheduleQ, max_attempts = 200, \n",
    "                                        curve=True, max_iters = 1000, init_state = init_state, random_state = i)\n",
    "    if best_fitness<1:\n",
    "        print (i, best_state, best_fitness, len(fit_crv8QSA))"
   ]
  },
  {
   "cell_type": "code",
   "execution_count": 8,
   "id": "acoustic-yugoslavia",
   "metadata": {},
   "outputs": [
    {
     "name": "stdout",
     "output_type": "stream",
     "text": [
      "number of successes: 40\n"
     ]
    }
   ],
   "source": [
    "scheduleQ = mlrose_hiive.ExpDecay(init_temp=10, exp_const=0.09, min_temp=.01)\n",
    "cnt = 0\n",
    "for i in range(1, 51):\n",
    "    init_state = np.array(8*[0])\n",
    "    best_state, best_fitness, fit_crv8QSA = mlrose_hiive.simulated_annealing(problem, schedule = scheduleQ, max_attempts = 200, \n",
    "                                        curve=True, max_iters = 1000, init_state = init_state, random_state = i)\n",
    "    if best_fitness<1:\n",
    "        #print (i, best_state, best_fitness, len(fit_crv8QSA))\n",
    "        cnt += 1\n",
    "print (\"number of successes:\", cnt)"
   ]
  },
  {
   "cell_type": "code",
   "execution_count": 25,
   "id": "progressive-jurisdiction",
   "metadata": {},
   "outputs": [
    {
     "name": "stdout",
     "output_type": "stream",
     "text": [
      "number of successes: 3\n"
     ]
    }
   ],
   "source": [
    "scheduleQ = mlrose_hiive.ExpDecay(init_temp=10, exp_const=0.09, min_temp=.01)\n",
    "cnt = 0\n",
    "for i in range(1, 51):\n",
    "    init_state = np.array(8*[0])\n",
    "    best_state, best_fitness, fit_crv8QSA = mlrose_hiive.simulated_annealing(problemQ, schedule = scheduleQ, max_attempts = 20, \n",
    "                                        curve=True, max_iters = 1000, init_state = init_state, random_state = i)\n",
    "    if best_fitness<1:\n",
    "        #print (i, best_state, best_fitness, len(fit_crv8QSA))\n",
    "        cnt += 1\n",
    "print (\"number of successes:\", cnt)"
   ]
  },
  {
   "cell_type": "code",
   "execution_count": 26,
   "id": "short-termination",
   "metadata": {},
   "outputs": [
    {
     "name": "stdout",
     "output_type": "stream",
     "text": [
      "number of successes: 40\n"
     ]
    }
   ],
   "source": [
    "scheduleQ = mlrose_hiive.ExpDecay(init_temp=10, exp_const=0.09, min_temp=.01)\n",
    "cnt = 0\n",
    "for i in range(1, 51):\n",
    "    init_state = np.array(8*[0])\n",
    "    best_state, best_fitness, fit_crv8QSA = mlrose_hiive.simulated_annealing(problemQ, schedule = scheduleQ, max_attempts = 400, \n",
    "                                        curve=True, max_iters = 1000, init_state = init_state, random_state = i)\n",
    "    if best_fitness<1:\n",
    "        #print (i, best_state, best_fitness, len(fit_crv8QSA))\n",
    "        cnt += 1\n",
    "print (\"number of successes:\", cnt)"
   ]
  },
  {
   "cell_type": "code",
   "execution_count": 27,
   "id": "particular-cradle",
   "metadata": {},
   "outputs": [
    {
     "name": "stdout",
     "output_type": "stream",
     "text": [
      "number of successes: 26\n"
     ]
    }
   ],
   "source": [
    "scheduleQ = mlrose_hiive.ExpDecay(init_temp=10, exp_const=0.09, min_temp=.01)\n",
    "cnt = 0\n",
    "for i in range(1, 51):\n",
    "    init_state = np.array(8*[0])\n",
    "    best_state, best_fitness, fit_crv8QSA = mlrose_hiive.simulated_annealing(problemQ, schedule = scheduleQ, max_attempts = 60, \n",
    "                                        curve=True, max_iters = 1000, init_state = init_state, random_state = i)\n",
    "    if best_fitness<1:\n",
    "        #print (i, best_state, best_fitness, len(fit_crv8QSA))\n",
    "        cnt += 1\n",
    "print (\"number of successes:\", cnt)"
   ]
  },
  {
   "cell_type": "code",
   "execution_count": 28,
   "id": "involved-junction",
   "metadata": {},
   "outputs": [
    {
     "name": "stdout",
     "output_type": "stream",
     "text": [
      "number of successes: 36\n"
     ]
    }
   ],
   "source": [
    "scheduleQ = mlrose_hiive.ExpDecay(init_temp=10, exp_const=0.09, min_temp=.01)\n",
    "cnt = 0\n",
    "for i in range(1, 51):\n",
    "    init_state = np.array(8*[0])\n",
    "    best_state, best_fitness, fit_crv8QSA = mlrose_hiive.simulated_annealing(problemQ, schedule = scheduleQ, max_attempts = 80, \n",
    "                                        curve=True, max_iters = 1000, init_state = init_state, random_state = i)\n",
    "    if best_fitness<1:\n",
    "        #print (i, best_state, best_fitness, len(fit_crv8QSA))\n",
    "        cnt += 1\n",
    "print (\"number of successes:\", cnt)"
   ]
  },
  {
   "cell_type": "code",
   "execution_count": 29,
   "id": "continent-safety",
   "metadata": {},
   "outputs": [
    {
     "name": "stdout",
     "output_type": "stream",
     "text": [
      "number of successes: 9\n"
     ]
    }
   ],
   "source": [
    "scheduleQ = mlrose_hiive.ExpDecay(init_temp=10, exp_const=0.09, min_temp=.01)\n",
    "cnt = 0\n",
    "for i in range(1, 51):\n",
    "    init_state = np.array(8*[0])\n",
    "    best_state, best_fitness, fit_crv8QSA = mlrose_hiive.simulated_annealing(problemQ, schedule = scheduleQ, max_attempts = 40, \n",
    "                                        curve=True, max_iters = 1000, init_state = init_state, random_state = i)\n",
    "    if best_fitness<1:\n",
    "        #print (i, best_state, best_fitness, len(fit_crv8QSA))\n",
    "        cnt += 1\n",
    "print (\"number of successes:\", cnt)"
   ]
  },
  {
   "cell_type": "code",
   "execution_count": 30,
   "id": "brilliant-alcohol",
   "metadata": {},
   "outputs": [
    {
     "name": "stdout",
     "output_type": "stream",
     "text": [
      "number of successes: 38\n"
     ]
    }
   ],
   "source": [
    "scheduleQ = mlrose_hiive.ExpDecay(init_temp=10, exp_const=0.09, min_temp=.01)\n",
    "cnt = 0\n",
    "for i in range(1, 51):\n",
    "    init_state = np.array(8*[0])\n",
    "    best_state, best_fitness, fit_crv8QSA = mlrose_hiive.simulated_annealing(problemQ, schedule = scheduleQ, max_attempts = 100, \n",
    "                                        curve=True, max_iters = 1000, init_state = init_state, random_state = i)\n",
    "    if best_fitness<1:\n",
    "        #print (i, best_state, best_fitness, len(fit_crv8QSA))\n",
    "        cnt += 1\n",
    "print (\"number of successes:\", cnt)"
   ]
  },
  {
   "cell_type": "code",
   "execution_count": 31,
   "id": "excellent-designer",
   "metadata": {},
   "outputs": [
    {
     "name": "stdout",
     "output_type": "stream",
     "text": [
      "number of successes: 40\n"
     ]
    }
   ],
   "source": [
    "scheduleQ = mlrose_hiive.ExpDecay(init_temp=10, exp_const=0.09, min_temp=.01)\n",
    "cnt = 0\n",
    "for i in range(1, 51):\n",
    "    init_state = np.array(8*[0])\n",
    "    best_state, best_fitness, fit_crv8QSA = mlrose_hiive.simulated_annealing(problemQ, schedule = scheduleQ, max_attempts = 150, \n",
    "                                        curve=True, max_iters = 1000, init_state = init_state, random_state = i)\n",
    "    if best_fitness<1:\n",
    "        #print (i, best_state, best_fitness, len(fit_crv8QSA))\n",
    "        cnt += 1\n",
    "print (\"number of successes:\", cnt)"
   ]
  },
  {
   "cell_type": "code",
   "execution_count": 16,
   "id": "addressed-flower",
   "metadata": {},
   "outputs": [
    {
     "name": "stdout",
     "output_type": "stream",
     "text": [
      "number of successes: 40\n"
     ]
    }
   ],
   "source": [
    "fitness = mlrose_hiive.Queens()\n",
    "problemQ = mlrose_hiive.DiscreteOpt(length = 8, fitness_fn = fitness, maximize=False, max_val=8)\n",
    "\n",
    "scheduleQ = mlrose_hiive.ExpDecay(init_temp=10, exp_const=0.09, min_temp=.01)\n",
    "cnt = 0\n",
    "for i in range(1, 51):\n",
    "    init_state = np.array(8*[0])\n",
    "    best_state, best_fitness, fit_crv8QSA = mlrose_hiive.simulated_annealing(problemQ, schedule = scheduleQ, max_attempts = 150, \n",
    "                                        curve=True, max_iters = 1000, init_state = init_state, random_state = i)\n",
    "    if best_fitness<1:\n",
    "        #print (i, best_state, best_fitness, len(fit_crv8QSA))\n",
    "        cnt += 1\n",
    "print (\"number of successes:\", cnt)"
   ]
  },
  {
   "cell_type": "code",
   "execution_count": 17,
   "id": "beautiful-destiny",
   "metadata": {},
   "outputs": [
    {
     "name": "stdout",
     "output_type": "stream",
     "text": [
      "number of successes: 40 best params: 42 206\n"
     ]
    }
   ],
   "source": [
    "fitness = mlrose_hiive.Queens()\n",
    "problemQ = mlrose_hiive.DiscreteOpt(length = 8, fitness_fn = fitness, maximize=False, max_val=8)\n",
    "ibest = -1\n",
    "bestL = 1000\n",
    "scheduleQ = mlrose_hiive.ExpDecay(init_temp=10, exp_const=0.09, min_temp=.01)\n",
    "cnt = 0\n",
    "for i in range(1, 51):\n",
    "    init_state = np.array(8*[0])\n",
    "    best_state, best_fitness, fit_crv8QSA = mlrose_hiive.simulated_annealing(problemQ, schedule = scheduleQ, max_attempts = 150, \n",
    "                                        curve=True, max_iters = 1000, init_state = init_state, random_state = i)\n",
    "    if best_fitness<1:\n",
    "        #print (i, best_state, best_fitness, len(fit_crv8QSA))\n",
    "        cnt += 1\n",
    "        if len(fit_crv8QSA)<bestL:\n",
    "            ibest = i\n",
    "            bestL = len(fit_crv8QSA)\n",
    "print (\"number of successes:\", cnt, \"best params:\", ibest, bestL)"
   ]
  },
  {
   "cell_type": "code",
   "execution_count": 18,
   "id": "changed-brother",
   "metadata": {},
   "outputs": [
    {
     "name": "stdout",
     "output_type": "stream",
     "text": [
      "number of successes: 40 best params: 42 206\n"
     ]
    }
   ],
   "source": [
    "fitness = mlrose_hiive.Queens()\n",
    "problemQ = mlrose_hiive.DiscreteOpt(length = 8, fitness_fn = fitness, maximize=False, max_val=8)\n",
    "ibest = -1\n",
    "bestL = 1000\n",
    "scheduleQ = mlrose_hiive.ExpDecay(init_temp=10, exp_const=0.09, min_temp=.01)\n",
    "cnt = 0\n",
    "for i in range(1, 51):\n",
    "    init_state = np.array(8*[0])\n",
    "    best_state, best_fitness, fit_crv8QSA = mlrose_hiive.simulated_annealing(problemQ, schedule = scheduleQ, max_attempts = 150, \n",
    "                                        curve=True, max_iters = 1000, init_state = init_state, random_state = i)\n",
    "    if best_fitness<1:\n",
    "        #print (i, best_state, best_fitness, len(fit_crv8QSA))\n",
    "        cnt += 1\n",
    "        if len(fit_crv8QSA)<bestL:\n",
    "            ibest = i\n",
    "            bestL = len(fit_crv8QSA)\n",
    "print (\"number of successes:\", cnt, \"best params:\", ibest, bestL)"
   ]
  },
  {
   "cell_type": "code",
   "execution_count": 19,
   "id": "incomplete-roller",
   "metadata": {},
   "outputs": [],
   "source": [
    "init_state = np.array(8*[0])\n",
    "best_state, best_fitness, fit_crv8QSA = mlrose_hiive.simulated_annealing(problemQ, schedule = scheduleQ, max_attempts = 150, \n",
    "                                        curve=True, max_iters = 1000, init_state = init_state, random_state = 42)"
   ]
  },
  {
   "cell_type": "code",
   "execution_count": 20,
   "id": "incorporate-eagle",
   "metadata": {},
   "outputs": [
    {
     "name": "stdout",
     "output_type": "stream",
     "text": [
      "[2 0 6 4 7 1 3 5] 0.0\n"
     ]
    }
   ],
   "source": [
    "print (best_state, best_fitness)"
   ]
  },
  {
   "cell_type": "code",
   "execution_count": 21,
   "id": "fixed-iraqi",
   "metadata": {},
   "outputs": [
    {
     "data": {
      "text/plain": [
       "[<matplotlib.lines.Line2D at 0x17e813305e0>]"
      ]
     },
     "execution_count": 21,
     "metadata": {},
     "output_type": "execute_result"
    },
    {
     "data": {
      "image/png": "[encoded data removed]",
      "text/plain": [
       "<Figure size 432x288 with 1 Axes>"
      ]
     },
     "metadata": {},
     "output_type": "display_data"
    }
   ],
   "source": [
    "plt.plot(fit_crv8QSA)"
   ]
  },
  {
   "cell_type": "code",
   "execution_count": 32,
   "id": "smaller-overview",
   "metadata": {},
   "outputs": [],
   "source": [
    "init_state = np.array(8*[0])\n",
    "best_state, best_fitness, fit_crv8QSA = mlrose_hiive.simulated_annealing(problemQ, schedule = scheduleQ, max_attempts = 50, \n",
    "                                        curve=True, max_iters = 500, init_state = init_state, random_state = 42)"
   ]
  },
  {
   "cell_type": "code",
   "execution_count": 33,
   "id": "administrative-measurement",
   "metadata": {},
   "outputs": [
    {
     "name": "stdout",
     "output_type": "stream",
     "text": [
      "[2 0 6 4 7 1 3 5] 0.0\n"
     ]
    }
   ],
   "source": [
    "print (best_state, best_fitness)"
   ]
  },
  {
   "cell_type": "code",
   "execution_count": 35,
   "id": "intelligent-manitoba",
   "metadata": {},
   "outputs": [
    {
     "data": {
      "text/plain": [
       "106"
      ]
     },
     "execution_count": 35,
     "metadata": {},
     "output_type": "execute_result"
    }
   ],
   "source": [
    "len(fit_crv8QSA)"
   ]
  },
  {
   "cell_type": "code",
   "execution_count": 34,
   "id": "exposed-jewel",
   "metadata": {},
   "outputs": [
    {
     "data": {
      "text/plain": [
       "[<matplotlib.lines.Line2D at 0x17e814219d0>]"
      ]
     },
     "execution_count": 34,
     "metadata": {},
     "output_type": "execute_result"
    },
    {
     "data": {
      "image/png": "[encoded data removed]",
      "text/plain": [
       "<Figure size 432x288 with 1 Axes>"
      ]
     },
     "metadata": {},
     "output_type": "display_data"
    }
   ],
   "source": [
    "plt.plot(fit_crv8QSA)"
   ]
  },
  {
   "cell_type": "markdown",
   "id": "activated-understanding",
   "metadata": {},
   "source": [
    "#### Let's do GenAlg:"
   ]
  },
  {
   "cell_type": "code",
   "execution_count": 36,
   "id": "interested-malawi",
   "metadata": {},
   "outputs": [],
   "source": [
    "fitness = mlrose_hiive.Queens()\n",
    "problemQ = mlrose_hiive.DiscreteOpt(length = 8, fitness_fn = fitness, maximize=False, max_val=8)"
   ]
  },
  {
   "cell_type": "code",
   "execution_count": 39,
   "id": "corporate-programming",
   "metadata": {},
   "outputs": [
    {
     "name": "stdout",
     "output_type": "stream",
     "text": [
      "number of successes: 35\n"
     ]
    }
   ],
   "source": [
    "cnt = 0\n",
    "for i in range(1, 51):\n",
    "    schedule = mlrose_hiive.ExpDecay(init_temp=20, exp_const=0.09, min_temp=.02)\n",
    "    init_state = np.array(8*[0])\n",
    "    best_state, best_fitness, fit_crvTSPSA= mlrose_hiive.simulated_annealing(problemQ, schedule = schedule, max_attempts = 100, \n",
    "                                        curve=True, max_iters = 1000, init_state = init_state, random_state=i)\n",
    "    if best_fitness<1:\n",
    "        cnt +=1\n",
    "print (\"number of successes:\", cnt)"
   ]
  },
  {
   "cell_type": "code",
   "execution_count": 40,
   "id": "forward-scottish",
   "metadata": {},
   "outputs": [],
   "source": [
    "best_state, best_fitness, fit_crv8QGA = mlrose_hiive.genetic_alg(problemQ, mutation_prob = 0.2, max_attempts = 100, \n",
    "                                                                pop_size=200, curve=True, random_state = 13)"
   ]
  },
  {
   "cell_type": "code",
   "execution_count": 41,
   "id": "chief-advertising",
   "metadata": {},
   "outputs": [
    {
     "name": "stdout",
     "output_type": "stream",
     "text": [
      "[3 5 0 2 0 6 1 7] 1.0\n"
     ]
    }
   ],
   "source": [
    "print (best_state, best_fitness)"
   ]
  },
  {
   "cell_type": "code",
   "execution_count": 42,
   "id": "prerequisite-andrews",
   "metadata": {},
   "outputs": [
    {
     "name": "stdout",
     "output_type": "stream",
     "text": [
      "number of successes: 32\n"
     ]
    }
   ],
   "source": [
    "cnt = 0\n",
    "for i in range(1, 51):    \n",
    "    init_state = np.array(8*[0])\n",
    "    best_state, best_fitness, fit_crv8QGA = mlrose_hiive.genetic_alg(problemQ, mutation_prob = 0.2, max_attempts = 20, \n",
    "                                                                pop_size=200, curve=True, random_state = i)\n",
    "    if best_fitness<1:\n",
    "        cnt +=1\n",
    "print (\"number of successes:\", cnt)"
   ]
  },
  {
   "cell_type": "code",
   "execution_count": 43,
   "id": "blond-paraguay",
   "metadata": {},
   "outputs": [
    {
     "name": "stdout",
     "output_type": "stream",
     "text": [
      "number of successes: 38\n"
     ]
    }
   ],
   "source": [
    "cnt = 0\n",
    "for i in range(1, 51):    \n",
    "    init_state = np.array(8*[0])\n",
    "    best_state, best_fitness, fit_crv8QGA = mlrose_hiive.genetic_alg(problemQ, mutation_prob = 0.2, max_attempts = 40, \n",
    "                                                                pop_size=200, curve=True, random_state = i)\n",
    "    if best_fitness<1:\n",
    "        cnt +=1\n",
    "print (\"number of successes:\", cnt)"
   ]
  },
  {
   "cell_type": "code",
   "execution_count": 44,
   "id": "critical-mongolia",
   "metadata": {},
   "outputs": [
    {
     "name": "stdout",
     "output_type": "stream",
     "text": [
      "number of successes: 38\n"
     ]
    }
   ],
   "source": [
    "cnt = 0\n",
    "ibest = -1\n",
    "bestL = 1000\n",
    "for i in range(1, 51):    \n",
    "    init_state = np.array(8*[0])\n",
    "    best_state, best_fitness, fit_crv8QGA = mlrose_hiive.genetic_alg(problemQ, mutation_prob = 0.2, max_attempts = 50, \n",
    "                                                                pop_size=200, curve=True, random_state = i)\n",
    "    if best_fitness<1:\n",
    "        cnt +=1\n",
    "        if len(fit_crv8QGA)<bestL:\n",
    "            ibest = i\n",
    "            bestL = len(fit_crv8QGA)\n",
    "print (\"number of successes:\", cnt)"
   ]
  },
  {
   "cell_type": "code",
   "execution_count": 45,
   "id": "american-environment",
   "metadata": {},
   "outputs": [
    {
     "name": "stdout",
     "output_type": "stream",
     "text": [
      "9 53\n"
     ]
    }
   ],
   "source": [
    "print (ibest, bestL)"
   ]
  },
  {
   "cell_type": "code",
   "execution_count": 46,
   "id": "authorized-essence",
   "metadata": {},
   "outputs": [],
   "source": [
    "best_state, best_fitness, fit_crv8QGA = mlrose_hiive.genetic_alg(problemQ, mutation_prob = 0.2, max_attempts = 50, \n",
    "                                                                pop_size=200, curve=True, random_state = 9)"
   ]
  },
  {
   "cell_type": "code",
   "execution_count": 47,
   "id": "mobile-quick",
   "metadata": {},
   "outputs": [
    {
     "data": {
      "text/plain": [
       "[<matplotlib.lines.Line2D at 0x17e8148bb80>]"
      ]
     },
     "execution_count": 47,
     "metadata": {},
     "output_type": "execute_result"
    },
    {
     "data": {
      "image/png": "[encoded data removed]",
      "text/plain": [
       "<Figure size 432x288 with 1 Axes>"
      ]
     },
     "metadata": {},
     "output_type": "display_data"
    }
   ],
   "source": [
    "plt.plot(fit_crv8QGA)"
   ]
  },
  {
   "cell_type": "code",
   "execution_count": 48,
   "id": "continent-azerbaijan",
   "metadata": {},
   "outputs": [
    {
     "name": "stdout",
     "output_type": "stream",
     "text": [
      "number of successes: 6\n"
     ]
    }
   ],
   "source": [
    "cnt = 0\n",
    "ibest = -1\n",
    "bestL = 1000\n",
    "for i in range(1, 51):    \n",
    "    init_state = np.array(8*[0])\n",
    "    best_state, best_fitness, fit_crv8QGA = mlrose_hiive.genetic_alg(problemQ, mutation_prob = 0.2, max_attempts = 40, \n",
    "                                                                pop_size=20, curve=True, random_state = i)\n",
    "    if best_fitness<1:\n",
    "        cnt +=1\n",
    "        if len(fit_crv8QGA)<bestL:\n",
    "            ibest = i\n",
    "            bestL = len(fit_crv8QGA)\n",
    "print (\"number of successes:\", cnt)"
   ]
  },
  {
   "cell_type": "code",
   "execution_count": 49,
   "id": "exceptional-database",
   "metadata": {},
   "outputs": [
    {
     "name": "stdout",
     "output_type": "stream",
     "text": [
      "number of successes: 8\n"
     ]
    }
   ],
   "source": [
    "cnt = 0\n",
    "ibest = -1\n",
    "bestL = 1000\n",
    "for i in range(1, 51):    \n",
    "    init_state = np.array(8*[0])\n",
    "    best_state, best_fitness, fit_crv8QGA = mlrose_hiive.genetic_alg(problemQ, mutation_prob = 0.2, max_attempts = 40, \n",
    "                                                                pop_size=40, curve=True, random_state = i)\n",
    "    if best_fitness<1:\n",
    "        cnt +=1\n",
    "        if len(fit_crv8QGA)<bestL:\n",
    "            ibest = i\n",
    "            bestL = len(fit_crv8QGA)\n",
    "print (\"number of successes:\", cnt)"
   ]
  },
  {
   "cell_type": "code",
   "execution_count": 50,
   "id": "furnished-timothy",
   "metadata": {},
   "outputs": [
    {
     "name": "stdout",
     "output_type": "stream",
     "text": [
      "number of successes: 21\n"
     ]
    }
   ],
   "source": [
    "cnt = 0\n",
    "ibest = -1\n",
    "bestL = 1000\n",
    "for i in range(1, 51):    \n",
    "    init_state = np.array(8*[0])\n",
    "    best_state, best_fitness, fit_crv8QGA = mlrose_hiive.genetic_alg(problemQ, mutation_prob = 0.2, max_attempts = 40, \n",
    "                                                                pop_size=60, curve=True, random_state = i)\n",
    "    if best_fitness<1:\n",
    "        cnt +=1\n",
    "        if len(fit_crv8QGA)<bestL:\n",
    "            ibest = i\n",
    "            bestL = len(fit_crv8QGA)\n",
    "print (\"number of successes:\", cnt)"
   ]
  },
  {
   "cell_type": "code",
   "execution_count": 51,
   "id": "regulation-behavior",
   "metadata": {},
   "outputs": [
    {
     "name": "stdout",
     "output_type": "stream",
     "text": [
      "number of successes: 28\n"
     ]
    }
   ],
   "source": [
    "cnt = 0\n",
    "ibest = -1\n",
    "bestL = 1000\n",
    "for i in range(1, 51):    \n",
    "    init_state = np.array(8*[0])\n",
    "    best_state, best_fitness, fit_crv8QGA = mlrose_hiive.genetic_alg(problemQ, mutation_prob = 0.2, max_attempts = 40, \n",
    "                                                                pop_size=80, curve=True, random_state = i)\n",
    "    if best_fitness<1:\n",
    "        cnt +=1\n",
    "        if len(fit_crv8QGA)<bestL:\n",
    "            ibest = i\n",
    "            bestL = len(fit_crv8QGA)\n",
    "print (\"number of successes:\", cnt)"
   ]
  },
  {
   "cell_type": "code",
   "execution_count": 52,
   "id": "applied-refrigerator",
   "metadata": {},
   "outputs": [
    {
     "name": "stdout",
     "output_type": "stream",
     "text": [
      "number of successes: 25\n"
     ]
    }
   ],
   "source": [
    "cnt = 0\n",
    "ibest = -1\n",
    "bestL = 1000\n",
    "for i in range(1, 51):    \n",
    "    init_state = np.array(8*[0])\n",
    "    best_state, best_fitness, fit_crv8QGA = mlrose_hiive.genetic_alg(problemQ, mutation_prob = 0.2, max_attempts = 40, \n",
    "                                                                pop_size=100, curve=True, random_state = i)\n",
    "    if best_fitness<1:\n",
    "        cnt +=1\n",
    "        if len(fit_crv8QGA)<bestL:\n",
    "            ibest = i\n",
    "            bestL = len(fit_crv8QGA)\n",
    "print (\"number of successes:\", cnt)"
   ]
  },
  {
   "cell_type": "code",
   "execution_count": 53,
   "id": "perfect-belarus",
   "metadata": {},
   "outputs": [
    {
     "name": "stdout",
     "output_type": "stream",
     "text": [
      "number of successes: 32\n"
     ]
    }
   ],
   "source": [
    "cnt = 0\n",
    "ibest = -1\n",
    "bestL = 1000\n",
    "for i in range(1, 51):    \n",
    "    init_state = np.array(8*[0])\n",
    "    best_state, best_fitness, fit_crv8QGA = mlrose_hiive.genetic_alg(problemQ, mutation_prob = 0.2, max_attempts = 40, \n",
    "                                                                pop_size=120, curve=True, random_state = i)\n",
    "    if best_fitness<1:\n",
    "        cnt +=1\n",
    "        if len(fit_crv8QGA)<bestL:\n",
    "            ibest = i\n",
    "            bestL = len(fit_crv8QGA)\n",
    "print (\"number of successes:\", cnt)"
   ]
  },
  {
   "cell_type": "code",
   "execution_count": 54,
   "id": "growing-paraguay",
   "metadata": {},
   "outputs": [
    {
     "name": "stdout",
     "output_type": "stream",
     "text": [
      "number of successes: 34\n"
     ]
    }
   ],
   "source": [
    "cnt = 0\n",
    "ibest = -1\n",
    "bestL = 1000\n",
    "for i in range(1, 51):    \n",
    "    init_state = np.array(8*[0])\n",
    "    best_state, best_fitness, fit_crv8QGA = mlrose_hiive.genetic_alg(problemQ, mutation_prob = 0.2, max_attempts = 40, \n",
    "                                                                pop_size=140, curve=True, random_state = i)\n",
    "    if best_fitness<1:\n",
    "        cnt +=1\n",
    "        if len(fit_crv8QGA)<bestL:\n",
    "            ibest = i\n",
    "            bestL = len(fit_crv8QGA)\n",
    "print (\"number of successes:\", cnt)"
   ]
  },
  {
   "cell_type": "code",
   "execution_count": 55,
   "id": "defined-garden",
   "metadata": {},
   "outputs": [
    {
     "name": "stdout",
     "output_type": "stream",
     "text": [
      "number of successes: 35\n"
     ]
    }
   ],
   "source": [
    "cnt = 0\n",
    "ibest = -1\n",
    "bestL = 1000\n",
    "for i in range(1, 51):    \n",
    "    init_state = np.array(8*[0])\n",
    "    best_state, best_fitness, fit_crv8QGA = mlrose_hiive.genetic_alg(problemQ, mutation_prob = 0.2, max_attempts = 40, \n",
    "                                                                pop_size=150, curve=True, random_state = i)\n",
    "    if best_fitness<1:\n",
    "        cnt +=1\n",
    "        if len(fit_crv8QGA)<bestL:\n",
    "            ibest = i\n",
    "            bestL = len(fit_crv8QGA)\n",
    "print (\"number of successes:\", cnt)"
   ]
  },
  {
   "cell_type": "code",
   "execution_count": 56,
   "id": "corresponding-imagination",
   "metadata": {},
   "outputs": [
    {
     "name": "stdout",
     "output_type": "stream",
     "text": [
      "number of successes: 35\n"
     ]
    }
   ],
   "source": [
    "cnt = 0\n",
    "ibest = -1\n",
    "bestL = 1000\n",
    "for i in range(1, 51):    \n",
    "    init_state = np.array(8*[0])\n",
    "    best_state, best_fitness, fit_crv8QGA = mlrose_hiive.genetic_alg(problemQ, mutation_prob = 0.2, max_attempts = 40, \n",
    "                                                                pop_size=175, curve=True, random_state = i)\n",
    "    if best_fitness<1:\n",
    "        cnt +=1\n",
    "        if len(fit_crv8QGA)<bestL:\n",
    "            ibest = i\n",
    "            bestL = len(fit_crv8QGA)\n",
    "print (\"number of successes:\", cnt)"
   ]
  },
  {
   "cell_type": "code",
   "execution_count": 57,
   "id": "golden-support",
   "metadata": {},
   "outputs": [
    {
     "name": "stdout",
     "output_type": "stream",
     "text": [
      "number of successes: 42\n"
     ]
    }
   ],
   "source": [
    "cnt = 0\n",
    "ibest = -1\n",
    "bestL = 1000\n",
    "for i in range(1, 51):    \n",
    "    init_state = np.array(8*[0])\n",
    "    best_state, best_fitness, fit_crv8QGA = mlrose_hiive.genetic_alg(problemQ, mutation_prob = 0.2, max_attempts = 40, \n",
    "                                                                pop_size=225, curve=True, random_state = i)\n",
    "    if best_fitness<1:\n",
    "        cnt +=1\n",
    "        if len(fit_crv8QGA)<bestL:\n",
    "            ibest = i\n",
    "            bestL = len(fit_crv8QGA)\n",
    "print (\"number of successes:\", cnt)"
   ]
  },
  {
   "cell_type": "code",
   "execution_count": 58,
   "id": "alpha-scout",
   "metadata": {},
   "outputs": [
    {
     "name": "stdout",
     "output_type": "stream",
     "text": [
      "number of successes: 42\n"
     ]
    }
   ],
   "source": [
    "cnt = 0\n",
    "ibest = -1\n",
    "bestL = 1000\n",
    "for i in range(1, 51):    \n",
    "    init_state = np.array(8*[0])\n",
    "    best_state, best_fitness, fit_crv8QGA = mlrose_hiive.genetic_alg(problemQ, mutation_prob = 0.2, max_attempts = 40, \n",
    "                                                                pop_size=250, curve=True, random_state = i)\n",
    "    if best_fitness<1:\n",
    "        cnt +=1\n",
    "        if len(fit_crv8QGA)<bestL:\n",
    "            ibest = i\n",
    "            bestL = len(fit_crv8QGA)\n",
    "print (\"number of successes:\", cnt)"
   ]
  },
  {
   "cell_type": "code",
   "execution_count": 59,
   "id": "identical-estimate",
   "metadata": {},
   "outputs": [
    {
     "name": "stdout",
     "output_type": "stream",
     "text": [
      "number of successes: 45\n"
     ]
    }
   ],
   "source": [
    "cnt = 0\n",
    "ibest = -1\n",
    "bestL = 1000\n",
    "for i in range(1, 51):    \n",
    "    init_state = np.array(8*[0])\n",
    "    best_state, best_fitness, fit_crv8QGA = mlrose_hiive.genetic_alg(problemQ, mutation_prob = 0.2, max_attempts = 40, \n",
    "                                                                pop_size=275, curve=True, random_state = i)\n",
    "    if best_fitness<1:\n",
    "        cnt +=1\n",
    "        if len(fit_crv8QGA)<bestL:\n",
    "            ibest = i\n",
    "            bestL = len(fit_crv8QGA)\n",
    "print (\"number of successes:\", cnt)"
   ]
  },
  {
   "cell_type": "code",
   "execution_count": 60,
   "id": "communist-balloon",
   "metadata": {},
   "outputs": [
    {
     "name": "stdout",
     "output_type": "stream",
     "text": [
      "number of successes: 41\n"
     ]
    }
   ],
   "source": [
    "cnt = 0\n",
    "ibest = -1\n",
    "bestL = 1000\n",
    "for i in range(1, 51):    \n",
    "    init_state = np.array(8*[0])\n",
    "    best_state, best_fitness, fit_crv8QGA = mlrose_hiive.genetic_alg(problemQ, mutation_prob = 0.2, max_attempts = 40, \n",
    "                                                                pop_size=300, curve=True, random_state = i)\n",
    "    if best_fitness<1:\n",
    "        cnt +=1\n",
    "        if len(fit_crv8QGA)<bestL:\n",
    "            ibest = i\n",
    "            bestL = len(fit_crv8QGA)\n",
    "print (\"number of successes:\", cnt)"
   ]
  },
  {
   "cell_type": "code",
   "execution_count": 61,
   "id": "backed-saturn",
   "metadata": {},
   "outputs": [
    {
     "name": "stdout",
     "output_type": "stream",
     "text": [
      "number of successes: 47\n"
     ]
    }
   ],
   "source": [
    "cnt = 0\n",
    "ibest = -1\n",
    "bestL = 1000\n",
    "for i in range(1, 51):    \n",
    "    init_state = np.array(8*[0])\n",
    "    best_state, best_fitness, fit_crv8QGA = mlrose_hiive.genetic_alg(problemQ, mutation_prob = 0.2, max_attempts = 40, \n",
    "                                                                pop_size=400, curve=True, random_state = i)\n",
    "    if best_fitness<1:\n",
    "        cnt +=1\n",
    "        if len(fit_crv8QGA)<bestL:\n",
    "            ibest = i\n",
    "            bestL = len(fit_crv8QGA)\n",
    "print (\"number of successes:\", cnt)"
   ]
  },
  {
   "cell_type": "code",
   "execution_count": 62,
   "id": "moving-bishop",
   "metadata": {},
   "outputs": [
    {
     "name": "stdout",
     "output_type": "stream",
     "text": [
      "number of successes: 48\n"
     ]
    }
   ],
   "source": [
    "cnt = 0\n",
    "ibest = -1\n",
    "bestL = 1000\n",
    "for i in range(1, 51):    \n",
    "    init_state = np.array(8*[0])\n",
    "    best_state, best_fitness, fit_crv8QGA = mlrose_hiive.genetic_alg(problemQ, mutation_prob = 0.2, max_attempts = 40, \n",
    "                                                                pop_size=500, curve=True, random_state = i)\n",
    "    if best_fitness<1:\n",
    "        cnt +=1\n",
    "        if len(fit_crv8QGA)<bestL:\n",
    "            ibest = i\n",
    "            bestL = len(fit_crv8QGA)\n",
    "print (\"number of successes:\", cnt)"
   ]
  },
  {
   "cell_type": "code",
   "execution_count": 63,
   "id": "affiliated-cement",
   "metadata": {},
   "outputs": [
    {
     "name": "stdout",
     "output_type": "stream",
     "text": [
      "number of successes: 38\n"
     ]
    }
   ],
   "source": [
    "cnt = 0\n",
    "ibest = -1\n",
    "bestL = 1000\n",
    "for i in range(1, 51):    \n",
    "    init_state = np.array(8*[0])\n",
    "    best_state, best_fitness, fit_crv8QGA = mlrose_hiive.genetic_alg(problemQ, mutation_prob = 0.2, max_attempts = 20, \n",
    "                                                                pop_size=275, curve=True, random_state = i)\n",
    "    if best_fitness<1:\n",
    "        cnt +=1\n",
    "        if len(fit_crv8QGA)<bestL:\n",
    "            ibest = i\n",
    "            bestL = len(fit_crv8QGA)\n",
    "print (\"number of successes:\", cnt)"
   ]
  },
  {
   "cell_type": "code",
   "execution_count": 65,
   "id": "blank-sleep",
   "metadata": {},
   "outputs": [
    {
     "name": "stdout",
     "output_type": "stream",
     "text": [
      "number of successes: 43\n"
     ]
    }
   ],
   "source": [
    "cnt = 0\n",
    "ibest = -1\n",
    "bestL = 1000\n",
    "for i in range(1, 51):    \n",
    "    init_state = np.array(8*[0])\n",
    "    best_state, best_fitness, fit_crv8QGA = mlrose_hiive.genetic_alg(problemQ, mutation_prob = 0.2, max_attempts = 30, \n",
    "                                                                pop_size=275, curve=True, random_state = i)\n",
    "    if best_fitness<1:\n",
    "        cnt +=1\n",
    "        if len(fit_crv8QGA)<bestL:\n",
    "            ibest = i\n",
    "            bestL = len(fit_crv8QGA)\n",
    "print (\"number of successes:\", cnt)"
   ]
  },
  {
   "cell_type": "code",
   "execution_count": 66,
   "id": "solid-liverpool",
   "metadata": {},
   "outputs": [
    {
     "name": "stdout",
     "output_type": "stream",
     "text": [
      "number of successes: 45\n"
     ]
    }
   ],
   "source": [
    "cnt = 0\n",
    "ibest = -1\n",
    "bestL = 1000\n",
    "for i in range(1, 51):    \n",
    "    init_state = np.array(8*[0])\n",
    "    best_state, best_fitness, fit_crv8QGA = mlrose_hiive.genetic_alg(problemQ, mutation_prob = 0.2, max_attempts = 50, \n",
    "                                                                pop_size=275, curve=True, random_state = i)\n",
    "    if best_fitness<1:\n",
    "        cnt +=1\n",
    "        if len(fit_crv8QGA)<bestL:\n",
    "            ibest = i\n",
    "            bestL = len(fit_crv8QGA)\n",
    "print (\"number of successes:\", cnt)"
   ]
  },
  {
   "cell_type": "code",
   "execution_count": 67,
   "id": "wanted-tampa",
   "metadata": {},
   "outputs": [
    {
     "name": "stdout",
     "output_type": "stream",
     "text": [
      "number of successes: 45\n"
     ]
    }
   ],
   "source": [
    "cnt = 0\n",
    "ibest = -1\n",
    "bestL = 1000\n",
    "for i in range(1, 51):    \n",
    "    init_state = np.array(8*[0])\n",
    "    best_state, best_fitness, fit_crv8QGA = mlrose_hiive.genetic_alg(problemQ, mutation_prob = 0.2, max_attempts = 60, \n",
    "                                                                pop_size=275, curve=True, random_state = i)\n",
    "    if best_fitness<1:\n",
    "        cnt +=1\n",
    "        if len(fit_crv8QGA)<bestL:\n",
    "            ibest = i\n",
    "            bestL = len(fit_crv8QGA)\n",
    "print (\"number of successes:\", cnt)"
   ]
  },
  {
   "cell_type": "code",
   "execution_count": 68,
   "id": "liquid-steel",
   "metadata": {},
   "outputs": [
    {
     "name": "stdout",
     "output_type": "stream",
     "text": [
      "number of successes: 45\n"
     ]
    }
   ],
   "source": [
    "cnt = 0\n",
    "ibest = -1\n",
    "bestL = 1000\n",
    "for i in range(1, 51):    \n",
    "    init_state = np.array(8*[0])\n",
    "    best_state, best_fitness, fit_crv8QGA = mlrose_hiive.genetic_alg(problemQ, mutation_prob = 0.2, max_attempts = 70, \n",
    "                                                                pop_size=275, curve=True, random_state = i)\n",
    "    if best_fitness<1:\n",
    "        cnt +=1\n",
    "        if len(fit_crv8QGA)<bestL:\n",
    "            ibest = i\n",
    "            bestL = len(fit_crv8QGA)\n",
    "print (\"number of successes:\", cnt)"
   ]
  },
  {
   "cell_type": "code",
   "execution_count": 69,
   "id": "julian-smell",
   "metadata": {},
   "outputs": [
    {
     "name": "stdout",
     "output_type": "stream",
     "text": [
      "number of successes: 45\n"
     ]
    }
   ],
   "source": [
    "cnt = 0\n",
    "ibest = -1\n",
    "bestL = 1000\n",
    "for i in range(1, 51):    \n",
    "    init_state = np.array(8*[0])\n",
    "    best_state, best_fitness, fit_crv8QGA = mlrose_hiive.genetic_alg(problemQ, mutation_prob = 0.2, max_attempts = 80, \n",
    "                                                                pop_size=275, curve=True, random_state = i)\n",
    "    if best_fitness<1:\n",
    "        cnt +=1\n",
    "        if len(fit_crv8QGA)<bestL:\n",
    "            ibest = i\n",
    "            bestL = len(fit_crv8QGA)\n",
    "print (\"number of successes:\", cnt)"
   ]
  },
  {
   "cell_type": "code",
   "execution_count": 70,
   "id": "vietnamese-spain",
   "metadata": {},
   "outputs": [
    {
     "name": "stdout",
     "output_type": "stream",
     "text": [
      "number of successes: 45\n"
     ]
    }
   ],
   "source": [
    "cnt = 0\n",
    "ibest = -1\n",
    "bestL = 1000\n",
    "for i in range(1, 51):    \n",
    "    init_state = np.array(8*[0])\n",
    "    best_state, best_fitness, fit_crv8QGA = mlrose_hiive.genetic_alg(problemQ, mutation_prob = 0.2, max_attempts = 100, \n",
    "                                                                pop_size=275, curve=True, random_state = i)\n",
    "    if best_fitness<1:\n",
    "        cnt +=1\n",
    "        if len(fit_crv8QGA)<bestL:\n",
    "            ibest = i\n",
    "            bestL = len(fit_crv8QGA)\n",
    "print (\"number of successes:\", cnt)"
   ]
  },
  {
   "cell_type": "code",
   "execution_count": 71,
   "id": "tender-prefix",
   "metadata": {},
   "outputs": [
    {
     "name": "stdout",
     "output_type": "stream",
     "text": [
      "number of successes: 49\n"
     ]
    }
   ],
   "source": [
    "cnt = 0\n",
    "ibest = -1\n",
    "bestL = 1000\n",
    "for i in range(1, 51):    \n",
    "    init_state = np.array(8*[0])\n",
    "    best_state, best_fitness, fit_crv8QGA = mlrose_hiive.genetic_alg(problemQ, mutation_prob = 0.2, max_attempts = 450, \n",
    "                                                                pop_size=500, curve=True, random_state = i)\n",
    "    if best_fitness<1:\n",
    "        cnt +=1\n",
    "        if len(fit_crv8QGA)<bestL:\n",
    "            ibest = i\n",
    "            bestL = len(fit_crv8QGA)\n",
    "print (\"number of successes:\", cnt)"
   ]
  },
  {
   "cell_type": "code",
   "execution_count": 72,
   "id": "primary-hayes",
   "metadata": {},
   "outputs": [
    {
     "name": "stdout",
     "output_type": "stream",
     "text": [
      "number of successes: 49\n"
     ]
    }
   ],
   "source": [
    "cnt = 0\n",
    "ibest = -1\n",
    "bestL = 1000\n",
    "for i in range(1, 51):    \n",
    "    init_state = np.array(8*[0])\n",
    "    best_state, best_fitness, fit_crv8QGA = mlrose_hiive.genetic_alg(problemQ, mutation_prob = 0.2, max_attempts = 100, \n",
    "                                                                pop_size=500, curve=True, random_state = i)\n",
    "    if best_fitness<1:\n",
    "        cnt +=1\n",
    "        if len(fit_crv8QGA)<bestL:\n",
    "            ibest = i\n",
    "            bestL = len(fit_crv8QGA)\n",
    "print (\"number of successes:\", cnt)"
   ]
  },
  {
   "cell_type": "code",
   "execution_count": 1,
   "id": "placed-energy",
   "metadata": {},
   "outputs": [],
   "source": [
    "import numpy as np\n",
    "from sklearn.datasets import load_iris\n",
    "from sklearn.model_selection import train_test_split\n",
    "from sklearn.preprocessing import MinMaxScaler, OneHotEncoder\n",
    "from sklearn.metrics import accuracy_score\n",
    "from matplotlib import pyplot as plt\n",
    "plt.style.use('seaborn-whitegrid')\n",
    "import mlrose_hiive"
   ]
  },
  {
   "cell_type": "code",
   "execution_count": 2,
   "id": "floating-macro",
   "metadata": {},
   "outputs": [],
   "source": [
    "# following https://github.com/hiive/mlrose/blob/master/tutorial_examples.ipynb:\n",
    "fitness = mlrose_hiive.Queens()\n",
    "problemQ = mlrose_hiive.DiscreteOpt(length = 8, fitness_fn = fitness, maximize=False, max_val=8)"
   ]
  },
  {
   "cell_type": "code",
   "execution_count": 3,
   "id": "corporate-newspaper",
   "metadata": {},
   "outputs": [
    {
     "name": "stdout",
     "output_type": "stream",
     "text": [
      "number of successes: 45\n"
     ]
    }
   ],
   "source": [
    "cnt = 0\n",
    "ibest = -1\n",
    "bestL = 1000\n",
    "for i in range(1, 51):    \n",
    "    init_state = np.array(8*[0])\n",
    "    best_state, best_fitness, fit_crv8QGA = mlrose_hiive.genetic_alg(problemQ, mutation_prob = 0.2, max_attempts = 40, \n",
    "                                                                pop_size=275, curve=True, random_state = i)\n",
    "    if best_fitness<1:\n",
    "        cnt +=1\n",
    "        if len(fit_crv8QGA)<bestL:\n",
    "            ibest = i\n",
    "            bestL = len(fit_crv8QGA)\n",
    "print (\"number of successes:\", cnt)"
   ]
  },
  {
   "cell_type": "code",
   "execution_count": 4,
   "id": "figured-century",
   "metadata": {},
   "outputs": [
    {
     "name": "stdout",
     "output_type": "stream",
     "text": [
      "22 42\n"
     ]
    }
   ],
   "source": [
    "print(ibest, bestL)"
   ]
  },
  {
   "cell_type": "code",
   "execution_count": 5,
   "id": "english-rwanda",
   "metadata": {},
   "outputs": [
    {
     "name": "stdout",
     "output_type": "stream",
     "text": [
      "number of successes: 43\n"
     ]
    }
   ],
   "source": [
    "cnt = 0\n",
    "ibest = -1\n",
    "bestL = 1000\n",
    "for i in range(1, 51):    \n",
    "    init_state = np.array(8*[0])\n",
    "    best_state, best_fitness, fit_crv8QGA = mlrose_hiive.genetic_alg(problemQ, mutation_prob = 0.3, max_attempts = 40, \n",
    "                                                                pop_size=275, curve=True, random_state = i)\n",
    "    if best_fitness<1:\n",
    "        cnt +=1\n",
    "        if len(fit_crv8QGA)<bestL:\n",
    "            ibest = i\n",
    "            bestL = len(fit_crv8QGA)\n",
    "print (\"number of successes:\", cnt)"
   ]
  },
  {
   "cell_type": "code",
   "execution_count": 6,
   "id": "antique-examination",
   "metadata": {},
   "outputs": [
    {
     "name": "stdout",
     "output_type": "stream",
     "text": [
      "number of successes: 45\n"
     ]
    }
   ],
   "source": [
    "cnt = 0\n",
    "ibest = -1\n",
    "bestL = 1000\n",
    "for i in range(1, 51):    \n",
    "    init_state = np.array(8*[0])\n",
    "    best_state, best_fitness, fit_crv8QGA = mlrose_hiive.genetic_alg(problemQ, mutation_prob = 0.4, max_attempts = 40, \n",
    "                                                                pop_size=275, curve=True, random_state = i)\n",
    "    if best_fitness<1:\n",
    "        cnt +=1\n",
    "        if len(fit_crv8QGA)<bestL:\n",
    "            ibest = i\n",
    "            bestL = len(fit_crv8QGA)\n",
    "print (\"number of successes:\", cnt)"
   ]
  },
  {
   "cell_type": "code",
   "execution_count": 7,
   "id": "composed-julian",
   "metadata": {},
   "outputs": [
    {
     "name": "stdout",
     "output_type": "stream",
     "text": [
      "number of successes: 42\n"
     ]
    }
   ],
   "source": [
    "cnt = 0\n",
    "ibest = -1\n",
    "bestL = 1000\n",
    "for i in range(1, 51):    \n",
    "    init_state = np.array(8*[0])\n",
    "    best_state, best_fitness, fit_crv8QGA = mlrose_hiive.genetic_alg(problemQ, mutation_prob = 0.5, max_attempts = 40, \n",
    "                                                                pop_size=275, curve=True, random_state = i)\n",
    "    if best_fitness<1:\n",
    "        cnt +=1\n",
    "        if len(fit_crv8QGA)<bestL:\n",
    "            ibest = i\n",
    "            bestL = len(fit_crv8QGA)\n",
    "print (\"number of successes:\", cnt)"
   ]
  },
  {
   "cell_type": "code",
   "execution_count": 8,
   "id": "imported-prairie",
   "metadata": {},
   "outputs": [
    {
     "name": "stdout",
     "output_type": "stream",
     "text": [
      "number of successes: 43\n"
     ]
    }
   ],
   "source": [
    "cnt = 0\n",
    "ibest = -1\n",
    "bestL = 1000\n",
    "for i in range(1, 51):    \n",
    "    init_state = np.array(8*[0])\n",
    "    best_state, best_fitness, fit_crv8QGA = mlrose_hiive.genetic_alg(problemQ, mutation_prob = 0.75, max_attempts = 40, \n",
    "                                                                pop_size=275, curve=True, random_state = i)\n",
    "    if best_fitness<1:\n",
    "        cnt +=1\n",
    "        if len(fit_crv8QGA)<bestL:\n",
    "            ibest = i\n",
    "            bestL = len(fit_crv8QGA)\n",
    "print (\"number of successes:\", cnt)"
   ]
  },
  {
   "cell_type": "code",
   "execution_count": 9,
   "id": "nuclear-niger",
   "metadata": {},
   "outputs": [
    {
     "name": "stdout",
     "output_type": "stream",
     "text": [
      "number of successes: 38\n"
     ]
    }
   ],
   "source": [
    "cnt = 0\n",
    "ibest = -1\n",
    "bestL = 1000\n",
    "for i in range(1, 51):    \n",
    "    init_state = np.array(8*[0])\n",
    "    best_state, best_fitness, fit_crv8QGA = mlrose_hiive.genetic_alg(problemQ, mutation_prob = 0.1, max_attempts = 40, \n",
    "                                                                pop_size=275, curve=True, random_state = i)\n",
    "    if best_fitness<1:\n",
    "        cnt +=1\n",
    "        if len(fit_crv8QGA)<bestL:\n",
    "            ibest = i\n",
    "            bestL = len(fit_crv8QGA)\n",
    "print (\"number of successes:\", cnt)"
   ]
  },
  {
   "cell_type": "code",
   "execution_count": 10,
   "id": "exclusive-sentence",
   "metadata": {},
   "outputs": [],
   "source": [
    "best_state, best_fitness, fit_crv8QGA = mlrose_hiive.genetic_alg(problemQ, mutation_prob = 0.2, max_attempts = 40, \n",
    "                                                                pop_size=275, curve=True, random_state = 22)"
   ]
  },
  {
   "cell_type": "code",
   "execution_count": 11,
   "id": "successful-counter",
   "metadata": {},
   "outputs": [
    {
     "data": {
      "text/plain": [
       "[<matplotlib.lines.Line2D at 0x25117c4bfa0>]"
      ]
     },
     "execution_count": 11,
     "metadata": {},
     "output_type": "execute_result"
    },
    {
     "data": {
      "image/png": "[encoded data removed]",
      "text/plain": [
       "<Figure size 432x288 with 1 Axes>"
      ]
     },
     "metadata": {},
     "output_type": "display_data"
    }
   ],
   "source": [
    "plt.plot(fit_crv8QGA)"
   ]
  },
  {
   "cell_type": "markdown",
   "id": "living-third",
   "metadata": {},
   "source": [
    "#### RHC (Random Hill Climbing)"
   ]
  },
  {
   "cell_type": "code",
   "execution_count": 13,
   "id": "bizarre-disposal",
   "metadata": {},
   "outputs": [
    {
     "name": "stdout",
     "output_type": "stream",
     "text": [
      "[4 0 7 3 6 0 2 5] 1.0 156\n"
     ]
    }
   ],
   "source": [
    "init_state = np.array(8*[0])\n",
    "best_state, best_fitness, fit_crv8QRHC = mlrose_hiive.random_hill_climb(problemQ,\n",
    "                            restarts=5, max_attempts = 100, curve=True, max_iters = 1000, init_state = init_state,\n",
    "                            random_state=12)\n",
    "print(best_state, best_fitness, len(fit_crv8QRHC))"
   ]
  },
  {
   "cell_type": "code",
   "execution_count": 15,
   "id": "inclusive-rings",
   "metadata": {},
   "outputs": [
    {
     "name": "stdout",
     "output_type": "stream",
     "text": [
      "number of successes: 26\n"
     ]
    }
   ],
   "source": [
    "cnt = 0\n",
    "ibest = -1\n",
    "bestL = 1000\n",
    "for i in range(1, 51):\n",
    "    init_state = np.array(8*[0])\n",
    "    best_state, best_fitness, fit_crv8QRHC = mlrose_hiive.random_hill_climb(problemQ,\n",
    "                                restarts=5, max_attempts = 100, curve=True, max_iters = 1000, init_state = init_state,\n",
    "                                random_state=i)\n",
    "    if best_fitness<1:\n",
    "        cnt +=1\n",
    "print (\"number of successes:\", cnt)\n",
    "#print(best_state, best_fitness, len(fit_crv8QRHC))"
   ]
  },
  {
   "cell_type": "markdown",
   "id": "dried-artist",
   "metadata": {},
   "source": [
    "It's strange but they don't have l.r.as a parameter"
   ]
  },
  {
   "cell_type": "code",
   "execution_count": 16,
   "id": "adapted-confidentiality",
   "metadata": {},
   "outputs": [
    {
     "name": "stdout",
     "output_type": "stream",
     "text": [
      "number of successes: 26\n"
     ]
    }
   ],
   "source": [
    "cnt = 0\n",
    "ibest = -1\n",
    "bestL = 1000\n",
    "for i in range(1, 51):\n",
    "    init_state = np.array(8*[0])\n",
    "    best_state, best_fitness, fit_crv8QRHC = mlrose_hiive.random_hill_climb(problemQ,\n",
    "                                restarts=5, max_attempts = 100, curve=True, max_iters = 1000, init_state = init_state,\n",
    "                                random_state=i)\n",
    "    if best_fitness<1:\n",
    "        cnt +=1\n",
    "        if len(fit_crv8QRHC)<bestL:\n",
    "            ibest = i\n",
    "            bestL = len(fit_crv8QGA)\n",
    "print (\"number of successes:\", cnt)"
   ]
  },
  {
   "cell_type": "code",
   "execution_count": 17,
   "id": "combined-integrity",
   "metadata": {},
   "outputs": [
    {
     "name": "stdout",
     "output_type": "stream",
     "text": [
      "2 42\n"
     ]
    }
   ],
   "source": [
    "print(ibest, bestL)"
   ]
  },
  {
   "cell_type": "code",
   "execution_count": 18,
   "id": "addressed-browser",
   "metadata": {},
   "outputs": [
    {
     "name": "stdout",
     "output_type": "stream",
     "text": [
      "number of successes: 26\n"
     ]
    }
   ],
   "source": [
    "cnt = 0\n",
    "ibest = -1\n",
    "bestL = 1000\n",
    "for i in range(1, 51):\n",
    "    init_state = np.array(8*[0])\n",
    "    best_state, best_fitness, fit_crv8QRHC = mlrose_hiive.random_hill_climb(problemQ,\n",
    "                                restarts=5, max_attempts = 150, curve=True, max_iters = 1000, init_state = init_state,\n",
    "                                random_state=i)\n",
    "    if best_fitness<1:\n",
    "        cnt +=1\n",
    "        if len(fit_crv8QRHC)<bestL:\n",
    "            ibest = i\n",
    "            bestL = len(fit_crv8QGA)\n",
    "print (\"number of successes:\", cnt)"
   ]
  },
  {
   "cell_type": "code",
   "execution_count": 19,
   "id": "manual-forty",
   "metadata": {},
   "outputs": [
    {
     "name": "stdout",
     "output_type": "stream",
     "text": [
      "number of successes: 29\n"
     ]
    }
   ],
   "source": [
    "cnt = 0\n",
    "ibest = -1\n",
    "bestL = 1000\n",
    "for i in range(1, 51):\n",
    "    init_state = np.array(8*[0])\n",
    "    best_state, best_fitness, fit_crv8QRHC = mlrose_hiive.random_hill_climb(problemQ,\n",
    "                                restarts=5, max_attempts = 200, curve=True, max_iters = 1000, init_state = init_state,\n",
    "                                random_state=i)\n",
    "    if best_fitness<1:\n",
    "        cnt +=1\n",
    "        if len(fit_crv8QRHC)<bestL:\n",
    "            ibest = i\n",
    "            bestL = len(fit_crv8QGA)\n",
    "print (\"number of successes:\", cnt)"
   ]
  },
  {
   "cell_type": "code",
   "execution_count": 20,
   "id": "younger-vocabulary",
   "metadata": {},
   "outputs": [
    {
     "name": "stdout",
     "output_type": "stream",
     "text": [
      "number of successes: 33\n"
     ]
    }
   ],
   "source": [
    "cnt = 0\n",
    "ibest = -1\n",
    "bestL = 1000\n",
    "for i in range(1, 51):\n",
    "    init_state = np.array(8*[0])\n",
    "    best_state, best_fitness, fit_crv8QRHC = mlrose_hiive.random_hill_climb(problemQ,\n",
    "                                restarts=5, max_attempts = 300, curve=True, max_iters = 1000, init_state = init_state,\n",
    "                                random_state=i)\n",
    "    if best_fitness<1:\n",
    "        cnt +=1\n",
    "        if len(fit_crv8QRHC)<bestL:\n",
    "            ibest = i\n",
    "            bestL = len(fit_crv8QGA)\n",
    "print (\"number of successes:\", cnt)"
   ]
  },
  {
   "cell_type": "code",
   "execution_count": 21,
   "id": "czech-heating",
   "metadata": {},
   "outputs": [
    {
     "name": "stdout",
     "output_type": "stream",
     "text": [
      "number of successes: 36\n"
     ]
    }
   ],
   "source": [
    "cnt = 0\n",
    "ibest = -1\n",
    "bestL = 1000\n",
    "for i in range(1, 51):\n",
    "    init_state = np.array(8*[0])\n",
    "    best_state, best_fitness, fit_crv8QRHC = mlrose_hiive.random_hill_climb(problemQ,\n",
    "                                restarts=5, max_attempts = 400, curve=True, max_iters = 1000, init_state = init_state,\n",
    "                                random_state=i)\n",
    "    if best_fitness<1:\n",
    "        cnt +=1\n",
    "        if len(fit_crv8QRHC)<bestL:\n",
    "            ibest = i\n",
    "            bestL = len(fit_crv8QGA)\n",
    "print (\"number of successes:\", cnt)"
   ]
  },
  {
   "cell_type": "code",
   "execution_count": 22,
   "id": "quantitative-mailing",
   "metadata": {},
   "outputs": [
    {
     "name": "stdout",
     "output_type": "stream",
     "text": [
      "number of successes: 31\n"
     ]
    }
   ],
   "source": [
    "cnt = 0\n",
    "ibest = -1\n",
    "bestL = 1000\n",
    "for i in range(1, 51):\n",
    "    init_state = np.array(8*[0])\n",
    "    best_state, best_fitness, fit_crv8QRHC = mlrose_hiive.random_hill_climb(problemQ,\n",
    "                                restarts=5, max_attempts = 500, curve=True, max_iters = 1000, init_state = init_state,\n",
    "                                random_state=i)\n",
    "    if best_fitness<1:\n",
    "        cnt +=1\n",
    "        if len(fit_crv8QRHC)<bestL:\n",
    "            ibest = i\n",
    "            bestL = len(fit_crv8QGA)\n",
    "print (\"number of successes:\", cnt)"
   ]
  },
  {
   "cell_type": "code",
   "execution_count": 23,
   "id": "obvious-boring",
   "metadata": {},
   "outputs": [
    {
     "name": "stdout",
     "output_type": "stream",
     "text": [
      "number of successes: 41\n"
     ]
    }
   ],
   "source": [
    "cnt = 0\n",
    "ibest = -1\n",
    "bestL = 1000\n",
    "for i in range(1, 51):\n",
    "    init_state = np.array(8*[0])\n",
    "    best_state, best_fitness, fit_crv8QRHC = mlrose_hiive.random_hill_climb(problemQ,\n",
    "                                restarts=10, max_attempts = 100, curve=True, max_iters = 1000, init_state = init_state,\n",
    "                                random_state=i)\n",
    "    if best_fitness<1:\n",
    "        cnt +=1\n",
    "        if len(fit_crv8QRHC)<bestL:\n",
    "            ibest = i\n",
    "            bestL = len(fit_crv8QGA)\n",
    "print (\"number of successes:\", cnt)"
   ]
  },
  {
   "cell_type": "code",
   "execution_count": 24,
   "id": "german-monitoring",
   "metadata": {},
   "outputs": [
    {
     "name": "stdout",
     "output_type": "stream",
     "text": [
      "number of successes: 46\n"
     ]
    }
   ],
   "source": [
    "cnt = 0\n",
    "ibest = -1\n",
    "bestL = 1000\n",
    "for i in range(1, 51):\n",
    "    init_state = np.array(8*[0])\n",
    "    best_state, best_fitness, fit_crv8QRHC = mlrose_hiive.random_hill_climb(problemQ,\n",
    "                                restarts=15, max_attempts = 100, curve=True, max_iters = 1000, init_state = init_state,\n",
    "                                random_state=i)\n",
    "    if best_fitness<1:\n",
    "        cnt +=1\n",
    "        if len(fit_crv8QRHC)<bestL:\n",
    "            ibest = i\n",
    "            bestL = len(fit_crv8QGA)\n",
    "print (\"number of successes:\", cnt)"
   ]
  },
  {
   "cell_type": "code",
   "execution_count": 25,
   "id": "narrative-interpretation",
   "metadata": {},
   "outputs": [
    {
     "name": "stdout",
     "output_type": "stream",
     "text": [
      "number of successes: 47\n"
     ]
    }
   ],
   "source": [
    "cnt = 0\n",
    "ibest = -1\n",
    "bestL = 1000\n",
    "for i in range(1, 51):\n",
    "    init_state = np.array(8*[0])\n",
    "    best_state, best_fitness, fit_crv8QRHC = mlrose_hiive.random_hill_climb(problemQ,\n",
    "                                restarts=25, max_attempts = 100, curve=True, max_iters = 1000, init_state = init_state,\n",
    "                                random_state=i)\n",
    "    if best_fitness<1:\n",
    "        cnt +=1\n",
    "        if len(fit_crv8QRHC)<bestL:\n",
    "            ibest = i\n",
    "            bestL = len(fit_crv8QGA)\n",
    "print (\"number of successes:\", cnt)"
   ]
  },
  {
   "cell_type": "code",
   "execution_count": 26,
   "id": "extensive-donna",
   "metadata": {},
   "outputs": [
    {
     "name": "stdout",
     "output_type": "stream",
     "text": [
      "number of successes: 50\n"
     ]
    }
   ],
   "source": [
    "cnt = 0\n",
    "ibest = -1\n",
    "bestL = 1000\n",
    "for i in range(1, 51):\n",
    "    init_state = np.array(8*[0])\n",
    "    best_state, best_fitness, fit_crv8QRHC = mlrose_hiive.random_hill_climb(problemQ,\n",
    "                                restarts=50, max_attempts = 100, curve=True, max_iters = 1000, init_state = init_state,\n",
    "                                random_state=i)\n",
    "    if best_fitness<1:\n",
    "        cnt +=1\n",
    "        if len(fit_crv8QRHC)<bestL:\n",
    "            ibest = i\n",
    "            bestL = len(fit_crv8QGA)\n",
    "print (\"number of successes:\", cnt)"
   ]
  },
  {
   "cell_type": "code",
   "execution_count": 27,
   "id": "selected-seattle",
   "metadata": {},
   "outputs": [
    {
     "name": "stdout",
     "output_type": "stream",
     "text": [
      "1 42\n"
     ]
    }
   ],
   "source": [
    "print(ibest, bestL)"
   ]
  },
  {
   "cell_type": "code",
   "execution_count": 28,
   "id": "tropical-record",
   "metadata": {},
   "outputs": [],
   "source": [
    "best_state, best_fitness, fit_crv8QRHC = mlrose_hiive.random_hill_climb(problemQ,\n",
    "                                restarts=50, max_attempts = 100, curve=True, max_iters = 1000, init_state = init_state,\n",
    "                                random_state=1)"
   ]
  },
  {
   "cell_type": "code",
   "execution_count": 29,
   "id": "color-mustang",
   "metadata": {},
   "outputs": [
    {
     "data": {
      "text/plain": [
       "[<matplotlib.lines.Line2D at 0x25117e7d340>]"
      ]
     },
     "execution_count": 29,
     "metadata": {},
     "output_type": "execute_result"
    },
    {
     "data": {
      "image/png": "[encoded data removed]",
      "text/plain": [
       "<Figure size 432x288 with 1 Axes>"
      ]
     },
     "metadata": {},
     "output_type": "display_data"
    }
   ],
   "source": [
    "plt.plot(fit_crv8QRHC)"
   ]
  },
  {
   "cell_type": "code",
   "execution_count": 30,
   "id": "optimum-sympathy",
   "metadata": {},
   "outputs": [
    {
     "name": "stdout",
     "output_type": "stream",
     "text": [
      "[1 4 6 3 0 7 5 2] 0.0\n"
     ]
    }
   ],
   "source": [
    "print(best_state, best_fitness)"
   ]
  },
  {
   "cell_type": "code",
   "execution_count": 31,
   "id": "governmental-southwest",
   "metadata": {},
   "outputs": [
    {
     "name": "stdout",
     "output_type": "stream",
     "text": [
      "[3 1 4 7 1 6 2 0] 1.0 101\n"
     ]
    }
   ],
   "source": [
    "best_state, best_fitness, fit_crv8QM = mlrose_hiive.mimic(problemQ, keep_pct=0.2, curve=True,\n",
    "                                                 max_attempts = 100, random_state=12)\n",
    "print(best_state, best_fitness, len(fit_crv8QM))"
   ]
  },
  {
   "cell_type": "code",
   "execution_count": 34,
   "id": "becoming-rebate",
   "metadata": {},
   "outputs": [
    {
     "name": "stdout",
     "output_type": "stream",
     "text": [
      "[6 1 5 2 0 3 7 4] 0.0 104\n"
     ]
    }
   ],
   "source": [
    "best_state, best_fitness, fit_crv8QM = mlrose_hiive.mimic(problemQ, keep_pct=0.2, curve=True,pop_size=500,\n",
    "                                                 max_attempts = 100, random_state=12, max_iters=1000, noise=0.0)\n",
    "print(best_state, best_fitness, len(fit_crv8QM))"
   ]
  },
  {
   "cell_type": "code",
   "execution_count": 35,
   "id": "helpful-london",
   "metadata": {},
   "outputs": [
    {
     "name": "stdout",
     "output_type": "stream",
     "text": [
      "number of successes: 26\n"
     ]
    }
   ],
   "source": [
    "cnt = 0\n",
    "ibest = -1\n",
    "bestL = 1000\n",
    "for i in range(1, 51):\n",
    "    best_state, best_fitness, fit_crv8QM = mlrose_hiive.mimic(problemQ, keep_pct=0.2, curve=True,pop_size=500,\n",
    "                                                 max_attempts = 100, random_state=i, max_iters=1000, noise=0.0)\n",
    "    if best_fitness<1:\n",
    "        cnt +=1\n",
    "        if len(fit_crv8QM)<bestL:\n",
    "            ibest = i\n",
    "            bestL = len(fit_crv8QGA)\n",
    "print (\"number of successes:\", cnt)"
   ]
  },
  {
   "cell_type": "code",
   "execution_count": 36,
   "id": "brief-material",
   "metadata": {},
   "outputs": [
    {
     "name": "stdout",
     "output_type": "stream",
     "text": [
      "number of successes: 0\n"
     ]
    }
   ],
   "source": [
    "cnt = 0\n",
    "ibest = -1\n",
    "bestL = 1000\n",
    "for i in range(1, 51):\n",
    "    best_state, best_fitness, fit_crv8QM = mlrose_hiive.mimic(problemQ, keep_pct=0.2, curve=True,pop_size=50,\n",
    "                                                 max_attempts = 10, random_state=i, max_iters=1000, noise=0.0)\n",
    "    if best_fitness<1:\n",
    "        cnt +=1\n",
    "        if len(fit_crv8QM)<bestL:\n",
    "            ibest = i\n",
    "            bestL = len(fit_crv8QGA)\n",
    "print (\"number of successes:\", cnt)"
   ]
  },
  {
   "cell_type": "code",
   "execution_count": 38,
   "id": "interstate-knitting",
   "metadata": {},
   "outputs": [
    {
     "name": "stdout",
     "output_type": "stream",
     "text": [
      "number of successes: 8\n"
     ]
    }
   ],
   "source": [
    "cnt = 0\n",
    "ibest = -1\n",
    "bestL = 1000\n",
    "for i in range(1, 51):\n",
    "    best_state, best_fitness, fit_crv8QM = mlrose_hiive.mimic(problemQ, keep_pct=0.2, curve=True,pop_size=50,\n",
    "                                                 max_attempts = 10, random_state=i, max_iters=1000, noise=0.05)\n",
    "    if best_fitness<1:\n",
    "        cnt +=1\n",
    "        if len(fit_crv8QM)<bestL:\n",
    "            ibest = i\n",
    "            bestL = len(fit_crv8QGA)\n",
    "print (\"number of successes:\", cnt)"
   ]
  },
  {
   "cell_type": "code",
   "execution_count": 39,
   "id": "amended-baker",
   "metadata": {},
   "outputs": [
    {
     "name": "stdout",
     "output_type": "stream",
     "text": [
      "number of successes: 0\n"
     ]
    }
   ],
   "source": [
    "cnt = 0\n",
    "ibest = -1\n",
    "bestL = 1000\n",
    "for i in range(1, 51):\n",
    "    best_state, best_fitness, fit_crv8QM = mlrose_hiive.mimic(problemQ, keep_pct=0.2, curve=True,pop_size=50,\n",
    "                                                 max_attempts = 10, random_state=i, max_iters=1000, noise=0.099)\n",
    "    if best_fitness<1:\n",
    "        cnt +=1\n",
    "        if len(fit_crv8QM)<bestL:\n",
    "            ibest = i\n",
    "            bestL = len(fit_crv8QGA)\n",
    "print (\"number of successes:\", cnt)"
   ]
  },
  {
   "cell_type": "code",
   "execution_count": 40,
   "id": "cutting-maryland",
   "metadata": {},
   "outputs": [
    {
     "name": "stdout",
     "output_type": "stream",
     "text": [
      "number of successes: 0\n"
     ]
    }
   ],
   "source": [
    "cnt = 0\n",
    "ibest = -1\n",
    "bestL = 1000\n",
    "for i in range(1, 51):\n",
    "    best_state, best_fitness, fit_crv8QM = mlrose_hiive.mimic(problemQ, keep_pct=0.2, curve=True,pop_size=50,\n",
    "                                                 max_attempts = 33, random_state=i, max_iters=1000)\n",
    "    if best_fitness<1:\n",
    "        cnt +=1\n",
    "        if len(fit_crv8QM)<bestL:\n",
    "            ibest = i\n",
    "            bestL = len(fit_crv8QGA)\n",
    "print (\"number of successes:\", cnt)"
   ]
  },
  {
   "cell_type": "code",
   "execution_count": 41,
   "id": "formal-yemen",
   "metadata": {},
   "outputs": [
    {
     "name": "stdout",
     "output_type": "stream",
     "text": [
      "number of successes: 0\n"
     ]
    }
   ],
   "source": [
    "cnt = 0\n",
    "ibest = -1\n",
    "bestL = 1000\n",
    "for i in range(1, 51):\n",
    "    best_state, best_fitness, fit_crv8QM = mlrose_hiive.mimic(problemQ, keep_pct=0.2, curve=True,pop_size=50,\n",
    "                                                 max_attempts = 100, random_state=i, max_iters=1000)\n",
    "    if best_fitness<1:\n",
    "        cnt +=1\n",
    "        if len(fit_crv8QM)<bestL:\n",
    "            ibest = i\n",
    "            bestL = len(fit_crv8QGA)\n",
    "print (\"number of successes:\", cnt)"
   ]
  },
  {
   "cell_type": "code",
   "execution_count": 42,
   "id": "collectible-independence",
   "metadata": {},
   "outputs": [
    {
     "name": "stdout",
     "output_type": "stream",
     "text": [
      "number of successes: 0\n"
     ]
    }
   ],
   "source": [
    "cnt = 0\n",
    "ibest = -1\n",
    "bestL = 1000\n",
    "for i in range(1, 51):\n",
    "    best_state, best_fitness, fit_crv8QM = mlrose_hiive.mimic(problemQ, keep_pct=0.2, curve=True,pop_size=75,\n",
    "                                                 max_attempts = 10, random_state=i, max_iters=1000)\n",
    "    if best_fitness<1:\n",
    "        cnt +=1\n",
    "        if len(fit_crv8QM)<bestL:\n",
    "            ibest = i\n",
    "            bestL = len(fit_crv8QGA)\n",
    "print (\"number of successes:\", cnt)"
   ]
  },
  {
   "cell_type": "code",
   "execution_count": 43,
   "id": "touched-syndrome",
   "metadata": {},
   "outputs": [
    {
     "name": "stdout",
     "output_type": "stream",
     "text": [
      "number of successes: 3\n"
     ]
    }
   ],
   "source": [
    "cnt = 0\n",
    "ibest = -1\n",
    "bestL = 1000\n",
    "for i in range(1, 51):\n",
    "    best_state, best_fitness, fit_crv8QM = mlrose_hiive.mimic(problemQ, keep_pct=0.2, curve=True,pop_size=150,\n",
    "                                                 max_attempts = 10, random_state=i, max_iters=1000)\n",
    "    if best_fitness<1:\n",
    "        cnt +=1\n",
    "        if len(fit_crv8QM)<bestL:\n",
    "            ibest = i\n",
    "            bestL = len(fit_crv8QGA)\n",
    "print (\"number of successes:\", cnt)"
   ]
  },
  {
   "cell_type": "code",
   "execution_count": 44,
   "id": "beautiful-criterion",
   "metadata": {},
   "outputs": [
    {
     "name": "stdout",
     "output_type": "stream",
     "text": [
      "number of successes: 11\n"
     ]
    }
   ],
   "source": [
    "cnt = 0\n",
    "ibest = -1\n",
    "bestL = 1000\n",
    "for i in range(1, 51):\n",
    "    best_state, best_fitness, fit_crv8QM = mlrose_hiive.mimic(problemQ, keep_pct=0.2, curve=True,pop_size=250,\n",
    "                                                 max_attempts = 10, random_state=i, max_iters=1000)\n",
    "    if best_fitness<1:\n",
    "        cnt +=1\n",
    "        if len(fit_crv8QM)<bestL:\n",
    "            ibest = i\n",
    "            bestL = len(fit_crv8QGA)\n",
    "print (\"number of successes:\", cnt)"
   ]
  },
  {
   "cell_type": "code",
   "execution_count": 45,
   "id": "competent-cutting",
   "metadata": {},
   "outputs": [
    {
     "name": "stdout",
     "output_type": "stream",
     "text": [
      "number of successes: 3\n"
     ]
    }
   ],
   "source": [
    "cnt = 0\n",
    "ibest = -1\n",
    "bestL = 1000\n",
    "for i in range(1, 51):\n",
    "    best_state, best_fitness, fit_crv8QM = mlrose_hiive.mimic(problemQ, keep_pct=0.2, curve=True,pop_size=200,\n",
    "                                                 max_attempts = 10, random_state=i, max_iters=1000)\n",
    "    if best_fitness<1:\n",
    "        cnt +=1\n",
    "        if len(fit_crv8QM)<bestL:\n",
    "            ibest = i\n",
    "            bestL = len(fit_crv8QGA)\n",
    "print (\"number of successes:\", cnt)"
   ]
  },
  {
   "cell_type": "code",
   "execution_count": 46,
   "id": "surprising-jimmy",
   "metadata": {},
   "outputs": [
    {
     "name": "stdout",
     "output_type": "stream",
     "text": [
      "number of successes: 12\n"
     ]
    }
   ],
   "source": [
    "cnt = 0\n",
    "ibest = -1\n",
    "bestL = 1000\n",
    "for i in range(1, 51):\n",
    "    best_state, best_fitness, fit_crv8QM = mlrose_hiive.mimic(problemQ, keep_pct=0.2, curve=True,pop_size=300,\n",
    "                                                 max_attempts = 10, random_state=i, max_iters=1000)\n",
    "    if best_fitness<1:\n",
    "        cnt +=1\n",
    "        if len(fit_crv8QM)<bestL:\n",
    "            ibest = i\n",
    "            bestL = len(fit_crv8QGA)\n",
    "print (\"number of successes:\", cnt)"
   ]
  },
  {
   "cell_type": "code",
   "execution_count": 47,
   "id": "brazilian-athens",
   "metadata": {},
   "outputs": [
    {
     "name": "stdout",
     "output_type": "stream",
     "text": [
      "number of successes: 23\n"
     ]
    }
   ],
   "source": [
    "cnt = 0\n",
    "ibest = -1\n",
    "bestL = 1000\n",
    "for i in range(1, 51):\n",
    "    best_state, best_fitness, fit_crv8QM = mlrose_hiive.mimic(problemQ, keep_pct=0.2, curve=True,pop_size=400,\n",
    "                                                 max_attempts = 10, random_state=i, max_iters=1000)\n",
    "    if best_fitness<1:\n",
    "        cnt +=1\n",
    "        if len(fit_crv8QM)<bestL:\n",
    "            ibest = i\n",
    "            bestL = len(fit_crv8QGA)\n",
    "print (\"number of successes:\", cnt)"
   ]
  },
  {
   "cell_type": "code",
   "execution_count": 48,
   "id": "black-secondary",
   "metadata": {},
   "outputs": [
    {
     "name": "stdout",
     "output_type": "stream",
     "text": [
      "number of successes: 26\n"
     ]
    }
   ],
   "source": [
    "cnt = 0\n",
    "ibest = -1\n",
    "bestL = 1000\n",
    "for i in range(1, 51):\n",
    "    best_state, best_fitness, fit_crv8QM = mlrose_hiive.mimic(problemQ, keep_pct=0.2, curve=True,pop_size=500,\n",
    "                                                 max_attempts = 10, random_state=i, max_iters=1000)\n",
    "    if best_fitness<1:\n",
    "        cnt +=1\n",
    "        if len(fit_crv8QM)<bestL:\n",
    "            ibest = i\n",
    "            bestL = len(fit_crv8QGA)\n",
    "print (\"number of successes:\", cnt)"
   ]
  },
  {
   "cell_type": "code",
   "execution_count": 49,
   "id": "unavailable-cabinet",
   "metadata": {},
   "outputs": [
    {
     "name": "stdout",
     "output_type": "stream",
     "text": [
      "number of successes: 28\n"
     ]
    }
   ],
   "source": [
    "cnt = 0\n",
    "ibest = -1\n",
    "bestL = 1000\n",
    "for i in range(1, 51):\n",
    "    best_state, best_fitness, fit_crv8QM = mlrose_hiive.mimic(problemQ, keep_pct=0.2, curve=True,pop_size=600,\n",
    "                                                 max_attempts = 10, random_state=i, max_iters=1000)\n",
    "    if best_fitness<1:\n",
    "        cnt +=1\n",
    "        if len(fit_crv8QM)<bestL:\n",
    "            ibest = i\n",
    "            bestL = len(fit_crv8QGA)\n",
    "print (\"number of successes:\", cnt)"
   ]
  },
  {
   "cell_type": "code",
   "execution_count": 50,
   "id": "corresponding-flooring",
   "metadata": {},
   "outputs": [
    {
     "name": "stdout",
     "output_type": "stream",
     "text": [
      "number of successes: 36\n"
     ]
    }
   ],
   "source": [
    "cnt = 0\n",
    "ibest = -1\n",
    "bestL = 1000\n",
    "for i in range(1, 51):\n",
    "    best_state, best_fitness, fit_crv8QM = mlrose_hiive.mimic(problemQ, keep_pct=0.2, curve=True,pop_size=800,\n",
    "                                                 max_attempts = 10, random_state=i, max_iters=1000)\n",
    "    if best_fitness<1:\n",
    "        cnt +=1\n",
    "        if len(fit_crv8QM)<bestL:\n",
    "            ibest = i\n",
    "            bestL = len(fit_crv8QGA)\n",
    "print (\"number of successes:\", cnt)"
   ]
  },
  {
   "cell_type": "code",
   "execution_count": 51,
   "id": "monthly-scoop",
   "metadata": {},
   "outputs": [
    {
     "name": "stdout",
     "output_type": "stream",
     "text": [
      "number of successes: 41\n"
     ]
    }
   ],
   "source": [
    "cnt = 0\n",
    "ibest = -1\n",
    "bestL = 1000\n",
    "for i in range(1, 51):\n",
    "    best_state, best_fitness, fit_crv8QM = mlrose_hiive.mimic(problemQ, keep_pct=0.2, curve=True,pop_size=1000,\n",
    "                                                 max_attempts = 10, random_state=i, max_iters=1000)\n",
    "    if best_fitness<1:\n",
    "        cnt +=1\n",
    "        if len(fit_crv8QM)<bestL:\n",
    "            ibest = i\n",
    "            bestL = len(fit_crv8QGA)\n",
    "print (\"number of successes:\", cnt)"
   ]
  },
  {
   "cell_type": "code",
   "execution_count": 52,
   "id": "touched-evaluation",
   "metadata": {},
   "outputs": [
    {
     "name": "stdout",
     "output_type": "stream",
     "text": [
      "number of successes: 50\n"
     ]
    }
   ],
   "source": [
    "cnt = 0\n",
    "ibest = -1\n",
    "bestL = 1000\n",
    "for i in range(1, 51):\n",
    "    best_state, best_fitness, fit_crv8QM = mlrose_hiive.mimic(problemQ, keep_pct=0.2, curve=True,pop_size=2000,\n",
    "                                                 max_attempts = 10, random_state=i, max_iters=1000)\n",
    "    if best_fitness<1:\n",
    "        cnt +=1\n",
    "        if len(fit_crv8QM)<bestL:\n",
    "            ibest = i\n",
    "            bestL = len(fit_crv8QGA)\n",
    "print (\"number of successes:\", cnt)"
   ]
  },
  {
   "cell_type": "code",
   "execution_count": 55,
   "id": "respected-carry",
   "metadata": {},
   "outputs": [
    {
     "name": "stdout",
     "output_type": "stream",
     "text": [
      "number of successes: 41\n"
     ]
    }
   ],
   "source": [
    "cnt = 0\n",
    "ibest = -1\n",
    "bestL = 1000\n",
    "for i in range(1, 51):\n",
    "    best_state, best_fitness, fit_crv8QM = mlrose_hiive.mimic(problemQ, keep_pct=0.2, curve=True,pop_size=1000,\n",
    "                                                 max_attempts = 20, random_state=i, max_iters=1000)\n",
    "    if best_fitness<1:\n",
    "        cnt +=1\n",
    "        if len(fit_crv8QM)<bestL:\n",
    "            ibest = i\n",
    "            bestL = len(fit_crv8QGA)\n",
    "print (\"number of successes:\", cnt)"
   ]
  },
  {
   "cell_type": "code",
   "execution_count": 56,
   "id": "hairy-wheel",
   "metadata": {},
   "outputs": [
    {
     "name": "stdout",
     "output_type": "stream",
     "text": [
      "number of successes: 41\n"
     ]
    }
   ],
   "source": [
    "cnt = 0\n",
    "ibest = -1\n",
    "bestL = 1000\n",
    "for i in range(1, 51):\n",
    "    best_state, best_fitness, fit_crv8QM = mlrose_hiive.mimic(problemQ, keep_pct=0.2, curve=True,pop_size=1000,\n",
    "                                                 max_attempts = 40, random_state=i, max_iters=1000)\n",
    "    if best_fitness<1:\n",
    "        cnt +=1\n",
    "        if len(fit_crv8QM)<bestL:\n",
    "            ibest = i\n",
    "            bestL = len(fit_crv8QGA)\n",
    "print (\"number of successes:\", cnt)"
   ]
  },
  {
   "cell_type": "code",
   "execution_count": 57,
   "id": "oriental-mercury",
   "metadata": {},
   "outputs": [
    {
     "name": "stdout",
     "output_type": "stream",
     "text": [
      "number of successes: 42\n"
     ]
    }
   ],
   "source": [
    "cnt = 0\n",
    "ibest = -1\n",
    "bestL = 1000\n",
    "for i in range(1, 51):\n",
    "    best_state, best_fitness, fit_crv8QM = mlrose_hiive.mimic(problemQ, keep_pct=0.2, curve=True,pop_size=1000,\n",
    "                                                 max_attempts = 80, random_state=i, max_iters=1000)\n",
    "    if best_fitness<1:\n",
    "        cnt +=1\n",
    "        if len(fit_crv8QM)<bestL:\n",
    "            ibest = i\n",
    "            bestL = len(fit_crv8QGA)\n",
    "print (\"number of successes:\", cnt)"
   ]
  },
  {
   "cell_type": "code",
   "execution_count": 58,
   "id": "convenient-hungarian",
   "metadata": {},
   "outputs": [
    {
     "name": "stdout",
     "output_type": "stream",
     "text": [
      "number of successes: 38\n"
     ]
    }
   ],
   "source": [
    "cnt = 0\n",
    "ibest = -1\n",
    "bestL = 1000\n",
    "for i in range(1, 51):\n",
    "    best_state, best_fitness, fit_crv8QM = mlrose_hiive.mimic(problemQ, keep_pct=0.3, curve=True,pop_size=1000,\n",
    "                                                 max_attempts = 10, random_state=i, max_iters=1000)\n",
    "    if best_fitness<1:\n",
    "        cnt +=1\n",
    "        if len(fit_crv8QM)<bestL:\n",
    "            ibest = i\n",
    "            bestL = len(fit_crv8QGA)\n",
    "print (\"number of successes:\", cnt)"
   ]
  },
  {
   "cell_type": "code",
   "execution_count": 59,
   "id": "demographic-mexican",
   "metadata": {},
   "outputs": [
    {
     "name": "stdout",
     "output_type": "stream",
     "text": [
      "number of successes: 34\n"
     ]
    }
   ],
   "source": [
    "cnt = 0\n",
    "ibest = -1\n",
    "bestL = 1000\n",
    "for i in range(1, 51):\n",
    "    best_state, best_fitness, fit_crv8QM = mlrose_hiive.mimic(problemQ, keep_pct=0.4, curve=True,pop_size=1000,\n",
    "                                                 max_attempts = 10, random_state=i, max_iters=1000)\n",
    "    if best_fitness<1:\n",
    "        cnt +=1\n",
    "        if len(fit_crv8QM)<bestL:\n",
    "            ibest = i\n",
    "            bestL = len(fit_crv8QGA)\n",
    "print (\"number of successes:\", cnt)"
   ]
  },
  {
   "cell_type": "code",
   "execution_count": 60,
   "id": "patient-attachment",
   "metadata": {},
   "outputs": [
    {
     "name": "stdout",
     "output_type": "stream",
     "text": [
      "number of successes: 24\n"
     ]
    }
   ],
   "source": [
    "cnt = 0\n",
    "ibest = -1\n",
    "bestL = 1000\n",
    "for i in range(1, 51):\n",
    "    best_state, best_fitness, fit_crv8QM = mlrose_hiive.mimic(problemQ, keep_pct=0.5, curve=True,pop_size=1000,\n",
    "                                                 max_attempts = 10, random_state=i, max_iters=1000)\n",
    "    if best_fitness<1:\n",
    "        cnt +=1\n",
    "        if len(fit_crv8QM)<bestL:\n",
    "            ibest = i\n",
    "            bestL = len(fit_crv8QGA)\n",
    "print (\"number of successes:\", cnt)"
   ]
  },
  {
   "cell_type": "code",
   "execution_count": 62,
   "id": "overhead-republican",
   "metadata": {},
   "outputs": [
    {
     "name": "stdout",
     "output_type": "stream",
     "text": [
      "number of successes: 39\n"
     ]
    }
   ],
   "source": [
    "cnt = 0\n",
    "ibest = -1\n",
    "bestL = 1000\n",
    "for i in range(1, 51):\n",
    "    best_state, best_fitness, fit_crv8QM = mlrose_hiive.mimic(problemQ, keep_pct=0.1, curve=True,pop_size=1000,\n",
    "                                                 max_attempts = 10, random_state=i, max_iters=1000)\n",
    "    if best_fitness<1:\n",
    "        cnt +=1\n",
    "        if len(fit_crv8QM)<bestL:\n",
    "            ibest = i\n",
    "            bestL = len(fit_crv8QGA)\n",
    "print (\"number of successes:\", cnt)"
   ]
  },
  {
   "cell_type": "code",
   "execution_count": 63,
   "id": "stupid-bruce",
   "metadata": {},
   "outputs": [
    {
     "name": "stdout",
     "output_type": "stream",
     "text": [
      "number of successes: 47\n"
     ]
    }
   ],
   "source": [
    "cnt = 0\n",
    "ibest = -1\n",
    "bestL = 1000\n",
    "for i in range(1, 51):\n",
    "    best_state, best_fitness, fit_crv8QM = mlrose_hiive.mimic(problemQ, keep_pct=0.2, curve=True,pop_size=1500,\n",
    "                                                 max_attempts = 10, random_state=i, max_iters=1000)\n",
    "    if best_fitness<1:\n",
    "        cnt +=1\n",
    "        if len(fit_crv8QM)<bestL:\n",
    "            ibest = i\n",
    "            bestL = len(fit_crv8QGA)\n",
    "print (\"number of successes:\", cnt)"
   ]
  },
  {
   "cell_type": "code",
   "execution_count": 64,
   "id": "cooperative-amendment",
   "metadata": {},
   "outputs": [
    {
     "name": "stdout",
     "output_type": "stream",
     "text": [
      "50 42\n"
     ]
    }
   ],
   "source": [
    "print(ibest, bestL)"
   ]
  },
  {
   "cell_type": "code",
   "execution_count": 65,
   "id": "narrative-brief",
   "metadata": {},
   "outputs": [],
   "source": [
    "best_state, best_fitness, fit_crv8QM = mlrose_hiive.mimic(problemQ, keep_pct=0.2, curve=True,pop_size=1500,\n",
    "                                                 max_attempts = 10, random_state=50, max_iters=1000)"
   ]
  },
  {
   "cell_type": "code",
   "execution_count": 66,
   "id": "detected-permit",
   "metadata": {},
   "outputs": [
    {
     "data": {
      "text/plain": [
       "[<matplotlib.lines.Line2D at 0x25117ed0a00>]"
      ]
     },
     "execution_count": 66,
     "metadata": {},
     "output_type": "execute_result"
    },
    {
     "data": {
      "image/png": "[encoded data removed]",
      "text/plain": [
       "<Figure size 432x288 with 1 Axes>"
      ]
     },
     "metadata": {},
     "output_type": "display_data"
    }
   ],
   "source": [
    "plt.plot(fit_crv8QM)"
   ]
  },
  {
   "cell_type": "code",
   "execution_count": 67,
   "id": "directed-joseph",
   "metadata": {},
   "outputs": [
    {
     "name": "stdout",
     "output_type": "stream",
     "text": [
      "[4 0 7 5 2 6 1 3] 0.0\n"
     ]
    }
   ],
   "source": [
    "print (best_state, best_fitness)"
   ]
  },
  {
   "cell_type": "markdown",
   "id": "parental-headline",
   "metadata": {},
   "source": [
    "### Travelling Salesperson "
   ]
  },
  {
   "cell_type": "markdown",
   "id": "flexible-projection",
   "metadata": {},
   "source": [
    "2. https://en.wikipedia.org/wiki/Travelling_salesman_problem"
   ]
  },
  {
   "cell_type": "code",
   "execution_count": 70,
   "id": "occasional-worst",
   "metadata": {},
   "outputs": [
    {
     "data": {
      "text/plain": [
       "[(1, 1),\n",
       " (98, 2),\n",
       " (97, 98),\n",
       " (-2, 101),\n",
       " (100, 99),\n",
       " (2, -1),\n",
       " (0, 100),\n",
       " (0, 0),\n",
       " (99, 1),\n",
       " (0, 1),\n",
       " (101, 3),\n",
       " (99, 100),\n",
       " (1, 99),\n",
       " (4, 98),\n",
       " (100, 0),\n",
       " (99, 95)]"
      ]
     },
     "execution_count": 70,
     "metadata": {},
     "output_type": "execute_result"
    }
   ],
   "source": [
    "from random import shuffle, Random\n",
    "coords_list = [(0,0), (1, 1),(0,1),(2,-1),(100,0),(101, 3),(99,1),(98,2),(1,99),(0,100),(4,98),(-2,101),\n",
    "              (100,99),(99,100),(97,98), (99,95)]\n",
    "Random(12).shuffle(coords_list)\n",
    "coords_list"
   ]
  },
  {
   "cell_type": "code",
   "execution_count": 71,
   "id": "embedded-jordan",
   "metadata": {},
   "outputs": [],
   "source": [
    "fitness_coords = mlrose_hiive.TravellingSales(coords = coords_list)\n",
    "problemTS = mlrose_hiive.TSPOpt(length = len(coords_list), fitness_fn = fitness_coords, maximize = False)"
   ]
  },
  {
   "cell_type": "markdown",
   "id": "confidential-recommendation",
   "metadata": {},
   "source": [
    "#### Travelling Salesperson RHC"
   ]
  },
  {
   "cell_type": "code",
   "execution_count": 72,
   "id": "organizational-cookbook",
   "metadata": {},
   "outputs": [],
   "source": [
    "init_state = np.array([i for i in range(16)])\n",
    "best_state, best_fitness, fitness_curve = mlrose_hiive.random_hill_climb(problemTS,\n",
    "                            restarts=5, max_attempts = 100, curve=True, max_iters = 1000, init_state = init_state,\n",
    "                            random_state=12)"
   ]
  },
  {
   "cell_type": "code",
   "execution_count": 73,
   "id": "tropical-military",
   "metadata": {},
   "outputs": [
    {
     "name": "stdout",
     "output_type": "stream",
     "text": [
      "[ 3  0  9  7  5  1  8 14 10 15  4 11  2 13 12  6] 406.5186682788577\n"
     ]
    }
   ],
   "source": [
    "print (best_state, best_fitness)"
   ]
  },
  {
   "cell_type": "code",
   "execution_count": 74,
   "id": "figured-richards",
   "metadata": {},
   "outputs": [
    {
     "name": "stdout",
     "output_type": "stream",
     "text": [
      "number of successes: 43\n"
     ]
    }
   ],
   "source": [
    "cnt = 0\n",
    "ibest = -1\n",
    "bestL = 1000\n",
    "for i in range(1, 51):\n",
    "    init_state = np.array([i for i in range(16)])\n",
    "    best_state, best_fitness, fit_crvTSRHS = mlrose_hiive.random_hill_climb(problemTS,\n",
    "                            restarts=5, max_attempts = 100, curve=True, max_iters = 1000, init_state = init_state,\n",
    "                            random_state=i)\n",
    "    if best_fitness<425:\n",
    "        cnt +=1\n",
    "        if len(fit_crvTSRHS)<bestL:\n",
    "            ibest = i\n",
    "            bestL = len(fit_crvTSRHS)\n",
    "print (\"number of successes:\", cnt)"
   ]
  },
  {
   "cell_type": "code",
   "execution_count": 76,
   "id": "romance-depth",
   "metadata": {},
   "outputs": [
    {
     "name": "stdout",
     "output_type": "stream",
     "text": [
      "number of successes: 1\n"
     ]
    }
   ],
   "source": [
    "cnt = 0\n",
    "ibest = -1\n",
    "bestL = 1000\n",
    "for i in range(1, 51):\n",
    "    init_state = np.array([i for i in range(16)])\n",
    "    best_state, best_fitness, fit_crvTSRHS = mlrose_hiive.random_hill_climb(problemTS,\n",
    "                            restarts=1, max_attempts = 10, curve=True, max_iters = 1000, init_state = init_state,\n",
    "                            random_state=i)\n",
    "    if best_fitness<425:\n",
    "        cnt +=1\n",
    "        if len(fit_crvTSRHS)<bestL:\n",
    "            ibest = i\n",
    "            bestL = len(fit_crvTSRHS)\n",
    "print (\"number of successes:\", cnt)"
   ]
  },
  {
   "cell_type": "code",
   "execution_count": 75,
   "id": "accredited-weather",
   "metadata": {},
   "outputs": [],
   "source": [
    "?mlrose_hiive.random_hill_climb"
   ]
  },
  {
   "cell_type": "code",
   "execution_count": 77,
   "id": "current-trace",
   "metadata": {},
   "outputs": [
    {
     "name": "stdout",
     "output_type": "stream",
     "text": [
      "number of successes: 7\n"
     ]
    }
   ],
   "source": [
    "cnt = 0\n",
    "ibest = -1\n",
    "bestL = 1000\n",
    "for i in range(1, 51):\n",
    "    init_state = np.array([i for i in range(16)])\n",
    "    best_state, best_fitness, fit_crvTSRHS = mlrose_hiive.random_hill_climb(problemTS,\n",
    "                            restarts=1, max_attempts = 20, curve=True, max_iters = 1000, init_state = init_state,\n",
    "                            random_state=i)\n",
    "    if best_fitness<425:\n",
    "        cnt +=1\n",
    "        if len(fit_crvTSRHS)<bestL:\n",
    "            ibest = i\n",
    "            bestL = len(fit_crvTSRHS)\n",
    "print (\"number of successes:\", cnt)"
   ]
  },
  {
   "cell_type": "code",
   "execution_count": 78,
   "id": "bacterial-natural",
   "metadata": {},
   "outputs": [
    {
     "name": "stdout",
     "output_type": "stream",
     "text": [
      "number of successes: 11\n"
     ]
    }
   ],
   "source": [
    "cnt = 0\n",
    "ibest = -1\n",
    "bestL = 1000\n",
    "for i in range(1, 51):\n",
    "    init_state = np.array([i for i in range(16)])\n",
    "    best_state, best_fitness, fit_crvTSRHS = mlrose_hiive.random_hill_climb(problemTS,\n",
    "                            restarts=1, max_attempts = 40, curve=True, max_iters = 1000, init_state = init_state,\n",
    "                            random_state=i)\n",
    "    if best_fitness<425:\n",
    "        cnt +=1\n",
    "        if len(fit_crvTSRHS)<bestL:\n",
    "            ibest = i\n",
    "            bestL = len(fit_crvTSRHS)\n",
    "print (\"number of successes:\", cnt)"
   ]
  },
  {
   "cell_type": "code",
   "execution_count": 79,
   "id": "fixed-jacket",
   "metadata": {},
   "outputs": [
    {
     "name": "stdout",
     "output_type": "stream",
     "text": [
      "number of successes: 23\n"
     ]
    }
   ],
   "source": [
    "cnt = 0\n",
    "ibest = -1\n",
    "bestL = 1000\n",
    "for i in range(1, 51):\n",
    "    init_state = np.array([i for i in range(16)])\n",
    "    best_state, best_fitness, fit_crvTSRHS = mlrose_hiive.random_hill_climb(problemTS,\n",
    "                            restarts=1, max_attempts = 80, curve=True, max_iters = 1000, init_state = init_state,\n",
    "                            random_state=i)\n",
    "    if best_fitness<425:\n",
    "        cnt +=1\n",
    "        if len(fit_crvTSRHS)<bestL:\n",
    "            ibest = i\n",
    "            bestL = len(fit_crvTSRHS)\n",
    "print (\"number of successes:\", cnt)"
   ]
  },
  {
   "cell_type": "code",
   "execution_count": 80,
   "id": "afraid-thanksgiving",
   "metadata": {},
   "outputs": [
    {
     "name": "stdout",
     "output_type": "stream",
     "text": [
      "number of successes: 26\n"
     ]
    }
   ],
   "source": [
    "cnt = 0\n",
    "ibest = -1\n",
    "bestL = 1000\n",
    "for i in range(1, 51):\n",
    "    init_state = np.array([i for i in range(16)])\n",
    "    best_state, best_fitness, fit_crvTSRHS = mlrose_hiive.random_hill_climb(problemTS,\n",
    "                            restarts=1, max_attempts = 150, curve=True, max_iters = 1000, init_state = init_state,\n",
    "                            random_state=i)\n",
    "    if best_fitness<425:\n",
    "        cnt +=1\n",
    "        if len(fit_crvTSRHS)<bestL:\n",
    "            ibest = i\n",
    "            bestL = len(fit_crvTSRHS)\n",
    "print (\"number of successes:\", cnt)"
   ]
  },
  {
   "cell_type": "code",
   "execution_count": 81,
   "id": "adult-links",
   "metadata": {},
   "outputs": [
    {
     "name": "stdout",
     "output_type": "stream",
     "text": [
      "number of successes: 28\n"
     ]
    }
   ],
   "source": [
    "cnt = 0\n",
    "ibest = -1\n",
    "bestL = 1000\n",
    "for i in range(1, 51):\n",
    "    init_state = np.array([i for i in range(16)])\n",
    "    best_state, best_fitness, fit_crvTSRHS = mlrose_hiive.random_hill_climb(problemTS,\n",
    "                            restarts=1, max_attempts = 300, curve=True, max_iters = 1000, init_state = init_state,\n",
    "                            random_state=i)\n",
    "    if best_fitness<425:\n",
    "        cnt +=1\n",
    "        if len(fit_crvTSRHS)<bestL:\n",
    "            ibest = i\n",
    "            bestL = len(fit_crvTSRHS)\n",
    "print (\"number of successes:\", cnt)"
   ]
  },
  {
   "cell_type": "code",
   "execution_count": 82,
   "id": "vital-explorer",
   "metadata": {},
   "outputs": [
    {
     "name": "stdout",
     "output_type": "stream",
     "text": [
      "number of successes: 26\n"
     ]
    }
   ],
   "source": [
    "cnt = 0\n",
    "ibest = -1\n",
    "bestL = 1000\n",
    "for i in range(1, 51):\n",
    "    init_state = np.array([i for i in range(16)])\n",
    "    best_state, best_fitness, fit_crvTSRHS = mlrose_hiive.random_hill_climb(problemTS,\n",
    "                            restarts=1, max_attempts = 500, curve=True, max_iters = 1000, init_state = init_state,\n",
    "                            random_state=i)\n",
    "    if best_fitness<425:\n",
    "        cnt +=1\n",
    "        if len(fit_crvTSRHS)<bestL:\n",
    "            ibest = i\n",
    "            bestL = len(fit_crvTSRHS)\n",
    "print (\"number of successes:\", cnt)"
   ]
  },
  {
   "cell_type": "code",
   "execution_count": 83,
   "id": "animal-worry",
   "metadata": {},
   "outputs": [
    {
     "name": "stdout",
     "output_type": "stream",
     "text": [
      "number of successes: 26\n"
     ]
    }
   ],
   "source": [
    "cnt = 0\n",
    "ibest = -1\n",
    "bestL = 1000\n",
    "for i in range(1, 51):\n",
    "    init_state = np.array([i for i in range(16)])\n",
    "    best_state, best_fitness, fit_crvTSRHS = mlrose_hiive.random_hill_climb(problemTS,\n",
    "                            restarts=1, max_attempts = 750, curve=True, max_iters = 1000, init_state = init_state,\n",
    "                            random_state=i)\n",
    "    if best_fitness<425:\n",
    "        cnt +=1\n",
    "        if len(fit_crvTSRHS)<bestL:\n",
    "            ibest = i\n",
    "            bestL = len(fit_crvTSRHS)\n",
    "print (\"number of successes:\", cnt)"
   ]
  },
  {
   "cell_type": "code",
   "execution_count": 84,
   "id": "naked-magnet",
   "metadata": {},
   "outputs": [
    {
     "name": "stdout",
     "output_type": "stream",
     "text": [
      "number of successes: 35\n"
     ]
    }
   ],
   "source": [
    "cnt = 0\n",
    "ibest = -1\n",
    "bestL = 1000\n",
    "for i in range(1, 51):\n",
    "    init_state = np.array([i for i in range(16)])\n",
    "    best_state, best_fitness, fit_crvTSRHS = mlrose_hiive.random_hill_climb(problemTS,\n",
    "                            restarts=2, max_attempts = 300, curve=True, max_iters = 1000, init_state = init_state,\n",
    "                            random_state=i)\n",
    "    if best_fitness<425:\n",
    "        cnt +=1\n",
    "        if len(fit_crvTSRHS)<bestL:\n",
    "            ibest = i\n",
    "            bestL = len(fit_crvTSRHS)\n",
    "print (\"number of successes:\", cnt)"
   ]
  },
  {
   "cell_type": "code",
   "execution_count": 85,
   "id": "imperial-discharge",
   "metadata": {},
   "outputs": [
    {
     "name": "stdout",
     "output_type": "stream",
     "text": [
      "number of successes: 40\n"
     ]
    }
   ],
   "source": [
    "cnt = 0\n",
    "ibest = -1\n",
    "bestL = 1000\n",
    "for i in range(1, 51):\n",
    "    init_state = np.array([i for i in range(16)])\n",
    "    best_state, best_fitness, fit_crvTSRHS = mlrose_hiive.random_hill_climb(problemTS,\n",
    "                            restarts=3, max_attempts = 300, curve=True, max_iters = 1000, init_state = init_state,\n",
    "                            random_state=i)\n",
    "    if best_fitness<425:\n",
    "        cnt +=1\n",
    "        if len(fit_crvTSRHS)<bestL:\n",
    "            ibest = i\n",
    "            bestL = len(fit_crvTSRHS)\n",
    "print (\"number of successes:\", cnt)"
   ]
  },
  {
   "cell_type": "code",
   "execution_count": 86,
   "id": "first-section",
   "metadata": {},
   "outputs": [
    {
     "name": "stdout",
     "output_type": "stream",
     "text": [
      "number of successes: 42\n"
     ]
    }
   ],
   "source": [
    "cnt = 0\n",
    "ibest = -1\n",
    "bestL = 1000\n",
    "for i in range(1, 51):\n",
    "    init_state = np.array([i for i in range(16)])\n",
    "    best_state, best_fitness, fit_crvTSRHS = mlrose_hiive.random_hill_climb(problemTS,\n",
    "                            restarts=4, max_attempts = 300, curve=True, max_iters = 1000, init_state = init_state,\n",
    "                            random_state=i)\n",
    "    if best_fitness<425:\n",
    "        cnt +=1\n",
    "        if len(fit_crvTSRHS)<bestL:\n",
    "            ibest = i\n",
    "            bestL = len(fit_crvTSRHS)\n",
    "print (\"number of successes:\", cnt)"
   ]
  },
  {
   "cell_type": "code",
   "execution_count": 87,
   "id": "confirmed-vacation",
   "metadata": {},
   "outputs": [
    {
     "name": "stdout",
     "output_type": "stream",
     "text": [
      "number of successes: 43\n"
     ]
    }
   ],
   "source": [
    "cnt = 0\n",
    "ibest = -1\n",
    "bestL = 1000\n",
    "for i in range(1, 51):\n",
    "    init_state = np.array([i for i in range(16)])\n",
    "    best_state, best_fitness, fit_crvTSRHS = mlrose_hiive.random_hill_climb(problemTS,\n",
    "                            restarts=5, max_attempts = 300, curve=True, max_iters = 1000, init_state = init_state,\n",
    "                            random_state=i)\n",
    "    if best_fitness<425:\n",
    "        cnt +=1\n",
    "        if len(fit_crvTSRHS)<bestL:\n",
    "            ibest = i\n",
    "            bestL = len(fit_crvTSRHS)\n",
    "print (\"number of successes:\", cnt)"
   ]
  },
  {
   "cell_type": "code",
   "execution_count": 88,
   "id": "common-declaration",
   "metadata": {},
   "outputs": [
    {
     "name": "stdout",
     "output_type": "stream",
     "text": [
      "number of successes: 45\n"
     ]
    }
   ],
   "source": [
    "cnt = 0\n",
    "ibest = -1\n",
    "bestL = 1000\n",
    "for i in range(1, 51):\n",
    "    init_state = np.array([i for i in range(16)])\n",
    "    best_state, best_fitness, fit_crvTSRHS = mlrose_hiive.random_hill_climb(problemTS,\n",
    "                            restarts=5, max_attempts = 250, curve=True, max_iters = 1000, init_state = init_state,\n",
    "                            random_state=i)\n",
    "    if best_fitness<425:\n",
    "        cnt +=1\n",
    "        if len(fit_crvTSRHS)<bestL:\n",
    "            ibest = i\n",
    "            bestL = len(fit_crvTSRHS)\n",
    "print (\"number of successes:\", cnt)"
   ]
  },
  {
   "cell_type": "code",
   "execution_count": 89,
   "id": "confused-rubber",
   "metadata": {},
   "outputs": [
    {
     "name": "stdout",
     "output_type": "stream",
     "text": [
      "number of successes: 45\n"
     ]
    }
   ],
   "source": [
    "cnt = 0\n",
    "ibest = -1\n",
    "bestL = 1000\n",
    "for i in range(1, 51):\n",
    "    init_state = np.array([i for i in range(16)])\n",
    "    best_state, best_fitness, fit_crvTSRHS = mlrose_hiive.random_hill_climb(problemTS,\n",
    "                            restarts=5, max_attempts = 200, curve=True, max_iters = 1000, init_state = init_state,\n",
    "                            random_state=i)\n",
    "    if best_fitness<425:\n",
    "        cnt +=1\n",
    "        if len(fit_crvTSRHS)<bestL:\n",
    "            ibest = i\n",
    "            bestL = len(fit_crvTSRHS)\n",
    "print (\"number of successes:\", cnt)"
   ]
  },
  {
   "cell_type": "code",
   "execution_count": 90,
   "id": "velvet-inflation",
   "metadata": {},
   "outputs": [
    {
     "name": "stdout",
     "output_type": "stream",
     "text": [
      "number of successes: 44\n"
     ]
    }
   ],
   "source": [
    "cnt = 0\n",
    "ibest = -1\n",
    "bestL = 1000\n",
    "for i in range(1, 51):\n",
    "    init_state = np.array([i for i in range(16)])\n",
    "    best_state, best_fitness, fit_crvTSRHS = mlrose_hiive.random_hill_climb(problemTS,\n",
    "                            restarts=5, max_attempts = 150, curve=True, max_iters = 1000, init_state = init_state,\n",
    "                            random_state=i)\n",
    "    if best_fitness<425:\n",
    "        cnt +=1\n",
    "        if len(fit_crvTSRHS)<bestL:\n",
    "            ibest = i\n",
    "            bestL = len(fit_crvTSRHS)\n",
    "print (\"number of successes:\", cnt)"
   ]
  },
  {
   "cell_type": "code",
   "execution_count": 91,
   "id": "vertical-wagon",
   "metadata": {},
   "outputs": [
    {
     "name": "stdout",
     "output_type": "stream",
     "text": [
      "number of successes: 43\n"
     ]
    }
   ],
   "source": [
    "cnt = 0\n",
    "ibest = -1\n",
    "bestL = 1000\n",
    "for i in range(1, 51):\n",
    "    init_state = np.array([i for i in range(16)])\n",
    "    best_state, best_fitness, fit_crvTSRHS = mlrose_hiive.random_hill_climb(problemTS,\n",
    "                            restarts=5, max_attempts = 100, curve=True, max_iters = 1000, init_state = init_state,\n",
    "                            random_state=i)\n",
    "    if best_fitness<425:\n",
    "        cnt +=1\n",
    "        if len(fit_crvTSRHS)<bestL:\n",
    "            ibest = i\n",
    "            bestL = len(fit_crvTSRHS)\n",
    "print (\"number of successes:\", cnt)"
   ]
  },
  {
   "cell_type": "code",
   "execution_count": 92,
   "id": "unavailable-flooring",
   "metadata": {},
   "outputs": [
    {
     "name": "stdout",
     "output_type": "stream",
     "text": [
      "number of successes: 43\n"
     ]
    }
   ],
   "source": [
    "cnt = 0\n",
    "ibest = -1\n",
    "bestL = 1000\n",
    "for i in range(1, 51):\n",
    "    init_state = np.array([i for i in range(16)])\n",
    "    best_state, best_fitness, fit_crvTSRHS = mlrose_hiive.random_hill_climb(problemTS,\n",
    "                            restarts=5, max_attempts = 400, curve=True, max_iters = 1000, init_state = init_state,\n",
    "                            random_state=i)\n",
    "    if best_fitness<425:\n",
    "        cnt +=1\n",
    "        if len(fit_crvTSRHS)<bestL:\n",
    "            ibest = i\n",
    "            bestL = len(fit_crvTSRHS)\n",
    "print (\"number of successes:\", cnt)"
   ]
  },
  {
   "cell_type": "code",
   "execution_count": 93,
   "id": "informal-rotation",
   "metadata": {},
   "outputs": [
    {
     "name": "stdout",
     "output_type": "stream",
     "text": [
      "number of successes: 41\n"
     ]
    }
   ],
   "source": [
    "cnt = 0\n",
    "ibest = -1\n",
    "bestL = 1000\n",
    "for i in range(1, 51):\n",
    "    init_state = np.array([i for i in range(16)])\n",
    "    best_state, best_fitness, fit_crvTSRHS = mlrose_hiive.random_hill_climb(problemTS,\n",
    "                            restarts=5, max_attempts = 500, curve=True, max_iters = 1000, init_state = init_state,\n",
    "                            random_state=i)\n",
    "    if best_fitness<425:\n",
    "        cnt +=1\n",
    "        if len(fit_crvTSRHS)<bestL:\n",
    "            ibest = i\n",
    "            bestL = len(fit_crvTSRHS)\n",
    "print (\"number of successes:\", cnt)"
   ]
  },
  {
   "cell_type": "code",
   "execution_count": 94,
   "id": "governmental-compiler",
   "metadata": {},
   "outputs": [
    {
     "name": "stdout",
     "output_type": "stream",
     "text": [
      "number of successes: 46\n"
     ]
    }
   ],
   "source": [
    "cnt = 0\n",
    "ibest = -1\n",
    "bestL = 1000\n",
    "for i in range(1, 51):\n",
    "    init_state = np.array([i for i in range(16)])\n",
    "    best_state, best_fitness, fit_crvTSRHS = mlrose_hiive.random_hill_climb(problemTS,\n",
    "                            restarts=6, max_attempts = 200, curve=True, max_iters = 1000, init_state = init_state,\n",
    "                            random_state=i)\n",
    "    if best_fitness<425:\n",
    "        cnt +=1\n",
    "        if len(fit_crvTSRHS)<bestL:\n",
    "            ibest = i\n",
    "            bestL = len(fit_crvTSRHS)\n",
    "print (\"number of successes:\", cnt)"
   ]
  },
  {
   "cell_type": "code",
   "execution_count": 95,
   "id": "comic-merchandise",
   "metadata": {},
   "outputs": [
    {
     "name": "stdout",
     "output_type": "stream",
     "text": [
      "number of successes: 47\n"
     ]
    }
   ],
   "source": [
    "cnt = 0\n",
    "ibest = -1\n",
    "bestL = 1000\n",
    "for i in range(1, 51):\n",
    "    init_state = np.array([i for i in range(16)])\n",
    "    best_state, best_fitness, fit_crvTSRHS = mlrose_hiive.random_hill_climb(problemTS,\n",
    "                            restarts=7, max_attempts = 200, curve=True, max_iters = 1000, init_state = init_state,\n",
    "                            random_state=i)\n",
    "    if best_fitness<425:\n",
    "        cnt +=1\n",
    "        if len(fit_crvTSRHS)<bestL:\n",
    "            ibest = i\n",
    "            bestL = len(fit_crvTSRHS)\n",
    "print (\"number of successes:\", cnt)"
   ]
  },
  {
   "cell_type": "code",
   "execution_count": 96,
   "id": "apart-radical",
   "metadata": {},
   "outputs": [
    {
     "name": "stdout",
     "output_type": "stream",
     "text": [
      "number of successes: 48\n"
     ]
    }
   ],
   "source": [
    "cnt = 0\n",
    "ibest = -1\n",
    "bestL = 1000\n",
    "for i in range(1, 51):\n",
    "    init_state = np.array([i for i in range(16)])\n",
    "    best_state, best_fitness, fit_crvTSRHS = mlrose_hiive.random_hill_climb(problemTS,\n",
    "                            restarts=8, max_attempts = 200, curve=True, max_iters = 1000, init_state = init_state,\n",
    "                            random_state=i)\n",
    "    if best_fitness<425:\n",
    "        cnt +=1\n",
    "        if len(fit_crvTSRHS)<bestL:\n",
    "            ibest = i\n",
    "            bestL = len(fit_crvTSRHS)\n",
    "print (\"number of successes:\", cnt)"
   ]
  },
  {
   "cell_type": "code",
   "execution_count": 97,
   "id": "green-boost",
   "metadata": {},
   "outputs": [
    {
     "name": "stdout",
     "output_type": "stream",
     "text": [
      "number of successes: 48\n"
     ]
    }
   ],
   "source": [
    "cnt = 0\n",
    "ibest = -1\n",
    "bestL = 1000\n",
    "for i in range(1, 51):\n",
    "    init_state = np.array([i for i in range(16)])\n",
    "    best_state, best_fitness, fit_crvTSRHS = mlrose_hiive.random_hill_climb(problemTS,\n",
    "                            restarts=9, max_attempts = 200, curve=True, max_iters = 1000, init_state = init_state,\n",
    "                            random_state=i)\n",
    "    if best_fitness<425:\n",
    "        cnt +=1\n",
    "        if len(fit_crvTSRHS)<bestL:\n",
    "            ibest = i\n",
    "            bestL = len(fit_crvTSRHS)\n",
    "print (\"number of successes:\", cnt)"
   ]
  },
  {
   "cell_type": "code",
   "execution_count": 98,
   "id": "concerned-reconstruction",
   "metadata": {},
   "outputs": [
    {
     "name": "stdout",
     "output_type": "stream",
     "text": [
      "number of successes: 49\n"
     ]
    }
   ],
   "source": [
    "cnt = 0\n",
    "ibest = -1\n",
    "bestL = 1000\n",
    "for i in range(1, 51):\n",
    "    init_state = np.array([i for i in range(16)])\n",
    "    best_state, best_fitness, fit_crvTSRHS = mlrose_hiive.random_hill_climb(problemTS,\n",
    "                            restarts=6, max_attempts = 250, curve=True, max_iters = 1000, init_state = init_state,\n",
    "                            random_state=i)\n",
    "    if best_fitness<425:\n",
    "        cnt +=1\n",
    "        if len(fit_crvTSRHS)<bestL:\n",
    "            ibest = i\n",
    "            bestL = len(fit_crvTSRHS)\n",
    "print (\"number of successes:\", cnt)"
   ]
  },
  {
   "cell_type": "code",
   "execution_count": 99,
   "id": "canadian-producer",
   "metadata": {},
   "outputs": [
    {
     "name": "stdout",
     "output_type": "stream",
     "text": [
      "number of successes: 50\n"
     ]
    }
   ],
   "source": [
    "cnt = 0\n",
    "ibest = -1\n",
    "bestL = 1000\n",
    "for i in range(1, 51):\n",
    "    init_state = np.array([i for i in range(16)])\n",
    "    best_state, best_fitness, fit_crvTSRHS = mlrose_hiive.random_hill_climb(problemTS,\n",
    "                            restarts=7, max_attempts = 250, curve=True, max_iters = 1000, init_state = init_state,\n",
    "                            random_state=i)\n",
    "    if best_fitness<425:\n",
    "        cnt +=1\n",
    "        if len(fit_crvTSRHS)<bestL:\n",
    "            ibest = i\n",
    "            bestL = len(fit_crvTSRHS)\n",
    "print (\"number of successes:\", cnt)"
   ]
  },
  {
   "cell_type": "code",
   "execution_count": 100,
   "id": "broadband-cheese",
   "metadata": {},
   "outputs": [
    {
     "name": "stdout",
     "output_type": "stream",
     "text": [
      "number of successes: 50\n"
     ]
    }
   ],
   "source": [
    "cnt = 0\n",
    "ibest = -1\n",
    "bestL = 1000\n",
    "for i in range(1, 51):\n",
    "    init_state = np.array([i for i in range(16)])\n",
    "    best_state, best_fitness, fit_crvTSRHS = mlrose_hiive.random_hill_climb(problemTS,\n",
    "                            restarts=8, max_attempts = 250, curve=True, max_iters = 1000, init_state = init_state,\n",
    "                            random_state=i)\n",
    "    if best_fitness<425:\n",
    "        cnt +=1\n",
    "        if len(fit_crvTSRHS)<bestL:\n",
    "            ibest = i\n",
    "            bestL = len(fit_crvTSRHS)\n",
    "print (\"number of successes:\", cnt)"
   ]
  },
  {
   "cell_type": "code",
   "execution_count": 101,
   "id": "utility-stevens",
   "metadata": {},
   "outputs": [
    {
     "name": "stdout",
     "output_type": "stream",
     "text": [
      "number of successes: 50\n"
     ]
    }
   ],
   "source": [
    "cnt = 0\n",
    "ibest = -1\n",
    "bestL = 1000\n",
    "for i in range(1, 51):\n",
    "    init_state = np.array([i for i in range(16)])\n",
    "    best_state, best_fitness, fit_crvTSRHS = mlrose_hiive.random_hill_climb(problemTS,\n",
    "                            restarts=9, max_attempts = 250, curve=True, max_iters = 1000, init_state = init_state,\n",
    "                            random_state=i)\n",
    "    if best_fitness<425:\n",
    "        cnt +=1\n",
    "        if len(fit_crvTSRHS)<bestL:\n",
    "            ibest = i\n",
    "            bestL = len(fit_crvTSRHS)\n",
    "print (\"number of successes:\", cnt)"
   ]
  },
  {
   "cell_type": "code",
   "execution_count": 102,
   "id": "several-houston",
   "metadata": {},
   "outputs": [
    {
     "name": "stdout",
     "output_type": "stream",
     "text": [
      "6 468\n"
     ]
    }
   ],
   "source": [
    "print(ibest, bestL)"
   ]
  },
  {
   "cell_type": "code",
   "execution_count": 103,
   "id": "foster-cocktail",
   "metadata": {},
   "outputs": [],
   "source": [
    "init_state = np.array([i for i in range(16)])\n",
    "best_state, best_fitness, fit_crvTSRHS = mlrose_hiive.random_hill_climb(problemTS,\n",
    "                            restarts=9, max_attempts = 250, curve=True, max_iters = 1000, init_state = init_state,\n",
    "                            random_state=6)"
   ]
  },
  {
   "cell_type": "code",
   "execution_count": 104,
   "id": "anonymous-scanning",
   "metadata": {},
   "outputs": [
    {
     "data": {
      "text/plain": [
       "[<matplotlib.lines.Line2D at 0x25117f83d60>]"
      ]
     },
     "execution_count": 104,
     "metadata": {},
     "output_type": "execute_result"
    },
    {
     "data": {
      "image/png": "[encoded data removed]",
      "text/plain": [
       "<Figure size 432x288 with 1 Axes>"
      ]
     },
     "metadata": {},
     "output_type": "display_data"
    }
   ],
   "source": [
    "plt.plot(fit_crvTSRHS)"
   ]
  },
  {
   "cell_type": "code",
   "execution_count": 105,
   "id": "demographic-lincoln",
   "metadata": {},
   "outputs": [],
   "source": [
    "schedule = mlrose_hiive.ExpDecay(init_temp=20, exp_const=0.09, min_temp=.02)\n",
    "init_state = np.array([i for i in range(16)])\n",
    "best_state, best_fitness, fit_crvTSPSA= mlrose_hiive.simulated_annealing(problemTS, schedule = schedule, max_attempts = 100, \n",
    "                                        curve=True, max_iters = 1000, init_state = init_state, random_state=12)"
   ]
  },
  {
   "cell_type": "code",
   "execution_count": 106,
   "id": "aging-pipeline",
   "metadata": {},
   "outputs": [
    {
     "data": {
      "text/plain": [
       "626.9679030061218"
      ]
     },
     "execution_count": 106,
     "metadata": {},
     "output_type": "execute_result"
    }
   ],
   "source": [
    "best_fitness"
   ]
  },
  {
   "cell_type": "code",
   "execution_count": null,
   "id": "united-attraction",
   "metadata": {},
   "outputs": [],
   "source": [
    "schedule = mlrose_hiive.ExpDecay(init_temp=20, exp_const=0.09, min_temp=.02)\n",
    "init_state = np.array([i for i in range(16)])\n",
    "best_state, best_fitness, fit_crvTSPSA= mlrose_hiive.simulated_annealing(problemTS, schedule = schedule, max_attempts = 100, \n",
    "                                        curve=True, max_iters = 1000, init_state = init_state, random_state=12)"
   ]
  },
  {
   "cell_type": "code",
   "execution_count": 112,
   "id": "outdoor-breakfast",
   "metadata": {},
   "outputs": [],
   "source": [
    "?mlrose_hiive.ExpDecay"
   ]
  },
  {
   "cell_type": "code",
   "execution_count": 108,
   "id": "tropical-increase",
   "metadata": {},
   "outputs": [
    {
     "name": "stdout",
     "output_type": "stream",
     "text": [
      "number of successes: 14\n"
     ]
    }
   ],
   "source": [
    "cnt = 0\n",
    "ibest = -1\n",
    "bestL = 1000\n",
    "schedule = mlrose_hiive.ExpDecay(init_temp=20, exp_const=0.09, min_temp=.02)\n",
    "for i in range(1, 51):\n",
    "    init_state = np.array([i for i in range(16)])\n",
    "    best_state, best_fitness, fit_crvTSSA= mlrose_hiive.simulated_annealing(problemTS, schedule = schedule, max_attempts = 100, \n",
    "                                        curve=True, max_iters = 1000, init_state = init_state, random_state=i)\n",
    "    if best_fitness<425:\n",
    "        cnt +=1\n",
    "        if len(fit_crvTSSA)<bestL:\n",
    "            ibest = i\n",
    "            bestL = len(fit_crvTSSA)\n",
    "print (\"number of successes:\", cnt)"
   ]
  },
  {
   "cell_type": "code",
   "execution_count": 109,
   "id": "impressed-things",
   "metadata": {},
   "outputs": [
    {
     "name": "stdout",
     "output_type": "stream",
     "text": [
      "number of successes: 18\n"
     ]
    }
   ],
   "source": [
    "cnt = 0\n",
    "ibest = -1\n",
    "bestL = 1000\n",
    "schedule = mlrose_hiive.ExpDecay(init_temp=20, exp_const=0.09, min_temp=.02)\n",
    "for i in range(1, 51):\n",
    "    init_state = np.array([i for i in range(16)])\n",
    "    best_state, best_fitness, fit_crvTSSA= mlrose_hiive.simulated_annealing(problemTS, schedule = schedule, max_attempts = 200, \n",
    "                                        curve=True, max_iters = 1000, init_state = init_state, random_state=i)\n",
    "    if best_fitness<425:\n",
    "        cnt +=1\n",
    "        if len(fit_crvTSSA)<bestL:\n",
    "            ibest = i\n",
    "            bestL = len(fit_crvTSSA)\n",
    "print (\"number of successes:\", cnt)"
   ]
  },
  {
   "cell_type": "code",
   "execution_count": 110,
   "id": "interesting-chamber",
   "metadata": {},
   "outputs": [
    {
     "name": "stdout",
     "output_type": "stream",
     "text": [
      "number of successes: 18\n"
     ]
    }
   ],
   "source": [
    "cnt = 0\n",
    "ibest = -1\n",
    "bestL = 1000\n",
    "schedule = mlrose_hiive.ExpDecay(init_temp=20, exp_const=0.09, min_temp=.02)\n",
    "for i in range(1, 51):\n",
    "    init_state = np.array([i for i in range(16)])\n",
    "    best_state, best_fitness, fit_crvTSSA= mlrose_hiive.simulated_annealing(problemTS, schedule = schedule, max_attempts = 300, \n",
    "                                        curve=True, max_iters = 1000, init_state = init_state, random_state=i)\n",
    "    if best_fitness<425:\n",
    "        cnt +=1\n",
    "        if len(fit_crvTSSA)<bestL:\n",
    "            ibest = i\n",
    "            bestL = len(fit_crvTSSA)\n",
    "print (\"number of successes:\", cnt)"
   ]
  },
  {
   "cell_type": "code",
   "execution_count": 111,
   "id": "liquid-pasta",
   "metadata": {},
   "outputs": [
    {
     "name": "stdout",
     "output_type": "stream",
     "text": [
      "number of successes: 19\n"
     ]
    }
   ],
   "source": [
    "cnt = 0\n",
    "ibest = -1\n",
    "bestL = 1000\n",
    "schedule = mlrose_hiive.ExpDecay(init_temp=20, exp_const=0.09, min_temp=.02)\n",
    "for i in range(1, 51):\n",
    "    init_state = np.array([i for i in range(16)])\n",
    "    best_state, best_fitness, fit_crvTSSA= mlrose_hiive.simulated_annealing(problemTS, schedule = schedule, max_attempts = 400, \n",
    "                                        curve=True, max_iters = 1000, init_state = init_state, random_state=i)\n",
    "    if best_fitness<425:\n",
    "        cnt +=1\n",
    "        if len(fit_crvTSSA)<bestL:\n",
    "            ibest = i\n",
    "            bestL = len(fit_crvTSSA)\n",
    "print (\"number of successes:\", cnt)"
   ]
  },
  {
   "cell_type": "code",
   "execution_count": 113,
   "id": "received-mitchell",
   "metadata": {},
   "outputs": [
    {
     "name": "stdout",
     "output_type": "stream",
     "text": [
      "number of successes: 24\n"
     ]
    }
   ],
   "source": [
    "cnt = 0\n",
    "ibest = -1\n",
    "bestL = 1000\n",
    "schedule = mlrose_hiive.ExpDecay(init_temp=100, exp_const=0.005, min_temp=0.001)\n",
    "for i in range(1, 51):\n",
    "    init_state = np.array([i for i in range(16)])\n",
    "    best_state, best_fitness, fit_crvTSSA= mlrose_hiive.simulated_annealing(problemTS, schedule = schedule, max_attempts = 200, \n",
    "                                        curve=True, max_iters = 1000, init_state = init_state, random_state=i)\n",
    "    if best_fitness<425:\n",
    "        cnt +=1\n",
    "        if len(fit_crvTSSA)<bestL:\n",
    "            ibest = i\n",
    "            bestL = len(fit_crvTSSA)\n",
    "print (\"number of successes:\", cnt)"
   ]
  },
  {
   "cell_type": "code",
   "execution_count": 114,
   "id": "norman-geology",
   "metadata": {},
   "outputs": [
    {
     "name": "stdout",
     "output_type": "stream",
     "text": [
      "number of successes: 1\n"
     ]
    }
   ],
   "source": [
    "cnt = 0\n",
    "ibest = -1\n",
    "bestL = 1000\n",
    "schedule = mlrose_hiive.ExpDecay(init_temp=200, exp_const=0.001, min_temp=0.0005)\n",
    "for i in range(1, 51):\n",
    "    init_state = np.array([i for i in range(16)])\n",
    "    best_state, best_fitness, fit_crvTSSA= mlrose_hiive.simulated_annealing(problemTS, schedule = schedule, max_attempts = 200, \n",
    "                                        curve=True, max_iters = 1000, init_state = init_state, random_state=i)\n",
    "    if best_fitness<425:\n",
    "        cnt +=1\n",
    "        if len(fit_crvTSSA)<bestL:\n",
    "            ibest = i\n",
    "            bestL = len(fit_crvTSSA)\n",
    "print (\"number of successes:\", cnt)"
   ]
  },
  {
   "cell_type": "code",
   "execution_count": 115,
   "id": "found-prescription",
   "metadata": {},
   "outputs": [
    {
     "name": "stdout",
     "output_type": "stream",
     "text": [
      "number of successes: 24\n"
     ]
    }
   ],
   "source": [
    "cnt = 0\n",
    "ibest = -1\n",
    "bestL = 1000\n",
    "schedule = mlrose_hiive.ExpDecay(init_temp=100, exp_const=0.005, min_temp=0.001)\n",
    "for i in range(1, 51):\n",
    "    init_state = np.array([i for i in range(16)])\n",
    "    best_state, best_fitness, fit_crvTSSA= mlrose_hiive.simulated_annealing(problemTS, schedule = schedule, max_attempts = 200, \n",
    "                                        curve=True, max_iters = 1000, init_state = init_state, random_state=i)\n",
    "    if best_fitness<425:\n",
    "        cnt +=1\n",
    "        if len(fit_crvTSSA)<bestL:\n",
    "            ibest = i\n",
    "            bestL = len(fit_crvTSSA)\n",
    "print (\"number of successes:\", cnt)"
   ]
  },
  {
   "cell_type": "code",
   "execution_count": 116,
   "id": "vulnerable-graduation",
   "metadata": {},
   "outputs": [
    {
     "name": "stdout",
     "output_type": "stream",
     "text": [
      "number of successes: 24\n"
     ]
    }
   ],
   "source": [
    "cnt = 0\n",
    "ibest = -1\n",
    "bestL = 1000\n",
    "schedule = mlrose_hiive.ExpDecay(init_temp=100, exp_const=0.005, min_temp=0.001)\n",
    "for i in range(1, 51):\n",
    "    init_state = np.array([i for i in range(16)])\n",
    "    best_state, best_fitness, fit_crvTSSA= mlrose_hiive.simulated_annealing(problemTS, schedule = schedule, max_attempts = 250, \n",
    "                                        curve=True, max_iters = 1000, init_state = init_state, random_state=i)\n",
    "    if best_fitness<425:\n",
    "        cnt +=1\n",
    "        if len(fit_crvTSSA)<bestL:\n",
    "            ibest = i\n",
    "            bestL = len(fit_crvTSSA)\n",
    "print (\"number of successes:\", cnt)"
   ]
  },
  {
   "cell_type": "code",
   "execution_count": 117,
   "id": "instrumental-occasions",
   "metadata": {},
   "outputs": [
    {
     "name": "stdout",
     "output_type": "stream",
     "text": [
      "number of successes: 24\n"
     ]
    }
   ],
   "source": [
    "cnt = 0\n",
    "ibest = -1\n",
    "bestL = 1000\n",
    "schedule = mlrose_hiive.ExpDecay(init_temp=100, exp_const=0.005, min_temp=0.001)\n",
    "for i in range(1, 51):\n",
    "    init_state = np.array([i for i in range(16)])\n",
    "    best_state, best_fitness, fit_crvTSSA= mlrose_hiive.simulated_annealing(problemTS, schedule = schedule, max_attempts = 300, \n",
    "                                        curve=True, max_iters = 1000, init_state = init_state, random_state=i)\n",
    "    if best_fitness<425:\n",
    "        cnt +=1\n",
    "        if len(fit_crvTSSA)<bestL:\n",
    "            ibest = i\n",
    "            bestL = len(fit_crvTSSA)\n",
    "print (\"number of successes:\", cnt)"
   ]
  },
  {
   "cell_type": "code",
   "execution_count": 118,
   "id": "exposed-internship",
   "metadata": {},
   "outputs": [
    {
     "name": "stdout",
     "output_type": "stream",
     "text": [
      "number of successes: 24\n"
     ]
    }
   ],
   "source": [
    "cnt = 0\n",
    "ibest = -1\n",
    "bestL = 1000\n",
    "schedule = mlrose_hiive.ExpDecay(init_temp=100, exp_const=0.005, min_temp=0.001)\n",
    "for i in range(1, 51):\n",
    "    init_state = np.array([i for i in range(16)])\n",
    "    best_state, best_fitness, fit_crvTSSA= mlrose_hiive.simulated_annealing(problemTS, schedule = schedule, max_attempts = 400, \n",
    "                                        curve=True, max_iters = 1000, init_state = init_state, random_state=i)\n",
    "    if best_fitness<425:\n",
    "        cnt +=1\n",
    "        if len(fit_crvTSSA)<bestL:\n",
    "            ibest = i\n",
    "            bestL = len(fit_crvTSSA)\n",
    "print (\"number of successes:\", cnt)cnt = 0\n"
   ]
  },
  {
   "cell_type": "code",
   "execution_count": 119,
   "id": "adverse-plaintiff",
   "metadata": {},
   "outputs": [
    {
     "name": "stdout",
     "output_type": "stream",
     "text": [
      "number of successes: 24\n"
     ]
    }
   ],
   "source": [
    "cnt = 0\n",
    "ibest = -1\n",
    "bestL = 1000\n",
    "schedule = mlrose_hiive.ExpDecay(init_temp=100, exp_const=0.005, min_temp=0.001)\n",
    "for i in range(1, 51):\n",
    "    init_state = np.array([i for i in range(16)])\n",
    "    best_state, best_fitness, fit_crvTSSA= mlrose_hiive.simulated_annealing(problemTS, schedule = schedule, max_attempts = 500, \n",
    "                                        curve=True, max_iters = 1000, init_state = init_state, random_state=i)\n",
    "    if best_fitness<425:\n",
    "        cnt +=1\n",
    "        if len(fit_crvTSSA)<bestL:\n",
    "            ibest = i\n",
    "            bestL = len(fit_crvTSSA)\n",
    "print (\"number of successes:\", cnt)"
   ]
  },
  {
   "cell_type": "code",
   "execution_count": 120,
   "id": "handy-toddler",
   "metadata": {},
   "outputs": [
    {
     "name": "stdout",
     "output_type": "stream",
     "text": [
      "number of successes: 24\n"
     ]
    }
   ],
   "source": [
    "cnt = 0\n",
    "ibest = -1\n",
    "bestL = 1000\n",
    "schedule = mlrose_hiive.ExpDecay(init_temp=100, exp_const=0.005, min_temp=0.001)\n",
    "for i in range(1, 51):\n",
    "    init_state = np.array([i for i in range(16)])\n",
    "    best_state, best_fitness, fit_crvTSSA= mlrose_hiive.simulated_annealing(problemTS, schedule = schedule, max_attempts = 600, \n",
    "                                        curve=True, max_iters = 1000, init_state = init_state, random_state=i)\n",
    "    if best_fitness<425:\n",
    "        cnt +=1\n",
    "        if len(fit_crvTSSA)<bestL:\n",
    "            ibest = i\n",
    "            bestL = len(fit_crvTSSA)\n",
    "print (\"number of successes:\", cnt)"
   ]
  },
  {
   "cell_type": "code",
   "execution_count": 121,
   "id": "conscious-luther",
   "metadata": {},
   "outputs": [
    {
     "name": "stdout",
     "output_type": "stream",
     "text": [
      "number of successes: 24\n"
     ]
    }
   ],
   "source": [
    "cnt = 0\n",
    "ibest = -1\n",
    "bestL = 1000\n",
    "schedule = mlrose_hiive.ExpDecay(init_temp=100, exp_const=0.005, min_temp=0.001)\n",
    "for i in range(1, 51):\n",
    "    init_state = np.array([i for i in range(16)])\n",
    "    best_state, best_fitness, fit_crvTSSA= mlrose_hiive.simulated_annealing(problemTS, schedule = schedule, max_attempts = 200, \n",
    "                                        curve=True, max_iters = 5000, init_state = init_state, random_state=i)\n",
    "    if best_fitness<425:\n",
    "        cnt +=1\n",
    "        if len(fit_crvTSSA)<bestL:\n",
    "            ibest = i\n",
    "            bestL = len(fit_crvTSSA)\n",
    "print (\"number of successes:\", cnt)"
   ]
  },
  {
   "cell_type": "code",
   "execution_count": 124,
   "id": "authorized-recycling",
   "metadata": {},
   "outputs": [
    {
     "name": "stdout",
     "output_type": "stream",
     "text": [
      "number of successes: 24\n"
     ]
    }
   ],
   "source": [
    "cnt = 0\n",
    "ibest = -1\n",
    "bestL = 1001\n",
    "schedule = mlrose_hiive.ExpDecay(init_temp=100, exp_const=0.005, min_temp=0.001)\n",
    "for i in range(1, 51):\n",
    "    init_state = np.array([i for i in range(16)])\n",
    "    best_state, best_fitness, fit_crvTSSA= mlrose_hiive.simulated_annealing(problemTS, schedule = schedule, max_attempts = 200, \n",
    "                                        curve=True, max_iters = 1000, init_state = init_state, random_state=i)\n",
    "    if best_fitness<425:\n",
    "        cnt +=1\n",
    "        if len(fit_crvTSSA)<bestL:\n",
    "            ibest = i\n",
    "            bestL = len(fit_crvTSSA)\n",
    "print (\"number of successes:\", cnt)"
   ]
  },
  {
   "cell_type": "code",
   "execution_count": 125,
   "id": "floating-defendant",
   "metadata": {},
   "outputs": [
    {
     "name": "stdout",
     "output_type": "stream",
     "text": [
      "4 1000\n"
     ]
    }
   ],
   "source": [
    "print (ibest, bestL)"
   ]
  },
  {
   "cell_type": "code",
   "execution_count": 126,
   "id": "isolated-lemon",
   "metadata": {},
   "outputs": [],
   "source": [
    "init_state = np.array([i for i in range(16)])\n",
    "best_state, best_fitness, fit_crvTSSA= mlrose_hiive.simulated_annealing(problemTS, schedule = schedule, max_attempts = 200, \n",
    "                                        curve=True, max_iters = 1000, init_state = init_state, random_state=4)"
   ]
  },
  {
   "cell_type": "code",
   "execution_count": 127,
   "id": "subtle-leone",
   "metadata": {},
   "outputs": [
    {
     "data": {
      "text/plain": [
       "[<matplotlib.lines.Line2D at 0x2511805e640>]"
      ]
     },
     "execution_count": 127,
     "metadata": {},
     "output_type": "execute_result"
    },
    {
     "data": {
      "image/png": "[encoded data removed]",
      "text/plain": [
       "<Figure size 432x288 with 1 Axes>"
      ]
     },
     "metadata": {},
     "output_type": "display_data"
    }
   ],
   "source": [
    "plt.plot(fit_crvTSSA)"
   ]
  },
  {
   "cell_type": "code",
   "execution_count": 128,
   "id": "prompt-helen",
   "metadata": {},
   "outputs": [
    {
     "name": "stdout",
     "output_type": "stream",
     "text": [
      "[ 0  7  9  3  6 12 13 15  4 11  2 10  1 14  8  5] 414.40564961991413\n"
     ]
    }
   ],
   "source": [
    "print(best_state, best_fitness)"
   ]
  },
  {
   "cell_type": "code",
   "execution_count": 129,
   "id": "wrapped-commonwealth",
   "metadata": {},
   "outputs": [
    {
     "name": "stdout",
     "output_type": "stream",
     "text": [
      "(1, 1)\n",
      "(0, 0)\n",
      "(0, 1)\n",
      "(-2, 101)\n",
      "(0, 100)\n",
      "(1, 99)\n",
      "(4, 98)\n",
      "(99, 95)\n",
      "(100, 99)\n",
      "(99, 100)\n",
      "(97, 98)\n",
      "(101, 3)\n",
      "(98, 2)\n",
      "(100, 0)\n",
      "(99, 1)\n",
      "(2, -1)\n"
     ]
    }
   ],
   "source": [
    "# sanity check:\n",
    "for i in best_state:\n",
    "    print (coords_list[i])"
   ]
  },
  {
   "cell_type": "markdown",
   "id": "polar-functionality",
   "metadata": {},
   "source": [
    "#### TS GenAlg"
   ]
  },
  {
   "cell_type": "code",
   "execution_count": 130,
   "id": "animated-utilization",
   "metadata": {},
   "outputs": [],
   "source": [
    "best_state, best_fitness, fit_crvTSGA = mlrose_hiive.genetic_alg(problemTS, mutation_prob = 0.2, max_attempts = 20, \n",
    "                                                                pop_size=25, curve=True, random_state = 12)"
   ]
  },
  {
   "cell_type": "code",
   "execution_count": 131,
   "id": "spiritual-schema",
   "metadata": {},
   "outputs": [
    {
     "name": "stdout",
     "output_type": "stream",
     "text": [
      "[ 6 12 13 14  1  8 10 15  4 11  2  5  7  9  0  3] 492.9460443557694\n"
     ]
    }
   ],
   "source": [
    "print (best_state, best_fitness)"
   ]
  },
  {
   "cell_type": "code",
   "execution_count": 132,
   "id": "extreme-telling",
   "metadata": {},
   "outputs": [
    {
     "name": "stdout",
     "output_type": "stream",
     "text": [
      "number of successes: 15\n"
     ]
    }
   ],
   "source": [
    "cnt = 0\n",
    "ibest = -1\n",
    "bestL = 1001\n",
    "for i in range(1, 51):    \n",
    "    best_state, best_fitness, fit_crvTSGA = mlrose_hiive.genetic_alg(problemTS, mutation_prob = 0.2, max_attempts = 20, \n",
    "                                                                pop_size=25, curve=True, random_state = i)\n",
    "    if best_fitness<425:\n",
    "        cnt +=1\n",
    "        if len(fit_crvTSGA)<bestL:\n",
    "            ibest = i\n",
    "            bestL = len(fit_crvTSGA)\n",
    "print (\"number of successes:\", cnt)"
   ]
  },
  {
   "cell_type": "code",
   "execution_count": 133,
   "id": "american-update",
   "metadata": {},
   "outputs": [
    {
     "name": "stdout",
     "output_type": "stream",
     "text": [
      "number of successes: 20\n"
     ]
    }
   ],
   "source": [
    "cnt = 0\n",
    "ibest = -1\n",
    "bestL = 1001\n",
    "for i in range(1, 51):    \n",
    "    best_state, best_fitness, fit_crvTSGA = mlrose_hiive.genetic_alg(problemTS, mutation_prob = 0.2, max_attempts = 20, \n",
    "                                                                pop_size=50, curve=True, random_state = i)\n",
    "    if best_fitness<425:\n",
    "        cnt +=1\n",
    "        if len(fit_crvTSGA)<bestL:\n",
    "            ibest = i\n",
    "            bestL = len(fit_crvTSGA)\n",
    "print (\"number of successes:\", cnt)"
   ]
  },
  {
   "cell_type": "code",
   "execution_count": 134,
   "id": "worthy-acoustic",
   "metadata": {},
   "outputs": [
    {
     "name": "stdout",
     "output_type": "stream",
     "text": [
      "number of successes: 31\n"
     ]
    }
   ],
   "source": [
    "cnt = 0\n",
    "ibest = -1\n",
    "bestL = 1001\n",
    "for i in range(1, 51):    \n",
    "    best_state, best_fitness, fit_crvTSGA = mlrose_hiive.genetic_alg(problemTS, mutation_prob = 0.2, max_attempts = 20, \n",
    "                                                                pop_size=75, curve=True, random_state = i)\n",
    "    if best_fitness<425:\n",
    "        cnt +=1\n",
    "        if len(fit_crvTSGA)<bestL:\n",
    "            ibest = i\n",
    "            bestL = len(fit_crvTSGA)\n",
    "print (\"number of successes:\", cnt)"
   ]
  },
  {
   "cell_type": "code",
   "execution_count": 135,
   "id": "retained-venture",
   "metadata": {},
   "outputs": [
    {
     "name": "stdout",
     "output_type": "stream",
     "text": [
      "number of successes: 34\n"
     ]
    }
   ],
   "source": [
    "cnt = 0\n",
    "ibest = -1\n",
    "bestL = 1001\n",
    "for i in range(1, 51):    \n",
    "    best_state, best_fitness, fit_crvTSGA = mlrose_hiive.genetic_alg(problemTS, mutation_prob = 0.2, max_attempts = 20, \n",
    "                                                                pop_size=125, curve=True, random_state = i)\n",
    "    if best_fitness<425:\n",
    "        cnt +=1\n",
    "        if len(fit_crvTSGA)<bestL:\n",
    "            ibest = i\n",
    "            bestL = len(fit_crvTSGA)\n",
    "print (\"number of successes:\", cnt)"
   ]
  },
  {
   "cell_type": "code",
   "execution_count": 136,
   "id": "private-angola",
   "metadata": {},
   "outputs": [
    {
     "name": "stdout",
     "output_type": "stream",
     "text": [
      "number of successes: 46\n"
     ]
    }
   ],
   "source": [
    "cnt = 0\n",
    "ibest = -1\n",
    "bestL = 1001\n",
    "for i in range(1, 51):    \n",
    "    best_state, best_fitness, fit_crvTSGA = mlrose_hiive.genetic_alg(problemTS, mutation_prob = 0.2, max_attempts = 20, \n",
    "                                                                pop_size=250, curve=True, random_state = i)\n",
    "    if best_fitness<425:\n",
    "        cnt +=1\n",
    "        if len(fit_crvTSGA)<bestL:\n",
    "            ibest = i\n",
    "            bestL = len(fit_crvTSGA)\n",
    "print (\"number of successes:\", cnt)"
   ]
  },
  {
   "cell_type": "code",
   "execution_count": 137,
   "id": "marked-spokesman",
   "metadata": {},
   "outputs": [
    {
     "name": "stdout",
     "output_type": "stream",
     "text": [
      "number of successes: 50\n"
     ]
    }
   ],
   "source": [
    "cnt = 0\n",
    "ibest = -1\n",
    "bestL = 1001\n",
    "for i in range(1, 51):    \n",
    "    best_state, best_fitness, fit_crvTSGA = mlrose_hiive.genetic_alg(problemTS, mutation_prob = 0.2, max_attempts = 20, \n",
    "                                                                pop_size=400, curve=True, random_state = i)\n",
    "    if best_fitness<425:\n",
    "        cnt +=1\n",
    "        if len(fit_crvTSGA)<bestL:\n",
    "            ibest = i\n",
    "            bestL = len(fit_crvTSGA)\n",
    "print (\"number of successes:\", cnt)"
   ]
  },
  {
   "cell_type": "code",
   "execution_count": 139,
   "id": "handed-scott",
   "metadata": {},
   "outputs": [
    {
     "name": "stdout",
     "output_type": "stream",
     "text": [
      "number of successes: 46\n"
     ]
    }
   ],
   "source": [
    "cnt = 0\n",
    "ibest = -1\n",
    "bestL = 1001\n",
    "for i in range(1, 51):    \n",
    "    best_state, best_fitness, fit_crvTSGA = mlrose_hiive.genetic_alg(problemTS, mutation_prob = 0.2, max_attempts = 30, \n",
    "                                                                pop_size=250, curve=True, random_state = i)\n",
    "    if best_fitness<425:\n",
    "        cnt +=1\n",
    "        if len(fit_crvTSGA)<bestL:\n",
    "            ibest = i\n",
    "            bestL = len(fit_crvTSGA)\n",
    "print (\"number of successes:\", cnt)"
   ]
  },
  {
   "cell_type": "code",
   "execution_count": 140,
   "id": "massive-stick",
   "metadata": {},
   "outputs": [
    {
     "name": "stdout",
     "output_type": "stream",
     "text": [
      "number of successes: 46\n"
     ]
    }
   ],
   "source": [
    "cnt = 0\n",
    "ibest = -1\n",
    "bestL = 1001\n",
    "for i in range(1, 51):    \n",
    "    best_state, best_fitness, fit_crvTSGA = mlrose_hiive.genetic_alg(problemTS, mutation_prob = 0.2, max_attempts = 40, \n",
    "                                                                pop_size=250, curve=True, random_state = i)\n",
    "    if best_fitness<425:\n",
    "        cnt +=1\n",
    "        if len(fit_crvTSGA)<bestL:\n",
    "            ibest = i\n",
    "            bestL = len(fit_crvTSGA)\n",
    "print (\"number of successes:\", cnt)"
   ]
  },
  {
   "cell_type": "code",
   "execution_count": 141,
   "id": "changing-enemy",
   "metadata": {},
   "outputs": [
    {
     "name": "stdout",
     "output_type": "stream",
     "text": [
      "number of successes: 46\n"
     ]
    }
   ],
   "source": [
    "cnt = 0\n",
    "ibest = -1\n",
    "bestL = 1001\n",
    "for i in range(1, 51):    \n",
    "    best_state, best_fitness, fit_crvTSGA = mlrose_hiive.genetic_alg(problemTS, mutation_prob = 0.2, max_attempts = 50, \n",
    "                                                                pop_size=250, curve=True, random_state = i)\n",
    "    if best_fitness<425:\n",
    "        cnt +=1\n",
    "        if len(fit_crvTSGA)<bestL:\n",
    "            ibest = i\n",
    "            bestL = len(fit_crvTSGA)\n",
    "print (\"number of successes:\", cnt)"
   ]
  },
  {
   "cell_type": "code",
   "execution_count": 142,
   "id": "cosmetic-triple",
   "metadata": {},
   "outputs": [
    {
     "name": "stdout",
     "output_type": "stream",
     "text": [
      "number of successes: 47\n"
     ]
    }
   ],
   "source": [
    "cnt = 0\n",
    "ibest = -1\n",
    "bestL = 1001\n",
    "for i in range(1, 51):    \n",
    "    best_state, best_fitness, fit_crvTSGA = mlrose_hiive.genetic_alg(problemTS, mutation_prob = 0.25, max_attempts = 20, \n",
    "                                                                pop_size=250, curve=True, random_state = i)\n",
    "    if best_fitness<425:\n",
    "        cnt +=1\n",
    "        if len(fit_crvTSGA)<bestL:\n",
    "            ibest = i\n",
    "            bestL = len(fit_crvTSGA)\n",
    "print (\"number of successes:\", cnt)"
   ]
  },
  {
   "cell_type": "code",
   "execution_count": 143,
   "id": "chemical-complaint",
   "metadata": {},
   "outputs": [
    {
     "name": "stdout",
     "output_type": "stream",
     "text": [
      "number of successes: 45\n"
     ]
    }
   ],
   "source": [
    "cnt = 0\n",
    "ibest = -1\n",
    "bestL = 1001\n",
    "for i in range(1, 51):    \n",
    "    best_state, best_fitness, fit_crvTSGA = mlrose_hiive.genetic_alg(problemTS, mutation_prob = 0.3, max_attempts = 20, \n",
    "                                                                pop_size=250, curve=True, random_state = i)\n",
    "    if best_fitness<425:\n",
    "        cnt +=1\n",
    "        if len(fit_crvTSGA)<bestL:\n",
    "            ibest = i\n",
    "            bestL = len(fit_crvTSGA)\n",
    "print (\"number of successes:\", cnt)"
   ]
  },
  {
   "cell_type": "code",
   "execution_count": 144,
   "id": "integrated-attraction",
   "metadata": {},
   "outputs": [
    {
     "name": "stdout",
     "output_type": "stream",
     "text": [
      "number of successes: 49\n"
     ]
    }
   ],
   "source": [
    "cnt = 0\n",
    "ibest = -1\n",
    "bestL = 1001\n",
    "for i in range(1, 51):    \n",
    "    best_state, best_fitness, fit_crvTSGA = mlrose_hiive.genetic_alg(problemTS, mutation_prob = 0.4, max_attempts = 20, \n",
    "                                                                pop_size=250, curve=True, random_state = i)\n",
    "    if best_fitness<425:\n",
    "        cnt +=1\n",
    "        if len(fit_crvTSGA)<bestL:\n",
    "            ibest = i\n",
    "            bestL = len(fit_crvTSGA)\n",
    "print (\"number of successes:\", cnt)"
   ]
  },
  {
   "cell_type": "code",
   "execution_count": 145,
   "id": "matched-truth",
   "metadata": {},
   "outputs": [
    {
     "name": "stdout",
     "output_type": "stream",
     "text": [
      "number of successes: 50\n"
     ]
    }
   ],
   "source": [
    "cnt = 0\n",
    "ibest = -1\n",
    "bestL = 1001\n",
    "for i in range(1, 51):    \n",
    "    best_state, best_fitness, fit_crvTSGA = mlrose_hiive.genetic_alg(problemTS, mutation_prob = 0.5, max_attempts = 20, \n",
    "                                                                pop_size=250, curve=True, random_state = i)\n",
    "    if best_fitness<425:\n",
    "        cnt +=1\n",
    "        if len(fit_crvTSGA)<bestL:\n",
    "            ibest = i\n",
    "            bestL = len(fit_crvTSGA)\n",
    "print (\"number of successes:\", cnt)"
   ]
  },
  {
   "cell_type": "code",
   "execution_count": 146,
   "id": "parental-universal",
   "metadata": {},
   "outputs": [
    {
     "name": "stdout",
     "output_type": "stream",
     "text": [
      "number of successes: 47\n"
     ]
    }
   ],
   "source": [
    "cnt = 0\n",
    "ibest = -1\n",
    "bestL = 1001\n",
    "for i in range(1, 51):    \n",
    "    best_state, best_fitness, fit_crvTSGA = mlrose_hiive.genetic_alg(problemTS, mutation_prob = 0.15, max_attempts = 20, \n",
    "                                                                pop_size=250, curve=True, random_state = i)\n",
    "    if best_fitness<425:\n",
    "        cnt +=1\n",
    "        if len(fit_crvTSGA)<bestL:\n",
    "            ibest = i\n",
    "            bestL = len(fit_crvTSGA)\n",
    "print (\"number of successes:\", cnt)"
   ]
  },
  {
   "cell_type": "code",
   "execution_count": 147,
   "id": "toxic-overall",
   "metadata": {},
   "outputs": [
    {
     "name": "stdout",
     "output_type": "stream",
     "text": [
      "number of successes: 44\n"
     ]
    }
   ],
   "source": [
    "cnt = 0\n",
    "ibest = -1\n",
    "bestL = 1001\n",
    "for i in range(1, 51):    \n",
    "    best_state, best_fitness, fit_crvTSGA = mlrose_hiive.genetic_alg(problemTS, mutation_prob = 0.1, max_attempts = 20, \n",
    "                                                                pop_size=250, curve=True, random_state = i)\n",
    "    if best_fitness<425:\n",
    "        cnt +=1\n",
    "        if len(fit_crvTSGA)<bestL:\n",
    "            ibest = i\n",
    "            bestL = len(fit_crvTSGA)\n",
    "print (\"number of successes:\", cnt)"
   ]
  },
  {
   "cell_type": "code",
   "execution_count": 148,
   "id": "specified-meeting",
   "metadata": {},
   "outputs": [
    {
     "name": "stdout",
     "output_type": "stream",
     "text": [
      "number of successes: 50\n"
     ]
    }
   ],
   "source": [
    "cnt = 0\n",
    "ibest = -1\n",
    "bestL = 1001\n",
    "for i in range(1, 51):    \n",
    "    best_state, best_fitness, fit_crvTSGA = mlrose_hiive.genetic_alg(problemTS, mutation_prob = 0.4, max_attempts = 20, \n",
    "                                                                pop_size=350, curve=True, random_state = i)\n",
    "    if best_fitness<425:\n",
    "        cnt +=1\n",
    "        if len(fit_crvTSGA)<bestL:\n",
    "            ibest = i\n",
    "            bestL = len(fit_crvTSGA)\n",
    "print (\"number of successes:\", cnt)"
   ]
  },
  {
   "cell_type": "code",
   "execution_count": 149,
   "id": "funky-tours",
   "metadata": {},
   "outputs": [
    {
     "name": "stdout",
     "output_type": "stream",
     "text": [
      "number of successes: 50\n"
     ]
    }
   ],
   "source": [
    "cnt = 0\n",
    "ibest = -1\n",
    "bestL = 1001\n",
    "for i in range(1, 51):    \n",
    "    best_state, best_fitness, fit_crvTSGA = mlrose_hiive.genetic_alg(problemTS, mutation_prob = 0.4, max_attempts = 20, \n",
    "                                                                pop_size=300, curve=True, random_state = i)\n",
    "    if best_fitness<425:\n",
    "        cnt +=1\n",
    "        if len(fit_crvTSGA)<bestL:\n",
    "            ibest = i\n",
    "            bestL = len(fit_crvTSGA)\n",
    "print (\"number of successes:\", cnt)"
   ]
  },
  {
   "cell_type": "code",
   "execution_count": 150,
   "id": "supposed-wichita",
   "metadata": {},
   "outputs": [
    {
     "name": "stdout",
     "output_type": "stream",
     "text": [
      "18 58\n"
     ]
    }
   ],
   "source": [
    "print (ibest, bestL)"
   ]
  },
  {
   "cell_type": "code",
   "execution_count": 151,
   "id": "expensive-dream",
   "metadata": {},
   "outputs": [],
   "source": [
    "best_state, best_fitness, fit_crvTSGA = mlrose_hiive.genetic_alg(problemTS, mutation_prob = 0.4, max_attempts = 20, \n",
    "                                                                pop_size=300, curve=True, random_state = 18)"
   ]
  },
  {
   "cell_type": "code",
   "execution_count": 152,
   "id": "powerful-recovery",
   "metadata": {},
   "outputs": [
    {
     "data": {
      "text/plain": [
       "406.5186682788577"
      ]
     },
     "execution_count": 152,
     "metadata": {},
     "output_type": "execute_result"
    }
   ],
   "source": [
    "best_fitness"
   ]
  },
  {
   "cell_type": "code",
   "execution_count": 153,
   "id": "forced-nevada",
   "metadata": {},
   "outputs": [
    {
     "data": {
      "text/plain": [
       "[<matplotlib.lines.Line2D at 0x25117fd44f0>]"
      ]
     },
     "execution_count": 153,
     "metadata": {},
     "output_type": "execute_result"
    },
    {
     "data": {
      "image/png": "[encoded data removed]",
      "text/plain": [
       "<Figure size 432x288 with 1 Axes>"
      ]
     },
     "metadata": {},
     "output_type": "display_data"
    }
   ],
   "source": [
    "plt.plot(fit_crvTSGA)"
   ]
  },
  {
   "cell_type": "markdown",
   "id": "restricted-editor",
   "metadata": {},
   "source": [
    "#### TS Mimic"
   ]
  },
  {
   "cell_type": "code",
   "execution_count": 154,
   "id": "drawn-victorian",
   "metadata": {},
   "outputs": [],
   "source": [
    "best_state, best_fitness, fit_crvTSM = mlrose_hiive.mimic(problemTS, keep_pct=0.2, curve=True,pop_size=200,\n",
    "                                                 max_attempts = 10, max_iters=1000, random_state=12)"
   ]
  },
  {
   "cell_type": "code",
   "execution_count": 155,
   "id": "devoted-assist",
   "metadata": {},
   "outputs": [
    {
     "data": {
      "text/plain": [
       "692.3675146933363"
      ]
     },
     "execution_count": 155,
     "metadata": {},
     "output_type": "execute_result"
    }
   ],
   "source": [
    "best_fitness"
   ]
  },
  {
   "cell_type": "code",
   "execution_count": 157,
   "id": "exterior-antibody",
   "metadata": {},
   "outputs": [],
   "source": [
    "fitness_coords = mlrose_hiive.TravellingSales(coords = coords_list)\n",
    "problemTS = mlrose_hiive.TSPOpt(length = len(coords_list), fitness_fn = fitness_coords, maximize = False)"
   ]
  },
  {
   "cell_type": "code",
   "execution_count": 158,
   "id": "desperate-vegetation",
   "metadata": {},
   "outputs": [],
   "source": [
    "best_state, best_fitness, fit_crvTSM = mlrose_hiive.mimic(problemTS, max_attempts = 200,\n",
    "                                                 curve=True, random_state=1)"
   ]
  },
  {
   "cell_type": "code",
   "execution_count": 159,
   "id": "curious-adoption",
   "metadata": {},
   "outputs": [
    {
     "data": {
      "text/plain": [
       "836.6091061210844"
      ]
     },
     "execution_count": 159,
     "metadata": {},
     "output_type": "execute_result"
    }
   ],
   "source": [
    "best_fitness"
   ]
  },
  {
   "cell_type": "code",
   "execution_count": 164,
   "id": "immune-hawaiian",
   "metadata": {},
   "outputs": [],
   "source": [
    "best_state, best_fitness, fit_crvTSM = mlrose_hiive.mimic(problemTS, max_attempts = 200, pop_size=400, keep_pct=0.2,\n",
    "                                                 curve=True, max_iters=1000, random_state=1)"
   ]
  },
  {
   "cell_type": "code",
   "execution_count": 165,
   "id": "velvet-canada",
   "metadata": {},
   "outputs": [
    {
     "data": {
      "text/plain": [
       "428.9522533872016"
      ]
     },
     "execution_count": 165,
     "metadata": {},
     "output_type": "execute_result"
    }
   ],
   "source": [
    "best_fitness"
   ]
  },
  {
   "cell_type": "code",
   "execution_count": 166,
   "id": "pregnant-masters",
   "metadata": {},
   "outputs": [
    {
     "data": {
      "text/plain": [
       "206"
      ]
     },
     "execution_count": 166,
     "metadata": {},
     "output_type": "execute_result"
    }
   ],
   "source": [
    "len(fit_crvTSM)"
   ]
  },
  {
   "cell_type": "code",
   "execution_count": 167,
   "id": "supreme-screw",
   "metadata": {},
   "outputs": [
    {
     "name": "stdout",
     "output_type": "stream",
     "text": [
      "number of successes: 10\n"
     ]
    }
   ],
   "source": [
    "cnt = 0\n",
    "ibest = -1\n",
    "bestL = 1001\n",
    "for i in range(1, 51):\n",
    "    best_state, best_fitness, fit_crvTSM = mlrose_hiive.mimic(problemTS, max_attempts = 200, pop_size=400, keep_pct=0.2,\n",
    "                                                 curve=True, max_iters=1000, random_state=i)\n",
    "    if best_fitness<425:\n",
    "        cnt +=1\n",
    "    if len(fit_crvTSM)<bestL:\n",
    "        ibest = i\n",
    "        bestL = len(fit_crvTSM)\n",
    "print (\"number of successes:\", cnt)"
   ]
  },
  {
   "cell_type": "code",
   "execution_count": 168,
   "id": "elect-spring",
   "metadata": {},
   "outputs": [],
   "source": [
    "best_state, best_fitness, fit_crvTSM = mlrose_hiive.mimic(problemTS, max_attempts = 200, pop_size=400, keep_pct=0.2,\n",
    "                                                 curve=True, max_iters=1000, random_state=7)"
   ]
  },
  {
   "cell_type": "code",
   "execution_count": 169,
   "id": "changing-supplement",
   "metadata": {},
   "outputs": [
    {
     "name": "stdout",
     "output_type": "stream",
     "text": [
      "[10  8 14  1  4 11  2 15 13  6 12  3  5  0  9  7] 423.83814740217395\n"
     ]
    }
   ],
   "source": [
    "print (best_state, best_fitness)"
   ]
  },
  {
   "cell_type": "code",
   "execution_count": 170,
   "id": "quick-expression",
   "metadata": {},
   "outputs": [
    {
     "data": {
      "text/plain": [
       "[<matplotlib.lines.Line2D at 0x2511817a700>]"
      ]
     },
     "execution_count": 170,
     "metadata": {},
     "output_type": "execute_result"
    },
    {
     "data": {
      "image/png": "[encoded data removed]",
      "text/plain": [
       "<Figure size 432x288 with 1 Axes>"
      ]
     },
     "metadata": {},
     "output_type": "display_data"
    }
   ],
   "source": [
    "plt.plot(fit_crvTSM)"
   ]
  },
  {
   "cell_type": "code",
   "execution_count": 171,
   "id": "sudden-substitute",
   "metadata": {},
   "outputs": [
    {
     "name": "stdout",
     "output_type": "stream",
     "text": [
      "(101, 3)\n",
      "(99, 1)\n",
      "(100, 0)\n",
      "(98, 2)\n",
      "(100, 99)\n",
      "(99, 100)\n",
      "(97, 98)\n",
      "(99, 95)\n",
      "(4, 98)\n",
      "(0, 100)\n",
      "(1, 99)\n",
      "(-2, 101)\n",
      "(2, -1)\n",
      "(1, 1)\n",
      "(0, 1)\n",
      "(0, 0)\n"
     ]
    }
   ],
   "source": [
    "# sanity check:\n",
    "for i in best_state:\n",
    "    print (coords_list[i])"
   ]
  },
  {
   "cell_type": "markdown",
   "id": "regional-palmer",
   "metadata": {},
   "source": [
    "### Knapsack Problem"
   ]
  },
  {
   "cell_type": "markdown",
   "id": "italian-question",
   "metadata": {},
   "source": [
    "See wiki: https://en.wikipedia.org/wiki/Knapsack_problem"
   ]
  },
  {
   "cell_type": "code",
   "execution_count": 172,
   "id": "imperial-denmark",
   "metadata": {},
   "outputs": [],
   "source": [
    "max_weight_pct = 5.0\n",
    "weights = list(range(1, 21))\n",
    "values = [2, 7, 1, 9, 4, 9, 3, 1, 5, 12, 3, 11, 2, 9, 2, 19, 1, 10, 1, 9]"
   ]
  },
  {
   "cell_type": "code",
   "execution_count": 173,
   "id": "convertible-majority",
   "metadata": {},
   "outputs": [],
   "source": [
    "problemK = mlrose_hiive.KnapsackOpt(maximize=True,\n",
    "        max_val=9, weights=weights, values=values, max_weight_pct = max_weight_pct)"
   ]
  },
  {
   "cell_type": "markdown",
   "id": "married-fancy",
   "metadata": {},
   "source": [
    "#### Knapsack  GA (Gen Alg)"
   ]
  },
  {
   "cell_type": "code",
   "execution_count": 174,
   "id": "embedded-football",
   "metadata": {},
   "outputs": [],
   "source": [
    "best_state, best_fitness, fit_crvKGA = mlrose_hiive.genetic_alg(problemK, mutation_prob = 0.2, max_attempts = 100, \n",
    "                                        pop_size=200, curve=True, random_state = 12)"
   ]
  },
  {
   "cell_type": "code",
   "execution_count": 175,
   "id": "heated-taste",
   "metadata": {},
   "outputs": [
    {
     "name": "stdout",
     "output_type": "stream",
     "text": [
      "[8 8 7 8 8 8 7 0 8 8 4 8 0 8 0 8 0 8 0 8] 888.0\n"
     ]
    }
   ],
   "source": [
    "print (best_state, best_fitness)"
   ]
  },
  {
   "cell_type": "code",
   "execution_count": 179,
   "id": "impressive-juice",
   "metadata": {},
   "outputs": [],
   "source": [
    "best_state, best_fitness, fit_crvKGA = mlrose_hiive.genetic_alg(problemK, mutation_prob = 0.2, max_attempts = 100,\n",
    "                                         max_iters= 1000,  pop_breed_percent=0.75, elite_dreg_ratio=0.99,  # not tuned      \n",
    "                                         pop_size=200, curve=True, random_state = 12)"
   ]
  },
  {
   "cell_type": "code",
   "execution_count": 180,
   "id": "forbidden-cartridge",
   "metadata": {},
   "outputs": [
    {
     "name": "stdout",
     "output_type": "stream",
     "text": [
      "[8 8 7 8 8 8 7 0 8 8 4 8 0 8 0 8 0 8 0 8] 888.0\n"
     ]
    }
   ],
   "source": [
    "print (best_state, best_fitness)"
   ]
  },
  {
   "cell_type": "code",
   "execution_count": 181,
   "id": "needed-dylan",
   "metadata": {},
   "outputs": [
    {
     "name": "stdout",
     "output_type": "stream",
     "text": [
      "number of successes: 14\n"
     ]
    }
   ],
   "source": [
    "cnt = 0\n",
    "ibest = -1\n",
    "bestL = 1001\n",
    "for i in range(1, 51):\n",
    "    best_state, best_fitness, fit_crvKGA = mlrose_hiive.genetic_alg(problemK, mutation_prob = 0.2, max_attempts = 20,\n",
    "                                max_iters= 1000,  pop_breed_percent=0.75, elite_dreg_ratio=0.99,  # not tuned      \n",
    "                                pop_size=200, curve=True, random_state = i)\n",
    "    \n",
    "    if best_fitness>888:\n",
    "        cnt +=1\n",
    "        if len(fit_crvTSGA)<bestL:\n",
    "            ibest = i\n",
    "            bestL = len(fit_crvTSGA)\n",
    "print (\"number of successes:\", cnt)"
   ]
  },
  {
   "cell_type": "code",
   "execution_count": 182,
   "id": "outstanding-fundamentals",
   "metadata": {},
   "outputs": [
    {
     "name": "stdout",
     "output_type": "stream",
     "text": [
      "2 58\n"
     ]
    }
   ],
   "source": [
    "print(ibest, bestL)"
   ]
  },
  {
   "cell_type": "code",
   "execution_count": 183,
   "id": "dimensional-wallet",
   "metadata": {},
   "outputs": [
    {
     "name": "stdout",
     "output_type": "stream",
     "text": [
      "number of successes: 16\n"
     ]
    }
   ],
   "source": [
    "cnt = 0\n",
    "ibest = -1\n",
    "bestL = 1001\n",
    "for i in range(1, 51):\n",
    "    best_state, best_fitness, fit_crvKGA = mlrose_hiive.genetic_alg(problemK, mutation_prob = 0.2, max_attempts = 30,\n",
    "                                max_iters= 1000,  pop_breed_percent=0.75, elite_dreg_ratio=0.99,  # not tuned      \n",
    "                                pop_size=200, curve=True, random_state = i)\n",
    "    \n",
    "    if best_fitness>888:\n",
    "        cnt +=1\n",
    "        if len(fit_crvTSGA)<bestL:\n",
    "            ibest = i\n",
    "            bestL = len(fit_crvTSGA)\n",
    "print (\"number of successes:\", cnt)"
   ]
  },
  {
   "cell_type": "code",
   "execution_count": 184,
   "id": "through-myrtle",
   "metadata": {},
   "outputs": [
    {
     "name": "stdout",
     "output_type": "stream",
     "text": [
      "number of successes: 16\n"
     ]
    }
   ],
   "source": [
    "cnt = 0\n",
    "ibest = -1\n",
    "bestL = 1001\n",
    "for i in range(1, 51):\n",
    "    best_state, best_fitness, fit_crvKGA = mlrose_hiive.genetic_alg(problemK, mutation_prob = 0.2, max_attempts = 40,\n",
    "                                max_iters= 1000,  pop_breed_percent=0.75, elite_dreg_ratio=0.99,  # not tuned      \n",
    "                                pop_size=200, curve=True, random_state = i)\n",
    "    \n",
    "    if best_fitness>888:\n",
    "        cnt +=1\n",
    "        if len(fit_crvTSGA)<bestL:\n",
    "            ibest = i\n",
    "            bestL = len(fit_crvTSGA)\n",
    "print (\"number of successes:\", cnt)"
   ]
  },
  {
   "cell_type": "code",
   "execution_count": 185,
   "id": "chubby-chick",
   "metadata": {},
   "outputs": [
    {
     "name": "stdout",
     "output_type": "stream",
     "text": [
      "number of successes: 16\n"
     ]
    }
   ],
   "source": [
    "cnt = 0\n",
    "ibest = -1\n",
    "bestL = 1001\n",
    "for i in range(1, 51):\n",
    "    best_state, best_fitness, fit_crvKGA = mlrose_hiive.genetic_alg(problemK, mutation_prob = 0.2, max_attempts = 50,\n",
    "                                max_iters= 1000,  pop_breed_percent=0.75, elite_dreg_ratio=0.99,  # not tuned      \n",
    "                                pop_size=200, curve=True, random_state = i)\n",
    "    \n",
    "    if best_fitness>888:\n",
    "        cnt +=1\n",
    "        if len(fit_crvTSGA)<bestL:\n",
    "            ibest = i\n",
    "            bestL = len(fit_crvTSGA)\n",
    "print (\"number of successes:\", cnt)"
   ]
  },
  {
   "cell_type": "code",
   "execution_count": 186,
   "id": "crude-chosen",
   "metadata": {},
   "outputs": [
    {
     "name": "stdout",
     "output_type": "stream",
     "text": [
      "number of successes: 16\n"
     ]
    }
   ],
   "source": [
    "cnt = 0\n",
    "ibest = -1\n",
    "bestL = 1001\n",
    "for i in range(1, 51):\n",
    "    best_state, best_fitness, fit_crvKGA = mlrose_hiive.genetic_alg(problemK, mutation_prob = 0.2, max_attempts = 75,\n",
    "                                max_iters= 1000,  pop_breed_percent=0.75, elite_dreg_ratio=0.99,  # not tuned      \n",
    "                                pop_size=200, curve=True, random_state = i)\n",
    "    \n",
    "    if best_fitness>888:\n",
    "        cnt +=1\n",
    "        if len(fit_crvTSGA)<bestL:\n",
    "            ibest = i\n",
    "            bestL = len(fit_crvTSGA)\n",
    "print (\"number of successes:\", cnt)"
   ]
  },
  {
   "cell_type": "code",
   "execution_count": 187,
   "id": "sublime-mixer",
   "metadata": {},
   "outputs": [
    {
     "name": "stdout",
     "output_type": "stream",
     "text": [
      "number of successes: 16\n"
     ]
    }
   ],
   "source": [
    "cnt = 0\n",
    "ibest = -1\n",
    "bestL = 1001\n",
    "for i in range(1, 51):\n",
    "    best_state, best_fitness, fit_crvKGA = mlrose_hiive.genetic_alg(problemK, mutation_prob = 0.2, max_attempts = 100,\n",
    "                                max_iters= 1000,  pop_breed_percent=0.75, elite_dreg_ratio=0.99,  # not tuned      \n",
    "                                pop_size=200, curve=True, random_state = i)\n",
    "    \n",
    "    if best_fitness>888:\n",
    "        cnt +=1\n",
    "        if len(fit_crvTSGA)<bestL:\n",
    "            ibest = i\n",
    "            bestL = len(fit_crvTSGA)\n",
    "print (\"number of successes:\", cnt)"
   ]
  },
  {
   "cell_type": "code",
   "execution_count": 188,
   "id": "permanent-luxury",
   "metadata": {},
   "outputs": [
    {
     "name": "stdout",
     "output_type": "stream",
     "text": [
      "number of successes: 29\n"
     ]
    }
   ],
   "source": [
    "cnt = 0\n",
    "ibest = -1\n",
    "bestL = 1001\n",
    "for i in range(1, 51):\n",
    "    best_state, best_fitness, fit_crvKGA = mlrose_hiive.genetic_alg(problemK, mutation_prob = 0.2, max_attempts = 30,\n",
    "                                max_iters= 1000,  pop_breed_percent=0.75, elite_dreg_ratio=0.99,  # not tuned      \n",
    "                                pop_size=300, curve=True, random_state = i)\n",
    "    \n",
    "    if best_fitness>888:\n",
    "        cnt +=1\n",
    "        if len(fit_crvTSGA)<bestL:\n",
    "            ibest = i\n",
    "            bestL = len(fit_crvTSGA)\n",
    "print (\"number of successes:\", cnt)"
   ]
  },
  {
   "cell_type": "code",
   "execution_count": 189,
   "id": "solid-instruction",
   "metadata": {},
   "outputs": [
    {
     "name": "stdout",
     "output_type": "stream",
     "text": [
      "number of successes: 39\n"
     ]
    }
   ],
   "source": [
    "cnt = 0\n",
    "ibest = -1\n",
    "bestL = 1001\n",
    "for i in range(1, 51):\n",
    "    best_state, best_fitness, fit_crvKGA = mlrose_hiive.genetic_alg(problemK, mutation_prob = 0.2, max_attempts = 30,\n",
    "                                max_iters= 1000,  pop_breed_percent=0.75, elite_dreg_ratio=0.99,  # not tuned      \n",
    "                                pop_size=400, curve=True, random_state = i)\n",
    "    \n",
    "    if best_fitness>888:\n",
    "        cnt +=1\n",
    "        if len(fit_crvTSGA)<bestL:\n",
    "            ibest = i\n",
    "            bestL = len(fit_crvTSGA)\n",
    "print (\"number of successes:\", cnt)"
   ]
  },
  {
   "cell_type": "code",
   "execution_count": 190,
   "id": "given-progress",
   "metadata": {},
   "outputs": [
    {
     "name": "stdout",
     "output_type": "stream",
     "text": [
      "number of successes: 44\n"
     ]
    }
   ],
   "source": [
    "cnt = 0\n",
    "ibest = -1\n",
    "bestL = 1001\n",
    "for i in range(1, 51):\n",
    "    best_state, best_fitness, fit_crvKGA = mlrose_hiive.genetic_alg(problemK, mutation_prob = 0.2, max_attempts = 30,\n",
    "                                max_iters= 1000,  pop_breed_percent=0.75, elite_dreg_ratio=0.99,  # not tuned      \n",
    "                                pop_size=500, curve=True, random_state = i)\n",
    "    \n",
    "    if best_fitness>888:\n",
    "        cnt +=1\n",
    "        if len(fit_crvTSGA)<bestL:\n",
    "            ibest = i\n",
    "            bestL = len(fit_crvTSGA)\n",
    "print (\"number of successes:\", cnt)"
   ]
  },
  {
   "cell_type": "code",
   "execution_count": 191,
   "id": "traditional-person",
   "metadata": {},
   "outputs": [
    {
     "name": "stdout",
     "output_type": "stream",
     "text": [
      "number of successes: 48\n"
     ]
    }
   ],
   "source": [
    "cnt = 0\n",
    "ibest = -1\n",
    "bestL = 1001\n",
    "for i in range(1, 51):\n",
    "    best_state, best_fitness, fit_crvKGA = mlrose_hiive.genetic_alg(problemK, mutation_prob = 0.2, max_attempts = 30,\n",
    "                                max_iters= 1000,  pop_breed_percent=0.75, elite_dreg_ratio=0.99,  # not tuned      \n",
    "                                pop_size=600, curve=True, random_state = i)\n",
    "    \n",
    "    if best_fitness>888:\n",
    "        cnt +=1\n",
    "        if len(fit_crvTSGA)<bestL:\n",
    "            ibest = i\n",
    "            bestL = len(fit_crvTSGA)\n",
    "print (\"number of successes:\", cnt)"
   ]
  },
  {
   "cell_type": "code",
   "execution_count": 192,
   "id": "ignored-defensive",
   "metadata": {},
   "outputs": [
    {
     "name": "stdout",
     "output_type": "stream",
     "text": [
      "number of successes: 49\n"
     ]
    }
   ],
   "source": [
    "cnt = 0\n",
    "ibest = -1\n",
    "bestL = 1001\n",
    "for i in range(1, 51):\n",
    "    best_state, best_fitness, fit_crvKGA = mlrose_hiive.genetic_alg(problemK, mutation_prob = 0.2, max_attempts = 30,\n",
    "                                max_iters= 1000,  pop_breed_percent=0.75, elite_dreg_ratio=0.99,  # not tuned      \n",
    "                                pop_size=700, curve=True, random_state = i)\n",
    "    \n",
    "    if best_fitness>888:\n",
    "        cnt +=1\n",
    "        if len(fit_crvTSGA)<bestL:\n",
    "            ibest = i\n",
    "            bestL = len(fit_crvTSGA)\n",
    "print (\"number of successes:\", cnt)"
   ]
  },
  {
   "cell_type": "code",
   "execution_count": 193,
   "id": "micro-poker",
   "metadata": {},
   "outputs": [
    {
     "name": "stdout",
     "output_type": "stream",
     "text": [
      "number of successes: 50\n"
     ]
    }
   ],
   "source": [
    "cnt = 0\n",
    "ibest = -1\n",
    "bestL = 1001\n",
    "for i in range(1, 51):\n",
    "    best_state, best_fitness, fit_crvKGA = mlrose_hiive.genetic_alg(problemK, mutation_prob = 0.2, max_attempts = 30,\n",
    "                                max_iters= 1000,  pop_breed_percent=0.75, elite_dreg_ratio=0.99,  # not tuned      \n",
    "                                pop_size=800, curve=True, random_state = i)\n",
    "    \n",
    "    if best_fitness>888:\n",
    "        cnt +=1\n",
    "        if len(fit_crvTSGA)<bestL:\n",
    "            ibest = i\n",
    "            bestL = len(fit_crvTSGA)\n",
    "print (\"number of successes:\", cnt)"
   ]
  },
  {
   "cell_type": "code",
   "execution_count": 194,
   "id": "fitting-layer",
   "metadata": {},
   "outputs": [
    {
     "name": "stdout",
     "output_type": "stream",
     "text": [
      "number of successes: 50\n"
     ]
    }
   ],
   "source": [
    "cnt = 0\n",
    "ibest = -1\n",
    "bestL = 1001\n",
    "for i in range(1, 51):\n",
    "    best_state, best_fitness, fit_crvKGA = mlrose_hiive.genetic_alg(problemK, mutation_prob = 0.2, max_attempts = 30,\n",
    "                                max_iters= 1000,  pop_breed_percent=0.75, elite_dreg_ratio=0.99,  # not tuned      \n",
    "                                pop_size=900, curve=True, random_state = i)\n",
    "    \n",
    "    if best_fitness>888:\n",
    "        cnt +=1\n",
    "        if len(fit_crvTSGA)<bestL:\n",
    "            ibest = i\n",
    "            bestL = len(fit_crvTSGA)\n",
    "print (\"number of successes:\", cnt)"
   ]
  },
  {
   "cell_type": "code",
   "execution_count": 195,
   "id": "accessible-thanks",
   "metadata": {},
   "outputs": [
    {
     "name": "stdout",
     "output_type": "stream",
     "text": [
      "number of successes: 47\n"
     ]
    }
   ],
   "source": [
    "cnt = 0\n",
    "ibest = -1\n",
    "bestL = 1001\n",
    "for i in range(1, 51):\n",
    "    best_state, best_fitness, fit_crvKGA = mlrose_hiive.genetic_alg(problemK, mutation_prob = 0.3, max_attempts = 30,\n",
    "                                max_iters= 1000,  pop_breed_percent=0.75, elite_dreg_ratio=0.99,  # not tuned      \n",
    "                                pop_size=600, curve=True, random_state = i)\n",
    "    \n",
    "    if best_fitness>888:\n",
    "        cnt +=1\n",
    "        if len(fit_crvTSGA)<bestL:\n",
    "            ibest = i\n",
    "            bestL = len(fit_crvTSGA)\n",
    "print (\"number of successes:\", cnt)"
   ]
  },
  {
   "cell_type": "code",
   "execution_count": 196,
   "id": "flexible-hampshire",
   "metadata": {},
   "outputs": [
    {
     "name": "stdout",
     "output_type": "stream",
     "text": [
      "number of successes: 48\n"
     ]
    }
   ],
   "source": [
    "cnt = 0\n",
    "ibest = -1\n",
    "bestL = 1001\n",
    "for i in range(1, 51):\n",
    "    best_state, best_fitness, fit_crvKGA = mlrose_hiive.genetic_alg(problemK, mutation_prob = 0.4, max_attempts = 30,\n",
    "                                max_iters= 1000,  pop_breed_percent=0.75, elite_dreg_ratio=0.99,  # not tuned      \n",
    "                                pop_size=600, curve=True, random_state = i)\n",
    "    \n",
    "    if best_fitness>888:\n",
    "        cnt +=1\n",
    "        if len(fit_crvTSGA)<bestL:\n",
    "            ibest = i\n",
    "            bestL = len(fit_crvTSGA)\n",
    "print (\"number of successes:\", cnt)"
   ]
  },
  {
   "cell_type": "code",
   "execution_count": 197,
   "id": "ecological-winter",
   "metadata": {},
   "outputs": [
    {
     "name": "stdout",
     "output_type": "stream",
     "text": [
      "number of successes: 50\n"
     ]
    }
   ],
   "source": [
    "cnt = 0\n",
    "ibest = -1\n",
    "bestL = 1001\n",
    "for i in range(1, 51):\n",
    "    best_state, best_fitness, fit_crvKGA = mlrose_hiive.genetic_alg(problemK, mutation_prob = 0.5, max_attempts = 30,\n",
    "                                max_iters= 1000,  pop_breed_percent=0.75, elite_dreg_ratio=0.99,  # not tuned      \n",
    "                                pop_size=600, curve=True, random_state = i)\n",
    "    \n",
    "    if best_fitness>888:\n",
    "        cnt +=1\n",
    "        if len(fit_crvTSGA)<bestL:\n",
    "            ibest = i\n",
    "            bestL = len(fit_crvTSGA)\n",
    "print (\"number of successes:\", cnt)"
   ]
  },
  {
   "cell_type": "code",
   "execution_count": 198,
   "id": "sized-bahrain",
   "metadata": {},
   "outputs": [
    {
     "name": "stdout",
     "output_type": "stream",
     "text": [
      "number of successes: 45\n"
     ]
    }
   ],
   "source": [
    "cnt = 0\n",
    "ibest = -1\n",
    "bestL = 1001\n",
    "for i in range(1, 51):\n",
    "    best_state, best_fitness, fit_crvKGA = mlrose_hiive.genetic_alg(problemK, mutation_prob = 0.1, max_attempts = 30,\n",
    "                                max_iters= 1000,  pop_breed_percent=0.75, elite_dreg_ratio=0.99,  # not tuned      \n",
    "                                pop_size=600, curve=True, random_state = i)\n",
    "    \n",
    "    if best_fitness>888:\n",
    "        cnt +=1\n",
    "        if len(fit_crvTSGA)<bestL:\n",
    "            ibest = i\n",
    "            bestL = len(fit_crvTSGA)\n",
    "print (\"number of successes:\", cnt)"
   ]
  },
  {
   "cell_type": "code",
   "execution_count": 199,
   "id": "significant-major",
   "metadata": {},
   "outputs": [
    {
     "name": "stdout",
     "output_type": "stream",
     "text": [
      "number of successes: 50\n"
     ]
    }
   ],
   "source": [
    "cnt = 0\n",
    "ibest = -1\n",
    "bestL = 1001\n",
    "for i in range(1, 51):\n",
    "    best_state, best_fitness, fit_crvKGA = mlrose_hiive.genetic_alg(problemK, mutation_prob = 0.5, max_attempts = 30,\n",
    "                                max_iters= 1000,  pop_breed_percent=0.75, elite_dreg_ratio=0.99,  # not tuned      \n",
    "                                pop_size=600, curve=True, random_state = i)\n",
    "    \n",
    "    if best_fitness>888:\n",
    "        cnt +=1\n",
    "        if len(fit_crvTSGA)<bestL:\n",
    "            ibest = i\n",
    "            bestL = len(fit_crvTSGA)\n",
    "print (\"number of successes:\", cnt)"
   ]
  },
  {
   "cell_type": "code",
   "execution_count": 200,
   "id": "binding-virgin",
   "metadata": {},
   "outputs": [
    {
     "name": "stdout",
     "output_type": "stream",
     "text": [
      "1 58\n"
     ]
    }
   ],
   "source": [
    "print (ibest, bestL)"
   ]
  },
  {
   "cell_type": "code",
   "execution_count": 201,
   "id": "baking-thompson",
   "metadata": {},
   "outputs": [],
   "source": [
    "best_state, best_fitness, fit_crvKGA = mlrose_hiive.genetic_alg(problemK, mutation_prob = 0.5, max_attempts = 30,\n",
    "                                max_iters= 1000,  pop_breed_percent=0.75, elite_dreg_ratio=0.99,  # not tuned      \n",
    "                                pop_size=600, curve=True, random_state = ibest)"
   ]
  },
  {
   "cell_type": "code",
   "execution_count": 202,
   "id": "synthetic-inflation",
   "metadata": {},
   "outputs": [
    {
     "data": {
      "text/plain": [
       "[<matplotlib.lines.Line2D at 0x251181c69a0>]"
      ]
     },
     "execution_count": 202,
     "metadata": {},
     "output_type": "execute_result"
    },
    {
     "data": {
      "image/png": "[encoded data removed]",
      "text/plain": [
       "<Figure size 432x288 with 1 Axes>"
      ]
     },
     "metadata": {},
     "output_type": "display_data"
    }
   ],
   "source": [
    "plt.plot(fit_crvKGA)"
   ]
  },
  {
   "cell_type": "code",
   "execution_count": 203,
   "id": "buried-dakota",
   "metadata": {},
   "outputs": [
    {
     "name": "stdout",
     "output_type": "stream",
     "text": [
      "[8 8 8 8 8 8 8 0 8 8 3 8 0 8 0 8 0 8 0 8] 889.0\n"
     ]
    }
   ],
   "source": [
    "print (best_state, best_fitness)"
   ]
  },
  {
   "cell_type": "code",
   "execution_count": 204,
   "id": "engaged-orientation",
   "metadata": {},
   "outputs": [],
   "source": [
    "weights = list(range(1, 21))\n",
    "values = [2, 7, 1, 9, 4, 9, 3, 1, 5, 12, 3, 11, 2, 9, 2, 19, 1, 10, 1, 9]"
   ]
  },
  {
   "cell_type": "markdown",
   "id": "formal-phenomenon",
   "metadata": {},
   "source": [
    "#### Knapsack RHC"
   ]
  },
  {
   "cell_type": "code",
   "execution_count": 2,
   "id": "floral-constitution",
   "metadata": {},
   "outputs": [],
   "source": [
    "import numpy as np\n",
    "from sklearn.datasets import load_iris\n",
    "from sklearn.model_selection import train_test_split\n",
    "from sklearn.preprocessing import MinMaxScaler, OneHotEncoder\n",
    "from sklearn.metrics import accuracy_score\n",
    "from matplotlib import pyplot as plt\n",
    "plt.style.use('seaborn-whitegrid')\n",
    "import mlrose_hiive"
   ]
  },
  {
   "cell_type": "code",
   "execution_count": 3,
   "id": "adaptive-earthquake",
   "metadata": {},
   "outputs": [],
   "source": [
    "max_weight_pct = 5.0\n",
    "weights = list(range(1, 21))\n",
    "values = [2, 7, 1, 9, 4, 9, 3, 1, 5, 12, 3, 11, 2, 9, 2, 19, 1, 10, 1, 9]"
   ]
  },
  {
   "cell_type": "code",
   "execution_count": 4,
   "id": "neural-preparation",
   "metadata": {},
   "outputs": [],
   "source": [
    "problemK = mlrose_hiive.KnapsackOpt(maximize=True,\n",
    "        max_val=9, weights=weights, values=values, max_weight_pct = max_weight_pct)"
   ]
  },
  {
   "cell_type": "code",
   "execution_count": 6,
   "id": "compatible-fighter",
   "metadata": {},
   "outputs": [],
   "source": [
    "init_state = np.array(20*[0])\n",
    "best_state, best_fitness, fit_crvKRHS = mlrose_hiive.random_hill_climb(problemK,\n",
    "                            restarts=1, max_attempts = 10, curve=True, max_iters = 1000, init_state = init_state,\n",
    "                            random_state=12)"
   ]
  },
  {
   "cell_type": "code",
   "execution_count": 7,
   "id": "medieval-movie",
   "metadata": {},
   "outputs": [
    {
     "name": "stdout",
     "output_type": "stream",
     "text": [
      "[3 7 5 7 4 6 8 4 7 6 3 8 7 8 4 2 4 5 1 6] 666.0\n"
     ]
    }
   ],
   "source": [
    "print (best_state, best_fitness)"
   ]
  },
  {
   "cell_type": "code",
   "execution_count": 8,
   "id": "cardiovascular-ebony",
   "metadata": {},
   "outputs": [
    {
     "name": "stdout",
     "output_type": "stream",
     "text": [
      "number of successes: 0\n"
     ]
    }
   ],
   "source": [
    "cnt = 0\n",
    "ibest = -1\n",
    "bestL = 1001\n",
    "for i in range(1, 51):\n",
    "    init_state = np.array(20*[0])\n",
    "    best_state, best_fitness, fit_crvKRHS = mlrose_hiive.random_hill_climb(problemK,\n",
    "                            restarts=1, max_attempts = 10, curve=True, max_iters = 1000, init_state = init_state,\n",
    "                            random_state=i)\n",
    "    \n",
    "    if best_fitness>888:\n",
    "        cnt +=1\n",
    "        if len(fit_crvKRHS)<bestL:\n",
    "            ibest = i\n",
    "            bestL = len(fit_crvKRHS)\n",
    "print (\"number of successes:\", cnt)"
   ]
  },
  {
   "cell_type": "code",
   "execution_count": 9,
   "id": "comprehensive-clone",
   "metadata": {},
   "outputs": [
    {
     "name": "stdout",
     "output_type": "stream",
     "text": [
      "number of successes: 0\n"
     ]
    }
   ],
   "source": [
    "cnt = 0\n",
    "ibest = -1\n",
    "bestL = 1001\n",
    "for i in range(1, 51):\n",
    "    init_state = np.array(20*[0])\n",
    "    best_state, best_fitness, fit_crvKRHS = mlrose_hiive.random_hill_climb(problemK,\n",
    "                            restarts=1, max_attempts = 20, curve=True, max_iters = 1000, init_state = init_state,\n",
    "                            random_state=i)\n",
    "    \n",
    "    if best_fitness>888:\n",
    "        cnt +=1\n",
    "        if len(fit_crvKRHS)<bestL:\n",
    "            ibest = i\n",
    "            bestL = len(fit_crvKRHS)\n",
    "print (\"number of successes:\", cnt)"
   ]
  },
  {
   "cell_type": "code",
   "execution_count": 10,
   "id": "specific-western",
   "metadata": {},
   "outputs": [
    {
     "name": "stdout",
     "output_type": "stream",
     "text": [
      "number of successes: 0\n"
     ]
    }
   ],
   "source": [
    "cnt = 0\n",
    "ibest = -1\n",
    "bestL = 1001\n",
    "for i in range(1, 51):\n",
    "    init_state = np.array(20*[0])\n",
    "    best_state, best_fitness, fit_crvKRHS = mlrose_hiive.random_hill_climb(problemK,\n",
    "                            restarts=1, max_attempts = 40, curve=True, max_iters = 1000, init_state = init_state,\n",
    "                            random_state=i)\n",
    "    \n",
    "    if best_fitness>888:\n",
    "        cnt +=1\n",
    "        if len(fit_crvKRHS)<bestL:\n",
    "            ibest = i\n",
    "            bestL = len(fit_crvKRHS)\n",
    "print (\"number of successes:\", cnt)"
   ]
  },
  {
   "cell_type": "code",
   "execution_count": 11,
   "id": "studied-expense",
   "metadata": {},
   "outputs": [
    {
     "name": "stdout",
     "output_type": "stream",
     "text": [
      "number of successes: 0\n"
     ]
    }
   ],
   "source": [
    "cnt = 0\n",
    "ibest = -1\n",
    "bestL = 1001\n",
    "for i in range(1, 51):\n",
    "    init_state = np.array(20*[0])\n",
    "    best_state, best_fitness, fit_crvKRHS = mlrose_hiive.random_hill_climb(problemK,\n",
    "                            restarts=1, max_attempts = 80, curve=True, max_iters = 1000, init_state = init_state,\n",
    "                            random_state=i)\n",
    "    \n",
    "    if best_fitness>888:\n",
    "        cnt +=1\n",
    "        if len(fit_crvKRHS)<bestL:\n",
    "            ibest = i\n",
    "            bestL = len(fit_crvKRHS)\n",
    "print (\"number of successes:\", cnt)"
   ]
  },
  {
   "cell_type": "code",
   "execution_count": 12,
   "id": "under-operator",
   "metadata": {},
   "outputs": [
    {
     "name": "stdout",
     "output_type": "stream",
     "text": [
      "number of successes: 0\n"
     ]
    }
   ],
   "source": [
    "cnt = 0\n",
    "ibest = -1\n",
    "bestL = 1001\n",
    "for i in range(1, 51):\n",
    "    init_state = np.array(20*[0])\n",
    "    best_state, best_fitness, fit_crvKRHS = mlrose_hiive.random_hill_climb(problemK,\n",
    "                            restarts=1, max_attempts = 150, curve=True, max_iters = 1000, init_state = init_state,\n",
    "                            random_state=i)\n",
    "    \n",
    "    if best_fitness>888:\n",
    "        cnt +=1\n",
    "        if len(fit_crvKRHS)<bestL:\n",
    "            ibest = i\n",
    "            bestL = len(fit_crvKRHS)\n",
    "print (\"number of successes:\", cnt)"
   ]
  },
  {
   "cell_type": "code",
   "execution_count": 13,
   "id": "confirmed-quest",
   "metadata": {},
   "outputs": [
    {
     "name": "stdout",
     "output_type": "stream",
     "text": [
      "number of successes: 0\n"
     ]
    }
   ],
   "source": [
    "cnt = 0\n",
    "ibest = -1\n",
    "bestL = 1001\n",
    "for i in range(1, 51):\n",
    "    init_state = np.array(20*[1])\n",
    "    best_state, best_fitness, fit_crvKRHS = mlrose_hiive.random_hill_climb(problemK,\n",
    "                            restarts=1, max_attempts = 40, curve=True, max_iters = 1000, init_state = init_state,\n",
    "                            random_state=i)\n",
    "    \n",
    "    if best_fitness>888:\n",
    "        cnt +=1\n",
    "        if len(fit_crvKRHS)<bestL:\n",
    "            ibest = i\n",
    "            bestL = len(fit_crvKRHS)\n",
    "print (\"number of successes:\", cnt)"
   ]
  },
  {
   "cell_type": "code",
   "execution_count": 14,
   "id": "peripheral-assault",
   "metadata": {},
   "outputs": [],
   "source": [
    "best_state, best_fitness, fit_crvKGA = mlrose_hiive.genetic_alg(problemK, mutation_prob = 0.5, max_attempts = 30,\n",
    "                                max_iters= 1000,  pop_breed_percent=0.75, elite_dreg_ratio=0.99,  # not tuned      \n",
    "                                pop_size=600, curve=True, random_state = 1)"
   ]
  },
  {
   "cell_type": "code",
   "execution_count": 15,
   "id": "stuck-picking",
   "metadata": {},
   "outputs": [
    {
     "data": {
      "text/plain": [
       "889.0"
      ]
     },
     "execution_count": 15,
     "metadata": {},
     "output_type": "execute_result"
    }
   ],
   "source": [
    "best_fitness"
   ]
  },
  {
   "cell_type": "code",
   "execution_count": 16,
   "id": "sporting-firewall",
   "metadata": {},
   "outputs": [
    {
     "name": "stdout",
     "output_type": "stream",
     "text": [
      "number of successes: 0\n"
     ]
    }
   ],
   "source": [
    "cnt = 0\n",
    "ibest = -1\n",
    "bestL = 1001\n",
    "for i in range(1, 51):\n",
    "    init_state = np.array(20*[1])\n",
    "    best_state, best_fitness, fit_crvKRHS = mlrose_hiive.random_hill_climb(problemK,\n",
    "                            restarts=1, max_attempts = 40, curve=True, max_iters = 1000, init_state = init_state,\n",
    "                            random_state=i)\n",
    "    \n",
    "    if best_fitness>800:\n",
    "        cnt +=1\n",
    "        if len(fit_crvKRHS)<bestL:\n",
    "            ibest = i\n",
    "            bestL = len(fit_crvKRHS)\n",
    "print (\"number of successes:\", cnt)"
   ]
  },
  {
   "cell_type": "code",
   "execution_count": 17,
   "id": "isolated-stocks",
   "metadata": {},
   "outputs": [
    {
     "name": "stdout",
     "output_type": "stream",
     "text": [
      "number of successes: 42\n"
     ]
    }
   ],
   "source": [
    "cnt = 0\n",
    "ibest = -1\n",
    "bestL = 1001\n",
    "for i in range(1, 51):\n",
    "    init_state = np.array(20*[1])\n",
    "    best_state, best_fitness, fit_crvKRHS = mlrose_hiive.random_hill_climb(problemK,\n",
    "                            restarts=1, max_attempts = 40, curve=True, max_iters = 1000, init_state = init_state,\n",
    "                            random_state=i)\n",
    "    \n",
    "    if best_fitness>600:\n",
    "        cnt +=1\n",
    "        if len(fit_crvKRHS)<bestL:\n",
    "            ibest = i\n",
    "            bestL = len(fit_crvKRHS)\n",
    "print (\"number of successes:\", cnt)"
   ]
  },
  {
   "cell_type": "code",
   "execution_count": 18,
   "id": "civilian-conditions",
   "metadata": {},
   "outputs": [
    {
     "name": "stdout",
     "output_type": "stream",
     "text": [
      "number of successes: 5\n"
     ]
    }
   ],
   "source": [
    "cnt = 0\n",
    "ibest = -1\n",
    "bestL = 1001\n",
    "for i in range(1, 51):\n",
    "    init_state = np.array(20*[1])\n",
    "    best_state, best_fitness, fit_crvKRHS = mlrose_hiive.random_hill_climb(problemK,\n",
    "                            restarts=1, max_attempts = 40, curve=True, max_iters = 1000, init_state = init_state,\n",
    "                            random_state=i)\n",
    "    \n",
    "    if best_fitness>700:\n",
    "        cnt +=1\n",
    "        if len(fit_crvKRHS)<bestL:\n",
    "            ibest = i\n",
    "            bestL = len(fit_crvKRHS)\n",
    "print (\"number of successes:\", cnt)"
   ]
  },
  {
   "cell_type": "code",
   "execution_count": 19,
   "id": "equipped-intake",
   "metadata": {},
   "outputs": [
    {
     "name": "stdout",
     "output_type": "stream",
     "text": [
      "number of successes: 8\n"
     ]
    }
   ],
   "source": [
    "cnt = 0\n",
    "ibest = -1\n",
    "bestL = 1001\n",
    "for i in range(1, 51):\n",
    "    init_state = np.array(20*[1])\n",
    "    best_state, best_fitness, fit_crvKRHS = mlrose_hiive.random_hill_climb(problemK,\n",
    "                            restarts=1, max_attempts = 100, curve=True, max_iters = 1000, init_state = init_state,\n",
    "                            random_state=i)\n",
    "    \n",
    "    if best_fitness>700:\n",
    "        cnt +=1\n",
    "        if len(fit_crvKRHS)<bestL:\n",
    "            ibest = i\n",
    "            bestL = len(fit_crvKRHS)\n",
    "print (\"number of successes:\", cnt)"
   ]
  },
  {
   "cell_type": "code",
   "execution_count": 20,
   "id": "greenhouse-kitty",
   "metadata": {},
   "outputs": [
    {
     "name": "stdout",
     "output_type": "stream",
     "text": [
      "number of successes: 12\n"
     ]
    }
   ],
   "source": [
    "cnt = 0\n",
    "ibest = -1\n",
    "bestL = 1001\n",
    "for i in range(1, 51):\n",
    "    init_state = np.array(20*[1])\n",
    "    best_state, best_fitness, fit_crvKRHS = mlrose_hiive.random_hill_climb(problemK,\n",
    "                            restarts=3, max_attempts = 100, curve=True, max_iters = 1000, init_state = init_state,\n",
    "                            random_state=i)\n",
    "    \n",
    "    if best_fitness>700:\n",
    "        cnt +=1\n",
    "        if len(fit_crvKRHS)<bestL:\n",
    "            ibest = i\n",
    "            bestL = len(fit_crvKRHS)\n",
    "print (\"number of successes:\", cnt)"
   ]
  },
  {
   "cell_type": "code",
   "execution_count": 21,
   "id": "manufactured-immunology",
   "metadata": {},
   "outputs": [
    {
     "name": "stdout",
     "output_type": "stream",
     "text": [
      "number of successes: 21\n"
     ]
    }
   ],
   "source": [
    "cnt = 0\n",
    "ibest = -1\n",
    "bestL = 1001\n",
    "for i in range(1, 51):\n",
    "    init_state = np.array(20*[1])\n",
    "    best_state, best_fitness, fit_crvKRHS = mlrose_hiive.random_hill_climb(problemK,\n",
    "                            restarts=5, max_attempts = 100, curve=True, max_iters = 1000, init_state = init_state,\n",
    "                            random_state=i)\n",
    "    \n",
    "    if best_fitness>700:\n",
    "        cnt +=1\n",
    "        if len(fit_crvKRHS)<bestL:\n",
    "            ibest = i\n",
    "            bestL = len(fit_crvKRHS)\n",
    "print (\"number of successes:\", cnt)"
   ]
  },
  {
   "cell_type": "code",
   "execution_count": 22,
   "id": "considered-sharp",
   "metadata": {},
   "outputs": [
    {
     "name": "stdout",
     "output_type": "stream",
     "text": [
      "number of successes: 31\n"
     ]
    }
   ],
   "source": [
    "cnt = 0\n",
    "ibest = -1\n",
    "bestL = 1001\n",
    "for i in range(1, 51):\n",
    "    init_state = np.array(20*[1])\n",
    "    best_state, best_fitness, fit_crvKRHS = mlrose_hiive.random_hill_climb(problemK,\n",
    "                            restarts=10, max_attempts = 100, curve=True, max_iters = 1000, init_state = init_state,\n",
    "                            random_state=i)\n",
    "    \n",
    "    if best_fitness>700:\n",
    "        cnt +=1\n",
    "        if len(fit_crvKRHS)<bestL:\n",
    "            ibest = i\n",
    "            bestL = len(fit_crvKRHS)\n",
    "print (\"number of successes:\", cnt)"
   ]
  },
  {
   "cell_type": "code",
   "execution_count": 23,
   "id": "efficient-venice",
   "metadata": {},
   "outputs": [
    {
     "name": "stdout",
     "output_type": "stream",
     "text": [
      "number of successes: 6\n"
     ]
    }
   ],
   "source": [
    "cnt = 0\n",
    "ibest = -1\n",
    "bestL = 1001\n",
    "for i in range(1, 51):\n",
    "    init_state = np.array(20*[1])\n",
    "    best_state, best_fitness, fit_crvKRHS = mlrose_hiive.random_hill_climb(problemK,\n",
    "                            restarts=10, max_attempts = 100, curve=True, max_iters = 1000, init_state = init_state,\n",
    "                            random_state=i)\n",
    "    \n",
    "    if best_fitness>750:\n",
    "        cnt +=1\n",
    "        if len(fit_crvKRHS)<bestL:\n",
    "            ibest = i\n",
    "            bestL = len(fit_crvKRHS)\n",
    "print (\"number of successes:\", cnt)"
   ]
  },
  {
   "cell_type": "code",
   "execution_count": 24,
   "id": "spare-cycle",
   "metadata": {},
   "outputs": [
    {
     "name": "stdout",
     "output_type": "stream",
     "text": [
      "number of successes: 9\n"
     ]
    }
   ],
   "source": [
    "cnt = 0\n",
    "ibest = -1\n",
    "bestL = 1001\n",
    "for i in range(1, 51):\n",
    "    init_state = np.array(20*[1])\n",
    "    best_state, best_fitness, fit_crvKRHS = mlrose_hiive.random_hill_climb(problemK,\n",
    "                            restarts=10, max_attempts = 200, curve=True, max_iters = 1000, init_state = init_state,\n",
    "                            random_state=i)\n",
    "    \n",
    "    if best_fitness>750:\n",
    "        cnt +=1\n",
    "        if len(fit_crvKRHS)<bestL:\n",
    "            ibest = i\n",
    "            bestL = len(fit_crvKRHS)\n",
    "print (\"number of successes:\", cnt)"
   ]
  },
  {
   "cell_type": "code",
   "execution_count": 25,
   "id": "remarkable-teaching",
   "metadata": {},
   "outputs": [
    {
     "name": "stdout",
     "output_type": "stream",
     "text": [
      "number of successes: 4\n"
     ]
    }
   ],
   "source": [
    "cnt = 0\n",
    "ibest = -1\n",
    "bestL = 1001\n",
    "for i in range(1, 51):\n",
    "    init_state = np.array(20*[1])\n",
    "    best_state, best_fitness, fit_crvKRHS = mlrose_hiive.random_hill_climb(problemK,\n",
    "                            restarts=10, max_attempts = 300, curve=True, max_iters = 1000, init_state = init_state,\n",
    "                            random_state=i)\n",
    "    \n",
    "    if best_fitness>750:\n",
    "        cnt +=1\n",
    "        if len(fit_crvKRHS)<bestL:\n",
    "            ibest = i\n",
    "            bestL = len(fit_crvKRHS)\n",
    "print (\"number of successes:\", cnt)"
   ]
  },
  {
   "cell_type": "code",
   "execution_count": 26,
   "id": "measured-belief",
   "metadata": {},
   "outputs": [
    {
     "name": "stdout",
     "output_type": "stream",
     "text": [
      "number of successes: 4\n"
     ]
    }
   ],
   "source": [
    "cnt = 0\n",
    "ibest = -1\n",
    "bestL = 1001\n",
    "for i in range(1, 51):\n",
    "    init_state = np.array(20*[1])\n",
    "    best_state, best_fitness, fit_crvKRHS = mlrose_hiive.random_hill_climb(problemK,\n",
    "                            restarts=10, max_attempts = 400, curve=True, max_iters = 1000, init_state = init_state,\n",
    "                            random_state=i)\n",
    "    \n",
    "    if best_fitness>750:\n",
    "        cnt +=1\n",
    "        if len(fit_crvKRHS)<bestL:\n",
    "            ibest = i\n",
    "            bestL = len(fit_crvKRHS)\n",
    "print (\"number of successes:\", cnt)"
   ]
  },
  {
   "cell_type": "code",
   "execution_count": 27,
   "id": "congressional-literacy",
   "metadata": {},
   "outputs": [
    {
     "name": "stdout",
     "output_type": "stream",
     "text": [
      "number of successes: 4\n"
     ]
    }
   ],
   "source": [
    "cnt = 0\n",
    "ibest = -1\n",
    "bestL = 1001\n",
    "for i in range(1, 51):\n",
    "    init_state = np.array(20*[1])\n",
    "    best_state, best_fitness, fit_crvKRHS = mlrose_hiive.random_hill_climb(problemK,\n",
    "                            restarts=10, max_attempts = 300, curve=True, max_iters = 1000, init_state = init_state,\n",
    "                            random_state=i)\n",
    "    \n",
    "    if best_fitness>750:\n",
    "        cnt +=1\n",
    "        if len(fit_crvKRHS)<bestL:\n",
    "            ibest = i\n",
    "            bestL = len(fit_crvKRHS)\n",
    "print (\"number of successes:\", cnt)"
   ]
  },
  {
   "cell_type": "code",
   "execution_count": 28,
   "id": "billion-radius",
   "metadata": {},
   "outputs": [
    {
     "name": "stdout",
     "output_type": "stream",
     "text": [
      "number of successes: 9\n"
     ]
    }
   ],
   "source": [
    "cnt = 0\n",
    "ibest = -1\n",
    "bestL = 1001\n",
    "for i in range(1, 51):\n",
    "    init_state = np.array(20*[1])\n",
    "    best_state, best_fitness, fit_crvKRHS = mlrose_hiive.random_hill_climb(problemK,\n",
    "                            restarts=10, max_attempts = 200, curve=True, max_iters = 1000, init_state = init_state,\n",
    "                            random_state=i)\n",
    "    \n",
    "    if best_fitness>750:\n",
    "        cnt +=1\n",
    "        if len(fit_crvKRHS)<bestL:\n",
    "            ibest = i\n",
    "            bestL = len(fit_crvKRHS)\n",
    "print (\"number of successes:\", cnt)"
   ]
  },
  {
   "cell_type": "code",
   "execution_count": 29,
   "id": "sophisticated-savings",
   "metadata": {},
   "outputs": [
    {
     "name": "stdout",
     "output_type": "stream",
     "text": [
      "number of successes: 13\n"
     ]
    }
   ],
   "source": [
    "cnt = 0\n",
    "ibest = -1\n",
    "bestL = 1001\n",
    "for i in range(1, 51):\n",
    "    init_state = np.array(20*[1])\n",
    "    best_state, best_fitness, fit_crvKRHS = mlrose_hiive.random_hill_climb(problemK,\n",
    "                            restarts=20, max_attempts = 200, curve=True, max_iters = 1000, init_state = init_state,\n",
    "                            random_state=i)\n",
    "    \n",
    "    if best_fitness>750:\n",
    "        cnt +=1\n",
    "        if len(fit_crvKRHS)<bestL:\n",
    "            ibest = i\n",
    "            bestL = len(fit_crvKRHS)\n",
    "print (\"number of successes:\", cnt)"
   ]
  },
  {
   "cell_type": "code",
   "execution_count": 30,
   "id": "numerous-classification",
   "metadata": {},
   "outputs": [
    {
     "name": "stdout",
     "output_type": "stream",
     "text": [
      "number of successes: 16\n"
     ]
    }
   ],
   "source": [
    "cnt = 0\n",
    "ibest = -1\n",
    "bestL = 1001\n",
    "for i in range(1, 51):\n",
    "    init_state = np.array(20*[1])\n",
    "    best_state, best_fitness, fit_crvKRHS = mlrose_hiive.random_hill_climb(problemK,\n",
    "                            restarts=30, max_attempts = 200, curve=True, max_iters = 1000, init_state = init_state,\n",
    "                            random_state=i)\n",
    "    \n",
    "    if best_fitness>750:\n",
    "        cnt +=1\n",
    "        if len(fit_crvKRHS)<bestL:\n",
    "            ibest = i\n",
    "            bestL = len(fit_crvKRHS)\n",
    "print (\"number of successes:\", cnt)"
   ]
  },
  {
   "cell_type": "code",
   "execution_count": 31,
   "id": "acting-racing",
   "metadata": {},
   "outputs": [
    {
     "name": "stdout",
     "output_type": "stream",
     "text": [
      "number of successes: 17\n"
     ]
    }
   ],
   "source": [
    "cnt = 0\n",
    "ibest = -1\n",
    "bestL = 1001\n",
    "for i in range(1, 51):\n",
    "    init_state = np.array(20*[1])\n",
    "    best_state, best_fitness, fit_crvKRHS = mlrose_hiive.random_hill_climb(problemK,\n",
    "                            restarts=40, max_attempts = 200, curve=True, max_iters = 1000, init_state = init_state,\n",
    "                            random_state=i)\n",
    "    \n",
    "    if best_fitness>750:\n",
    "        cnt +=1\n",
    "        if len(fit_crvKRHS)<bestL:\n",
    "            ibest = i\n",
    "            bestL = len(fit_crvKRHS)\n",
    "print (\"number of successes:\", cnt)"
   ]
  },
  {
   "cell_type": "code",
   "execution_count": 32,
   "id": "nervous-medline",
   "metadata": {},
   "outputs": [
    {
     "name": "stdout",
     "output_type": "stream",
     "text": [
      "number of successes: 19\n"
     ]
    }
   ],
   "source": [
    "cnt = 0\n",
    "ibest = -1\n",
    "bestL = 1001\n",
    "for i in range(1, 51):\n",
    "    init_state = np.array(20*[1])\n",
    "    best_state, best_fitness, fit_crvKRHS = mlrose_hiive.random_hill_climb(problemK,\n",
    "                            restarts=50, max_attempts = 200, curve=True, max_iters = 1000, init_state = init_state,\n",
    "                            random_state=i)\n",
    "    \n",
    "    if best_fitness>750:\n",
    "        cnt +=1\n",
    "        if len(fit_crvKRHS)<bestL:\n",
    "            ibest = i\n",
    "            bestL = len(fit_crvKRHS)\n",
    "print (\"number of successes:\", cnt)"
   ]
  },
  {
   "cell_type": "code",
   "execution_count": 33,
   "id": "anticipated-model",
   "metadata": {},
   "outputs": [
    {
     "name": "stdout",
     "output_type": "stream",
     "text": [
      "i = 3 best_fitness = 768.0\n",
      "i = 4 best_fitness = 784.0\n",
      "i = 5 best_fitness = 776.0\n",
      "i = 7 best_fitness = 768.0\n",
      "i = 9 best_fitness = 757.0\n",
      "i = 11 best_fitness = 753.0\n",
      "i = 12 best_fitness = 765.0\n",
      "i = 13 best_fitness = 754.0\n",
      "i = 15 best_fitness = 759.0\n",
      "i = 18 best_fitness = 753.0\n",
      "i = 20 best_fitness = 751.0\n",
      "i = 23 best_fitness = 754.0\n",
      "i = 24 best_fitness = 806.0\n",
      "i = 25 best_fitness = 770.0\n",
      "i = 27 best_fitness = 769.0\n",
      "i = 31 best_fitness = 775.0\n",
      "i = 34 best_fitness = 752.0\n",
      "i = 36 best_fitness = 776.0\n",
      "i = 37 best_fitness = 778.0\n",
      "i = 39 best_fitness = 757.0\n",
      "i = 40 best_fitness = 755.0\n",
      "i = 44 best_fitness = 765.0\n",
      "i = 46 best_fitness = 791.0\n",
      "i = 47 best_fitness = 751.0\n",
      "i = 48 best_fitness = 758.0\n",
      "i = 49 best_fitness = 764.0\n",
      "i = 50 best_fitness = 764.0\n",
      "number of successes: 27\n"
     ]
    }
   ],
   "source": [
    "cnt = 0\n",
    "ibest = -1\n",
    "bestL = 1001\n",
    "for i in range(1, 51):\n",
    "    init_state = np.array(20*[1])\n",
    "    best_state, best_fitness, fit_crvKRHS = mlrose_hiive.random_hill_climb(problemK,\n",
    "                            restarts=100, max_attempts = 200, curve=True, max_iters = 1000, init_state = init_state,\n",
    "                            random_state=i)\n",
    "    \n",
    "    if best_fitness>750:\n",
    "        print(\"i =\", i, \"best_fitness =\", best_fitness)\n",
    "        cnt +=1\n",
    "        if len(fit_crvKRHS)<bestL:\n",
    "            ibest = i\n",
    "            bestL = len(fit_crvKRHS)\n",
    "print (\"number of successes:\", cnt)"
   ]
  },
  {
   "cell_type": "code",
   "execution_count": 34,
   "id": "quick-working",
   "metadata": {},
   "outputs": [],
   "source": [
    "best_state, best_fitness, fit_crvKRHS = mlrose_hiive.random_hill_climb(problemK,\n",
    "                            restarts=100, max_attempts = 200, curve=True, max_iters = 1000, init_state = init_state,\n",
    "                            random_state=24)"
   ]
  },
  {
   "cell_type": "code",
   "execution_count": 35,
   "id": "super-harbor",
   "metadata": {},
   "outputs": [
    {
     "name": "stdout",
     "output_type": "stream",
     "text": [
      "[7 8 8 8 4 8 5 7 1 8 8 7 1 8 2 8 1 4 1 8] 806.0\n"
     ]
    }
   ],
   "source": [
    "print(best_state, best_fitness)"
   ]
  },
  {
   "cell_type": "code",
   "execution_count": 36,
   "id": "purple-alliance",
   "metadata": {},
   "outputs": [
    {
     "name": "stdout",
     "output_type": "stream",
     "text": [
      "i = 2 best_fitness = 804.0\n",
      "i = 3 best_fitness = 772.0\n",
      "i = 4 best_fitness = 784.0\n",
      "i = 5 best_fitness = 761.0\n",
      "i = 6 best_fitness = 754.0\n",
      "i = 9 best_fitness = 752.0\n",
      "i = 10 best_fitness = 772.0\n",
      "i = 14 best_fitness = 763.0\n",
      "i = 16 best_fitness = 778.0\n",
      "i = 17 best_fitness = 755.0\n",
      "i = 19 best_fitness = 761.0\n",
      "i = 20 best_fitness = 756.0\n",
      "i = 21 best_fitness = 755.0\n",
      "i = 22 best_fitness = 782.0\n",
      "i = 23 best_fitness = 769.0\n",
      "i = 24 best_fitness = 778.0\n",
      "i = 25 best_fitness = 778.0\n",
      "i = 26 best_fitness = 787.0\n",
      "i = 27 best_fitness = 778.0\n",
      "i = 28 best_fitness = 765.0\n",
      "i = 29 best_fitness = 780.0\n",
      "i = 31 best_fitness = 764.0\n",
      "i = 32 best_fitness = 765.0\n",
      "i = 33 best_fitness = 770.0\n",
      "i = 36 best_fitness = 803.0\n",
      "i = 37 best_fitness = 781.0\n",
      "i = 38 best_fitness = 752.0\n",
      "i = 40 best_fitness = 753.0\n",
      "i = 41 best_fitness = 772.0\n",
      "i = 42 best_fitness = 760.0\n",
      "i = 43 best_fitness = 764.0\n",
      "i = 44 best_fitness = 787.0\n",
      "i = 45 best_fitness = 762.0\n",
      "i = 47 best_fitness = 794.0\n",
      "i = 48 best_fitness = 754.0\n",
      "i = 50 best_fitness = 763.0\n",
      "number of successes: 36\n"
     ]
    }
   ],
   "source": [
    "cnt = 0\n",
    "ibest = -1\n",
    "bestL = 1001\n",
    "for i in range(1, 51):\n",
    "    init_state = np.array(10*[0, 1])\n",
    "    best_state, best_fitness, fit_crvKRHS = mlrose_hiive.random_hill_climb(problemK,\n",
    "                            restarts=100, max_attempts = 200, curve=True, max_iters = 1000, init_state = init_state,\n",
    "                            random_state=i)\n",
    "    \n",
    "    if best_fitness>750:\n",
    "        print(\"i =\", i, \"best_fitness =\", best_fitness)\n",
    "        cnt +=1\n",
    "        if len(fit_crvKRHS)<bestL:\n",
    "            ibest = i\n",
    "            bestL = len(fit_crvKRHS)\n",
    "print (\"number of successes:\", cnt)"
   ]
  },
  {
   "cell_type": "code",
   "execution_count": 37,
   "id": "union-laptop",
   "metadata": {},
   "outputs": [
    {
     "name": "stdout",
     "output_type": "stream",
     "text": [
      "i = 1 best_fitness = 765.0\n",
      "i = 2 best_fitness = 773.0\n",
      "i = 5 best_fitness = 768.0\n",
      "i = 6 best_fitness = 778.0\n",
      "i = 7 best_fitness = 760.0\n",
      "i = 9 best_fitness = 767.0\n",
      "i = 10 best_fitness = 763.0\n",
      "i = 11 best_fitness = 807.0\n",
      "i = 16 best_fitness = 787.0\n",
      "i = 17 best_fitness = 762.0\n",
      "i = 24 best_fitness = 757.0\n",
      "i = 25 best_fitness = 754.0\n",
      "i = 26 best_fitness = 776.0\n",
      "i = 27 best_fitness = 795.0\n",
      "i = 29 best_fitness = 762.0\n",
      "i = 30 best_fitness = 766.0\n",
      "i = 31 best_fitness = 786.0\n",
      "i = 32 best_fitness = 790.0\n",
      "i = 34 best_fitness = 786.0\n",
      "i = 35 best_fitness = 791.0\n",
      "i = 36 best_fitness = 756.0\n",
      "i = 37 best_fitness = 752.0\n",
      "i = 39 best_fitness = 757.0\n",
      "i = 42 best_fitness = 774.0\n",
      "i = 44 best_fitness = 766.0\n",
      "i = 45 best_fitness = 753.0\n",
      "i = 46 best_fitness = 769.0\n",
      "i = 47 best_fitness = 794.0\n",
      "i = 48 best_fitness = 773.0\n",
      "i = 50 best_fitness = 766.0\n",
      "number of successes: 30\n"
     ]
    }
   ],
   "source": [
    "cnt = 0\n",
    "ibest = -1\n",
    "bestL = 1001\n",
    "for i in range(1, 51):\n",
    "    init_state = np.array(20*[0])\n",
    "    best_state, best_fitness, fit_crvKRHS = mlrose_hiive.random_hill_climb(problemK,\n",
    "                            restarts=100, max_attempts = 200, curve=True, max_iters = 1000, init_state = init_state,\n",
    "                            random_state=i)\n",
    "    \n",
    "    if best_fitness>750:\n",
    "        print(\"i =\", i, \"best_fitness =\", best_fitness)\n",
    "        cnt +=1\n",
    "        if len(fit_crvKRHS)<bestL:\n",
    "            ibest = i\n",
    "            bestL = len(fit_crvKRHS)\n",
    "print (\"number of successes:\", cnt)"
   ]
  },
  {
   "cell_type": "code",
   "execution_count": 38,
   "id": "cultural-guest",
   "metadata": {},
   "outputs": [],
   "source": [
    "init_state = np.array(20*[0])\n",
    "best_state, best_fitness, fit_crvKRHS = mlrose_hiive.random_hill_climb(problemK,\n",
    "                            restarts=100, max_attempts = 200, curve=True, max_iters = 1000, init_state = init_state,\n",
    "                            random_state=11)"
   ]
  },
  {
   "cell_type": "code",
   "execution_count": 39,
   "id": "twelve-person",
   "metadata": {},
   "outputs": [
    {
     "name": "stdout",
     "output_type": "stream",
     "text": [
      "[8 8 7 8 3 6 8 1 8 8 6 7 0 8 5 8 1 7 2 3] 807.0\n"
     ]
    }
   ],
   "source": [
    "print (best_state, best_fitness)"
   ]
  },
  {
   "cell_type": "markdown",
   "id": "corrected-struggle",
   "metadata": {},
   "source": [
    "RHC couldn't even approach 880 total value, it gets always stuck in a local maximum."
   ]
  },
  {
   "cell_type": "code",
   "execution_count": 40,
   "id": "improved-discovery",
   "metadata": {},
   "outputs": [
    {
     "data": {
      "text/plain": [
       "[<matplotlib.lines.Line2D at 0x1cd1430ff70>]"
      ]
     },
     "execution_count": 40,
     "metadata": {},
     "output_type": "execute_result"
    },
    {
     "data": {
      "image/png": "[encoded data removed]",
      "text/plain": [
       "<Figure size 432x288 with 1 Axes>"
      ]
     },
     "metadata": {},
     "output_type": "display_data"
    }
   ],
   "source": [
    "plt.plot(fit_crvKRHS)"
   ]
  },
  {
   "cell_type": "markdown",
   "id": "checked-fruit",
   "metadata": {},
   "source": [
    "#### Knapsack SimAn"
   ]
  },
  {
   "cell_type": "code",
   "execution_count": 41,
   "id": "illegal-czech",
   "metadata": {},
   "outputs": [],
   "source": [
    "max_weight_pct = 5.0\n",
    "weights = list(range(1, 21))\n",
    "values = [2, 7, 1, 9, 4, 9, 3, 1, 5, 12, 3, 11, 2, 9, 2, 19, 1, 10, 1, 9]\n",
    "\n",
    "problemK = mlrose_hiive.KnapsackOpt(maximize=True,\n",
    "        max_val=9, weights=weights, values=values, max_weight_pct = max_weight_pct)"
   ]
  },
  {
   "cell_type": "code",
   "execution_count": 42,
   "id": "considerable-enzyme",
   "metadata": {},
   "outputs": [],
   "source": [
    "scheduleK = mlrose_hiive.ExpDecay(init_temp=10, exp_const=0.09, min_temp=.01)\n",
    "init_state = np.array(20*[0])\n",
    "best_state, best_fitness, fit_crvKSA = mlrose_hiive.simulated_annealing(problemK, schedule = scheduleK, max_attempts = 100, \n",
    "                                        curve=True, max_iters = 1000, init_state = init_state, random_state = 12)"
   ]
  },
  {
   "cell_type": "code",
   "execution_count": 43,
   "id": "ruled-decline",
   "metadata": {},
   "outputs": [
    {
     "name": "stdout",
     "output_type": "stream",
     "text": [
      "[7 8 7 7 7 6 8 0 7 6 3 8 6 7 4 2 6 5 1 6] 682.0\n"
     ]
    }
   ],
   "source": [
    "print (best_state, best_fitness)"
   ]
  },
  {
   "cell_type": "code",
   "execution_count": 44,
   "id": "tracked-reform",
   "metadata": {},
   "outputs": [
    {
     "name": "stdout",
     "output_type": "stream",
     "text": [
      "number of successes: 0\n"
     ]
    }
   ],
   "source": [
    "scheduleK = mlrose_hiive.ExpDecay(init_temp=10, exp_const=0.09, min_temp=.01)\n",
    "cnt = 0\n",
    "for i in range(1, 51):\n",
    "    init_state = np.array(20*[0])\n",
    "    best_state, best_fitness, fit_crvKSA = mlrose_hiive.simulated_annealing(problemK, schedule = scheduleK, max_attempts = 100, \n",
    "                                        curve=True, max_iters = 1000, init_state = init_state, random_state = i)\n",
    "    if best_fitness>800:\n",
    "        #print (i, best_state, best_fitness, len(fit_crv8QSA))\n",
    "        cnt += 1\n",
    "print (\"number of successes:\", cnt)"
   ]
  },
  {
   "cell_type": "code",
   "execution_count": 45,
   "id": "optional-selling",
   "metadata": {},
   "outputs": [
    {
     "name": "stdout",
     "output_type": "stream",
     "text": [
      "number of successes: 10\n"
     ]
    }
   ],
   "source": [
    "scheduleK = mlrose_hiive.ExpDecay(init_temp=10, exp_const=0.09, min_temp=.01)\n",
    "cnt = 0\n",
    "for i in range(1, 51):\n",
    "    init_state = np.array(20*[0])\n",
    "    best_state, best_fitness, fit_crvKSA = mlrose_hiive.simulated_annealing(problemK, schedule = scheduleK, max_attempts = 100, \n",
    "                                        curve=True, max_iters = 1000, init_state = init_state, random_state = i)\n",
    "    if best_fitness>700:\n",
    "        #print (i, best_state, best_fitness, len(fit_crv8QSA))\n",
    "        cnt += 1\n",
    "print (\"number of successes:\", cnt)"
   ]
  },
  {
   "cell_type": "code",
   "execution_count": 46,
   "id": "eligible-church",
   "metadata": {},
   "outputs": [
    {
     "name": "stdout",
     "output_type": "stream",
     "text": [
      "number of successes: 4\n"
     ]
    }
   ],
   "source": [
    "scheduleK = mlrose_hiive.ExpDecay(init_temp=10, exp_const=0.09, min_temp=.01)\n",
    "cnt = 0\n",
    "for i in range(1, 51):\n",
    "    init_state = np.array(20*[1])\n",
    "    best_state, best_fitness, fit_crvKSA = mlrose_hiive.simulated_annealing(problemK, schedule = scheduleK, max_attempts = 100, \n",
    "                                        curve=True, max_iters = 1000, init_state = init_state, random_state = i)\n",
    "    if best_fitness>700:\n",
    "        #print (i, best_state, best_fitness, len(fit_crv8QSA))\n",
    "        cnt += 1\n",
    "print (\"number of successes:\", cnt)"
   ]
  },
  {
   "cell_type": "code",
   "execution_count": 47,
   "id": "rocky-shield",
   "metadata": {},
   "outputs": [
    {
     "name": "stdout",
     "output_type": "stream",
     "text": [
      "number of successes: 10\n"
     ]
    }
   ],
   "source": [
    "scheduleK = mlrose_hiive.ExpDecay(init_temp=10, exp_const=0.09, min_temp=.01)\n",
    "cnt = 0\n",
    "for i in range(1, 51):\n",
    "    init_state = np.array(20*[0])\n",
    "    best_state, best_fitness, fit_crvKSA = mlrose_hiive.simulated_annealing(problemK, schedule = scheduleK, max_attempts = 200, \n",
    "                                        curve=True, max_iters = 1000, init_state = init_state, random_state = i)\n",
    "    if best_fitness>700:\n",
    "        #print (i, best_state, best_fitness, len(fit_crv8QSA))\n",
    "        cnt += 1\n",
    "print (\"number of successes:\", cnt)"
   ]
  },
  {
   "cell_type": "code",
   "execution_count": 49,
   "id": "spare-french",
   "metadata": {},
   "outputs": [
    {
     "name": "stdout",
     "output_type": "stream",
     "text": [
      "number of successes: 50\n"
     ]
    }
   ],
   "source": [
    "scheduleK = mlrose_hiive.ExpDecay(init_temp=100, exp_const=0.01, min_temp=0.001)\n",
    "cnt = 0\n",
    "for i in range(1, 51):\n",
    "    init_state = np.array(20*[0])\n",
    "    best_state, best_fitness, fit_crvKSA = mlrose_hiive.simulated_annealing(problemK, schedule = scheduleK, max_attempts = 200, \n",
    "                                        curve=True, max_iters = 1000, init_state = init_state, random_state = i)\n",
    "    if best_fitness>700:\n",
    "        #print (i, best_state, best_fitness, len(fit_crv8QSA))\n",
    "        cnt += 1\n",
    "print (\"number of successes:\", cnt)"
   ]
  },
  {
   "cell_type": "code",
   "execution_count": 50,
   "id": "basic-utility",
   "metadata": {},
   "outputs": [
    {
     "name": "stdout",
     "output_type": "stream",
     "text": [
      "number of successes: 19\n"
     ]
    }
   ],
   "source": [
    "scheduleK = mlrose_hiive.ExpDecay(init_temp=100, exp_const=0.01, min_temp=0.001)\n",
    "cnt = 0\n",
    "for i in range(1, 51):\n",
    "    init_state = np.array(20*[0])\n",
    "    best_state, best_fitness, fit_crvKSA = mlrose_hiive.simulated_annealing(problemK, schedule = scheduleK, max_attempts = 200, \n",
    "                                        curve=True, max_iters = 1000, init_state = init_state, random_state = i)\n",
    "    if best_fitness>800:\n",
    "        #print (i, best_state, best_fitness, len(fit_crv8QSA))\n",
    "        cnt += 1\n",
    "print (\"number of successes:\", cnt)"
   ]
  },
  {
   "cell_type": "code",
   "execution_count": 51,
   "id": "further-trinidad",
   "metadata": {},
   "outputs": [
    {
     "name": "stdout",
     "output_type": "stream",
     "text": [
      "number of successes: 19\n"
     ]
    }
   ],
   "source": [
    "scheduleK = mlrose_hiive.ExpDecay(init_temp=100, exp_const=0.01, min_temp=0.001)\n",
    "cnt = 0\n",
    "for i in range(1, 51):\n",
    "    init_state = np.array(20*[1])\n",
    "    best_state, best_fitness, fit_crvKSA = mlrose_hiive.simulated_annealing(problemK, schedule = scheduleK, max_attempts = 200, \n",
    "                                        curve=True, max_iters = 1000, init_state = init_state, random_state = i)\n",
    "    if best_fitness>800:\n",
    "        #print (i, best_state, best_fitness, len(fit_crv8QSA))\n",
    "        cnt += 1\n",
    "print (\"number of successes:\", cnt)"
   ]
  },
  {
   "cell_type": "code",
   "execution_count": 52,
   "id": "smaller-catering",
   "metadata": {},
   "outputs": [
    {
     "name": "stdout",
     "output_type": "stream",
     "text": [
      "number of successes: 19\n"
     ]
    }
   ],
   "source": [
    "scheduleK = mlrose_hiive.ExpDecay(init_temp=100, exp_const=0.01, min_temp=0.001)\n",
    "cnt = 0\n",
    "for i in range(1, 51):\n",
    "    init_state = np.array(20*[0])\n",
    "    best_state, best_fitness, fit_crvKSA = mlrose_hiive.simulated_annealing(problemK, schedule = scheduleK, max_attempts = 300, \n",
    "                                        curve=True, max_iters = 1000, init_state = init_state, random_state = i)\n",
    "    if best_fitness>800:\n",
    "        #print (i, best_state, best_fitness, len(fit_crv8QSA))\n",
    "        cnt += 1\n",
    "print (\"number of successes:\", cnt)"
   ]
  },
  {
   "cell_type": "code",
   "execution_count": 53,
   "id": "suitable-james",
   "metadata": {},
   "outputs": [
    {
     "name": "stdout",
     "output_type": "stream",
     "text": [
      "number of successes: 19\n"
     ]
    }
   ],
   "source": [
    "scheduleK = mlrose_hiive.ExpDecay(init_temp=100, exp_const=0.01, min_temp=0.001)\n",
    "cnt = 0\n",
    "for i in range(1, 51):\n",
    "    init_state = np.array(20*[1])\n",
    "    best_state, best_fitness, fit_crvKSA = mlrose_hiive.simulated_annealing(problemK, schedule = scheduleK, max_attempts = 300, \n",
    "                                        curve=True, max_iters = 1000, init_state = init_state, random_state = i)\n",
    "    if best_fitness>800:\n",
    "        #print (i, best_state, best_fitness, len(fit_crv8QSA))\n",
    "        cnt += 1\n",
    "print (\"number of successes:\", cnt)"
   ]
  },
  {
   "cell_type": "code",
   "execution_count": 54,
   "id": "clinical-literacy",
   "metadata": {},
   "outputs": [
    {
     "name": "stdout",
     "output_type": "stream",
     "text": [
      "number of successes: 0\n"
     ]
    }
   ],
   "source": [
    "scheduleK = mlrose_hiive.ExpDecay(init_temp=100, exp_const=0.001, min_temp=0.001)\n",
    "cnt = 0\n",
    "for i in range(1, 51):\n",
    "    init_state = np.array(20*[1])\n",
    "    best_state, best_fitness, fit_crvKSA = mlrose_hiive.simulated_annealing(problemK, schedule = scheduleK, max_attempts = 300, \n",
    "                                        curve=True, max_iters = 1000, init_state = init_state, random_state = i)\n",
    "    if best_fitness>800:\n",
    "        #print (i, best_state, best_fitness, len(fit_crv8QSA))\n",
    "        cnt += 1\n",
    "print (\"number of successes:\", cnt)"
   ]
  },
  {
   "cell_type": "code",
   "execution_count": 58,
   "id": "personal-suicide",
   "metadata": {},
   "outputs": [
    {
     "name": "stdout",
     "output_type": "stream",
     "text": [
      "12 [8 8 3 8 8 8 5 0 8 5 8 8 3 8 2 8 0 7 0 6] 836.0\n",
      "14 [8 8 0 8 8 8 7 8 8 8 2 8 1 7 2 6 0 7 0 8] 832.0\n",
      "19 [8 8 8 7 8 8 8 4 8 8 2 8 3 7 4 8 0 8 1 2] 833.0\n",
      "28 [8 7 8 8 7 7 8 4 7 8 2 8 1 8 3 8 1 5 0 7] 835.0\n",
      "34 [8 8 3 8 8 6 8 1 7 8 0 8 3 8 0 8 0 7 4 6] 835.0\n",
      "number of successes: 5\n"
     ]
    }
   ],
   "source": [
    "scheduleK = mlrose_hiive.ExpDecay(init_temp=100, exp_const=0.01, min_temp=0.001)\n",
    "cnt = 0\n",
    "for i in range(1, 51):\n",
    "    init_state = np.array(20*[1])\n",
    "    best_state, best_fitness, fit_crvKSA = mlrose_hiive.simulated_annealing(problemK, schedule = scheduleK, max_attempts = 300, \n",
    "                                        curve=True, max_iters = 1000, init_state = init_state, random_state = i)\n",
    "    if best_fitness>830:\n",
    "        print (i, best_state, best_fitness)\n",
    "        cnt += 1\n",
    "print (\"number of successes:\", cnt)"
   ]
  },
  {
   "cell_type": "code",
   "execution_count": 59,
   "id": "enhanced-storage",
   "metadata": {},
   "outputs": [
    {
     "name": "stdout",
     "output_type": "stream",
     "text": [
      "6 [8 8 8 8 8 8 7 2 7 8 1 8 0 8 0 6 1 8 3 7] 834.0\n",
      "10 [8 8 8 7 8 8 7 3 6 8 2 7 1 8 1 8 0 8 0 8] 860.0\n",
      "12 [8 8 8 8 8 8 5 0 8 7 8 7 3 8 0 8 1 4 0 8] 839.0\n",
      "28 [8 8 3 8 7 8 7 0 7 6 0 8 0 8 6 8 1 7 1 7] 834.0\n",
      "40 [7 8 6 8 8 8 7 3 8 8 7 7 1 8 4 8 0 5 0 5] 839.0\n",
      "number of successes: 5\n"
     ]
    }
   ],
   "source": [
    "scheduleK = mlrose_hiive.ExpDecay(init_temp=100, exp_const=0.01, min_temp=0.001)\n",
    "cnt = 0\n",
    "for i in range(1, 51):\n",
    "    init_state = np.array(20*[0])\n",
    "    best_state, best_fitness, fit_crvKSA = mlrose_hiive.simulated_annealing(problemK, schedule = scheduleK, max_attempts = 300, \n",
    "                                        curve=True, max_iters = 1000, init_state = init_state, random_state = i)\n",
    "    if best_fitness>830:\n",
    "        print (i, best_state, best_fitness)\n",
    "        cnt += 1\n",
    "print (\"number of successes:\", cnt)"
   ]
  },
  {
   "cell_type": "code",
   "execution_count": 62,
   "id": "obvious-organizer",
   "metadata": {},
   "outputs": [],
   "source": [
    "init_state = np.array(20*[0])\n",
    "best_state, best_fitness, fit_crvKSA = mlrose_hiive.simulated_annealing(problemK, schedule = scheduleK, max_attempts = 300, \n",
    "                                        curve=True, max_iters = 1000, init_state = init_state, random_state = 10)"
   ]
  },
  {
   "cell_type": "code",
   "execution_count": 63,
   "id": "handled-equipment",
   "metadata": {},
   "outputs": [
    {
     "name": "stdout",
     "output_type": "stream",
     "text": [
      "[8 8 8 7 8 8 7 3 6 8 2 7 1 8 1 8 0 8 0 8] 860.0\n"
     ]
    }
   ],
   "source": [
    "print (best_state, best_fitness)"
   ]
  },
  {
   "cell_type": "code",
   "execution_count": 64,
   "id": "toxic-pledge",
   "metadata": {},
   "outputs": [
    {
     "data": {
      "text/plain": [
       "[<matplotlib.lines.Line2D at 0x1cd144741f0>]"
      ]
     },
     "execution_count": 64,
     "metadata": {},
     "output_type": "execute_result"
    },
    {
     "data": {
      "image/png": "[encoded data removed]",
      "text/plain": [
       "<Figure size 432x288 with 1 Axes>"
      ]
     },
     "metadata": {},
     "output_type": "display_data"
    }
   ],
   "source": [
    "plt.plot(fit_crvKSA)"
   ]
  },
  {
   "cell_type": "markdown",
   "id": "infectious-switzerland",
   "metadata": {},
   "source": [
    "### Knapsack Mimic"
   ]
  },
  {
   "cell_type": "code",
   "execution_count": 65,
   "id": "premium-daily",
   "metadata": {},
   "outputs": [],
   "source": [
    "max_weight_pct = 5.0\n",
    "weights = list(range(1, 21))\n",
    "values = [2, 7, 1, 9, 4, 9, 3, 1, 5, 12, 3, 11, 2, 9, 2, 19, 1, 10, 1, 9]\n",
    "\n",
    "problemK = mlrose_hiive.KnapsackOpt(maximize=True,\n",
    "        max_val=9, weights=weights, values=values, max_weight_pct = max_weight_pct)"
   ]
  },
  {
   "cell_type": "code",
   "execution_count": 66,
   "id": "dying-above",
   "metadata": {},
   "outputs": [],
   "source": [
    "best_state, best_fitness, fit_crvKM = mlrose_hiive.mimic(problemK, max_attempts = 20, pop_size=100, keep_pct=0.2,\n",
    "                                                 curve=True, max_iters=1000, random_state=7)"
   ]
  },
  {
   "cell_type": "code",
   "execution_count": 67,
   "id": "acute-parade",
   "metadata": {},
   "outputs": [
    {
     "name": "stdout",
     "output_type": "stream",
     "text": [
      "[6 8 1 8 7 8 2 8 7 6 1 5 1 8 4 8 1 4 3 8] 770.0\n"
     ]
    }
   ],
   "source": [
    "print (best_state, best_fitness)"
   ]
  },
  {
   "cell_type": "code",
   "execution_count": 69,
   "id": "graphic-throat",
   "metadata": {},
   "outputs": [
    {
     "name": "stdout",
     "output_type": "stream",
     "text": [
      "13 [8 6 8 8 8 8 7 0 4 7 1 7 7 6 1 8 2 6 0 8] 803.0\n",
      "15 [2 8 4 8 8 8 6 6 0 8 0 8 2 5 4 8 0 7 2 8] 801.0\n",
      "19 [8 7 1 8 8 7 0 1 6 8 2 8 0 6 8 8 0 8 1 6] 811.0\n",
      "35 [6 8 1 6 7 5 6 5 8 8 2 8 4 7 1 8 1 6 0 8] 807.0\n",
      "number of successes: 4\n"
     ]
    }
   ],
   "source": [
    "cnt = 0\n",
    "for i in range(1, 51):\n",
    "    best_state, best_fitness, fit_crvKM = mlrose_hiive.mimic(problemK, max_attempts = 20, pop_size=100, keep_pct=0.2,\n",
    "                                                 curve=True, max_iters=1000, random_state =i)\n",
    "    if best_fitness>800:\n",
    "        print (i, best_state, best_fitness)\n",
    "        cnt += 1\n",
    "print (\"number of successes:\", cnt)"
   ]
  },
  {
   "cell_type": "code",
   "execution_count": 70,
   "id": "animal-pennsylvania",
   "metadata": {},
   "outputs": [
    {
     "name": "stdout",
     "output_type": "stream",
     "text": [
      "1 [4 8 0 5 7 8 7 7 5 8 8 8 0 6 1 8 0 8 2 5] 805.0\n",
      "2 [5 8 2 8 8 7 7 2 8 8 2 8 4 8 0 8 1 7 1 6] 846.0\n",
      "3 [1 7 5 8 1 8 7 6 6 8 1 6 0 8 3 8 0 8 1 8] 809.0\n",
      "4 [6 8 5 7 8 8 4 3 6 8 2 8 1 8 1 8 0 8 2 7] 848.0\n",
      "5 [7 8 0 8 7 8 4 4 6 8 1 8 2 8 0 8 1 8 4 5] 833.0\n",
      "7 [7 7 2 8 6 8 8 2 8 6 1 8 1 8 4 8 1 4 2 8] 811.0\n",
      "8 [5 8 4 8 8 8 7 3 6 8 7 5 3 8 0 8 0 8 0 6] 836.0\n",
      "10 [2 8 2 6 5 8 3 2 8 8 8 8 0 5 2 8 0 7 2 8] 812.0\n",
      "11 [7 8 4 8 8 6 5 0 6 8 7 7 0 8 1 8 1 7 2 7] 833.0\n",
      "12 [5 8 7 8 8 7 5 2 8 7 2 8 3 7 0 8 1 8 0 7] 840.0\n",
      "13 [7 6 0 8 8 7 8 0 6 8 0 8 0 8 3 8 1 7 3 7] 828.0\n",
      "14 [2 8 2 8 8 7 8 2 7 8 4 8 3 6 1 8 2 8 0 5] 827.0\n",
      "15 [8 8 1 8 8 8 8 8 7 8 0 8 3 8 1 8 0 4 2 7] 837.0\n",
      "16 [6 8 7 8 8 8 6 1 8 8 3 8 2 7 0 8 0 8 0 8] 874.0\n",
      "17 [6 8 1 8 8 8 2 1 7 8 7 8 2 8 1 8 1 8 0 6] 857.0\n",
      "18 [8 7 4 8 4 7 6 0 0 8 2 8 3 8 3 8 1 8 1 8] 818.0\n",
      "19 [8 8 0 8 6 8 6 1 7 7 0 7 4 8 1 8 0 8 3 6] 826.0\n",
      "20 [4 8 6 8 7 8 8 5 7 8 5 7 0 8 0 8 3 5 2 5] 818.0\n",
      "21 [6 7 3 8 8 8 6 0 8 8 4 8 3 4 1 8 1 8 0 8] 843.0\n",
      "22 [6 8 1 8 4 8 8 0 6 8 5 7 1 8 1 8 0 8 1 8] 852.0\n",
      "23 [7 8 6 8 8 8 8 0 8 8 7 8 3 7 1 8 0 8 1 3] 852.0\n",
      "24 [6 7 3 8 8 8 6 1 8 7 6 8 5 8 0 8 0 3 1 7] 817.0\n",
      "25 [4 6 6 7 6 8 8 4 5 8 5 8 2 8 1 8 0 7 1 6] 822.0\n",
      "26 [8 8 4 8 8 7 8 0 8 6 6 8 1 6 8 8 0 8 1 2] 808.0\n",
      "27 [8 7 8 8 8 8 7 1 5 8 8 7 2 8 3 8 2 7 2 1] 810.0\n",
      "28 [8 7 2 8 7 8 6 2 7 8 6 6 1 8 0 8 4 8 1 4] 821.0\n",
      "29 [8 8 7 8 7 8 8 0 7 8 1 7 3 7 1 8 2 4 2 8] 825.0\n",
      "30 [8 7 6 7 8 8 6 0 7 8 0 8 4 7 0 8 0 5 3 7] 814.0\n",
      "31 [8 5 4 8 8 8 0 1 8 8 0 8 0 8 3 7 3 7 3 7] 806.0\n",
      "32 [8 8 5 8 6 8 6 7 5 8 5 8 1 8 0 8 0 4 1 8] 833.0\n",
      "33 [5 7 6 8 3 8 7 0 8 8 6 8 0 8 1 8 1 8 1 6] 846.0\n",
      "34 [5 7 8 8 7 7 8 1 8 8 6 7 2 8 0 7 0 6 0 8] 827.0\n",
      "35 [8 8 1 6 8 8 7 3 8 8 8 8 4 8 1 8 0 4 0 6] 831.0\n",
      "36 [6 8 6 8 8 8 7 1 6 8 4 8 0 8 2 8 0 8 2 5] 853.0\n",
      "37 [6 8 6 7 5 7 0 1 6 8 4 8 3 8 1 8 2 7 1 8] 824.0\n",
      "38 [8 8 5 8 7 8 6 1 1 8 1 8 0 4 2 8 3 8 4 8] 811.0\n",
      "39 [3 8 8 8 6 8 5 1 6 8 7 8 3 8 1 8 0 5 0 8] 843.0\n",
      "40 [6 6 3 7 5 7 8 8 7 8 1 8 1 8 0 8 0 8 3 5] 811.0\n",
      "41 [5 8 5 7 8 7 8 1 8 8 6 8 2 5 0 8 2 7 3 4] 808.0\n",
      "42 [7 7 8 8 8 7 7 0 4 8 2 7 4 8 0 8 0 8 3 6] 827.0\n",
      "43 [7 7 1 8 7 4 3 1 7 8 3 8 2 7 2 8 1 8 2 7] 807.0\n",
      "44 [8 8 8 8 8 8 3 4 7 8 6 8 0 7 1 8 0 8 2 5] 850.0\n",
      "45 [7 7 5 7 8 7 8 1 6 7 6 8 2 6 2 8 0 6 0 8] 817.0\n",
      "46 [5 6 2 8 6 7 6 7 4 8 4 8 3 7 0 8 0 7 0 8] 817.0\n",
      "47 [8 8 5 8 8 7 6 0 8 7 3 7 1 8 0 8 1 5 3 8] 824.0\n",
      "48 [7 8 7 6 8 7 6 5 7 8 1 6 1 8 1 8 2 7 0 8] 821.0\n",
      "49 [2 8 8 8 7 6 7 1 5 8 3 8 5 7 0 8 0 8 1 7] 831.0\n",
      "50 [5 6 6 8 6 7 5 2 6 7 0 8 2 8 5 8 0 8 0 7] 817.0\n",
      "number of successes: 48\n"
     ]
    }
   ],
   "source": [
    "cnt = 0\n",
    "for i in range(1, 51):\n",
    "    best_state, best_fitness, fit_crvKM = mlrose_hiive.mimic(problemK, max_attempts = 20, pop_size=200, keep_pct=0.2,\n",
    "                                                 curve=True, max_iters=1000, random_state =i)\n",
    "    if best_fitness>800:\n",
    "        print (i, best_state, best_fitness)\n",
    "        cnt += 1\n",
    "print (\"number of successes:\", cnt)"
   ]
  },
  {
   "cell_type": "code",
   "execution_count": 71,
   "id": "threaded-welsh",
   "metadata": {},
   "outputs": [
    {
     "name": "stdout",
     "output_type": "stream",
     "text": [
      "1 [7 8 7 8 7 7 4 5 6 8 3 8 0 8 1 8 0 8 0 8] 858.0\n",
      "2 [8 8 3 8 5 8 8 0 8 8 2 8 6 6 0 8 0 7 0 8] 853.0\n",
      "4 [8 8 1 8 8 8 3 3 8 8 1 8 0 7 3 8 0 8 1 8] 862.0\n",
      "5 [6 8 0 8 5 8 2 7 8 8 8 8 0 7 0 8 0 7 0 8] 850.0\n",
      "7 [6 8 1 8 7 8 5 2 7 8 1 8 1 8 2 8 0 8 1 8] 863.0\n",
      "8 [6 8 1 8 8 8 7 3 7 8 2 7 3 8 0 8 1 7 0 8] 856.0\n",
      "10 [8 7 7 8 7 8 3 0 8 8 4 8 0 7 1 8 3 7 0 8] 851.0\n",
      "11 [2 8 4 7 8 8 5 0 8 8 3 8 2 7 2 8 0 8 0 8] 854.0\n",
      "12 [6 8 7 8 8 8 7 1 8 7 2 8 3 8 0 8 0 8 0 7] 864.0\n",
      "14 [7 8 6 7 5 7 7 0 7 8 7 8 1 7 0 8 0 8 0 8] 852.0\n",
      "15 [5 6 6 8 7 8 6 1 8 8 8 8 3 8 0 8 0 8 0 4] 843.0\n",
      "16 [6 8 7 7 8 8 1 0 8 8 8 8 2 8 0 7 0 8 0 7] 845.0\n",
      "17 [3 8 5 8 8 8 3 0 8 8 6 8 1 8 1 8 0 6 1 8] 855.0\n",
      "18 [7 7 6 8 8 7 8 0 8 8 4 7 2 7 2 8 0 7 0 7] 841.0\n",
      "19 [8 8 1 8 8 8 8 0 5 8 2 8 0 8 4 8 0 8 1 7] 864.0\n",
      "20 [8 8 6 8 8 7 3 1 7 8 3 8 0 7 3 8 1 7 1 8] 848.0\n",
      "21 [8 8 4 8 5 6 6 0 6 8 5 7 1 8 3 8 0 8 0 8] 842.0\n",
      "22 [8 8 4 8 8 8 4 1 8 8 6 8 0 8 0 8 0 8 0 8] 883.0\n",
      "23 [7 8 6 8 8 7 8 5 7 8 4 7 0 7 0 8 1 8 1 6] 843.0\n",
      "24 [7 7 5 8 8 7 8 2 7 8 6 8 3 8 0 8 0 8 1 4] 845.0\n",
      "26 [6 8 3 8 8 7 7 2 7 8 5 8 2 8 0 8 0 7 1 6] 848.0\n",
      "27 [6 8 5 7 6 8 6 1 6 8 0 8 2 8 0 8 1 8 2 8] 848.0\n",
      "28 [8 8 3 8 7 8 7 1 7 8 6 8 0 8 4 8 1 8 0 3] 846.0\n",
      "29 [6 7 4 8 6 8 7 1 8 7 1 8 0 7 1 8 1 8 2 8] 842.0\n",
      "32 [6 8 3 8 8 8 7 1 8 7 7 8 1 7 0 8 0 8 0 7] 862.0\n",
      "33 [8 7 6 8 2 8 8 2 8 8 2 8 1 8 0 8 1 8 0 8] 858.0\n",
      "34 [7 8 8 8 7 7 8 0 7 8 1 8 4 8 3 8 0 6 0 7] 848.0\n",
      "35 [8 8 6 8 8 8 8 5 8 8 0 8 2 8 2 8 0 8 0 5] 864.0\n",
      "36 [7 8 1 8 8 8 6 0 5 8 7 7 0 8 2 8 0 8 0 8] 864.0\n",
      "37 [8 7 5 8 3 8 7 0 8 8 0 7 2 8 0 8 0 8 3 8] 843.0\n",
      "38 [5 8 5 8 7 8 5 1 6 8 4 8 1 7 0 8 2 8 0 8] 856.0\n",
      "39 [8 8 8 7 8 8 5 4 8 8 3 8 0 8 0 8 0 5 2 8] 847.0\n",
      "40 [8 7 8 7 8 8 7 2 8 8 3 7 0 7 1 8 0 8 0 8] 854.0\n",
      "42 [7 8 1 8 8 8 3 0 3 8 1 8 0 8 7 8 0 8 0 8] 848.0\n",
      "43 [8 8 3 8 7 8 3 1 7 8 5 8 2 6 2 8 1 8 0 7] 849.0\n",
      "44 [6 8 1 8 6 7 7 3 7 8 0 8 2 8 0 8 0 8 2 7] 844.0\n",
      "46 [4 7 4 8 8 8 7 4 8 8 4 8 0 8 0 8 0 7 1 7] 856.0\n",
      "48 [7 8 8 8 8 8 6 0 2 8 7 8 0 8 1 8 0 8 0 8] 865.0\n",
      "49 [8 8 2 8 7 7 6 0 7 8 3 8 1 8 1 8 1 8 0 8] 864.0\n",
      "number of successes: 39\n"
     ]
    }
   ],
   "source": [
    "cnt = 0\n",
    "for i in range(1, 51):\n",
    "    best_state, best_fitness, fit_crvKM = mlrose_hiive.mimic(problemK, max_attempts = 20, pop_size=300, keep_pct=0.2,\n",
    "                                                 curve=True, max_iters=1000, random_state =i)\n",
    "    if best_fitness>840:\n",
    "        print (i, best_state, best_fitness)\n",
    "        cnt += 1\n",
    "print (\"number of successes:\", cnt)"
   ]
  },
  {
   "cell_type": "code",
   "execution_count": 72,
   "id": "rotary-spell",
   "metadata": {},
   "outputs": [
    {
     "name": "stdout",
     "output_type": "stream",
     "text": [
      "1 [6 8 7 8 7 8 7 0 6 8 3 8 0 8 1 8 0 8 1 8] 870.0\n",
      "2 [8 8 3 8 7 8 8 0 8 7 0 8 1 8 2 8 1 8 0 8] 866.0\n",
      "3 [8 8 8 8 8 8 8 6 7 8 4 8 0 8 0 8 0 7 0 6] 865.0\n",
      "10 [8 8 2 8 8 8 8 2 6 8 2 8 0 8 2 8 0 8 0 8] 876.0\n",
      "12 [7 8 7 8 5 7 7 0 8 8 3 8 1 8 1 8 0 8 0 8] 866.0\n",
      "13 [8 8 2 8 8 8 5 1 8 8 7 8 0 6 1 8 0 8 0 8] 871.0\n",
      "15 [8 8 8 8 4 8 8 4 7 8 3 8 0 8 1 8 0 8 0 7] 865.0\n",
      "16 [7 8 6 7 6 8 7 1 8 8 8 8 0 8 0 8 0 7 0 7] 862.0\n",
      "17 [8 8 5 8 8 8 8 0 7 8 1 8 3 8 0 8 1 6 1 8] 863.0\n",
      "20 [8 8 6 8 8 8 8 1 6 8 5 8 1 8 0 8 0 8 0 7] 877.0\n",
      "21 [8 7 3 8 7 8 2 2 8 8 7 8 1 7 0 8 0 8 0 8] 862.0\n",
      "22 [8 8 3 8 6 8 7 4 8 8 0 7 1 8 2 8 0 8 0 8] 863.0\n",
      "24 [7 7 5 8 8 8 7 5 8 8 2 8 1 8 1 8 0 7 0 7] 861.0\n",
      "25 [5 8 6 8 8 8 3 2 6 8 4 8 0 8 1 8 0 8 1 8] 864.0\n",
      "26 [8 8 2 8 8 8 6 4 7 8 1 8 1 8 0 8 1 8 0 8] 873.0\n",
      "27 [8 8 3 8 7 8 6 1 6 8 7 8 0 8 0 8 1 8 0 7] 869.0\n",
      "29 [7 7 0 8 8 8 8 0 8 7 1 8 3 8 0 8 0 8 1 8] 861.0\n",
      "30 [8 8 5 8 7 8 5 1 7 7 3 8 1 8 2 8 0 8 0 8] 863.0\n",
      "32 [8 8 4 8 8 8 8 1 7 8 3 8 1 8 0 8 0 8 0 8] 883.0\n",
      "33 [7 8 5 8 8 8 8 0 6 8 3 8 2 7 1 8 0 8 0 8] 871.0\n",
      "34 [8 8 0 8 8 8 8 1 5 8 4 8 0 8 2 8 0 8 0 8] 874.0\n",
      "37 [7 8 8 8 6 8 5 2 7 8 2 8 0 8 1 8 1 8 0 8] 867.0\n",
      "39 [6 7 5 8 8 8 3 0 6 8 5 8 2 8 0 8 0 8 1 8] 861.0\n",
      "40 [7 8 4 8 5 8 4 0 8 8 6 8 0 8 0 8 0 8 1 8] 869.0\n",
      "43 [8 8 3 8 7 8 5 1 8 8 1 8 2 8 2 8 0 8 0 8] 874.0\n",
      "45 [8 8 3 8 8 8 5 7 8 8 1 8 0 8 0 8 0 8 0 8] 876.0\n",
      "47 [7 8 0 8 8 8 6 4 8 8 2 8 0 8 2 8 0 8 1 6] 861.0\n",
      "49 [8 8 4 8 8 8 6 1 8 8 3 8 0 8 0 8 1 8 0 8] 881.0\n",
      "50 [7 8 6 8 8 8 7 0 8 8 4 8 0 8 0 8 1 6 1 8] 867.0\n",
      "number of successes: 29\n"
     ]
    }
   ],
   "source": [
    "cnt = 0\n",
    "for i in range(1, 51):\n",
    "    best_state, best_fitness, fit_crvKM = mlrose_hiive.mimic(problemK, max_attempts = 20, pop_size=400, keep_pct=0.2,\n",
    "                                                 curve=True, max_iters=1000, random_state =i)\n",
    "    if best_fitness>860:\n",
    "        print (i, best_state, best_fitness)\n",
    "        cnt += 1\n",
    "print (\"number of successes:\", cnt)"
   ]
  },
  {
   "cell_type": "code",
   "execution_count": 73,
   "id": "tropical-parliament",
   "metadata": {},
   "outputs": [
    {
     "name": "stdout",
     "output_type": "stream",
     "text": [
      "1 [8 8 7 8 7 8 7 1 6 8 3 8 2 8 0 8 0 8 0 8] 876.0\n",
      "2 [8 8 4 8 8 8 5 2 8 8 5 8 1 8 0 8 0 8 0 7] 877.0\n",
      "14 [5 8 7 8 8 8 8 0 8 8 2 8 0 8 0 8 1 8 0 8] 880.0\n",
      "20 [7 8 6 8 7 8 8 3 8 8 0 8 0 8 1 8 0 8 0 8] 877.0\n",
      "27 [8 8 6 8 8 8 6 1 8 8 2 8 0 8 0 8 0 8 1 8] 880.0\n",
      "34 [8 8 5 8 8 8 4 1 7 8 4 8 2 8 0 8 0 8 0 8] 877.0\n",
      "36 [7 8 7 8 8 8 4 1 8 8 4 8 1 8 0 8 0 8 0 8] 880.0\n",
      "42 [7 8 1 8 8 8 6 0 7 8 6 8 1 8 0 8 0 8 0 8] 880.0\n",
      "49 [8 8 0 8 8 8 8 0 7 8 5 8 1 8 0 8 1 8 0 7] 876.0\n",
      "number of successes: 9\n"
     ]
    }
   ],
   "source": [
    "cnt = 0\n",
    "for i in range(1, 51):\n",
    "    best_state, best_fitness, fit_crvKM = mlrose_hiive.mimic(problemK, max_attempts = 20, pop_size=500, keep_pct=0.2,\n",
    "                                                 curve=True, max_iters=1000, random_state =i)\n",
    "    if best_fitness>875:\n",
    "        print (i, best_state, best_fitness)\n",
    "        cnt += 1\n",
    "print (\"number of successes:\", cnt)"
   ]
  },
  {
   "cell_type": "code",
   "execution_count": 74,
   "id": "retained-wagner",
   "metadata": {},
   "outputs": [
    {
     "name": "stdout",
     "output_type": "stream",
     "text": [
      "2 [8 8 0 8 8 8 7 0 8 8 6 8 1 8 0 8 0 8 0 7] 880.0\n",
      "15 [8 8 2 8 8 8 5 1 8 8 4 8 0 8 1 8 0 8 0 8] 880.0\n",
      "22 [8 8 6 8 8 8 7 0 8 8 4 8 0 8 0 8 0 8 0 8] 887.0\n",
      "23 [8 8 5 8 8 8 6 1 8 8 3 8 0 8 1 8 0 8 0 8] 883.0\n",
      "24 [8 8 6 8 8 8 5 1 8 8 3 8 0 8 0 8 0 8 1 8] 880.0\n",
      "34 [8 8 8 8 8 8 8 0 8 8 1 8 0 8 0 8 0 8 1 8] 884.0\n",
      "44 [7 8 8 8 8 8 8 2 8 8 1 8 0 8 0 8 0 8 0 8] 883.0\n",
      "number of successes: 7\n"
     ]
    }
   ],
   "source": [
    "cnt = 0\n",
    "for i in range(1, 51):\n",
    "    best_state, best_fitness, fit_crvKM = mlrose_hiive.mimic(problemK, max_attempts = 20, pop_size=600, keep_pct=0.2,\n",
    "                                                 curve=True, max_iters=1000, random_state =i)\n",
    "    if best_fitness>=880:\n",
    "        print (i, best_state, best_fitness)\n",
    "        cnt += 1\n",
    "print (\"number of successes:\", cnt)"
   ]
  },
  {
   "cell_type": "code",
   "execution_count": 75,
   "id": "loving-debate",
   "metadata": {},
   "outputs": [
    {
     "name": "stdout",
     "output_type": "stream",
     "text": [
      "1 [8 8 2 8 7 8 8 0 7 8 6 8 0 8 0 8 0 8 0 8] 883.0\n",
      "3 [8 8 8 8 8 8 7 0 8 8 4 8 0 8 1 8 0 8 0 7] 882.0\n",
      "11 [8 8 8 8 8 8 7 0 8 8 1 8 0 8 2 8 0 8 0 8] 884.0\n",
      "12 [7 8 4 8 8 8 8 0 8 8 6 8 0 8 0 8 0 8 0 7] 883.0\n",
      "13 [8 8 7 8 7 8 7 0 8 8 6 8 0 8 0 8 0 8 0 7] 881.0\n",
      "17 [7 8 7 8 8 8 5 1 8 8 4 8 0 8 0 8 0 8 0 8] 881.0\n",
      "20 [8 8 6 8 8 8 7 0 8 8 2 8 0 8 1 8 0 8 0 8] 883.0\n",
      "23 [7 8 6 8 8 8 8 0 8 8 2 8 0 8 0 8 0 8 1 8] 883.0\n",
      "26 [8 8 0 8 8 8 7 2 8 8 3 8 1 8 0 8 0 8 0 8] 882.0\n",
      "29 [7 8 8 8 8 8 8 0 8 8 1 8 0 8 0 8 0 8 1 8] 882.0\n",
      "30 [8 8 4 8 8 8 6 1 8 8 6 8 0 7 0 8 0 8 0 8] 880.0\n",
      "35 [6 8 5 8 8 8 8 1 8 8 2 8 1 8 0 8 0 8 0 8] 882.0\n",
      "36 [7 8 3 8 8 8 8 0 8 8 5 8 0 8 1 8 0 8 0 7] 881.0\n",
      "37 [7 8 8 8 8 8 8 1 8 8 4 8 0 8 0 8 0 8 0 7] 882.0\n",
      "39 [8 8 4 8 8 8 7 1 8 8 1 8 0 8 1 8 0 8 1 8] 880.0\n",
      "40 [8 8 6 8 8 8 8 0 8 8 3 8 0 7 1 8 0 8 0 8] 880.0\n",
      "45 [8 8 8 8 8 8 7 1 8 8 3 8 0 8 0 8 0 8 0 8] 887.0\n",
      "number of successes: 17\n"
     ]
    }
   ],
   "source": [
    "cnt = 0\n",
    "for i in range(1, 51):\n",
    "    best_state, best_fitness, fit_crvKM = mlrose_hiive.mimic(problemK, max_attempts = 20, pop_size=700, keep_pct=0.2,\n",
    "                                                 curve=True, max_iters=1000, random_state =i)\n",
    "    if best_fitness>=880:\n",
    "        print (i, best_state, best_fitness)\n",
    "        cnt += 1\n",
    "print (\"number of successes:\", cnt)"
   ]
  },
  {
   "cell_type": "code",
   "execution_count": 76,
   "id": "streaming-bridge",
   "metadata": {},
   "outputs": [
    {
     "name": "stdout",
     "output_type": "stream",
     "text": [
      "2 [8 8 8 8 7 8 7 2 8 8 1 8 0 8 1 8 0 8 0 8] 880.0\n",
      "8 [7 8 8 8 8 8 8 1 8 8 1 8 0 8 1 8 0 8 0 8] 884.0\n",
      "9 [8 8 8 8 7 8 8 0 7 8 3 8 0 8 1 8 0 8 0 8] 882.0\n",
      "12 [7 8 7 8 8 8 7 0 8 8 4 8 0 8 0 8 0 8 0 8] 886.0\n",
      "18 [8 8 6 8 8 8 8 0 8 8 4 8 0 8 1 8 0 8 0 7] 883.0\n",
      "22 [8 8 0 8 8 8 8 0 7 8 6 8 0 8 0 8 0 8 0 8] 885.0\n",
      "23 [7 8 3 8 8 8 8 0 8 8 3 8 0 8 1 8 0 8 0 8] 884.0\n",
      "26 [8 8 4 8 8 8 8 0 8 8 3 8 0 8 0 8 0 8 0 8] 885.0\n",
      "27 [8 8 1 8 8 8 8 0 8 8 2 8 1 8 1 8 0 8 0 8] 883.0\n",
      "32 [8 8 8 8 8 8 8 2 8 8 2 8 0 8 1 8 0 8 0 7] 881.0\n",
      "33 [8 8 5 8 8 8 6 0 8 8 1 8 3 8 0 8 0 8 0 8] 880.0\n",
      "34 [7 8 6 8 8 8 8 0 8 8 1 8 1 8 1 8 0 8 0 8] 883.0\n",
      "35 [8 8 1 8 8 8 8 3 8 8 0 8 0 8 2 8 0 8 0 8] 880.0\n",
      "37 [7 8 7 8 7 8 8 1 7 8 4 8 0 8 0 8 0 8 0 8] 881.0\n",
      "38 [8 8 4 8 8 8 7 1 8 8 4 8 0 8 0 8 0 8 0 8] 886.0\n",
      "39 [7 8 6 8 8 8 7 0 8 8 3 8 0 8 1 8 0 8 0 8] 884.0\n",
      "43 [8 8 6 8 8 8 8 3 8 8 0 8 1 8 0 8 0 8 0 8] 883.0\n",
      "45 [8 8 5 8 7 8 7 2 8 8 2 8 0 8 1 8 0 8 0 8] 880.0\n",
      "46 [8 8 7 8 8 8 8 0 7 8 4 8 0 8 0 8 0 8 0 8] 886.0\n",
      "47 [8 8 8 8 8 8 7 0 8 8 5 8 0 8 0 8 0 8 0 7] 883.0\n",
      "48 [8 8 8 8 8 8 8 0 6 8 3 8 1 8 0 8 0 8 0 8] 881.0\n",
      "number of successes: 21\n"
     ]
    }
   ],
   "source": [
    "cnt = 0\n",
    "for i in range(1, 51):\n",
    "    best_state, best_fitness, fit_crvKM = mlrose_hiive.mimic(problemK, max_attempts = 20, pop_size=800, keep_pct=0.2,\n",
    "                                                 curve=True, max_iters=1000, random_state =i)\n",
    "    if best_fitness>=880:\n",
    "        print (i, best_state, best_fitness)\n",
    "        cnt += 1\n",
    "print (\"number of successes:\", cnt)"
   ]
  },
  {
   "cell_type": "code",
   "execution_count": 77,
   "id": "quality-andrew",
   "metadata": {},
   "outputs": [
    {
     "name": "stdout",
     "output_type": "stream",
     "text": [
      "1 [8 8 8 8 8 8 8 0 8 8 3 8 0 8 0 8 0 8 0 8] 889.0\n",
      "3 [8 8 7 8 8 8 8 0 8 8 3 8 0 8 1 8 0 8 0 7] 881.0\n",
      "6 [8 8 8 8 8 8 8 1 8 8 4 8 0 8 0 8 0 8 0 7] 884.0\n",
      "7 [7 8 1 8 8 8 8 2 8 8 1 8 2 8 0 8 0 8 0 8] 880.0\n",
      "10 [8 8 6 8 8 8 8 1 8 8 3 8 1 7 0 8 0 8 0 8] 881.0\n",
      "12 [7 8 4 8 8 8 8 0 8 8 4 8 0 8 0 8 0 8 0 8] 886.0\n",
      "14 [7 8 5 8 7 8 7 0 8 8 5 8 0 8 0 8 0 8 0 8] 883.0\n",
      "15 [8 8 8 8 8 8 4 0 8 8 4 8 0 8 1 8 0 8 0 8] 882.0\n",
      "16 [8 8 7 8 8 8 8 0 8 8 3 8 0 8 0 8 0 8 0 8] 888.0\n",
      "17 [6 8 6 8 7 8 8 0 8 8 4 8 0 8 0 8 0 8 0 8] 882.0\n",
      "19 [8 8 7 8 8 8 8 0 8 8 3 8 1 8 0 8 0 7 0 8] 880.0\n",
      "22 [8 8 8 8 8 8 7 0 8 8 4 8 0 8 1 8 0 8 0 7] 882.0\n",
      "24 [7 8 5 8 8 8 7 0 7 8 5 8 0 8 0 8 0 8 0 8] 882.0\n",
      "26 [8 8 7 8 8 8 7 0 8 8 1 8 0 8 2 8 0 8 0 8] 883.0\n",
      "27 [8 8 8 8 8 8 8 0 8 8 1 8 0 8 0 8 1 8 0 8] 884.0\n",
      "29 [8 8 6 8 8 8 8 0 7 8 4 8 0 8 0 8 0 8 0 8] 885.0\n",
      "33 [8 8 8 8 8 8 8 0 8 8 2 8 2 7 0 8 0 8 0 8] 881.0\n",
      "35 [8 8 8 8 8 8 8 1 8 8 2 8 1 7 0 8 0 8 0 8] 880.0\n",
      "37 [8 8 7 8 8 8 7 0 8 8 4 8 0 8 0 8 0 8 0 8] 888.0\n",
      "38 [8 8 1 8 8 8 8 1 8 8 4 8 0 8 0 8 0 8 0 8] 886.0\n",
      "39 [5 8 3 8 8 8 8 1 8 8 4 8 0 8 0 8 0 8 0 8] 882.0\n",
      "41 [8 8 3 8 8 8 6 1 8 8 5 8 0 8 0 8 0 8 0 8] 885.0\n",
      "42 [6 8 7 8 8 8 8 0 7 8 3 8 0 8 1 8 0 8 0 8] 881.0\n",
      "43 [8 8 5 8 8 8 8 1 8 8 3 8 0 8 0 8 0 8 0 8] 887.0\n",
      "44 [8 8 8 8 8 8 8 0 8 8 1 8 1 8 0 8 0 8 0 8] 885.0\n",
      "46 [8 8 7 8 8 8 6 2 8 8 3 8 0 8 0 8 0 8 0 8] 884.0\n",
      "48 [6 8 5 8 8 8 8 0 8 8 4 8 0 8 0 8 0 8 0 8] 885.0\n",
      "50 [6 8 3 8 8 8 8 0 8 8 6 8 0 8 0 8 0 8 0 7] 880.0\n",
      "number of successes: 28\n"
     ]
    }
   ],
   "source": [
    "cnt = 0\n",
    "for i in range(1, 51):\n",
    "    best_state, best_fitness, fit_crvKM = mlrose_hiive.mimic(problemK, max_attempts = 20, pop_size=900, keep_pct=0.2,\n",
    "                                                 curve=True, max_iters=1000, random_state =i)\n",
    "    if best_fitness>=880:\n",
    "        print (i, best_state, best_fitness)\n",
    "        cnt += 1\n",
    "print (\"number of successes:\", cnt)"
   ]
  },
  {
   "cell_type": "code",
   "execution_count": 78,
   "id": "ambient-consultancy",
   "metadata": {},
   "outputs": [
    {
     "name": "stdout",
     "output_type": "stream",
     "text": [
      "1 [8 8 8 8 8 8 8 0 8 8 3 8 0 8 0 8 0 8 0 8] 889.0\n",
      "3 [8 8 7 8 8 8 8 0 8 8 3 8 0 8 1 8 0 8 0 7] 881.0\n",
      "6 [8 8 8 8 8 8 8 1 8 8 4 8 0 8 0 8 0 8 0 7] 884.0\n",
      "7 [7 8 1 8 8 8 8 2 8 8 1 8 2 8 0 8 0 8 0 8] 880.0\n",
      "10 [8 8 6 8 8 8 8 1 8 8 3 8 1 7 0 8 0 8 0 8] 881.0\n",
      "12 [7 8 4 8 8 8 8 0 8 8 4 8 0 8 0 8 0 8 0 8] 886.0\n",
      "14 [7 8 5 8 7 8 7 0 8 8 5 8 0 8 0 8 0 8 0 8] 883.0\n",
      "15 [8 8 8 8 8 8 4 0 8 8 4 8 0 8 1 8 0 8 0 8] 882.0\n",
      "16 [8 8 7 8 8 8 8 0 8 8 3 8 0 8 0 8 0 8 0 8] 888.0\n",
      "17 [6 8 6 8 7 8 8 0 8 8 4 8 0 8 0 8 0 8 0 8] 882.0\n",
      "19 [8 8 7 8 8 8 8 0 8 8 3 8 1 8 0 8 0 7 0 8] 880.0\n",
      "22 [8 8 8 8 8 8 7 0 8 8 4 8 0 8 1 8 0 8 0 7] 882.0\n",
      "24 [7 8 5 8 8 8 7 0 7 8 5 8 0 8 0 8 0 8 0 8] 882.0\n",
      "26 [8 8 7 8 8 8 7 0 8 8 1 8 0 8 2 8 0 8 0 8] 883.0\n",
      "27 [8 8 8 8 8 8 8 0 8 8 1 8 0 8 0 8 1 8 0 8] 884.0\n",
      "29 [8 8 6 8 8 8 8 0 7 8 4 8 0 8 0 8 0 8 0 8] 885.0\n",
      "33 [8 8 8 8 8 8 8 0 8 8 2 8 2 7 0 8 0 8 0 8] 881.0\n",
      "35 [8 8 8 8 8 8 8 1 8 8 2 8 1 7 0 8 0 8 0 8] 880.0\n",
      "37 [8 8 7 8 8 8 7 0 8 8 4 8 0 8 0 8 0 8 0 8] 888.0\n",
      "38 [8 8 1 8 8 8 8 1 8 8 4 8 0 8 0 8 0 8 0 8] 886.0\n",
      "39 [5 8 3 8 8 8 8 1 8 8 4 8 0 8 0 8 0 8 0 8] 882.0\n",
      "41 [8 8 3 8 8 8 6 1 8 8 5 8 0 8 0 8 0 8 0 8] 885.0\n",
      "42 [6 8 7 8 8 8 8 0 7 8 3 8 0 8 1 8 0 8 0 8] 881.0\n",
      "43 [8 8 5 8 8 8 8 1 8 8 3 8 0 8 0 8 0 8 0 8] 887.0\n",
      "44 [8 8 8 8 8 8 8 0 8 8 1 8 1 8 0 8 0 8 0 8] 885.0\n",
      "46 [8 8 7 8 8 8 6 2 8 8 3 8 0 8 0 8 0 8 0 8] 884.0\n",
      "48 [6 8 5 8 8 8 8 0 8 8 4 8 0 8 0 8 0 8 0 8] 885.0\n",
      "50 [6 8 3 8 8 8 8 0 8 8 6 8 0 8 0 8 0 8 0 7] 880.0\n",
      "number of successes: 28\n"
     ]
    }
   ],
   "source": [
    "cnt = 0\n",
    "for i in range(1, 51):\n",
    "    best_state, best_fitness, fit_crvKM = mlrose_hiive.mimic(problemK, max_attempts = 30, pop_size=900, keep_pct=0.2,\n",
    "                                                 curve=True, max_iters=1000, random_state =i)\n",
    "    if best_fitness>=880:\n",
    "        print (i, best_state, best_fitness)\n",
    "        cnt += 1\n",
    "print (\"number of successes:\", cnt)"
   ]
  },
  {
   "cell_type": "code",
   "execution_count": 79,
   "id": "trying-spelling",
   "metadata": {},
   "outputs": [
    {
     "name": "stdout",
     "output_type": "stream",
     "text": [
      "1 [8 8 8 8 8 8 8 0 8 8 3 8 0 8 0 8 0 8 0 8] 889.0\n",
      "3 [8 8 7 8 8 8 8 0 8 8 3 8 0 8 1 8 0 8 0 7] 881.0\n",
      "6 [8 8 8 8 8 8 8 1 8 8 4 8 0 8 0 8 0 8 0 7] 884.0\n",
      "7 [7 8 1 8 8 8 8 2 8 8 1 8 2 8 0 8 0 8 0 8] 880.0\n",
      "10 [8 8 6 8 8 8 8 1 8 8 3 8 1 7 0 8 0 8 0 8] 881.0\n",
      "12 [7 8 4 8 8 8 8 0 8 8 4 8 0 8 0 8 0 8 0 8] 886.0\n",
      "14 [7 8 5 8 7 8 7 0 8 8 5 8 0 8 0 8 0 8 0 8] 883.0\n",
      "15 [8 8 8 8 8 8 4 0 8 8 4 8 0 8 1 8 0 8 0 8] 882.0\n",
      "16 [8 8 7 8 8 8 8 0 8 8 3 8 0 8 0 8 0 8 0 8] 888.0\n",
      "17 [6 8 6 8 7 8 8 0 8 8 4 8 0 8 0 8 0 8 0 8] 882.0\n",
      "19 [8 8 7 8 8 8 8 0 8 8 3 8 1 8 0 8 0 7 0 8] 880.0\n",
      "22 [8 8 8 8 8 8 7 0 8 8 4 8 0 8 1 8 0 8 0 7] 882.0\n",
      "24 [7 8 5 8 8 8 7 0 7 8 5 8 0 8 0 8 0 8 0 8] 882.0\n",
      "26 [8 8 7 8 8 8 7 0 8 8 1 8 0 8 2 8 0 8 0 8] 883.0\n",
      "27 [8 8 8 8 8 8 8 0 8 8 1 8 0 8 0 8 1 8 0 8] 884.0\n",
      "29 [8 8 6 8 8 8 8 0 7 8 4 8 0 8 0 8 0 8 0 8] 885.0\n",
      "33 [8 8 8 8 8 8 8 0 8 8 2 8 2 7 0 8 0 8 0 8] 881.0\n",
      "35 [8 8 8 8 8 8 8 1 8 8 2 8 1 7 0 8 0 8 0 8] 880.0\n",
      "37 [8 8 7 8 8 8 7 0 8 8 4 8 0 8 0 8 0 8 0 8] 888.0\n",
      "38 [8 8 1 8 8 8 8 1 8 8 4 8 0 8 0 8 0 8 0 8] 886.0\n",
      "39 [5 8 3 8 8 8 8 1 8 8 4 8 0 8 0 8 0 8 0 8] 882.0\n",
      "41 [8 8 3 8 8 8 6 1 8 8 5 8 0 8 0 8 0 8 0 8] 885.0\n",
      "42 [6 8 7 8 8 8 8 0 7 8 3 8 0 8 1 8 0 8 0 8] 881.0\n",
      "43 [8 8 5 8 8 8 8 1 8 8 3 8 0 8 0 8 0 8 0 8] 887.0\n",
      "44 [8 8 8 8 8 8 8 0 8 8 1 8 1 8 0 8 0 8 0 8] 885.0\n",
      "46 [8 8 7 8 8 8 6 2 8 8 3 8 0 8 0 8 0 8 0 8] 884.0\n",
      "48 [6 8 5 8 8 8 8 0 8 8 4 8 0 8 0 8 0 8 0 8] 885.0\n",
      "50 [6 8 3 8 8 8 8 0 8 8 6 8 0 8 0 8 0 8 0 7] 880.0\n",
      "number of successes: 28\n"
     ]
    }
   ],
   "source": [
    "cnt = 0\n",
    "for i in range(1, 51):\n",
    "    best_state, best_fitness, fit_crvKM = mlrose_hiive.mimic(problemK, max_attempts = 40, pop_size=900, keep_pct=0.2,\n",
    "                                                 curve=True, max_iters=1000, random_state =i)\n",
    "    if best_fitness>=880:\n",
    "        print (i, best_state, best_fitness)\n",
    "        cnt += 1\n",
    "print (\"number of successes:\", cnt)"
   ]
  },
  {
   "cell_type": "code",
   "execution_count": 81,
   "id": "double-feelings",
   "metadata": {},
   "outputs": [
    {
     "name": "stdout",
     "output_type": "stream",
     "text": [
      "31 [7 8 5 8 8 8 8 0 8 8 4 8 0 8 0 8 0 8 0 8] 887.0\n",
      "number of successes: 1\n"
     ]
    }
   ],
   "source": [
    "cnt = 0\n",
    "for i in range(1, 51):\n",
    "    best_state, best_fitness, fit_crvKM = mlrose_hiive.mimic(problemK, max_attempts = 30, pop_size=900, keep_pct=0.25,\n",
    "                                                 curve=True, max_iters=1000, random_state =i)\n",
    "    if best_fitness>=887:\n",
    "        print (i, best_state, best_fitness)\n",
    "        cnt += 1\n",
    "print (\"number of successes:\", cnt)"
   ]
  },
  {
   "cell_type": "code",
   "execution_count": 82,
   "id": "northern-bunny",
   "metadata": {},
   "outputs": [
    {
     "name": "stdout",
     "output_type": "stream",
     "text": [
      "1 [8 8 7 8 8 8 7 0 8 8 4 8 0 8 0 8 0 8 0 8] 888.0\n",
      "3 [8 8 7 8 8 8 7 0 8 8 4 8 0 8 0 8 0 8 0 8] 888.0\n",
      "11 [8 8 4 8 8 8 8 0 8 8 4 8 0 8 0 8 0 8 0 8] 888.0\n",
      "19 [8 8 8 8 8 8 8 0 8 8 3 8 0 8 0 8 0 8 0 8] 889.0\n",
      "29 [8 8 4 8 8 8 8 0 8 8 4 8 0 8 0 8 0 8 0 8] 888.0\n",
      "32 [8 8 5 8 8 8 8 1 8 8 3 8 0 8 0 8 0 8 0 8] 887.0\n",
      "48 [8 8 4 8 8 8 8 0 8 8 4 8 0 8 0 8 0 8 0 8] 888.0\n",
      "number of successes: 7\n"
     ]
    }
   ],
   "source": [
    "cnt = 0\n",
    "for i in range(1, 51):\n",
    "    best_state, best_fitness, fit_crvKM = mlrose_hiive.mimic(problemK, max_attempts = 30, pop_size=900, keep_pct=0.3,\n",
    "                                                 curve=True, max_iters=1000, random_state =i)\n",
    "    if best_fitness>=887:\n",
    "        print (i, best_state, best_fitness)\n",
    "        cnt += 1\n",
    "print (\"number of successes:\", cnt)"
   ]
  },
  {
   "cell_type": "code",
   "execution_count": 83,
   "id": "proprietary-weekend",
   "metadata": {},
   "outputs": [
    {
     "name": "stdout",
     "output_type": "stream",
     "text": [
      "2 [7 8 8 8 8 8 8 0 8 8 3 8 0 8 0 8 0 8 0 8] 887.0\n",
      "11 [8 8 8 8 8 8 8 1 8 8 2 8 0 8 0 8 0 8 0 8] 887.0\n",
      "19 [8 8 8 8 8 8 8 0 8 8 3 8 0 8 0 8 0 8 0 8] 889.0\n",
      "29 [8 8 7 8 8 8 8 0 8 8 2 8 1 8 0 8 0 8 0 8] 887.0\n",
      "33 [8 8 8 8 8 8 8 0 8 8 3 8 0 8 0 8 0 8 0 8] 889.0\n",
      "37 [8 8 3 8 8 8 8 0 8 8 4 8 0 8 0 8 0 8 0 8] 887.0\n",
      "number of successes: 6\n"
     ]
    }
   ],
   "source": [
    "cnt = 0\n",
    "for i in range(1, 51):\n",
    "    best_state, best_fitness, fit_crvKM = mlrose_hiive.mimic(problemK, max_attempts = 30, pop_size=900, keep_pct=0.35,\n",
    "                                                 curve=True, max_iters=1000, random_state =i)\n",
    "    if best_fitness>=887:\n",
    "        print (i, best_state, best_fitness)\n",
    "        cnt += 1\n",
    "print (\"number of successes:\", cnt)"
   ]
  },
  {
   "cell_type": "code",
   "execution_count": 84,
   "id": "composed-estonia",
   "metadata": {},
   "outputs": [
    {
     "name": "stdout",
     "output_type": "stream",
     "text": [
      "number of successes: 0\n"
     ]
    }
   ],
   "source": [
    "cnt = 0\n",
    "for i in range(1, 51):\n",
    "    best_state, best_fitness, fit_crvKM = mlrose_hiive.mimic(problemK, max_attempts = 30, pop_size=900, keep_pct=0.15,\n",
    "                                                 curve=True, max_iters=1000, random_state =i)\n",
    "    if best_fitness>=887:\n",
    "        print (i, best_state, best_fitness)\n",
    "        cnt += 1\n",
    "print (\"number of successes:\", cnt)"
   ]
  },
  {
   "cell_type": "code",
   "execution_count": 85,
   "id": "compact-stanley",
   "metadata": {},
   "outputs": [
    {
     "name": "stdout",
     "output_type": "stream",
     "text": [
      "1 [8 8 8 8 8 8 7 1 8 8 3 8 0 8 0 8 0 8 0 8] 887.0\n",
      "9 [8 8 8 8 8 8 8 0 8 8 3 8 0 8 0 8 0 8 0 8] 889.0\n",
      "19 [8 8 7 8 8 8 8 0 8 8 3 8 0 8 0 8 0 8 0 8] 888.0\n",
      "23 [8 8 8 8 8 8 8 1 8 8 2 8 0 8 0 8 0 8 0 8] 887.0\n",
      "44 [8 8 7 8 8 8 8 0 8 8 3 8 0 8 0 8 0 8 0 8] 888.0\n",
      "47 [8 8 7 8 8 8 7 0 8 8 4 8 0 8 0 8 0 8 0 8] 888.0\n",
      "number of successes: 6\n"
     ]
    }
   ],
   "source": [
    "cnt = 0\n",
    "for i in range(1, 51):\n",
    "    best_state, best_fitness, fit_crvKM = mlrose_hiive.mimic(problemK, max_attempts = 30, pop_size=900, keep_pct=0.4,\n",
    "                                                 curve=True, max_iters=1000, random_state =i)\n",
    "    if best_fitness>=887:\n",
    "        print (i, best_state, best_fitness)\n",
    "        cnt += 1\n",
    "print (\"number of successes:\", cnt)"
   ]
  },
  {
   "cell_type": "code",
   "execution_count": 87,
   "id": "designed-activity",
   "metadata": {},
   "outputs": [],
   "source": [
    "best_state, best_fitness, fit_crvKM = mlrose_hiive.mimic(problemK, max_attempts = 20, pop_size=900, keep_pct=0.2,\n",
    "                                                 curve=True, max_iters=1000, random_state =1)"
   ]
  },
  {
   "cell_type": "code",
   "execution_count": 88,
   "id": "economic-cartoon",
   "metadata": {},
   "outputs": [
    {
     "name": "stdout",
     "output_type": "stream",
     "text": [
      "[8 8 8 8 8 8 8 0 8 8 3 8 0 8 0 8 0 8 0 8] 889.0\n"
     ]
    }
   ],
   "source": [
    "print(best_state, best_fitness)"
   ]
  },
  {
   "cell_type": "code",
   "execution_count": 89,
   "id": "immediate-institution",
   "metadata": {},
   "outputs": [
    {
     "data": {
      "text/plain": [
       "[<matplotlib.lines.Line2D at 0x1cd13dca130>]"
      ]
     },
     "execution_count": 89,
     "metadata": {},
     "output_type": "execute_result"
    },
    {
     "data": {
      "image/png": "[encoded data removed]",
      "text/plain": [
       "<Figure size 432x288 with 1 Axes>"
      ]
     },
     "metadata": {},
     "output_type": "display_data"
    }
   ],
   "source": [
    "plt.plot(fit_crvKM)"
   ]
  },
  {
   "cell_type": "code",
   "execution_count": 90,
   "id": "controlled-whale",
   "metadata": {},
   "outputs": [
    {
     "name": "stdout",
     "output_type": "stream",
     "text": [
      "1 [8 8 8 8 8 8 8 0 8 8 3 8 0 8 0 8 0 8 0 8] 889.0\n",
      "2 [8 8 8 8 8 8 8 0 8 8 3 8 0 8 0 8 0 8 0 8] 889.0\n",
      "3 [8 8 8 8 8 8 8 0 8 8 3 8 0 8 0 8 0 8 0 8] 889.0\n",
      "4 [8 8 8 8 8 8 8 0 8 8 3 8 0 8 0 8 0 8 0 8] 889.0\n",
      "5 [8 8 8 8 8 8 8 0 8 8 3 8 0 8 0 8 0 8 0 8] 889.0\n",
      "6 [8 8 8 8 8 8 8 0 8 8 3 8 0 8 0 8 0 8 0 8] 889.0\n",
      "7 [8 8 8 8 8 8 8 0 8 8 3 8 0 8 0 8 0 8 0 8] 889.0\n",
      "8 [8 8 8 8 8 8 8 0 8 8 3 8 0 8 0 8 0 8 0 8] 889.0\n",
      "9 [8 8 8 8 8 8 8 0 8 8 3 8 0 8 0 8 0 8 0 8] 889.0\n",
      "10 [8 8 8 8 8 8 8 0 8 8 3 8 0 8 0 8 0 8 0 8] 889.0\n",
      "11 [8 8 8 8 8 8 8 0 8 8 3 8 0 8 0 8 0 8 0 8] 889.0\n",
      "12 [8 8 8 8 8 8 8 0 8 8 3 8 0 8 0 8 0 8 0 8] 889.0\n",
      "13 [8 8 8 8 8 8 8 0 8 8 3 8 0 8 0 8 0 8 0 8] 889.0\n",
      "14 [8 8 8 8 8 8 8 0 8 8 3 8 0 8 0 8 0 8 0 8] 889.0\n",
      "15 [8 8 8 8 8 8 8 0 8 8 3 8 0 8 0 8 0 8 0 8] 889.0\n",
      "16 [8 8 8 8 8 8 8 0 8 8 3 8 0 8 0 8 0 8 0 8] 889.0\n",
      "17 [8 8 8 8 8 8 8 0 8 8 3 8 0 8 0 8 0 8 0 8] 889.0\n",
      "18 [8 8 8 8 8 8 8 0 8 8 3 8 0 8 0 8 0 8 0 8] 889.0\n",
      "19 [8 8 8 8 8 8 8 0 8 8 3 8 0 8 0 8 0 8 0 8] 889.0\n",
      "20 [8 8 8 8 8 8 8 0 8 8 3 8 0 8 0 8 0 8 0 8] 889.0\n",
      "21 [8 8 8 8 8 8 8 0 8 8 3 8 0 8 0 8 0 8 0 8] 889.0\n",
      "22 [8 8 8 8 8 8 8 0 8 8 3 8 0 8 0 8 0 8 0 8] 889.0\n",
      "23 [8 8 8 8 8 8 8 0 8 8 3 8 0 8 0 8 0 8 0 8] 889.0\n",
      "24 [8 8 8 8 8 8 8 0 8 8 3 8 0 8 0 8 0 8 0 8] 889.0\n",
      "25 [8 8 8 8 8 8 8 0 8 8 3 8 0 8 0 8 0 8 0 8] 889.0\n",
      "26 [8 8 8 8 8 8 8 0 8 8 3 8 0 8 0 8 0 8 0 8] 889.0\n",
      "27 [8 8 8 8 8 8 8 0 8 8 3 8 0 8 0 8 0 8 0 8] 889.0\n",
      "28 [8 8 8 8 8 8 8 0 8 8 3 8 0 8 0 8 0 8 0 8] 889.0\n",
      "29 [8 8 8 8 8 8 8 0 8 8 3 8 0 8 0 8 0 8 0 8] 889.0\n",
      "30 [8 8 8 8 8 8 8 0 8 8 3 8 0 8 0 8 0 8 0 8] 889.0\n",
      "31 [8 8 8 8 8 8 8 0 8 8 3 8 0 8 0 8 0 8 0 8] 889.0\n",
      "32 [8 8 8 8 8 8 8 0 8 8 3 8 0 8 0 8 0 8 0 8] 889.0\n",
      "33 [8 8 8 8 8 8 8 0 8 8 3 8 0 8 0 8 0 8 0 8] 889.0\n",
      "34 [8 8 8 8 8 8 8 0 8 8 3 8 0 8 0 8 0 8 0 8] 889.0\n",
      "35 [8 8 8 8 8 8 8 0 8 8 3 8 0 8 0 8 0 8 0 8] 889.0\n",
      "36 [8 8 8 8 8 8 8 0 8 8 3 8 0 8 0 8 0 8 0 8] 889.0\n",
      "37 [8 8 8 8 8 8 8 0 8 8 3 8 0 8 0 8 0 8 0 8] 889.0\n",
      "38 [8 8 8 8 8 8 8 0 8 8 3 8 0 8 0 8 0 8 0 8] 889.0\n",
      "39 [8 8 8 8 8 8 8 0 8 8 3 8 0 8 0 8 0 8 0 8] 889.0\n",
      "40 [8 8 8 8 8 8 8 0 8 8 3 8 0 8 0 8 0 8 0 8] 889.0\n",
      "41 [8 8 8 8 8 8 8 0 8 8 3 8 0 8 0 8 0 8 0 8] 889.0\n",
      "42 [8 8 8 8 8 8 8 0 8 8 3 8 0 8 0 8 0 8 0 8] 889.0\n",
      "43 [8 8 8 8 8 8 8 0 8 8 3 8 0 8 0 8 0 8 0 8] 889.0\n",
      "44 [8 8 8 8 8 8 8 0 8 8 3 8 0 8 0 8 0 8 0 8] 889.0\n",
      "45 [8 8 8 8 8 8 8 0 8 8 3 8 0 8 0 8 0 8 0 8] 889.0\n",
      "46 [8 8 8 8 8 8 8 0 8 8 3 8 0 8 0 8 0 8 0 8] 889.0\n",
      "47 [8 8 8 8 8 8 8 0 8 8 3 8 0 8 0 8 0 8 0 8] 889.0\n",
      "48 [8 8 8 8 8 8 8 0 8 8 3 8 0 8 0 8 0 8 0 8] 889.0\n",
      "49 [8 8 8 8 8 8 8 0 8 8 3 8 0 8 0 8 0 8 0 8] 889.0\n",
      "50 [8 8 8 8 8 8 8 0 8 8 3 8 0 8 0 8 0 8 0 8] 889.0\n",
      "number of successes: 50\n"
     ]
    }
   ],
   "source": [
    "cnt = 0\n",
    "ibest = -1\n",
    "bestL = 1001\n",
    "for i in range(1, 51):\n",
    "    best_state, best_fitness, fit_crvKGA = mlrose_hiive.genetic_alg(problemK, mutation_prob = 0.2, max_attempts = 30,\n",
    "                                max_iters= 1000,       \n",
    "                                pop_size=800, curve=True, random_state = i)\n",
    "    \n",
    "    if best_fitness>887:\n",
    "        cnt +=1\n",
    "        print (i, best_state, best_fitness)\n",
    "print (\"number of successes:\", cnt)"
   ]
  },
  {
   "cell_type": "code",
   "execution_count": 91,
   "id": "norman-peter",
   "metadata": {},
   "outputs": [],
   "source": [
    "best_state, best_fitness, fit_crvKGA = mlrose_hiive.genetic_alg(problemK, mutation_prob = 0.2, max_attempts = 30,\n",
    "                                max_iters= 1000,       \n",
    "                                pop_size=800, curve=True, random_state = 1)"
   ]
  },
  {
   "cell_type": "code",
   "execution_count": 92,
   "id": "exterior-price",
   "metadata": {},
   "outputs": [
    {
     "data": {
      "text/plain": [
       "[<matplotlib.lines.Line2D at 0x1cd143b2e50>]"
      ]
     },
     "execution_count": 92,
     "metadata": {},
     "output_type": "execute_result"
    },
    {
     "data": {
      "image/png": "[encoded data removed]",
      "text/plain": [
       "<Figure size 432x288 with 1 Axes>"
      ]
     },
     "metadata": {},
     "output_type": "display_data"
    }
   ],
   "source": [
    "plt.plot(fit_crvKGA)"
   ]
  },
  {
   "cell_type": "code",
   "execution_count": 93,
   "id": "static-subscriber",
   "metadata": {},
   "outputs": [
    {
     "data": {
      "text/plain": [
       "[<matplotlib.lines.Line2D at 0x1cd1437da60>]"
      ]
     },
     "execution_count": 93,
     "metadata": {},
     "output_type": "execute_result"
    },
    {
     "data": {
      "image/png": "[encoded data removed]",
      "text/plain": [
       "<Figure size 432x288 with 1 Axes>"
      ]
     },
     "metadata": {},
     "output_type": "display_data"
    }
   ],
   "source": [
    "plt.plot(fit_crvKSA)"
   ]
  },
  {
   "cell_type": "code",
   "execution_count": 95,
   "id": "indie-divorce",
   "metadata": {},
   "outputs": [
    {
     "data": {
      "text/plain": [
       "[<matplotlib.lines.Line2D at 0x1cd1420dc10>]"
      ]
     },
     "execution_count": 95,
     "metadata": {},
     "output_type": "execute_result"
    },
    {
     "data": {
      "image/png": "[encoded data removed]",
      "text/plain": [
       "<Figure size 432x288 with 1 Axes>"
      ]
     },
     "metadata": {},
     "output_type": "display_data"
    }
   ],
   "source": [
    "plt.plot(fit_crvKRHS)"
   ]
  },
  {
   "cell_type": "code",
   "execution_count": 96,
   "id": "opposite-projection",
   "metadata": {},
   "outputs": [
    {
     "data": {
      "text/plain": [
       "<matplotlib.legend.Legend at 0x1cd1424efd0>"
      ]
     },
     "execution_count": 96,
     "metadata": {},
     "output_type": "execute_result"
    },
    {
     "data": {
      "image/png": "[encoded data removed]",
      "text/plain": [
       "<Figure size 432x288 with 1 Axes>"
      ]
     },
     "metadata": {},
     "output_type": "display_data"
    }
   ],
   "source": [
    "plt.plot(fit_crvKRHS, label=\"RandHillClimb\")\n",
    "plt.plot(fit_crvKSA, label=\"SimAnn\")\n",
    "plt.plot(fit_crvKGA, label=\"GenAlg\")\n",
    "plt.plot(fit_crvKM, label=\"MIMIC\")\n",
    "plt.legend(loc='lower right')"
   ]
  },
  {
   "cell_type": "code",
   "execution_count": 1,
   "id": "private-child",
   "metadata": {},
   "outputs": [],
   "source": [
    "import numpy as np\n",
    "from sklearn.datasets import load_iris\n",
    "from sklearn.model_selection import train_test_split\n",
    "from sklearn.preprocessing import MinMaxScaler, OneHotEncoder\n",
    "from sklearn.metrics import accuracy_score\n",
    "from matplotlib import pyplot as plt\n",
    "plt.style.use('seaborn-whitegrid')\n",
    "import mlrose_hiive"
   ]
  },
  {
   "cell_type": "code",
   "execution_count": 2,
   "id": "focused-evolution",
   "metadata": {},
   "outputs": [],
   "source": [
    "# following https://github.com/hiive/mlrose/blob/master/tutorial_examples.ipynb:\n",
    "fitness = mlrose_hiive.Queens()\n",
    "problemQ = mlrose_hiive.DiscreteOpt(length = 8, fitness_fn = fitness, maximize=False, max_val=8)"
   ]
  },
  {
   "cell_type": "code",
   "execution_count": null,
   "id": "impossible-nursing",
   "metadata": {},
   "outputs": [],
   "source": []
  },
  {
   "cell_type": "code",
   "execution_count": 6,
   "id": "thrown-transformation",
   "metadata": {},
   "outputs": [],
   "source": [
    "scheduleQ = mlrose_hiive.ExpDecay(init_temp=10, exp_const=0.09, min_temp=.01)\n",
    "init_state = np.array(8*[0])\n",
    "best_state, best_fitness, fit_crv8QSA = mlrose_hiive.simulated_annealing(problemQ, schedule = scheduleQ, max_attempts = 150, \n",
    "                                        curve=True, max_iters = 1000, init_state = init_state, random_state = 42)"
   ]
  },
  {
   "cell_type": "code",
   "execution_count": 7,
   "id": "tough-export",
   "metadata": {},
   "outputs": [
    {
     "name": "stdout",
     "output_type": "stream",
     "text": [
      "[2 0 6 4 7 1 3 5] 0.0\n"
     ]
    }
   ],
   "source": [
    "print (best_state, best_fitness)"
   ]
  },
  {
   "cell_type": "code",
   "execution_count": 8,
   "id": "beautiful-boring",
   "metadata": {},
   "outputs": [
    {
     "data": {
      "text/plain": [
       "[<matplotlib.lines.Line2D at 0x181620239d0>]"
      ]
     },
     "execution_count": 8,
     "metadata": {},
     "output_type": "execute_result"
    },
    {
     "data": {
      "image/png": "[encoded data removed]",
      "text/plain": [
       "<Figure size 432x288 with 1 Axes>"
      ]
     },
     "metadata": {},
     "output_type": "display_data"
    }
   ],
   "source": [
    "plt.plot(fit_crv8QSA, label=\"SimAnn\")"
   ]
  },
  {
   "cell_type": "code",
   "execution_count": 9,
   "id": "defensive-harris",
   "metadata": {},
   "outputs": [],
   "source": [
    "best_state, best_fitness, fit_crv8QGA = mlrose_hiive.genetic_alg(problemQ, mutation_prob = 0.2, max_attempts = 40, \n",
    "                                                                pop_size=275, curve=True, random_state = 22)"
   ]
  },
  {
   "cell_type": "code",
   "execution_count": 10,
   "id": "bulgarian-announcement",
   "metadata": {},
   "outputs": [
    {
     "name": "stdout",
     "output_type": "stream",
     "text": [
      "[4 2 7 3 6 0 5 1] 0.0\n"
     ]
    }
   ],
   "source": [
    "print (best_state, best_fitness)"
   ]
  },
  {
   "cell_type": "code",
   "execution_count": 12,
   "id": "aging-messaging",
   "metadata": {},
   "outputs": [
    {
     "data": {
      "text/plain": [
       "[<matplotlib.lines.Line2D at 0x181621d0340>]"
      ]
     },
     "execution_count": 12,
     "metadata": {},
     "output_type": "execute_result"
    },
    {
     "data": {
      "image/png": "[encoded data removed]",
      "text/plain": [
       "<Figure size 432x288 with 1 Axes>"
      ]
     },
     "metadata": {},
     "output_type": "display_data"
    }
   ],
   "source": [
    "plt.plot(fit_crv8QGA, label=\"GenAlg\")"
   ]
  },
  {
   "cell_type": "code",
   "execution_count": 13,
   "id": "contained-illustration",
   "metadata": {},
   "outputs": [],
   "source": [
    "best_state, best_fitness, fit_crv8QRHC = mlrose_hiive.random_hill_climb(problemQ,\n",
    "                                restarts=50, max_attempts = 100, curve=True, max_iters = 1000, init_state = init_state,\n",
    "                                random_state=1)"
   ]
  },
  {
   "cell_type": "code",
   "execution_count": 14,
   "id": "operating-banking",
   "metadata": {},
   "outputs": [
    {
     "name": "stdout",
     "output_type": "stream",
     "text": [
      "[1 4 6 3 0 7 5 2] 0.0\n"
     ]
    }
   ],
   "source": [
    "print(best_state, best_fitness)"
   ]
  },
  {
   "cell_type": "code",
   "execution_count": 16,
   "id": "driven-cleveland",
   "metadata": {},
   "outputs": [
    {
     "data": {
      "text/plain": [
       "[<matplotlib.lines.Line2D at 0x18162215670>]"
      ]
     },
     "execution_count": 16,
     "metadata": {},
     "output_type": "execute_result"
    },
    {
     "data": {
      "image/png": "[encoded data removed]",
      "text/plain": [
       "<Figure size 432x288 with 1 Axes>"
      ]
     },
     "metadata": {},
     "output_type": "display_data"
    }
   ],
   "source": [
    "plt.plot(fit_crv8QRHC, label=\"RandHillClimb\")"
   ]
  },
  {
   "cell_type": "code",
   "execution_count": 20,
   "id": "concrete-rocket",
   "metadata": {},
   "outputs": [],
   "source": [
    "best_state, best_fitness, fit_crv8QM = mlrose_hiive.mimic(problemQ, keep_pct=0.2, curve=True,pop_size=1500, \n",
    "                                                 max_attempts = 10, random_state=50, max_iters=1000)"
   ]
  },
  {
   "cell_type": "code",
   "execution_count": 21,
   "id": "lyric-container",
   "metadata": {},
   "outputs": [
    {
     "data": {
      "text/plain": [
       "[<matplotlib.lines.Line2D at 0x1816228c4f0>]"
      ]
     },
     "execution_count": 21,
     "metadata": {},
     "output_type": "execute_result"
    },
    {
     "data": {
      "image/png": "[encoded data removed]",
      "text/plain": [
       "<Figure size 432x288 with 1 Axes>"
      ]
     },
     "metadata": {},
     "output_type": "display_data"
    }
   ],
   "source": [
    "plt.plot(fit_crv8QM, label=\"MIMIC\")"
   ]
  },
  {
   "cell_type": "code",
   "execution_count": 22,
   "id": "lonely-selection",
   "metadata": {},
   "outputs": [
    {
     "data": {
      "text/plain": [
       "<matplotlib.legend.Legend at 0x181622f2a00>"
      ]
     },
     "execution_count": 22,
     "metadata": {},
     "output_type": "execute_result"
    },
    {
     "data": {
      "image/png": "[encoded data removed]",
      "text/plain": [
       "<Figure size 432x288 with 1 Axes>"
      ]
     },
     "metadata": {},
     "output_type": "display_data"
    }
   ],
   "source": [
    "plt.plot(fit_crv8QSA, label=\"SimAnn\")\n",
    "plt.plot(fit_crv8QRHC, label=\"RandHillClimb\")\n",
    "plt.plot(fit_crv8QM, label=\"MIMIC\")\n",
    "plt.plot(fit_crv8QGA, label=\"GenAlg\")\n",
    "plt.legend(loc='upper right')"
   ]
  },
  {
   "cell_type": "code",
   "execution_count": 23,
   "id": "measured-ukraine",
   "metadata": {},
   "outputs": [],
   "source": [
    "?mlrose_hiive.simulated_annealing"
   ]
  },
  {
   "cell_type": "code",
   "execution_count": 24,
   "id": "median-malawi",
   "metadata": {},
   "outputs": [
    {
     "data": {
      "text/plain": [
       "[(1, 1),\n",
       " (98, 2),\n",
       " (97, 98),\n",
       " (-2, 101),\n",
       " (100, 99),\n",
       " (2, -1),\n",
       " (0, 100),\n",
       " (0, 0),\n",
       " (99, 1),\n",
       " (0, 1),\n",
       " (101, 3),\n",
       " (99, 100),\n",
       " (1, 99),\n",
       " (4, 98),\n",
       " (100, 0),\n",
       " (99, 95)]"
      ]
     },
     "execution_count": 24,
     "metadata": {},
     "output_type": "execute_result"
    }
   ],
   "source": [
    "from random import shuffle, Random\n",
    "coords_list = [(0,0), (1, 1),(0,1),(2,-1),(100,0),(101, 3),(99,1),(98,2),(1,99),(0,100),(4,98),(-2,101),\n",
    "              (100,99),(99,100),(97,98), (99,95)]\n",
    "Random(12).shuffle(coords_list)\n",
    "coords_list"
   ]
  },
  {
   "cell_type": "code",
   "execution_count": 26,
   "id": "unsigned-friendly",
   "metadata": {},
   "outputs": [],
   "source": [
    "fitness_coords = mlrose_hiive.TravellingSales(coords = coords_list)\n",
    "problemTS = mlrose_hiive.TSPOpt(length = len(coords_list), fitness_fn = fitness_coords, maximize = False)"
   ]
  },
  {
   "cell_type": "code",
   "execution_count": null,
   "id": "seasonal-memorabilia",
   "metadata": {},
   "outputs": [],
   "source": []
  },
  {
   "cell_type": "code",
   "execution_count": 28,
   "id": "radio-powder",
   "metadata": {},
   "outputs": [],
   "source": [
    "init_state = np.array([i for i in range(16)])\n",
    "best_state, best_fitness, fit_crvTSRHC = mlrose_hiive.random_hill_climb(problemTS,\n",
    "                            restarts=9, max_attempts = 250, curve=True, max_iters = 1000, init_state = init_state,\n",
    "                            random_state=6)"
   ]
  },
  {
   "cell_type": "code",
   "execution_count": 29,
   "id": "white-aurora",
   "metadata": {},
   "outputs": [
    {
     "data": {
      "text/plain": [
       "[<matplotlib.lines.Line2D at 0x181623a6a90>]"
      ]
     },
     "execution_count": 29,
     "metadata": {},
     "output_type": "execute_result"
    },
    {
     "data": {
      "image/png": "[encoded data removed]",
      "text/plain": [
       "<Figure size 432x288 with 1 Axes>"
      ]
     },
     "metadata": {},
     "output_type": "display_data"
    }
   ],
   "source": [
    "plt.plot(fit_crvTSRHC, label=\"RandHillClimb\")"
   ]
  },
  {
   "cell_type": "code",
   "execution_count": 31,
   "id": "approved-consequence",
   "metadata": {},
   "outputs": [],
   "source": [
    "schedule = mlrose_hiive.ExpDecay(init_temp=100, exp_const=0.005, min_temp=0.001)\n",
    "init_state = np.array([i for i in range(16)])\n",
    "best_state, best_fitness, fit_crvTSSA= mlrose_hiive.simulated_annealing(problemTS, schedule = schedule, max_attempts = 200, \n",
    "                                        curve=True, max_iters = 1000, init_state = init_state, random_state=4)"
   ]
  },
  {
   "cell_type": "code",
   "execution_count": 32,
   "id": "current-ensemble",
   "metadata": {},
   "outputs": [
    {
     "name": "stdout",
     "output_type": "stream",
     "text": [
      "[ 0  7  9  3  6 12 13 15  4 11  2 10  1 14  8  5] 414.40564961991413\n"
     ]
    }
   ],
   "source": [
    "print (best_state, best_fitness)"
   ]
  },
  {
   "cell_type": "code",
   "execution_count": 33,
   "id": "finnish-scottish",
   "metadata": {},
   "outputs": [
    {
     "data": {
      "text/plain": [
       "[<matplotlib.lines.Line2D at 0x181625b93a0>]"
      ]
     },
     "execution_count": 33,
     "metadata": {},
     "output_type": "execute_result"
    },
    {
     "data": {
      "image/png": "[encoded data removed]",
      "text/plain": [
       "<Figure size 432x288 with 1 Axes>"
      ]
     },
     "metadata": {},
     "output_type": "display_data"
    }
   ],
   "source": [
    "plt.plot(fit_crvTSSA, label=\"SimAnn\")"
   ]
  },
  {
   "cell_type": "code",
   "execution_count": 34,
   "id": "genetic-inquiry",
   "metadata": {},
   "outputs": [
    {
     "data": {
      "text/plain": [
       "[<matplotlib.lines.Line2D at 0x181623db520>]"
      ]
     },
     "execution_count": 34,
     "metadata": {},
     "output_type": "execute_result"
    },
    {
     "data": {
      "image/png": "[encoded data removed]",
      "text/plain": [
       "<Figure size 432x288 with 1 Axes>"
      ]
     },
     "metadata": {},
     "output_type": "display_data"
    }
   ],
   "source": [
    "plt.plot(fit_crvTSSA, label=\"SimAnn\")\n",
    "plt.plot(fit_crvTSRHC, label=\"RandHillClimb\")"
   ]
  },
  {
   "cell_type": "code",
   "execution_count": 35,
   "id": "manual-termination",
   "metadata": {},
   "outputs": [],
   "source": [
    "best_state, best_fitness, fit_crvTSGA = mlrose_hiive.genetic_alg(problemTS, mutation_prob = 0.4, max_attempts = 20, \n",
    "                                                                pop_size=300, curve=True, random_state = 18)"
   ]
  },
  {
   "cell_type": "code",
   "execution_count": 36,
   "id": "lyric-beauty",
   "metadata": {},
   "outputs": [
    {
     "name": "stdout",
     "output_type": "stream",
     "text": [
      "[ 2 11  4 15 10 14  8  1  5  7  9  0  3  6 12 13] 406.5186682788577\n"
     ]
    }
   ],
   "source": [
    "print (best_state, best_fitness)"
   ]
  },
  {
   "cell_type": "code",
   "execution_count": 37,
   "id": "delayed-storm",
   "metadata": {},
   "outputs": [
    {
     "data": {
      "text/plain": [
       "[<matplotlib.lines.Line2D at 0x181623f9130>]"
      ]
     },
     "execution_count": 37,
     "metadata": {},
     "output_type": "execute_result"
    },
    {
     "data": {
      "image/png": "[encoded data removed]",
      "text/plain": [
       "<Figure size 432x288 with 1 Axes>"
      ]
     },
     "metadata": {},
     "output_type": "display_data"
    }
   ],
   "source": [
    "plt.plot(fit_crvTSGA, label=\"GenAlg\")"
   ]
  },
  {
   "cell_type": "code",
   "execution_count": 38,
   "id": "fluid-directive",
   "metadata": {},
   "outputs": [],
   "source": [
    "best_state, best_fitness, fit_crvTSM = mlrose_hiive.mimic(problemTS, max_attempts = 200, pop_size=400, keep_pct=0.2,\n",
    "                                                 curve=True, max_iters=1000, random_state=7)"
   ]
  },
  {
   "cell_type": "code",
   "execution_count": 39,
   "id": "elect-saturn",
   "metadata": {},
   "outputs": [
    {
     "name": "stdout",
     "output_type": "stream",
     "text": [
      "[10  8 14  1  4 11  2 15 13  6 12  3  5  0  9  7] 423.83814740217395\n"
     ]
    }
   ],
   "source": [
    "print (best_state, best_fitness)"
   ]
  },
  {
   "cell_type": "code",
   "execution_count": 40,
   "id": "familiar-content",
   "metadata": {},
   "outputs": [
    {
     "data": {
      "text/plain": [
       "[<matplotlib.lines.Line2D at 0x1816245d550>]"
      ]
     },
     "execution_count": 40,
     "metadata": {},
     "output_type": "execute_result"
    },
    {
     "data": {
      "image/png": "[encoded data removed]",
      "text/plain": [
       "<Figure size 432x288 with 1 Axes>"
      ]
     },
     "metadata": {},
     "output_type": "display_data"
    }
   ],
   "source": [
    "plt.plot(fit_crvTSM, label=\"MIMIC\")"
   ]
  },
  {
   "cell_type": "code",
   "execution_count": 41,
   "id": "bottom-upgrade",
   "metadata": {},
   "outputs": [
    {
     "data": {
      "text/plain": [
       "<matplotlib.legend.Legend at 0x181624f83d0>"
      ]
     },
     "execution_count": 41,
     "metadata": {},
     "output_type": "execute_result"
    },
    {
     "data": {
      "image/png": "[encoded data removed]",
      "text/plain": [
       "<Figure size 432x288 with 1 Axes>"
      ]
     },
     "metadata": {},
     "output_type": "display_data"
    }
   ],
   "source": [
    "plt.plot(fit_crvTSM, label=\"MIMIC\")\n",
    "plt.plot(fit_crvTSGA, label=\"GenAlg\")\n",
    "plt.plot(fit_crvTSSA, label=\"SimAnn\")\n",
    "plt.plot(fit_crvTSRHC, label=\"RandHillClimb\")\n",
    "plt.legend(loc='upper right')"
   ]
  },
  {
   "cell_type": "code",
   "execution_count": null,
   "id": "interested-attachment",
   "metadata": {},
   "outputs": [],
   "source": []
  }
 ],
 "metadata": {
  "kernelspec": {
   "display_name": "Python 3",
   "language": "python",
   "name": "python3"
  },
  "language_info": {
   "codemirror_mode": {
    "name": "ipython",
    "version": 3
   },
   "file_extension": ".py",
   "mimetype": "text/x-python",
   "name": "python",
   "nbconvert_exporter": "python",
   "pygments_lexer": "ipython3",
   "version": "3.8.5"
  }
 },
 "nbformat": 4,
 "nbformat_minor": 5
}
